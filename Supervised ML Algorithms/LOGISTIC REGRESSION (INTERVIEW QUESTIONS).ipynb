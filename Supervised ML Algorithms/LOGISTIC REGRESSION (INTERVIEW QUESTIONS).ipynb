{
 "cells": [
  {
   "cell_type": "markdown",
   "id": "36128d33",
   "metadata": {},
   "source": [
    "### Q) What is Logistic Regression?\n",
    "\n",
    "* Logistic regression is a Machine Learning Algorithm use to solve classification tasks. It is used to predict the probability of a categorical outcome.\n",
    "\n",
    "\n",
    "* Real World Examples of Logistic Regression are :- Spam Filters, Weather Prediction, Disease Prediction, etc."
   ]
  },
  {
   "cell_type": "code",
   "execution_count": null,
   "id": "3bfea10e",
   "metadata": {},
   "outputs": [],
   "source": []
  },
  {
   "cell_type": "markdown",
   "id": "91c75c7f",
   "metadata": {},
   "source": [
    "### Q) How Logistic Regression it different from linear regression?\n",
    "\n",
    "\n",
    "* Linear Regression is use to solve regression problems whereas Logistic regression is use to solve the classification problems.\n",
    "\n",
    "\n",
    "* Linear regression is use to predict a continuous numerical output whereas Logistic regression is use to predict the probability of a categorical outcome."
   ]
  },
  {
   "cell_type": "code",
   "execution_count": null,
   "id": "108ef045",
   "metadata": {},
   "outputs": [],
   "source": []
  },
  {
   "cell_type": "markdown",
   "id": "06d5fd95",
   "metadata": {},
   "source": [
    "### Q) Why logistic regression is called as regression while it is solve the problem of classification?\n",
    "\n",
    "\n",
    "* Logistic Regression is called as regression because Linear regression and logistic regression both belongs to GLM family, which is generalized linear models.\n",
    "\n",
    "\n",
    "* Logistic regression builds the relationship between independent variables and dependent variable to predict the outcome, same as linear regression.\n",
    "\n",
    "\n",
    "* When you see the formula of sigmoid function the equation of linear regression is include in it."
   ]
  },
  {
   "cell_type": "code",
   "execution_count": null,
   "id": "24058837",
   "metadata": {},
   "outputs": [],
   "source": []
  },
  {
   "cell_type": "markdown",
   "id": "fb905c22",
   "metadata": {},
   "source": [
    "### How does logistic regression work?\n",
    "\n",
    "* First Logistic regression finds a best fit sigmoid curve by using sigmoid function and gradient descent, which minimizes the cost function of logistic regression.\n",
    "\n",
    "\n",
    "* Then weighted sum of independent variables are put into the sigmoid function, then sigmoid function outputs the probability of outcome .\n",
    "\n",
    "\n",
    "* Then according to given threshold point, model will convert that probability into class label."
   ]
  },
  {
   "cell_type": "code",
   "execution_count": null,
   "id": "782e4113",
   "metadata": {},
   "outputs": [],
   "source": []
  },
  {
   "cell_type": "markdown",
   "id": "37ee0390",
   "metadata": {},
   "source": [
    "### Q) How do you use logistic regression for classification?\n",
    "\n",
    "\n",
    "* Logistic regression provides the probability of an outcome, then according to given threshold the probability will convert into class labels."
   ]
  },
  {
   "cell_type": "code",
   "execution_count": null,
   "id": "ea895f27",
   "metadata": {},
   "outputs": [],
   "source": []
  },
  {
   "cell_type": "markdown",
   "id": "c097b893",
   "metadata": {},
   "source": [
    "### Q) What are the assumptions of logistic regression?\n",
    "\n",
    "* Linearity: Relationship between Independent variables and Dependent variable are linear.\n",
    "    \n",
    "    \n",
    "* No multicolinearty is present between independent variable.\n",
    "\n",
    "\n",
    "* Each observation is independent to others, it means the values of one observations do not impact the result of another observation.\n",
    "\n",
    "\n",
    "* Sample size should be large\n",
    "\n",
    "\n",
    "* No outliers present."
   ]
  },
  {
   "cell_type": "code",
   "execution_count": null,
   "id": "525387c4",
   "metadata": {},
   "outputs": [],
   "source": []
  },
  {
   "cell_type": "markdown",
   "id": "9a88ec9b",
   "metadata": {},
   "source": [
    "### Q) What are the different types of Logistic Regression?\n",
    "\n",
    "1. Binary Logistic Regression: In this, the target variable has only two 2 possible outcomes.\n",
    "\n",
    "\n",
    "\n",
    "* For Example, 0 and 1, or pass and fail or true and false.\n",
    "\n",
    "\n",
    "\n",
    "2. Multi-class Logistic Regression: In this, the target variable can have more than 2 possible values without any order.\n",
    "\n",
    "\n",
    "* For Example, Predicting preference of food i.e. Veg, Non-Veg, Vegan."
   ]
  },
  {
   "cell_type": "code",
   "execution_count": null,
   "id": "d3ddc448",
   "metadata": {},
   "outputs": [],
   "source": []
  },
  {
   "cell_type": "markdown",
   "id": "4626cc2c",
   "metadata": {},
   "source": [
    "### Q) How do you deal with overfitting in logistic regression?\n",
    "\n",
    "* In case of overfitting we use lasso logistic regression, which adds a penalty term to the cost function of logistic regression to reduce multicolinearity and overfitting.\n",
    "\n",
    "\n",
    "* We can use other algorithms and ensemble learning techniques."
   ]
  },
  {
   "cell_type": "code",
   "execution_count": null,
   "id": "47101249",
   "metadata": {},
   "outputs": [],
   "source": []
  },
  {
   "cell_type": "markdown",
   "id": "f765c8a6",
   "metadata": {},
   "source": [
    "### Q) What are some real-world applications of logistic regression? \n",
    "\n",
    "\n",
    "* Weather prediction applications\n",
    "\n",
    "\n",
    "* Spam Filters\n",
    "\n",
    "\n",
    "* Predict the outcome of a game\n",
    "\n",
    "\n",
    "* Weather Prediction\n",
    "\n",
    "\n",
    "* Disease Prediction\n"
   ]
  },
  {
   "cell_type": "code",
   "execution_count": null,
   "id": "ae7dd708",
   "metadata": {},
   "outputs": [],
   "source": []
  },
  {
   "cell_type": "markdown",
   "id": "2c000cc6",
   "metadata": {},
   "source": [
    "### Q) What are some techniques for addressing multicollinearity in logistic regression?\n",
    "\n",
    "* Remove highly correlated variables using correltion matrix and to use VIF to remove multicolinearity."
   ]
  },
  {
   "cell_type": "code",
   "execution_count": null,
   "id": "382404f4",
   "metadata": {},
   "outputs": [],
   "source": []
  },
  {
   "cell_type": "markdown",
   "id": "68603e78",
   "metadata": {},
   "source": [
    "### Q) How does logistic regression handle categorical variables in the independent variables\n",
    "\n",
    "\n",
    "* Using Dummy Variable / One Hot Encoding\n",
    "\n",
    "\n",
    "* Label Encoding\n",
    "\n",
    "\n",
    "* data.replace()\n",
    "\n",
    "\n",
    "* Target Mean Encoding"
   ]
  },
  {
   "cell_type": "code",
   "execution_count": null,
   "id": "f7eab980",
   "metadata": {},
   "outputs": [],
   "source": []
  },
  {
   "cell_type": "markdown",
   "id": "ba0f5961",
   "metadata": {},
   "source": [
    "### Q) When we say our dataset is balanced or imbalanced?\n",
    "\n",
    "\n",
    "* If the ratio of categories is 50:50, 60:40, 70:30, we say that out dataset is balance or almost balance.\n",
    "            \n",
    "            \n",
    "* If the ratio of categories is 80:20, 90:10, we say that out dataset is imbalance."
   ]
  },
  {
   "cell_type": "code",
   "execution_count": null,
   "id": "c046c231",
   "metadata": {},
   "outputs": [],
   "source": []
  },
  {
   "cell_type": "markdown",
   "id": "00ea0ac5",
   "metadata": {},
   "source": [
    "### Q) What is feature scaling and Whether Feature Scaling is required or not?\n",
    "\n",
    "* Feature scaling is the process of scaling the data with the help of various feature scaling techniques such as standardization, normalization and robust scaling. By doing scaling the range of variables are changes and all variables are converted into a specific range, by doing scaling we prevent a machine learning model from biasness. \n",
    "\n",
    "\n",
    "* Yes, feature scaling is important."
   ]
  },
  {
   "cell_type": "code",
   "execution_count": null,
   "id": "4e0075f1",
   "metadata": {},
   "outputs": [],
   "source": []
  },
  {
   "cell_type": "markdown",
   "id": "30224e57",
   "metadata": {},
   "source": [
    "### Q) What is Sigmoid Function and what is the use of Sigmoid Function in Logistic Regression?\n",
    "\n",
    "* Sigmoid function is a mathematical function that maps any real number to a value between 0 and 1. It is used in logistic regression to convert the weighted sum of independent variables to a probability between 0-1."
   ]
  },
  {
   "attachments": {
    "images.png": {
     "image/png": "[encoded data removed]"
    }
   },
   "cell_type": "markdown",
   "id": "e033b117",
   "metadata": {},
   "source": [
    "    Formula\n",
    "![images.png](attachment:images.png)\n",
    "    \n",
    "    * f(x) = Probability of dependent variable\n",
    "    * e (Euler's Constant) = 2.71828\n",
    "    * -x = -(mx+c) "
   ]
  },
  {
   "cell_type": "code",
   "execution_count": null,
   "id": "18cf86de",
   "metadata": {},
   "outputs": [],
   "source": []
  },
  {
   "cell_type": "markdown",
   "id": "c98154ca",
   "metadata": {},
   "source": [
    "### Q) How do you measure the performance of a logistic regression model?\n",
    "\n",
    "\n",
    "* Accuracy \n",
    "\n",
    "\n",
    "* Confusion matrix: A confusion matrix shows the number of true positives, true negatives, false positives, and false negatives.\n",
    "\n",
    "\n",
    "* Precision \n",
    "\n",
    "\n",
    "* Recall / Sensitivity / True Positive Rate \n",
    "\n",
    "\n",
    "* Specificity / True Negative Rate \n",
    "\n",
    "\n",
    "* F1 score\n",
    "\n",
    "\n",
    "* Receiver operating characteristic (ROC) curve"
   ]
  },
  {
   "cell_type": "code",
   "execution_count": null,
   "id": "08568697",
   "metadata": {},
   "outputs": [],
   "source": []
  },
  {
   "cell_type": "markdown",
   "id": "f480dc59",
   "metadata": {},
   "source": [
    "### Q) What is ROC-AUC?\n",
    "\n",
    "* ROC-AUC stands for Receiver Operating Characteristic - Area Under the Curve. It measures the quality of a binary classification model.\n",
    "\n",
    "\n",
    "* ROC Curve plots the false positive rate(x-axis) againt the true positive rate(y-axis) at different threshold points. Area the curve of ROC is a single numerical value which indicates the performance of a binary classification model. The high AUC value indicates the good performance of a model."
   ]
  },
  {
   "cell_type": "code",
   "execution_count": null,
   "id": "d4f2530b",
   "metadata": {},
   "outputs": [],
   "source": []
  },
  {
   "cell_type": "markdown",
   "id": "43fabe6c",
   "metadata": {},
   "source": [
    "### Q) What is accuracy?\n",
    "\n",
    "* Accuracy is the percentage of correct predictions made by a model."
   ]
  },
  {
   "cell_type": "code",
   "execution_count": null,
   "id": "09c4121d",
   "metadata": {},
   "outputs": [],
   "source": []
  },
  {
   "cell_type": "markdown",
   "id": "7fa8579d",
   "metadata": {},
   "source": [
    "### Q) Explain Confusion Matrix.\n",
    "\n",
    "A confusion matrix is a table used to evaluate the performance of a classification model. It consists of four different metrics, such as True Positive (TP), True Negative (TN), False Positive (FP), and False Negative (FN). \n",
    "\n",
    "\n",
    "* True Positive (TP): The number of observations where model predicts a positive class and in actual class was also positive.\n",
    "\n",
    "    \n",
    "* True Negative (TN): The number of observations where predicts a negative class and in actual class was also negative.\n",
    "\n",
    "    \n",
    "* False Positive (FP / Type I Error): The number of observations where the model predicted the positive class but the actual class was negative.\n",
    "\n",
    "    \n",
    "* False Negative (FN / Type II Error): The number of observations where the model predicted the negative class but the actual class was positive."
   ]
  },
  {
   "cell_type": "code",
   "execution_count": null,
   "id": "07f8c5c7",
   "metadata": {},
   "outputs": [],
   "source": []
  },
  {
   "cell_type": "markdown",
   "id": "7107f8dc",
   "metadata": {},
   "source": [
    "### Q) How to change the values of confusion matrix?\n",
    "\n",
    "\n",
    "* To change the value of confusion matrix we can change the threshold point. By default it is 0.5.\n",
    "\n",
    "\n",
    "* If the threshold point will change precision recall, accuracy everything will change."
   ]
  },
  {
   "cell_type": "code",
   "execution_count": null,
   "id": "90205db9",
   "metadata": {},
   "outputs": [],
   "source": []
  },
  {
   "cell_type": "markdown",
   "id": "0e51cef1",
   "metadata": {},
   "source": [
    "### Q) What is Precision?\n",
    "\n",
    "Out of all positive labels, how many prections are correctly predicted as positive. It is a percentage of it.\n",
    "\n",
    "\n",
    "### OR\n",
    "\n",
    "\n",
    "The percentage of positive predictions made by the model that are correct."
   ]
  },
  {
   "cell_type": "code",
   "execution_count": null,
   "id": "dcf039bc",
   "metadata": {},
   "outputs": [],
   "source": []
  },
  {
   "cell_type": "markdown",
   "id": "6c056053",
   "metadata": {},
   "source": [
    "### Q) What is Recall?\n",
    "\n",
    "Recall is also known as Sensitivity and True Postive Rate. Recall is the percentage of positive observations that were correctly identified by the model. Calculated as TP / (TP + FN)."
   ]
  },
  {
   "cell_type": "code",
   "execution_count": null,
   "id": "5f9e15c7",
   "metadata": {},
   "outputs": [],
   "source": []
  },
  {
   "cell_type": "markdown",
   "id": "32e93607",
   "metadata": {},
   "source": [
    "### Q) What is Specitivity?\n",
    "\n",
    "\n",
    "Specitivity is also known as True Negative Rate. The percentage of negative observations that were correctly identified by the model. Calculated as TN / (TN + FP)."
   ]
  },
  {
   "cell_type": "code",
   "execution_count": null,
   "id": "ebb0eccf",
   "metadata": {},
   "outputs": [],
   "source": []
  },
  {
   "cell_type": "markdown",
   "id": "71b91977",
   "metadata": {},
   "source": [
    "### Q) What is F-1 Score?\n",
    "\n",
    "\n",
    "* F1 Score is the combination of Precision and Recall. A weighted harmonic mean of precision and recall, calculated as 2 * (precision * recall) / (precision + recall). We use F-1 score in case of imbalanced datset and when false postive and false negative both are important to reduce."
   ]
  },
  {
   "cell_type": "code",
   "execution_count": null,
   "id": "e237c5b0",
   "metadata": {},
   "outputs": [],
   "source": []
  },
  {
   "cell_type": "markdown",
   "id": "08f0fdaf",
   "metadata": {},
   "source": [
    "### Q) What is Error Rate?\n",
    "\n",
    "Error Rate is the number of predictions that the model got wrong. Calculated as FP+FN."
   ]
  },
  {
   "cell_type": "markdown",
   "id": "1177e12f",
   "metadata": {},
   "source": [
    "Note:- \n",
    "\n",
    "\n",
    "    * Always Focus on Reducing Type I & Type II Error to enhance the performance of model.\n",
    "\n",
    "    * When False Positive is much important to reduce, go with precision. Eg: Spam Detection, Share Market goes up or not on a particular day.\n",
    "\n",
    "    * When False Negitive is much important to reduce, go with recall/sensitivity. Eg: Rain Prediction, Cancer Detection, Fraud detection\n",
    "\n",
    "    * In imbalanced dataset both precision and recall are important so, we use F1 Score.\n",
    "\n",
    "    * When both false positive and false negative is important to reduce we use F1 Score.\n",
    "\n",
    "    * We need higher True Positive Rate and lower False Positive Rate."
   ]
  },
  {
   "cell_type": "code",
   "execution_count": null,
   "id": "c2c38027",
   "metadata": {},
   "outputs": [],
   "source": []
  },
  {
   "cell_type": "markdown",
   "id": "1a9c388b",
   "metadata": {},
   "source": [
    "### Q) Give example where both False Positive and False Negitive is equally important?\n",
    "\n",
    "\n",
    "* Banking Sector for approving Loan\n",
    "\n",
    "\n",
    "* Quality Check of any product or anything."
   ]
  },
  {
   "cell_type": "code",
   "execution_count": null,
   "id": "810bce3c",
   "metadata": {},
   "outputs": [],
   "source": []
  },
  {
   "cell_type": "markdown",
   "id": "354d13ee",
   "metadata": {},
   "source": [
    "### Q) What is the impact of class imbalance on logistic regression, and how can it be addressed?\n",
    "\n",
    "\n",
    "* Class imbalance can have a significant impact on the performance of logistic regression, as the model can become biased towards the majority class, resulting in poor classification accuracy for the minority class. \n",
    "\n",
    "\n",
    "We can use these techniques to prevent this problem.\n",
    "\n",
    "\n",
    "* Resampling techniques: These techniques involve either oversampling the minority class or undersampling the majority class. Oversampling techniques include random oversampling, SMOTE (Synthetic Minority Over-sampling Technique), and ADASYN (Adaptive Synthetic Sampling). Undersampling techniques include random undersampling, Tomek links, and Edited Nearest Neighbor.\n",
    "\n",
    "\n",
    "* Ensemble Learning Techniques: We can use Ensemble Learning Techniques such as bagging, boosting, and stacking can help to improve the performance of the model by reducing bias and variance and improving the generalization to new data.\n"
   ]
  },
  {
   "cell_type": "code",
   "execution_count": null,
   "id": "a615ed11",
   "metadata": {},
   "outputs": [],
   "source": []
  },
  {
   "cell_type": "markdown",
   "id": "ecd87feb",
   "metadata": {},
   "source": [
    "### Q) What is threshold point?\n",
    "\n",
    "\n",
    "* Threshold is a level, point, or value above which something is true or will take place and below it is not true or will not take place."
   ]
  },
  {
   "cell_type": "code",
   "execution_count": null,
   "id": "9e89ec61",
   "metadata": {},
   "outputs": [],
   "source": []
  },
  {
   "cell_type": "markdown",
   "id": "70e02825",
   "metadata": {},
   "source": [
    "### Q) Can logistic regression be used for multi-class classification? If so, how?\n",
    "\n",
    "\n",
    "* Yes, the problem is it is not very simple to implement. Either I, apply one vs all or mutlinomial Logistic Regression.\n",
    "\n",
    "\n",
    "* If I apply any of them the model became complex and we don't want complexity in our model.\n",
    "\n",
    "\n",
    "* So, to prevent complexity in our model I use ensemble learning techniques like bagging and boosting."
   ]
  },
  {
   "cell_type": "code",
   "execution_count": null,
   "id": "128ba30e",
   "metadata": {},
   "outputs": [],
   "source": []
  },
  {
   "cell_type": "markdown",
   "id": "c7f475d6",
   "metadata": {},
   "source": [
    "### Q) What is logit function?\n",
    "\n",
    "* Logit function is a statistical function which transforms the probability into log-odds using logarithm scale. Log-odds are also known as logit, it is a ratio of event happening to the event not happening."
   ]
  }
 ],
 "metadata": {
  "kernelspec": {
   "display_name": "Python 3 (ipykernel)",
   "language": "python",
   "name": "python3"
  },
  "language_info": {
   "codemirror_mode": {
    "name": "ipython",
    "version": 3
   },
   "file_extension": ".py",
   "mimetype": "text/x-python",
   "name": "python",
   "nbconvert_exporter": "python",
   "pygments_lexer": "ipython3",
   "version": "3.9.13"
  }
 },
 "nbformat": 4,
 "nbformat_minor": 5
}
