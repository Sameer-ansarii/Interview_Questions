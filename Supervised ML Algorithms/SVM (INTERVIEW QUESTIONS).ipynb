{
 "cells": [
  {
   "cell_type": "markdown",
   "id": "74e04782",
   "metadata": {},
   "source": [
    "### Q) What is Support Vector Machine (SVM)?\n",
    "Support Vector Machine (SVM) is a supervised machine learning algorithm used for classification and regression tasks. It finds an optimal hyperplane that maximally separates data points of different classes or predicts the target value for regression. SVM aims to find the best decision boundary by maximizing the margin between the classes."
   ]
  },
  {
   "cell_type": "code",
   "execution_count": null,
   "id": "5ca7c52c",
   "metadata": {},
   "outputs": [],
   "source": []
  },
  {
   "cell_type": "markdown",
   "id": "2857ccb2",
   "metadata": {},
   "source": [
    "### Q) What is hard margin and soft margin in SVM?\n",
    "\n",
    "* Hard margin SVMs require all data points to be on the correct side of the decision boundary. This means that there are no misclassified data points. Hard margin SVMs are only possible if the data is linearly separable. If the data is not linearly separable, then a hard margin SVM will not be able to find a decision boundary that separates all of the data points correctly.\n",
    "\n",
    "\n",
    "* Soft margin SVMs allow for a small number of misclassified data points. This is done by introducing a slack variable that allows the decision boundary to move away from some of the data points. Soft margin SVMs are more flexible than hard margin SVMs and can be used to train models on data that is not linearly separable."
   ]
  },
  {
   "cell_type": "code",
   "execution_count": null,
   "id": "69ff49d1",
   "metadata": {},
   "outputs": [],
   "source": []
  },
  {
   "cell_type": "markdown",
   "id": "ff83a569",
   "metadata": {},
   "source": [
    "### Q) What is the main idea behind SVM?\n",
    "The main idea behind SVM is to find a hyperplane that separates data points of different classes with the largest possible margin. The margin is the distance between the hyperplane and the nearest data points from each class, called support vectors. By maximizing this margin, SVM aims to create a robust decision boundary that generalizes well to unseen data."
   ]
  },
  {
   "cell_type": "code",
   "execution_count": null,
   "id": "c7872846",
   "metadata": {},
   "outputs": [],
   "source": []
  },
  {
   "cell_type": "markdown",
   "id": "629c1dd1",
   "metadata": {},
   "source": [
    "### Q) What are the different types of SVM?\n",
    "\n",
    "There are two main types of SVM:\n",
    "\n",
    "Linear SVM: This type of SVM uses a linear hyperplane to separate the data points.\n",
    "\n",
    "Non-linear SVM: This type of SVM uses a non-linear kernel to map the data points into a higher-dimensional space where they can be separated by a linear hyperplane."
   ]
  },
  {
   "cell_type": "code",
   "execution_count": null,
   "id": "f6a99955",
   "metadata": {},
   "outputs": [],
   "source": []
  },
  {
   "cell_type": "markdown",
   "id": "1b481c36",
   "metadata": {},
   "source": [
    "### Q) What is the difference between linear and non-linear SVM?\n",
    "Linear SVM creates a linear decision boundary that separates data points of different classes.\n",
    "\n",
    "\n",
    "Non-linear SVM uses kernel functions to transform the original feature space into a higher-dimensional space where a linear decision boundary can be found. This allows SVM to handle non-linearly separable data by mapping it into a higher-dimensional space."
   ]
  },
  {
   "cell_type": "code",
   "execution_count": null,
   "id": "f41331e7",
   "metadata": {},
   "outputs": [],
   "source": []
  },
  {
   "cell_type": "markdown",
   "id": "18d970ef",
   "metadata": {},
   "source": [
    "### Q) What are the advantages of SVM?\n",
    "\n",
    "* SVM is effective in high-dimensional spaces, making it suitable for datasets with a large number of features.\n",
    "* It works well with both linearly separable and non-linearly separable data.\n",
    "* SVM is less prone to overfitting due to the margin maximization objective.\n",
    "* The use of kernels provides flexibility in handling complex data relationships.\n",
    "* SVM has solid theoretical foundations and good generalization capabilities."
   ]
  },
  {
   "cell_type": "code",
   "execution_count": null,
   "id": "e5d4b09b",
   "metadata": {},
   "outputs": [],
   "source": []
  },
  {
   "cell_type": "markdown",
   "id": "3217cafa",
   "metadata": {},
   "source": [
    "### Q) What are the disadvantages of SVM?\n",
    "* SVM can be computationally expensive, especially with large datasets.\n",
    "* The choice of an appropriate kernel function and tuning of hyperparameters can be challenging.\n",
    "* SVM is sensitive to the choice of the regularization parameter C and kernel parameters.\n",
    "* Interpreting the results of SVM can be less intuitive compared to other algorithms."
   ]
  },
  {
   "cell_type": "code",
   "execution_count": null,
   "id": "f53395ec",
   "metadata": {},
   "outputs": [],
   "source": []
  },
  {
   "cell_type": "markdown",
   "id": "0459af1f",
   "metadata": {},
   "source": [
    "### Q) How does SVM handle multi-class classification?\n",
    "SVM is originally designed for binary classification. However, it can be extended to handle multi-class classification using one of the following approaches:\n",
    "\n",
    "One-vs-One (OvO): Trains a binary classifier for each pair of classes and selects the class with the most votes.\n",
    "\n",
    "One-vs-All (OvA): Trains a binary classifier for each class against the rest, and the class with the highest score is predicted."
   ]
  },
  {
   "cell_type": "code",
   "execution_count": null,
   "id": "2e3d8ead",
   "metadata": {},
   "outputs": [],
   "source": []
  },
  {
   "cell_type": "markdown",
   "id": "1c4a279e",
   "metadata": {},
   "source": [
    "### Q) What is the significance of the regularization parameter C in SVM?\n",
    "The regularization parameter C controls the trade-off between maximizing the margin and minimizing the classification error. A smaller C value allows for a larger margin but may lead to more misclassifications, while a larger C value reduces the margin to minimize misclassifications. The value of C determines the importance given to individual data points in the training process."
   ]
  },
  {
   "cell_type": "code",
   "execution_count": null,
   "id": "04c7c2f1",
   "metadata": {},
   "outputs": [],
   "source": []
  },
  {
   "cell_type": "markdown",
   "id": "373c3131",
   "metadata": {},
   "source": [
    "### Q) What are kernel functions in SVM?\n",
    "Kernel functions allow SVM to operate in higher-dimensional feature spaces without explicitly calculating the transformed features. They measure the similarity between data points in the original feature space or the transformed space. Commonly used kernel functions include linear, polynomial, radial basis function (RBF), and sigmoid kernels.\n",
    "\n"
   ]
  },
  {
   "cell_type": "code",
   "execution_count": null,
   "id": "348c811c",
   "metadata": {},
   "outputs": [],
   "source": []
  },
  {
   "cell_type": "markdown",
   "id": "5c73ba8a",
   "metadata": {},
   "source": [
    "### Q) How does SVM handle outliers?\n",
    "SVM is robust to outliers due to its dependence on support vectors, which are the data points closest to the decision boundary. Outliers have less influence on the SVM model because they are typically not selected as support vectors. The use of a soft-margin SVM with a penalty parameter C can further control the effect of outliers."
   ]
  },
  {
   "cell_type": "code",
   "execution_count": null,
   "id": "76c48d6c",
   "metadata": {},
   "outputs": [],
   "source": []
  },
  {
   "cell_type": "markdown",
   "id": "9712ee57",
   "metadata": {},
   "source": [
    "### Q) What are some examples of where SVM is used?\n",
    "\n",
    "SVM is used in a variety of applications, including:\n",
    "\n",
    "Image classification: SVM can be used to classify images into different categories, such as faces, cars, and animals.\n",
    "\n",
    "Text classification: SVM can be used to classify text into different categories, such as spam, news, and social media posts.\n",
    "\n",
    "Machine translation: SVM can be used to translate text from one language to another.\n",
    "\n",
    "Medical diagnosis: SVM can be used to diagnose diseases based on medical data."
   ]
  },
  {
   "cell_type": "code",
   "execution_count": null,
   "id": "252654e3",
   "metadata": {},
   "outputs": [],
   "source": []
  }
 ],
 "metadata": {
  "kernelspec": {
   "display_name": "Python 3 (ipykernel)",
   "language": "python",
   "name": "python3"
  },
  "language_info": {
   "codemirror_mode": {
    "name": "ipython",
    "version": 3
   },
   "file_extension": ".py",
   "mimetype": "text/x-python",
   "name": "python",
   "nbconvert_exporter": "python",
   "pygments_lexer": "ipython3",
   "version": "3.9.13"
  }
 },
 "nbformat": 4,
 "nbformat_minor": 5
}
