{
 "cells": [
  {
   "cell_type": "markdown",
   "id": "90274dbc",
   "metadata": {},
   "source": [
    "### Q) What is ensemble learning?\n",
    "\n",
    "Ensemble learning is a machine learning technique that combines multiple models to create a more accurate model. Ensemble models are often more accurate than individual models because they can learn from each other's strengths and weaknesses.\n",
    "\n"
   ]
  },
  {
   "cell_type": "code",
   "execution_count": null,
   "id": "ce828710",
   "metadata": {},
   "outputs": [],
   "source": []
  },
  {
   "cell_type": "markdown",
   "id": "fbbb2c5f",
   "metadata": {},
   "source": [
    "### Q) What are the different types of ensemble learning?\n",
    "\n",
    "There are two main types of ensemble learning:\n",
    "\n",
    "* Bagging: Bagging stands for bootstrap aggregating. In bagging, multiple models are trained on bootstrap samples of the training data. A bootstrap sample is a random sample of the training data with replacement. This means that some data points may be included in multiple bootstrap samples.\n",
    "\n",
    "\n",
    "* Boosting: Boosting is a sequential learning algorithm that trains multiple models in succession. Each model is trained to correct the errors of the previous models."
   ]
  },
  {
   "cell_type": "code",
   "execution_count": null,
   "id": "8baeeccd",
   "metadata": {},
   "outputs": [],
   "source": []
  },
  {
   "cell_type": "markdown",
   "id": "c521360d",
   "metadata": {},
   "source": [
    "### Q) What are the advantages of ensemble learning?\n",
    "\n",
    "Ensemble learning has several advantages, including:\n",
    "\n",
    "* Improved accuracy: Ensemble models are often more accurate than individual models.\n",
    "\n",
    "\n",
    "* Reduced variance: Ensemble models can reduce the variance of individual models, which makes them more stable.\n",
    "\n",
    "\n",
    "* Better generalization: Ensemble models can generalize better to unseen data than individual models."
   ]
  },
  {
   "cell_type": "code",
   "execution_count": null,
   "id": "5eb261e7",
   "metadata": {},
   "outputs": [],
   "source": []
  },
  {
   "cell_type": "markdown",
   "id": "b97bae4c",
   "metadata": {},
   "source": [
    "### Q) What are the disadvantages of ensemble learning?\n",
    "\n",
    "Ensemble learning also has some disadvantages, including:\n",
    "\n",
    "* More computationally expensive: Ensemble models can be more computationally expensive to train than individual models.\n",
    "\n",
    "\n",
    "* More complex: Ensemble models can be more complex to understand and interpret than individual models."
   ]
  },
  {
   "cell_type": "code",
   "execution_count": null,
   "id": "67642d14",
   "metadata": {},
   "outputs": [],
   "source": []
  },
  {
   "cell_type": "markdown",
   "id": "f8e831a9",
   "metadata": {},
   "source": [
    "### Q) When should I use ensemble learning?\n",
    "\n",
    "Ensemble learning should be used when you want to improve the accuracy of your model. Ensemble learning is a good choice for tasks where accuracy is important, such as fraud detection, medical diagnosis, and image classification."
   ]
  },
  {
   "cell_type": "code",
   "execution_count": null,
   "id": "75c0b54a",
   "metadata": {},
   "outputs": [],
   "source": []
  },
  {
   "cell_type": "markdown",
   "id": "4bdb23c2",
   "metadata": {},
   "source": [
    "### Q) What are some examples of where ensemble learning is used?\n",
    "\n",
    "Ensemble learning is used in a variety of applications, including:\n",
    "\n",
    "* Fraud detection: Ensemble learning is used to detect fraudulent transactions.\n",
    "\n",
    "\n",
    "* Medical diagnosis: Ensemble learning is used to diagnose diseases.\n",
    "\n",
    "\n",
    "* Image classification: Ensemble learning is used to classify images."
   ]
  },
  {
   "cell_type": "code",
   "execution_count": null,
   "id": "539bdf69",
   "metadata": {},
   "outputs": [],
   "source": []
  },
  {
   "cell_type": "markdown",
   "id": "afea4da4",
   "metadata": {},
   "source": [
    "### Q) What is the difference between bagging and boosting?\n",
    "\n",
    "Bagging and boosting differ in their approach to creating and combining the base models:\n",
    "\n",
    "\n",
    "* Bagging creates independent base models by training them on different subsets of the data. The models are trained in parallel, and their predictions are aggregated through voting or averaging.\n",
    "\n",
    "\n",
    "* Boosting trains the base models sequentially, with each subsequent model giving more weight to the misclassified instances from the previous models. The models' predictions are combined through weighted averaging."
   ]
  },
  {
   "cell_type": "code",
   "execution_count": null,
   "id": "c20516b6",
   "metadata": {},
   "outputs": [],
   "source": []
  },
  {
   "cell_type": "markdown",
   "id": "990b394a",
   "metadata": {},
   "source": [
    "### Q) How does Stacking work?  \n",
    "\n",
    "The idea of stacking is to learn several different weak learners and combine them by training a meta-model to output predictions based on the multiple predictions returned by these weak models."
   ]
  },
  {
   "cell_type": "code",
   "execution_count": null,
   "id": "0aceb597",
   "metadata": {},
   "outputs": [],
   "source": []
  }
 ],
 "metadata": {
  "kernelspec": {
   "display_name": "Python 3 (ipykernel)",
   "language": "python",
   "name": "python3"
  },
  "language_info": {
   "codemirror_mode": {
    "name": "ipython",
    "version": 3
   },
   "file_extension": ".py",
   "mimetype": "text/x-python",
   "name": "python",
   "nbconvert_exporter": "python",
   "pygments_lexer": "ipython3",
   "version": "3.9.13"
  }
 },
 "nbformat": 4,
 "nbformat_minor": 5
}
