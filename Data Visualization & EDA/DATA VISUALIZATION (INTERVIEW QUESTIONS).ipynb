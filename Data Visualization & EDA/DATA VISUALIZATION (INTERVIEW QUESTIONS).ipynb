{
 "cells": [
  {
   "cell_type": "markdown",
   "id": "fe09c1a0",
   "metadata": {},
   "source": [
    "### Q) What is data visualization, and why is it important in data analysis?\n",
    "\n",
    "Data visualization is a process of visualizing the data in graphical form and identify trends and pattern in data to gain insights."
   ]
  },
  {
   "cell_type": "code",
   "execution_count": null,
   "id": "4114efd0",
   "metadata": {},
   "outputs": [],
   "source": []
  },
  {
   "cell_type": "markdown",
   "id": "6b9ac583",
   "metadata": {},
   "source": [
    "### Q) Can you explain the process you follow to create effective data visualizations?\n",
    "\n",
    "First I understand the data then according to my understanding I will make graphs according to data types of variables. I only choose those graphs from which I gain insights."
   ]
  },
  {
   "cell_type": "code",
   "execution_count": null,
   "id": "24069539",
   "metadata": {},
   "outputs": [],
   "source": []
  },
  {
   "cell_type": "markdown",
   "id": "3c97f66e",
   "metadata": {},
   "source": [
    "### Q) What are the benefits of data visualization?\n",
    "\n",
    "* Data visualization helps in to indentify the trends and patterns of data and gain insights through it.\n",
    "\n",
    "\n",
    "* We can read the data and build logic through data visualization. "
   ]
  },
  {
   "cell_type": "code",
   "execution_count": null,
   "id": "2623a584",
   "metadata": {},
   "outputs": [],
   "source": []
  },
  {
   "cell_type": "markdown",
   "id": "c28cce9c",
   "metadata": {},
   "source": [
    "### Q) What are some common types of data visualizations, and when would you use each one?\n",
    "\n",
    "Some common types of data visualizations are:- \n",
    "    \n",
    "1) Scatterplot: to check the correlation between two numerical variables.\n",
    "\n",
    "\n",
    "2) Box Plot: to identify the outliers and check the skewness of data.\n",
    "\n",
    "\n",
    "3) Bar Plot: To check the frequency of categories in a variable.\n",
    "\n",
    "\n",
    "4) Histogram and KDE Plot: To check the frequency, distribution and skewness in data.\n",
    "\n",
    "\n",
    "5) Pie Plot: To check the relative frequency of categories in a variable.\n",
    "\n",
    "\n",
    "Among them there are various types of graphs which we use in data visualization."
   ]
  },
  {
   "cell_type": "code",
   "execution_count": null,
   "id": "c7d3119b",
   "metadata": {},
   "outputs": [],
   "source": []
  },
  {
   "cell_type": "markdown",
   "id": "a74f11a2",
   "metadata": {},
   "source": [
    "### Q) How do you choose the appropriate chart or graph for a given dataset?\n",
    "\n",
    "\n",
    "First the understand the data and data types of columns and then according to my understanding and nature of data I use various types of charts. It depends on what kind of insight I want to gain."
   ]
  },
  {
   "cell_type": "code",
   "execution_count": null,
   "id": "2156d4b7",
   "metadata": {},
   "outputs": [],
   "source": []
  },
  {
   "cell_type": "markdown",
   "id": "d7ed3391",
   "metadata": {},
   "source": [
    "### Q) How do you handle missing or incomplete data when creating visualizations?\n",
    "\n",
    "I don't handle missing data because while performing data visualization, it will automatically exclude missing data."
   ]
  },
  {
   "cell_type": "code",
   "execution_count": null,
   "id": "db6061c1",
   "metadata": {},
   "outputs": [],
   "source": []
  },
  {
   "cell_type": "markdown",
   "id": "435f4023",
   "metadata": {},
   "source": [
    "### Q) What are some key factors to consider when designing visualizations for a specific target audience?\n",
    "\n",
    "I will take of care that Chart and graphs are easy to understand and insights are clearly visible."
   ]
  },
  {
   "cell_type": "code",
   "execution_count": null,
   "id": "fe4f80f6",
   "metadata": {},
   "outputs": [],
   "source": []
  },
  {
   "cell_type": "markdown",
   "id": "a44d5054",
   "metadata": {},
   "source": [
    "### Q) Can you explain the concept of storytelling through data visualization and provide an example?\n",
    "\n",
    "Make graphs in such a way that it will see like a story. Eg: I plot a graph of global warming against the years, in graphs we see that how much global warming increase over the years."
   ]
  },
  {
   "cell_type": "code",
   "execution_count": null,
   "id": "d3a04690",
   "metadata": {},
   "outputs": [],
   "source": []
  },
  {
   "cell_type": "markdown",
   "id": "fead4cf4",
   "metadata": {},
   "source": [
    "### Q) What tools or software do you use for data visualization, and why?\n",
    "\n",
    "* I use python data visualiztion libraries like matplotlib, seaborn, plotly because in python we manipulate the data while performing data visualization, according to need.\n",
    "\n",
    "\n",
    "\n",
    "* I also use power BI and Tableau, these are bussiness intelligence tools to create the visualization in more attractive way and used to make a presentation of data."
   ]
  },
  {
   "cell_type": "code",
   "execution_count": null,
   "id": "60741918",
   "metadata": {},
   "outputs": [],
   "source": []
  }
 ],
 "metadata": {
  "kernelspec": {
   "display_name": "Python 3 (ipykernel)",
   "language": "python",
   "name": "python3"
  },
  "language_info": {
   "codemirror_mode": {
    "name": "ipython",
    "version": 3
   },
   "file_extension": ".py",
   "mimetype": "text/x-python",
   "name": "python",
   "nbconvert_exporter": "python",
   "pygments_lexer": "ipython3",
   "version": "3.9.13"
  }
 },
 "nbformat": 4,
 "nbformat_minor": 5
}
