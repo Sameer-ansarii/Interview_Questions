{
 "cells": [
  {
   "cell_type": "markdown",
   "id": "a1791b15",
   "metadata": {},
   "source": [
    "# Emojis\n",
    "\n",
    "* There are 2-3 ways to deal with emojis whether to remove emojis or convert it into text that will on nature of task.\n",
    "\n",
    "\n",
    "* In Sentiment analysis we removed emojis in public platforms more people will post their thoughts, reviews, comment and comments or reviews will be this 'This is a very bad product (angry face emoji).' Here people can write text and then add a emoji at last of text. So, we don't need emojis here so we remove it.\n",
    "\n",
    "\n",
    "* In analyzing chat we keep emojis and convert emojis into text becuase emojis represents your mood in chat and emojis are important for analyzing chats."
   ]
  },
  {
   "cell_type": "code",
   "execution_count": null,
   "id": "87940750",
   "metadata": {},
   "outputs": [],
   "source": []
  },
  {
   "cell_type": "markdown",
   "id": "cd3fa19d",
   "metadata": {},
   "source": [
    "# Stemming and lemmatization\n",
    "\n",
    "* We use lemmatization when we are making chatbots, because we need that words which has a english dictionary meaning.\n",
    "\n",
    "\n",
    "* These both are interlinked words, work of them is to convert words into its root form / base form. E.g.: go, going, gone will convert into go. This will help to perform calculations faster because number of columns will decrease by doing this. There is separate column for separate word. More vocabulary equivalent to a greater number of columns. We will see this feature engineering. That’s why we use stemming and lemmatization to reduce number of columns and speed up the training process.\n",
    "\n",
    "\n",
    "* After stemming, the meaning of the sentence may change. This is because a verb can become a noun after stemming and there may be a chance that the root word does not have an English dictionary meaning.\n",
    "\n",
    "\n",
    "* After lemmatization, the meaning of the sentence not change. This is because a verb can remian verb and noun can remian noun and the root word have an English dictionary meaning."
   ]
  },
  {
   "cell_type": "code",
   "execution_count": null,
   "id": "1d4562b6",
   "metadata": {},
   "outputs": [],
   "source": []
  },
  {
   "cell_type": "markdown",
   "id": "a5302fa5",
   "metadata": {},
   "source": [
    "# Removal of Digits\n",
    "\n",
    "Removal of digits depends on tasks. Like you build model for sentiment analysis of a product where review is like ‘My delivery was supposed to reach here by 29th of May but it reached at 6th of June. So, I am very disappointing of service because delivery was late.’ Here we don’t need digits so we will remove them because ‘delivery was late’ mentioned in review."
   ]
  },
  {
   "cell_type": "code",
   "execution_count": null,
   "id": "28276a8e",
   "metadata": {},
   "outputs": [],
   "source": []
  },
  {
   "cell_type": "markdown",
   "id": "cbaa406b",
   "metadata": {},
   "source": [
    "# Part of Speech Tagging\n",
    "\n",
    "* It includes noun, pronoun, verb, adverb etc.\n",
    "\n",
    "\n",
    "* We see that 1 word has 2 meaning. E.g.:  \n",
    "\n",
    "\n",
    "'I would like to work in google.' Here: - Google is noun\n",
    "\n",
    "'I like to google things.' Here: - Google is verb.\n",
    "\n",
    "\n",
    "In both sentences google is used but their meaning is not same in both, means the part of speech is not same, means noun, pronoun, verb, adverb, etc. all these are called ‘Part of Speech’.\n",
    "\n",
    "\n",
    "* If we not perform part of speech, model will recognise all same words as same part of speech."
   ]
  },
  {
   "cell_type": "code",
   "execution_count": null,
   "id": "6eae955e",
   "metadata": {},
   "outputs": [],
   "source": []
  },
  {
   "cell_type": "markdown",
   "id": "03f73c01",
   "metadata": {},
   "source": [
    "# Word Cloud\n",
    "\n",
    "* In sentiment analysis projects, we create word clouds for positive and negative words. We create separate word clouds for positive and negative words. In sentiment analysis, we have a training dataset. First, we create a word cloud of positive reviews and then a word cloud of negative reviews. We check which words are highly repeated in both positive and negative reviews. In positive reviews, which positive words are repeated the most? In negative reviews, which negative words are used the most? By doing this, we get an idea of the most commonly used positive and negative words."
   ]
  },
  {
   "cell_type": "code",
   "execution_count": null,
   "id": "40dee364",
   "metadata": {},
   "outputs": [],
   "source": []
  },
  {
   "cell_type": "markdown",
   "id": "470d75f6",
   "metadata": {},
   "source": [
    "# Note:\n",
    "\n",
    "* Perfrom Frequency Distribution after removing stop words."
   ]
  },
  {
   "cell_type": "code",
   "execution_count": null,
   "id": "b08d89ff",
   "metadata": {},
   "outputs": [],
   "source": []
  }
 ],
 "metadata": {
  "kernelspec": {
   "display_name": "Python 3 (ipykernel)",
   "language": "python",
   "name": "python3"
  },
  "language_info": {
   "codemirror_mode": {
    "name": "ipython",
    "version": 3
   },
   "file_extension": ".py",
   "mimetype": "text/x-python",
   "name": "python",
   "nbconvert_exporter": "python",
   "pygments_lexer": "ipython3",
   "version": "3.9.13"
  }
 },
 "nbformat": 4,
 "nbformat_minor": 5
}
