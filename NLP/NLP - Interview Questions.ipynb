{
 "cells": [
  {
   "cell_type": "markdown",
   "id": "51e3607a",
   "metadata": {},
   "source": [
    "# Terminologies\n",
    "\n",
    "1) **Corpus**: Corpus is a collection text, which is given in dataset. Suppose 20K documents (observations) are given in dataset which consists of 1L words. These 1L words are called ‘corpus’. Corpus have stop words, punctuation marks, duplicates mean one word is repeating more than 1 time in dataset.\n",
    "\n",
    "\n",
    "2) **Dictionary / Vocabulary**:  All the unique words of corpus are called dictionary / vocabulary. E.g.: Among 1L words 60K are unique words so dictionary contain only these unique words and size of dictionary / vocabulary is 60K. \n",
    "\n",
    "\n",
    "3) **Document / Sentences**: A document is a single observation in a dataset. It can be a review, a comment, or any other piece of text.  In NLP, a sentence is a sequence of words that has a meaning and is grammatically correct. It is also known as an observation or data point. A document can contain one or more sentences. For example, if a user uploads 4 lines of review, then all 4 lines will be considered as one document.\n",
    "\n",
    "\n",
    "4) **Word**:  Every single word of document is known as word.\n",
    "\n",
    "\n",
    "5) **Stopwords**:-  Stopwords are words that are commonly used in a language, but typically do not carry much meaning or contribute to the understanding of the text. Examples of stopwords in English include words like \"the\", \"and\", \"of\", \"to\", \"in\", \"that\", \"it\", and so on."
   ]
  },
  {
   "cell_type": "code",
   "execution_count": null,
   "id": "7f33b00f",
   "metadata": {},
   "outputs": [],
   "source": []
  },
  {
   "cell_type": "markdown",
   "id": "3e3fab75",
   "metadata": {},
   "source": [
    "### Q) What are the challenges in NLP?\n",
    "\n",
    "**1) Ambiguity**: One sentence has 2 meanings.\n",
    "\n",
    "\n",
    " E.g.:  I saw the boy on beach with my binoculars.\n",
    " \n",
    "\n",
    "* First meaning of this sentence is: mene beach pe ladka dekha apni binoculars se.\n",
    "\n",
    "\n",
    "* Second meaning of this sentence is: mene beach pe dekha ek ladka jiske pass meri binoculars thi.\n",
    "\n",
    "\n",
    "**2) Same Word with 2 meaning in same sentence**\n",
    "\n",
    "E.g.: I ran to the store because we ran out of the milk.\n",
    "\n",
    "\n",
    "* Meaning: Me bhaga kyuki hamara milk khtm ho gya tha. In this sentence we have ran 2 times, meaning of ran is different in both places.\n",
    "\n",
    "\n",
    "* As humans we understand this thing, but machine will understand that both words are same.\n",
    "\n",
    "**3) Slangs** \n",
    "\n",
    "\n",
    "E.g.: (i) Pulling your leg. (ii) Bed of roses. (iii) Piece of cake.\n",
    "\n",
    "\n",
    "* These phrases have another meaning but machine understands that pulling your leg means literally someone is pulling leg of another person.\n",
    "\n",
    "\n",
    "**4) Sarcasm**: One word has multiple meanings at different places and machine will understand same meaning of that words at every place.\n",
    "\n",
    "E.g.: aacha (Hindi word).\n",
    "\n",
    "\n",
    "* Uses of aacha words at multiple places and at every place meaning is different but words will same. (i) Acha papa kr dunga ye kaam. (ii) Aacha tu mje samjha raha hai. (iii) Aacha yaad aaya. In these sentences, tones is different but word is same.\n",
    "\n",
    "\n",
    "**5) Spelling error**: Auto-correction is helpful but somethings it will confuse that at which place what word is used. \n",
    "\n",
    "\n",
    "E.g.: I live in Idia. Here model gets confuse from which word Idia gets replaced. ‘India’ or ‘Idea’.  In WhatsApp we write our text in English by using Hindi like kya haal vhal hai bhai, here spelling error becomes big problem. Here auto-correction do not perform well. \n",
    "\n",
    "\n",
    "E.g.: we want to write ‘Hi, Jaan’ so there may chance that model auto correct it to ‘Hi Japan’. \n",
    "\n",
    "\n",
    "* For which language we create NLP model, challenges and complexity are comes in that way.\n",
    "\n",
    "\n",
    "**6) Poems/Dialogues**\n",
    "\n",
    "\n",
    "E.g.: There is a famous dialogue in Munna Bhai MBBS movie, ‘Jaadu ki jhappi’, as humans we understand that what is it meaning but out model understands that something is related to magic.\n",
    "\n",
    "\n",
    "**7) Synonyms**: Different words have nearly same meaning, such as large and big, Happy and Joyful, etc.\n",
    "\n",
    "\n",
    "**8) It will not understand sentence properly**\n",
    "\n",
    "\n",
    "E.g.: I am new in New Delhi. Here it considers New of New Delhi as new.\n",
    "\n",
    "\n",
    "**9) Convert one language into another**:  can be challenging task because loss of information is happening. \n",
    "\n",
    "\n",
    "E.g.: Practically do this: Write a paragraph in Hindi convert it into English using google translate and again translate it into Hindi, you will see the difference. This is information loss.\n",
    "\n",
    "\n",
    "* These are some problems and challenges which we faced in NLP and due to these problems accuracy of NLP model comes out to be not so good.\n"
   ]
  },
  {
   "cell_type": "code",
   "execution_count": null,
   "id": "0d31ed6d",
   "metadata": {},
   "outputs": [],
   "source": []
  },
  {
   "cell_type": "markdown",
   "id": "c6ef6305",
   "metadata": {},
   "source": [
    "### Q) What is NLP and what are some of its applications?\n",
    "\n",
    "* NLP stands for Natural Language Processing. It is a branch of artificial intelligence that focuses on giving computers the ability to understand, interpret, and manipulate human language. Or, we can say that NLP is a technology that describes the interaction between human language and computers.\n",
    "\n",
    "\n",
    "* It is important because it helps us to interact with machines in a more natural way, allowing us to communicate with them in the same way that we would with other people.\n",
    "\n",
    "\n",
    "* Some applications of NLP include language translation applications, chatbots, speech recognition systems, spam filters, search engines, sentiment analysis, text summarization, Alexa, and text recommendation."
   ]
  },
  {
   "cell_type": "code",
   "execution_count": null,
   "id": "b65fc1d7",
   "metadata": {},
   "outputs": [],
   "source": []
  },
  {
   "cell_type": "markdown",
   "id": "bfdb36df",
   "metadata": {},
   "source": [
    "### Q) What is the difference between Natural Language Processing and Machine Learning?\n",
    "\n",
    "* Natural language processing (NLP) is a subfield of artificial intelligence (AI) that focuses on the interaction between computers and human language. Machine learning (ML) is also a subfield of AI that enables computers to learn from data  without being programmed with specific rules."
   ]
  },
  {
   "cell_type": "code",
   "execution_count": null,
   "id": "c6e1f9b4",
   "metadata": {},
   "outputs": [],
   "source": []
  },
  {
   "cell_type": "markdown",
   "id": "06c65ce4",
   "metadata": {},
   "source": [
    "### Q) What are some of the common techniques used in NLP?\n",
    "\n",
    "Some common techniques used in NLP include tokenization, lemmatization, convert text into lower case, part-of-speech tagging, feature encoding, sentiment analysis, and text classification."
   ]
  },
  {
   "cell_type": "code",
   "execution_count": null,
   "id": "ffac52a8",
   "metadata": {},
   "outputs": [],
   "source": []
  },
  {
   "cell_type": "markdown",
   "id": "31d14f08",
   "metadata": {},
   "source": [
    "### Q) What are the different steps of data pre-processing?\n",
    "Data pre-processing involves several steps, including text normalization, tokenization, removing stop words, handling special characters, converting text to lowercase, and lemmatization or stemming."
   ]
  },
  {
   "cell_type": "code",
   "execution_count": null,
   "id": "002a7568",
   "metadata": {},
   "outputs": [],
   "source": []
  },
  {
   "cell_type": "markdown",
   "id": "f5cb59d8",
   "metadata": {},
   "source": [
    "### Q) What are the steps involved in building an NLP system / NLP Pipeline / NLP Flowchart?\n",
    "\n",
    "* The steps involved in building an NLP system: -\n",
    "\n",
    "\n",
    "1) Acquire data / data collection \n",
    "\n",
    "\n",
    "2) Text preparation / Text preprocessing\n",
    "\n",
    "\n",
    "\n",
    "3) Feature Engineering / feature encoding / feature extraction\n",
    "\n",
    "\n",
    "4) Model Building\n",
    "\n",
    "\n",
    "5) Model Evaluation\n",
    "\n",
    "\n",
    "6) Model Deployment\n",
    "\n",
    "\n",
    "7) Monitoring"
   ]
  },
  {
   "cell_type": "code",
   "execution_count": null,
   "id": "77efa828",
   "metadata": {},
   "outputs": [],
   "source": []
  },
  {
   "cell_type": "markdown",
   "id": "a4f5fa86",
   "metadata": {},
   "source": [
    "### Q) Why we need NLP?\n",
    "We need applications which directly interact with humans like human say something and machine can understand that. That’s why we need NLP. There are many applications came of NLP like Alexa, Siri, etc."
   ]
  },
  {
   "cell_type": "code",
   "execution_count": null,
   "id": "81f82f76",
   "metadata": {},
   "outputs": [],
   "source": []
  },
  {
   "cell_type": "markdown",
   "id": "41b8be95",
   "metadata": {},
   "source": [
    "### Q) What do you mean by sentiment analysis?\n",
    "\n",
    "Sentiment analysis is the process of analyzing digital text to determine the emotional tone of the message. It can be used to classify that whether the text is positive, negative, or neutral."
   ]
  },
  {
   "cell_type": "code",
   "execution_count": null,
   "id": "9a439f4f",
   "metadata": {},
   "outputs": [],
   "source": []
  },
  {
   "cell_type": "markdown",
   "id": "0fb19555",
   "metadata": {},
   "source": [
    "### Q) How do you evaluate the performance of an NLP system?\n",
    "\n",
    "\n",
    "* The performance of an NLP system can be evaluated using metrics such as accuracy, precision, recall, F1 score, confusion matrix, ROC-AUC."
   ]
  },
  {
   "cell_type": "code",
   "execution_count": null,
   "id": "8fe2981c",
   "metadata": {},
   "outputs": [],
   "source": []
  },
  {
   "cell_type": "markdown",
   "id": "9ee5d796",
   "metadata": {},
   "source": [
    "### Q) What do mean by text summarization?\n",
    "\n",
    "* Text summarization is the process of reducing a long and detailed text document into a shorter version, while retaining the most important information and meaning of the original text."
   ]
  },
  {
   "cell_type": "code",
   "execution_count": null,
   "id": "1542ba46",
   "metadata": {},
   "outputs": [],
   "source": []
  },
  {
   "cell_type": "markdown",
   "id": "341e9671",
   "metadata": {},
   "source": [
    "### Q) What is tokenization and thier types?\n",
    "\n",
    "* Tokenization is a process of splitting or breaking down a text into individual units, called tokens.\n",
    "\n",
    "**Types of tokenizations in NLP:-**\n",
    "\n",
    "1) **Word Tokenization**:- It splits or seprates the (text, punctuation marks, special characters, emojis and emoticons) into individual words,called tokens.\n",
    "\n",
    "\n",
    "2) **Sentence Tokenization**:- It splits or seprate the text into sentences. It Seprates sentences by .(fullstop) and !(Exclamation mark).\n",
    "\n",
    "\n",
    "3) **Regular expression tokenization**: It splits and output only that text which matches with given regex pattern. This can be useful for handling specific types of text, like email addresses or phone numbers.\n",
    "\n",
    "\n",
    "4) **Subword tokenization**:- This is the process of breaking down words into smaller subword units. This is useful for handling rare or out-of-vocabulary words, and can improve performance in tasks like language modeling and machine translation.\n",
    "\n",
    "\n",
    "5) **Character tokenization**: This is the process of treating each character in a text as a separate token. This can be useful for tasks like handwriting recognition and spelling correction."
   ]
  },
  {
   "cell_type": "code",
   "execution_count": null,
   "id": "c376f854",
   "metadata": {},
   "outputs": [],
   "source": []
  },
  {
   "cell_type": "markdown",
   "id": "e2d8db7b",
   "metadata": {},
   "source": [
    "### Q) Why Tokenization is required in NLP?\n",
    "Tokenization is a fundamental step in NLP that breaks down text into smaller units, called tokens, which are easier for computers to process and analyze. This makes it easier for NLP algorithms to understand the meaning of text and to perform tasks such as sentiment analysis, machine translation, and text classification.\n",
    "\n",
    "\n",
    "1) Easier for computers to process and analyze data. / Enabling machines to understand and analyze textual data by dividing it into meaningful components.\n",
    "\n",
    "\n",
    "2) Tokenization helps in feature extraction more easily."
   ]
  },
  {
   "cell_type": "code",
   "execution_count": null,
   "id": "b78de369",
   "metadata": {},
   "outputs": [],
   "source": []
  },
  {
   "cell_type": "markdown",
   "id": "e9eacdf5",
   "metadata": {},
   "source": [
    "### Q) What is stemming in NLP and their uses?\n",
    "\n",
    "* Stemming is a technique used to extract the root form of word by removing their affixes even if the root form is not a valid word and not having english dictionary meaning.\n",
    "\n",
    "**Some of the uses of stemming in NLP:**\n",
    "\n",
    "\n",
    "1) Reduce the size of the vocabulary\n",
    "\n",
    "\n",
    "2) By converting words to their root form, different forms of the same word are treated as the same word.\n",
    "\n",
    "\n",
    "3) Improve the accuracy of text classification: Stemming is useful for text analysis tasks such as sentiment analysis, information retrieval, and document clustering, where the goal is to identify the underlying meaning of the words in a text.\n",
    "\n",
    "EG:- eats, eaten, eating, eated could be stemmed to 'eat'."
   ]
  },
  {
   "attachments": {
    "205075-4-2.jpg": {
     "image/jpeg": "[encoded data removed]"
    }
   },
   "cell_type": "markdown",
   "id": "ebdcb56c",
   "metadata": {},
   "source": [
    "![205075-4-2.jpg](attachment:205075-4-2.jpg)"
   ]
  },
  {
   "cell_type": "code",
   "execution_count": null,
   "id": "024abeb0",
   "metadata": {},
   "outputs": [],
   "source": []
  },
  {
   "cell_type": "markdown",
   "id": "a6852ab6",
   "metadata": {},
   "source": [
    "### Q) What are the limitations / disadvantages of Stemming?\n",
    "\n",
    "1) Stemming will not take whole text that's why tokenization is needed before doing stemming.\n",
    "\n",
    "\n",
    "2) There is a chance that the root word after stemming may not be a valid word in the English dictionary."
   ]
  },
  {
   "cell_type": "code",
   "execution_count": null,
   "id": "1ef0d395",
   "metadata": {},
   "outputs": [],
   "source": []
  },
  {
   "cell_type": "markdown",
   "id": "186699d0",
   "metadata": {},
   "source": [
    "### Q) Different types of stemming.\n",
    "\n",
    "There are several types of stemmers used in Natural Language Processing (NLP), each with their own approach to stemming words.\n",
    "    \n",
    "    \n",
    "1) Porter stemmer \n",
    "\n",
    "\n",
    "2) Snowball stemmer \n",
    "\n",
    "\n",
    "3) Lancaster Stemmer\n",
    "\n",
    "\n",
    "4) Regular Expression Stemmer\n",
    "\n",
    "\n",
    "**These algorithms use different rules and heuristics to identify the base form of a word, but they all aim to reduce the different forms of a word to a common base form.**"
   ]
  },
  {
   "cell_type": "code",
   "execution_count": null,
   "id": "651fdbc9",
   "metadata": {},
   "outputs": [],
   "source": []
  },
  {
   "cell_type": "markdown",
   "id": "2967f8b8",
   "metadata": {},
   "source": [
    "### Q) Difference between Porter Stemmer and Snowball Stemmer?\n",
    "\n",
    "\n",
    "1) Porter Stemmer is an older and more basic stemming algorithm, while Snowball Stemmer is a more advanced and improved version of the Porter Stemmer.\n",
    "\n",
    "\n",
    "2) Snowball Stemmer is available in multiple languages, while Porter Stemmer is only available in English.\n",
    "\n",
    "\n",
    "3) Snowball Stemmer is generally considered more accurate than Porter Stemmer because it can handle more complex word forms, such as irregular plurals.\n",
    "\n",
    "\n",
    "4) Snowball Stemmer is also faster than Porter Stemmer for most texts, particularly for large corpus."
   ]
  },
  {
   "cell_type": "code",
   "execution_count": null,
   "id": "5aba3894",
   "metadata": {},
   "outputs": [],
   "source": []
  },
  {
   "cell_type": "markdown",
   "id": "568d4280",
   "metadata": {},
   "source": [
    "### Q) Explain the difference between tokenization and stemming.\n",
    "\n",
    "* Tokenization is the process of breaking down text into individual words or phrases, called tokens. Stemming is the process of reducing inflected words to their word stem, base or root form.\n",
    "\n",
    "\n",
    "* In other words, tokenization is about breaking down text into smaller units, while stemming is about reducing those units to their most basic form."
   ]
  },
  {
   "cell_type": "code",
   "execution_count": null,
   "id": "4e26953d",
   "metadata": {},
   "outputs": [],
   "source": []
  },
  {
   "cell_type": "markdown",
   "id": "c6717f4f",
   "metadata": {},
   "source": [
    "### Q) Explain the difference between stemming and lemmatization.\n",
    "\n",
    "Stemming and lemmatization are both techniques used to convert words into their root form. The difference between them is that the root word after stemming may not be a valid word or have an English dictionary meaning, while lemmatization converts words into their root form while preserving their part of speech (POS). This means that the document still has the same semantic meaning after lemmatization, and the word after lemmatization is a valid word with an English dictionary meaning."
   ]
  },
  {
   "cell_type": "code",
   "execution_count": null,
   "id": "a5b9a0e2",
   "metadata": {},
   "outputs": [],
   "source": []
  },
  {
   "cell_type": "markdown",
   "id": "f8048a7f",
   "metadata": {},
   "source": [
    "### Q) What will happen if we do stemming instead of lemmatization?\n",
    "\n",
    "Stemming reduces words to their base or root form by removing suffixes. However, this may not always result in a valid word. Lemmatization, on the other hand, produces valid words by considering the word's meaning and context. Therefore, if you use stemming instead of lemmatization, you may end up with less accurate and potentially non-words in the processed text."
   ]
  },
  {
   "cell_type": "code",
   "execution_count": null,
   "id": "4726c645",
   "metadata": {},
   "outputs": [],
   "source": []
  },
  {
   "cell_type": "markdown",
   "id": "eca83b81",
   "metadata": {},
   "source": [
    "### Q) When should stemming and lemmatization be performed, and for which tasks??\n",
    "\n",
    "**`Stemming`**: Stemming is less computationally intensive and faster. It is suitable when you need a rough approximation of the root word, and you are focused on tasks such as **information retrieval, search engines, or text classification**.\n",
    "\n",
    "\n",
    "\n",
    "**`Lemmatization`**: Lemmatization is more linguistically accurate as it considers the meaning and context of the word. It is helpful in tasks that require precise word forms, such as **language generation**, **language understanding**, **and** **sentiment analysis**. It provides valid words, but can be slower than stemming.\n",
    "\n",
    "\n",
    "**In summary**:\n",
    "\n",
    "* Use stemming when you need speed and rough word approximation for tasks like **search and classification**.\n",
    "\n",
    "\n",
    "* Use lemmatization when you need accurate base forms for tasks like **language understanding, sentiment analysis, and language generation**."
   ]
  },
  {
   "cell_type": "code",
   "execution_count": null,
   "id": "a7bd372c",
   "metadata": {},
   "outputs": [],
   "source": []
  },
  {
   "cell_type": "markdown",
   "id": "a0dbd87e",
   "metadata": {},
   "source": [
    "### Q) What is Document Clustering.?\n",
    "\n",
    "Document clustering is the process of organizing a large amount of text documents into a small number of meaningful groups, where each group represents a specific topic."
   ]
  },
  {
   "cell_type": "code",
   "execution_count": null,
   "id": "5d55245a",
   "metadata": {},
   "outputs": [],
   "source": []
  },
  {
   "cell_type": "markdown",
   "id": "e06b8483",
   "metadata": {},
   "source": [
    "### Q) What are stop words and why are they important in NLP?\n",
    "\n",
    " Stop words are common words like (\"the\", \"and\", \"a\", and \"an\") that are often removed from corpus during text processing in NLP  because they do not add much semantic value. \n",
    "\n",
    "**Some benefits of removing stop words in NLP:**\n",
    "\n",
    "1) It can help to improve the accuracy of NLP algorithms.\n",
    "\n",
    "\n",
    "2) It can help to reduce the computational complexity of NLP algorithms.\n",
    "\n",
    "\n",
    "3) It can help to make NLP algorithms more efficient.\n",
    "\n",
    "\n",
    "4) It can help to make NLP algorithms more interpretable.\n",
    "\n",
    "**Stop words are important to filter out because they appear frequently but usually carry little semantic information. This helps to reduce noise and improve the efficiency of text analysis tasks.**"
   ]
  },
  {
   "cell_type": "code",
   "execution_count": null,
   "id": "0fc84fd9",
   "metadata": {},
   "outputs": [],
   "source": []
  },
  {
   "cell_type": "markdown",
   "id": "eb0e4321",
   "metadata": {},
   "source": [
    "### Q) What is Pre-processing in NLP? \n",
    "\n",
    "Pre-processing is the process of preparing text data for further analysis by NLP algorithms. \n",
    "\n",
    "**This can involve a variety of steps, such as:**\n",
    "\n",
    "1) **Tokenization**: Breaking down text into individual words or phrases.\n",
    "\n",
    "\n",
    "2) **Remove stop words**: Removing common words that do not add much meaning to the text, such as \"the\", \"and\", \"a\", and \"an\".\n",
    "\n",
    "\n",
    "3) **Stemming**: Reducing inflected words to their root form.\n",
    "\n",
    "\n",
    "4) **converting text to lower case**: Standardizing the text, such as converting all words to lowercase.\n",
    "\n",
    "\n",
    "5) **Spell checking**: Correcting spelling errors.\n",
    "\n",
    "\n",
    "6) **Part-of-speech tagging**: Identifying the part of speech of each word in the text.\n",
    "\n",
    "\n",
    "7) **Named entity recognition**: Identifying named entities, such as people, places, and organizations.\n",
    "\n",
    "\n",
    "8) **Feature engineering and encoding**: is the process of transforming raw data into features that are more suitable for machine learning algorithms."
   ]
  },
  {
   "cell_type": "code",
   "execution_count": null,
   "id": "e0910ce3",
   "metadata": {},
   "outputs": [],
   "source": []
  },
  {
   "cell_type": "markdown",
   "id": "b6bb6bbc",
   "metadata": {},
   "source": [
    "### Q) What is Lemmatization?\n",
    "\n",
    "Lemmatization is the process of converting a word into its root form, called the lemma. Lemmatization does not change the part of speech (POS) of the word in the document. The converted root word has semantic and English dictionary meaning and the word converted after lemmatization is a valid word."
   ]
  },
  {
   "cell_type": "code",
   "execution_count": null,
   "id": "79b0f977",
   "metadata": {},
   "outputs": [],
   "source": []
  },
  {
   "cell_type": "markdown",
   "id": "a7f5379d",
   "metadata": {},
   "source": [
    "### Q) What is inflectional ending of a word?\n",
    "\n",
    "Inflectional ending means adding anything at the end of the word which change the grammatical meaning of the word.\n",
    "\n",
    "\n",
    "**For example**: -\n",
    "\n",
    "In the word \"cats,\" the \"-s\" is an inflectional ending that indicates plural number.\n",
    "\n",
    "\n",
    "In the word \"jumped,\" the \"-ed\" is an inflectional ending that indicates past tense."
   ]
  },
  {
   "cell_type": "code",
   "execution_count": null,
   "id": "0a95e8e7",
   "metadata": {},
   "outputs": [],
   "source": []
  },
  {
   "cell_type": "markdown",
   "id": "b2b82b5e",
   "metadata": {},
   "source": [
    "### Q) What is POS(Part Of Speech)?\n",
    "\n",
    "Verbs, adverbs, nouns, and adjectives are the four main parts of speech in English grammar, but there are more parts of speech (POS) among them.\n",
    "\n",
    "1) **Adjective**: A word that describes a noun or pronoun. For example, \"big\", \"red\", and \"happy\" are adjectives.\n",
    "\n",
    "\n",
    "2) **Adverb**: A word that modifies a verb, adjective, or other adverb. For example, \"quickly\", \"very\", and \"often\" are adverbs.\n",
    "\n",
    "\n",
    "3) **Conjunction**: A word that joins words or phrases together. For example, \"and\", \"or\", and \"but\" are conjunctions.\n",
    "\n",
    "\n",
    "4) **Determiner**: A word that precedes a noun to indicate its quantity or quality. For example, \"the\", \"a\", and \"some\" are determiners.\n",
    "\n",
    "\n",
    "5) **Noun**: A word that names a person, place, thing, or idea. For example, \"dog\", \"table\", and \"love\" are nouns.\n",
    "\n",
    "\n",
    "6) **Pronoun**: A word that takes the place of a noun. For example, \"he\", \"she\", and \"it\" are pronouns.\n",
    "\n",
    "\n",
    "7) **Preposition**: A word that shows the relationship between a noun or pronoun and another word in a sentence. For example, \"in\", \"on\", and \"under\" are prepositions.\n",
    "\n",
    "\n",
    "8) **Interjection**: A word that expresses an emotion or feeling. For example, \"wow\", \"oops\", and \"ouch\" are interjections.\n",
    "\n",
    "\n",
    "9) **Verb**: A word that describes an action or a state of being. For example, \"run\", \"eat\", and \"be\" are verbs.\n",
    "\n",
    "\n",
    "10) **Auxiliary verb**: A verb that helps another verb. For example, \"can\", \"will\", and \"may\" are auxiliary verbs.\n",
    "\n",
    "\n",
    "11) **Modal verb**: A verb that expresses possibility, necessity, or permission. For example, \"should\", \"must\", and \"can\" are modal verbs."
   ]
  },
  {
   "cell_type": "code",
   "execution_count": null,
   "id": "65c5c748",
   "metadata": {},
   "outputs": [],
   "source": []
  },
  {
   "cell_type": "markdown",
   "id": "dee131b9",
   "metadata": {},
   "source": [
    "### Q) What is Part of Speech(POS) Tagging?\n",
    "\n",
    "* Part of Speech (POS) tagging is the process of labeling each word in a document with its corresponding grammatical category, such as noun, verb, adjective, adverb, etc. This helps model to understand the syntactic structure and grammatical relationships within a sentence or document.\n",
    "\n",
    "\n",
    "* In NLTK (Natural Language Toolkit), you can perform POS tagging using the pos_tag() function.\n",
    "\n",
    "\n",
    "**Syntactic structure refers to the part of speech (POS) of each word in a sentence, such as the first word being a noun, the second word being an adjective, and the third word being a verb.**"
   ]
  },
  {
   "cell_type": "code",
   "execution_count": null,
   "id": "b99c53b8",
   "metadata": {},
   "outputs": [],
   "source": []
  },
  {
   "cell_type": "markdown",
   "id": "a4d71cdf",
   "metadata": {},
   "source": [
    "### Q) Where to do POS and how it is helpful?\n",
    "\n",
    "Part-of-Speech (POS) tagging is the process of marking each word in a text with its corresponding part of speech (such as nouns, verbs, adjectives, etc.). POS tagging is typically done as a part of natural language processing (NLP) tasks and has various applications across different domains.\n",
    "\n",
    "\n",
    "**Here's where and how POS tagging is helpful.**\n",
    "\n",
    "\n",
    "### Where to Use POS Tagging:\n",
    "\n",
    "\n",
    "**1) Text Analysis**: POS tagging is often used in text analysis to understand the grammatical structure and syntactic relationships within a sentence. It helps in identifying the roles and functions of words in context.\n",
    "\n",
    "\n",
    "**2) Information Retrieval**: In search engines, POS tagging can aid in improving search results by understanding the context and meaning of user queries and documents.\n",
    "\n",
    "\n",
    "**3) Named Entity Recognition (NER)**: POS tagging can assist in identifying named entities (such as names of people, places, organizations) by recognizing patterns of proper nouns and other POS categories.\n",
    "\n",
    "\n",
    "**4) Sentiment Analysis**: Understanding the parts of speech in a sentence can provide insights into sentiment analysis by identifying the subject, verb, and object relationships.\n",
    "\n",
    "\n",
    "**5) Machine Translation**: POS tagging helps in disambiguating words with multiple meanings, contributing to better accuracy in machine translation systems.\n",
    "\n",
    "\n",
    "**6) Speech Recognition**: POS tagging can improve the accuracy of speech recognition systems by providing grammatical context to the recognized words.\n",
    "\n",
    "\n",
    "**7) Syntax Parsing**: POS tagging is a crucial step in syntactic parsing, where the hierarchical structure of a sentence is determined.\n",
    "\n",
    "\n",
    "### How POS Tagging is Helpful:\n",
    "\n",
    "\n",
    "**1) Semantic Analysis**: POS tagging aids in understanding the meaning and context of words in a sentence, which is crucial for accurate interpretation of text.\n",
    "\n",
    "\n",
    "**2) Word Disambiguation**: Many words have multiple meanings. POS tagging helps in disambiguating the correct meaning based on the context.\n",
    "\n",
    "\n",
    "**3) Language Understanding**: POS tagging helps computers understand human language by providing information about the relationships between words in a sentence.\n",
    "\n",
    "\n",
    "**4) Feature Extraction for NLP**: POS tags can be useful features in various NLP tasks such as text classification, named entity recognition, and more.\n",
    "\n",
    "\n",
    "**5) Grammar and Syntax**: POS tagging assists in identifying grammatical structures and syntactic relationships between words, which is important for maintaining proper sentence structure.\n",
    "\n",
    "\n",
    "**6) Creating Linguistic Resources**: POS-tagged corpora can be used to create linguistic resources like dictionaries, language models, and grammar rules."
   ]
  },
  {
   "cell_type": "code",
   "execution_count": null,
   "id": "8a3a0842",
   "metadata": {},
   "outputs": [],
   "source": []
  },
  {
   "cell_type": "markdown",
   "id": "7c39d09f",
   "metadata": {},
   "source": [
    "### Q) How does TF-IDF work?\n",
    "\n",
    "TF-IDF stands for term frequency–inverse document frequency. It measures the importance of a word in a document and corpus by measuring it's frequency. TF-IDF first calculates the term frequency and inverse document frequency, then multiplies them to get the TF-IDF score for a particular word in a document."
   ]
  },
  {
   "cell_type": "code",
   "execution_count": null,
   "id": "4b8ac968",
   "metadata": {},
   "outputs": [],
   "source": []
  },
  {
   "cell_type": "markdown",
   "id": "858608e6",
   "metadata": {},
   "source": [
    "### Q) Formulas of TF-IDF.\n",
    "\n",
    "\n",
    "**TF (t, d) = No. of occurrences of term t in document d / Total no. of terms in document d**\n",
    "\n",
    "\n",
    "**IDF (t) = log e (Total no. of document in corpus) / No. of document with term t in them**"
   ]
  },
  {
   "cell_type": "code",
   "execution_count": null,
   "id": "f766046a",
   "metadata": {},
   "outputs": [],
   "source": []
  },
  {
   "cell_type": "markdown",
   "id": "df39fd5f",
   "metadata": {},
   "source": [
    "### Q) What is an n-gram in NLP?\n",
    "In natural language processing (NLP), an n-gram is a contiguous sequence of n items from a given sequence of text or speech."
   ]
  },
  {
   "cell_type": "code",
   "execution_count": null,
   "id": "7e0e9b5d",
   "metadata": {},
   "outputs": [],
   "source": []
  },
  {
   "cell_type": "markdown",
   "id": "f581a876",
   "metadata": {},
   "source": [
    "### Q) What is the purpose of word embeddings / How do word embeddings improve NLP tasks??\n",
    "\n",
    "Word embeddings are used to convert text into vectors that contain the same information as the text. This makes text more understandable and easier to work with for machines."
   ]
  },
  {
   "cell_type": "code",
   "execution_count": null,
   "id": "f18bca25",
   "metadata": {},
   "outputs": [],
   "source": []
  },
  {
   "cell_type": "markdown",
   "id": "de49d7a8",
   "metadata": {},
   "source": [
    "### Q) What is the difference between accuracy and F1-score?\n",
    "\n",
    "Accuracy measures the overall performance of a model by calculating the percentage of correct predictions made by the model. F1-score,  is the harmonic mean of precision and recall. It is used to check the balance between / trade-off between precision and recall.\n"
   ]
  },
  {
   "cell_type": "code",
   "execution_count": null,
   "id": "c5f2e9d1",
   "metadata": {},
   "outputs": [],
   "source": []
  },
  {
   "cell_type": "markdown",
   "id": "2a2d40c3",
   "metadata": {},
   "source": [
    "### Q) Explain the concept of lexicographical normalization.\n",
    "Lexicographical normalization is converting text to lowercase and removing punctuation and special characters for consistent analysis."
   ]
  },
  {
   "cell_type": "code",
   "execution_count": null,
   "id": "317b59ed",
   "metadata": {},
   "outputs": [],
   "source": []
  },
  {
   "cell_type": "markdown",
   "id": "c3486093",
   "metadata": {},
   "source": [
    "### Q) What is named entity recognition (NER)?\n",
    "NER is the process of identifying and classifying named entities like names of people, places, organizations, etc., in text."
   ]
  },
  {
   "cell_type": "code",
   "execution_count": null,
   "id": "caa528c4",
   "metadata": {},
   "outputs": [],
   "source": []
  },
  {
   "cell_type": "markdown",
   "id": "bf9cef17",
   "metadata": {},
   "source": [
    "### Q) What is a confusion matrix?\n",
    "\n",
    "Confusion matrix is used to evaluate the performance of classification model. It shows the number of correct and incorrect predictions for each category. Confusion matrix has four metrics: true positives (TP), true negatives (TN), false positives (FP), and false negatives (FN). TP and TN are used to measure the number of correct predictions, while FP and FN are used to measure the number of incorrect predictions."
   ]
  },
  {
   "cell_type": "code",
   "execution_count": null,
   "id": "a32cc737",
   "metadata": {},
   "outputs": [],
   "source": []
  },
  {
   "cell_type": "markdown",
   "id": "d870c8a5",
   "metadata": {},
   "source": [
    "### Q) What is the purpose of a language model?\n",
    "\n",
    "\n",
    "A language model is a statistical model that predicts the next word in a sequence of words. It is trained on a large corpus of text, and it can be used for a variety of tasks, such as:\n",
    "\n",
    "1) **Machine translation**: Language models can be used to translate text from one language to another.\n",
    "\n",
    "\n",
    "2) **Question answering**: Language models can be used to answer questions about text.\n",
    "\n",
    "\n",
    "3) **Text summarization**: Language models can be used to summarize text. \n",
    "\n",
    "\n",
    "4) **Chatbots**: Language models can be used to create chatbots."
   ]
  },
  {
   "cell_type": "code",
   "execution_count": null,
   "id": "96ef0ab5",
   "metadata": {},
   "outputs": [],
   "source": []
  },
  {
   "cell_type": "markdown",
   "id": "bce701e6",
   "metadata": {},
   "source": [
    "### Q) Explain the concept of overfitting in NLP.\n",
    "\n",
    "Overfitting is a problem in machine learning where the model learns the training data too well and is unable to generalize to new data. This can happen in NLP when the model learns the specific patterns of the training data, but is unable to generalize to new data that has different patterns."
   ]
  },
  {
   "cell_type": "code",
   "execution_count": null,
   "id": "8ad9ef93",
   "metadata": {},
   "outputs": [],
   "source": []
  },
  {
   "cell_type": "markdown",
   "id": "280cd87e",
   "metadata": {},
   "source": [
    "### Q) How do you prevent overfitting in NLP?\n",
    "\n",
    "1) **Using a simpler model**: A simpler model is less likely to overfit the training data.\n",
    "\n",
    "\n",
    "2) **Using more training data**: More training data will help the model to learn the general patterns of the data, rather than the specific patterns of the training data.\n",
    "\n",
    "\n",
    "3) **Using regularization**: Regularization is a technique that penalizes the model for being too complex. This can help to prevent the model from overfitting the training data.\n",
    "\n",
    "\n",
    "4) **Using cross-validation**: Cross-validation is a technique for evaluating a model on data that it has not seen before. This can help to identify if the model is overfitting the training data."
   ]
  },
  {
   "cell_type": "code",
   "execution_count": null,
   "id": "f1838996",
   "metadata": {},
   "outputs": [],
   "source": []
  },
  {
   "cell_type": "markdown",
   "id": "c1c18f4a",
   "metadata": {},
   "source": [
    "### Q) What are the different tasks in NLP?\n",
    "\n",
    "1) **Text classification**: This involves classifying text into different categories, such as spam or ham, or sentiment analysis.\n",
    "\n",
    "\n",
    "2) **Question answering**: This involves answering questions about text, such as factual questions or open ended questions.\n",
    "\n",
    "\n",
    "3) **Natural language generation**: This involves generating text, such as news articles or creative text formats.\n",
    "\n",
    "\n",
    "4) **Machine translation**: This involves translating text from one language to another.\n",
    "\n",
    "\n",
    "5) **Text summarization**: This involves summarizing text into a shorter and more concise version."
   ]
  },
  {
   "cell_type": "code",
   "execution_count": null,
   "id": "8940f4c4",
   "metadata": {},
   "outputs": [],
   "source": []
  },
  {
   "cell_type": "markdown",
   "id": "cd45bef8",
   "metadata": {},
   "source": [
    "### Q) What are the different types of NLP models?\n",
    "\n",
    "\n",
    "1) **Rule-based models**: These models use a set of rules to process and understand text.\n",
    "\n",
    "\n",
    "2) **Statistical models**: These models use statistical methods to process and understand text.\n",
    "\n",
    "\n",
    "3) **Neural network models**: These models use neural networks to process and understand text."
   ]
  },
  {
   "cell_type": "code",
   "execution_count": null,
   "id": "16e44962",
   "metadata": {},
   "outputs": [],
   "source": []
  },
  {
   "cell_type": "markdown",
   "id": "6f97f44b",
   "metadata": {},
   "source": [
    "### Q) What are the different NLP libraries?\n",
    "\n",
    "**1) NLTK (Natural Language Toolkit)**: A comprehensive library for NLP tasks, including tokenization, stemming, tagging, parsing, and more.\n",
    "\n",
    "\n",
    "**2) spaCy**: A modern and efficient library for NLP with pre-trained models, fast tokenization, and support for various languages.\n",
    "\n",
    "\n",
    "**3) TextBlob**: A simple library built on NLTK and Pattern, offering a straightforward API for common NLP tasks.\n",
    "\n",
    "\n",
    "**4) Gensim**: Primarily used for topic modeling and document similarity analysis using techniques like Word2Vec and Doc2Vec.\n"
   ]
  },
  {
   "cell_type": "code",
   "execution_count": null,
   "id": "5d60350d",
   "metadata": {},
   "outputs": [],
   "source": []
  },
  {
   "cell_type": "markdown",
   "id": "2fa26613",
   "metadata": {},
   "source": [
    "### Q) How can you handle imbalanced datasets in NLP?\n",
    "\n",
    "Techniques like oversampling, undersampling, and using evaluation metrics like F1-score rather than accuracy can help handle imbalanced datasets. Advanced methods like SMOTE generate synthetic data to balance classes."
   ]
  },
  {
   "cell_type": "code",
   "execution_count": null,
   "id": "1b6d0884",
   "metadata": {},
   "outputs": [],
   "source": []
  },
  {
   "cell_type": "markdown",
   "id": "4768bd91",
   "metadata": {},
   "source": [
    "### Q) Explain the concept of attention mechanisms in NLP.\n",
    "Attention mechanisms allow models to focus on specific parts of input while generating output, improving context understanding in tasks like machine translation and text generation."
   ]
  },
  {
   "cell_type": "code",
   "execution_count": null,
   "id": "8af42403",
   "metadata": {},
   "outputs": [],
   "source": []
  },
  {
   "cell_type": "markdown",
   "id": "35e765d2",
   "metadata": {},
   "source": [
    "### Q) What are some common techniques to perform text classification?\n",
    "Common text classification techniques include using machine learning algorithms like Naive Bayes, Support Vector Machines, and neural networks. Preprocessing steps, feature extraction, and model selection play important roles."
   ]
  },
  {
   "cell_type": "code",
   "execution_count": null,
   "id": "4f436061",
   "metadata": {},
   "outputs": [],
   "source": []
  },
  {
   "cell_type": "markdown",
   "id": "ec2781ea",
   "metadata": {},
   "source": [
    "### Q) How does word sense disambiguation contribute to improving NLP tasks?\n",
    "Word sense disambiguation resolves the ambiguity of words with multiple meanings, enhancing tasks like information retrieval, machine translation, "
   ]
  },
  {
   "cell_type": "code",
   "execution_count": null,
   "id": "38f0a500",
   "metadata": {},
   "outputs": [],
   "source": []
  },
  {
   "cell_type": "markdown",
   "id": "218799b4",
   "metadata": {},
   "source": [
    "### Q) How to remove a particular word with code?\n",
    "\n",
    "**1) Replace word with an empty string**\n",
    "\n",
    "\n",
    "**2) Use remove_word function**\n",
    "\n",
    "\n",
    "**3) Use regular expressions**"
   ]
  },
  {
   "cell_type": "code",
   "execution_count": 1,
   "id": "f827cebc",
   "metadata": {},
   "outputs": [
    {
     "name": "stdout",
     "output_type": "stream",
     "text": [
      "This is  sentence\n"
     ]
    }
   ],
   "source": [
    "# Replace word with an empty string\n",
    "\n",
    "def remove_word(text, word):\n",
    "  return text.replace(word, \"\")\n",
    "\n",
    "print(remove_word(\"This is the sentence\", \"the\"))"
   ]
  },
  {
   "cell_type": "code",
   "execution_count": 2,
   "id": "09503937",
   "metadata": {},
   "outputs": [
    {
     "name": "stdout",
     "output_type": "stream",
     "text": [
      "This is  sentence\n"
     ]
    }
   ],
   "source": [
    "# Use remove_word function\n",
    "\n",
    "def remove_word(sentence, word_to_remove):\n",
    "    new_sentence = sentence.replace(word_to_remove, \"\")\n",
    "    return new_sentence\n",
    "\n",
    "input_sentence = \"This is the sentence\"\n",
    "word_to_remove = \"the\"\n",
    "result = remove_word(input_sentence, word_to_remove)\n",
    "print(result)"
   ]
  },
  {
   "cell_type": "code",
   "execution_count": 3,
   "id": "4d4382bc",
   "metadata": {},
   "outputs": [
    {
     "name": "stdout",
     "output_type": "stream",
     "text": [
      "This is  sentence\n"
     ]
    }
   ],
   "source": [
    "# Use regular expressions\n",
    "\n",
    "import re\n",
    "\n",
    "def remove_word(text, word):\n",
    "  pattern = re.compile(word)\n",
    "  return pattern.sub(\"\", text)\n",
    "\n",
    "print(remove_word(\"This is the sentence\", \"the\"))"
   ]
  },
  {
   "cell_type": "code",
   "execution_count": null,
   "id": "d957ae46",
   "metadata": {},
   "outputs": [],
   "source": []
  },
  {
   "cell_type": "markdown",
   "id": "adc282b8",
   "metadata": {},
   "source": [
    "### Q) Different ways to remove punctuation marks.\n",
    "\n",
    "**1) Use the replace() method**: The replace() method can be used to replace all instances of a character or string with another character or string.\n",
    "\n",
    "\n",
    "**2) Use the translate() method**: The translate() method in Python can be used to translate all characters in a string to another character or string. The translate() method takes two arguments: a translation table and a replacement string. The translation table is a dictionary that maps characters to their corresponding replacement characters. The replacement string is the string that will be used to replace any characters that are not in the translation table.\n",
    "\n",
    "**3) Use regular expressions**\n",
    "\n",
    "\n",
    "**4) Using SpaCy Library**"
   ]
  },
  {
   "cell_type": "code",
   "execution_count": 4,
   "id": "ca984604",
   "metadata": {},
   "outputs": [
    {
     "name": "stdout",
     "output_type": "stream",
     "text": [
      "This is a sentence with punctuation.\n"
     ]
    }
   ],
   "source": [
    "# Use the replace() method\n",
    "\n",
    "import string\n",
    "\n",
    "def remove_punctuation(text):\n",
    "  punctuation = string.punctuation\n",
    "  return text.replace(punctuation, \"\")\n",
    "\n",
    "print(remove_punctuation(\"This is a sentence with punctuation.\"))"
   ]
  },
  {
   "cell_type": "code",
   "execution_count": 5,
   "id": "ac8230ad",
   "metadata": {},
   "outputs": [
    {
     "name": "stdout",
     "output_type": "stream",
     "text": [
      "This is a sentence with punctuation\n"
     ]
    }
   ],
   "source": [
    "# Use regular expressions\n",
    "\n",
    "import re\n",
    "\n",
    "def remove_punctuation(text):\n",
    "  pattern = re.compile(\"[{}]\".format(re.escape(string.punctuation)))\n",
    "  return re.sub(pattern, \"\", text)\n",
    "\n",
    "print(remove_punctuation(\"This is a sentence with punctuation.\"))"
   ]
  },
  {
   "cell_type": "code",
   "execution_count": 6,
   "id": "45faef65",
   "metadata": {},
   "outputs": [
    {
     "name": "stdout",
     "output_type": "stream",
     "text": [
      "Hello world This is an example text\n"
     ]
    }
   ],
   "source": [
    "# Using SpaCy Library\n",
    "\n",
    "import spacy\n",
    "\n",
    "nlp = spacy.load(\"en_core_web_sm\")  # Load the spaCy English language model\n",
    "\n",
    "def remove_punctuation_spacy(text):\n",
    "    doc = nlp(text)\n",
    "\n",
    "    cleaned_tokens = [token.text for token in doc if not token.is_punct]   # Create a list of non-punctuation tokens\n",
    "    cleaned_text = ' '.join(cleaned_tokens)   # Join the tokens back into a cleaned string\n",
    "    return cleaned_text\n",
    "\n",
    "input_text = \"Hello, world! This is an example text.\"\n",
    "cleaned_text = remove_punctuation_spacy(input_text)\n",
    "print(cleaned_text)"
   ]
  },
  {
   "cell_type": "code",
   "execution_count": null,
   "id": "41a02d6f",
   "metadata": {},
   "outputs": [],
   "source": []
  },
  {
   "cell_type": "markdown",
   "id": "2d9824ae",
   "metadata": {},
   "source": [
    "### Q) How to remove all punctuation marks except semicolon (;) or apostrophe (‘)? "
   ]
  },
  {
   "cell_type": "markdown",
   "id": "471117a6",
   "metadata": {},
   "source": [
    "### (I) Using string.punctuation() and punctuation.remove()"
   ]
  },
  {
   "cell_type": "code",
   "execution_count": 7,
   "id": "5e9809c4",
   "metadata": {},
   "outputs": [
    {
     "name": "stdout",
     "output_type": "stream",
     "text": [
      "This is a sentence\n"
     ]
    }
   ],
   "source": [
    "def remove_punctuation(text):\n",
    "  \"\"\"Removes all punctuation marks from a string, except semicolons and apostrophes.\"\"\"\n",
    "  punctuation = string.punctuation\n",
    "  excluded_punctuation = punctuation.replace(\";\", \"\").replace(\"'\", \"\")\n",
    "  return ''.join(ch for ch in text if ch not in excluded_punctuation)\n",
    "\n",
    "print(remove_punctuation(\"This is a sentence.\"))"
   ]
  },
  {
   "cell_type": "markdown",
   "id": "be6bee2e",
   "metadata": {},
   "source": [
    "### (II) Using Regular Expressions"
   ]
  },
  {
   "cell_type": "code",
   "execution_count": 8,
   "id": "2640f03e",
   "metadata": {},
   "outputs": [
    {
     "name": "stdout",
     "output_type": "stream",
     "text": [
      "Hello world This is an example text; dont remove semicolons\n"
     ]
    }
   ],
   "source": [
    "def remove_punctuation_except_semicolon_apostrophe(text):\n",
    "    cleaned_text = re.sub(r'[^\\w\\s;’]', '', text)\n",
    "    return cleaned_text\n",
    "\n",
    "input_text = \"Hello, world! This is an example text; don't remove semicolons.\"\n",
    "cleaned_text = remove_punctuation_except_semicolon_apostrophe(input_text)\n",
    "print(cleaned_text)"
   ]
  },
  {
   "cell_type": "code",
   "execution_count": null,
   "id": "0bdebca5",
   "metadata": {},
   "outputs": [],
   "source": []
  },
  {
   "cell_type": "markdown",
   "id": "e633de24",
   "metadata": {},
   "source": [
    "### Q) If you are not removing punctuation marks, then what is the reason? \n",
    "\n",
    "The decision of whether or not to remove punctuation marks in NLP tasks depends on the specific task at hand. In some cases, punctuation can carry important information and semantic meaning, so it may be relevant to retain them.\n",
    "\n",
    "\n",
    "E.g.: - In resume classification tasks, if we remove punctuation marks like full stops (.), then \"B.Com\" becomes \"B\" and \"Com\", which no longer has any semantic meaning. However, in some cases, words can contain meaning along with punctuation, so in those cases we may not want to remove the punctuation marks."
   ]
  },
  {
   "cell_type": "code",
   "execution_count": null,
   "id": "ec742e82",
   "metadata": {},
   "outputs": [],
   "source": []
  },
  {
   "cell_type": "markdown",
   "id": "348dcb17",
   "metadata": {},
   "source": [
    "### Q) Different libraries and ways to perform stemming, lemmatization, tokenization."
   ]
  },
  {
   "cell_type": "markdown",
   "id": "080459b6",
   "metadata": {},
   "source": [
    "# 1) Stemming\n",
    "\n",
    "### (I) Using NLTK"
   ]
  },
  {
   "cell_type": "code",
   "execution_count": 9,
   "id": "5b07a206",
   "metadata": {},
   "outputs": [
    {
     "name": "stdout",
     "output_type": "stream",
     "text": [
      "['run', 'fli', 'happili']\n"
     ]
    }
   ],
   "source": [
    "from nltk.stem import PorterStemmer\n",
    "from nltk.tokenize import word_tokenize\n",
    "\n",
    "stemmer = PorterStemmer()\n",
    "words = [\"running\", \"flies\", \"happily\"]\n",
    "stemmed_words = [stemmer.stem(word) for word in words]\n",
    "print(stemmed_words)"
   ]
  },
  {
   "cell_type": "markdown",
   "id": "fb86eb81",
   "metadata": {},
   "source": [
    "### (II) Using Text Blob"
   ]
  },
  {
   "cell_type": "code",
   "execution_count": 10,
   "id": "28ab210e",
   "metadata": {},
   "outputs": [
    {
     "name": "stdout",
     "output_type": "stream",
     "text": [
      "['run', 'fli', 'happili']\n"
     ]
    }
   ],
   "source": [
    "from textblob import TextBlob\n",
    "from textblob import Word\n",
    "\n",
    "words = [\"running\", \"flies\", \"happily\"]\n",
    "stemmed_words = [Word(word).stem() for word in words]\n",
    "print(stemmed_words)"
   ]
  },
  {
   "cell_type": "markdown",
   "id": "ab9791c9",
   "metadata": {},
   "source": [
    "# 2) Lemmatization:\n",
    "### (I) Using NLTK"
   ]
  },
  {
   "cell_type": "code",
   "execution_count": 11,
   "id": "a31f331a",
   "metadata": {},
   "outputs": [
    {
     "name": "stdout",
     "output_type": "stream",
     "text": [
      "['running', 'fly', 'happily']\n"
     ]
    }
   ],
   "source": [
    "from nltk.stem import WordNetLemmatizer\n",
    "from nltk.tokenize import word_tokenize\n",
    "\n",
    "lemmatizer = WordNetLemmatizer()\n",
    "words = [\"running\", \"flies\", \"happily\"]\n",
    "lemmatized_words = [lemmatizer.lemmatize(word) for word in words]\n",
    "print(lemmatized_words)"
   ]
  },
  {
   "cell_type": "markdown",
   "id": "dd26a421",
   "metadata": {},
   "source": [
    "### (II) Using spaCy"
   ]
  },
  {
   "cell_type": "code",
   "execution_count": 12,
   "id": "6f03f9fc",
   "metadata": {},
   "outputs": [
    {
     "name": "stdout",
     "output_type": "stream",
     "text": [
      "['run', 'fly', 'happily']\n"
     ]
    }
   ],
   "source": [
    "import spacy\n",
    "\n",
    "nlp = spacy.load(\"en_core_web_sm\")\n",
    "text = \"running flies happily\"\n",
    "doc = nlp(text)\n",
    "lemmatized_words = [token.lemma_ for token in doc]\n",
    "print(lemmatized_words)"
   ]
  },
  {
   "cell_type": "markdown",
   "id": "e34f7b4c",
   "metadata": {},
   "source": [
    "### (III) Using Text Blob"
   ]
  },
  {
   "cell_type": "code",
   "execution_count": 13,
   "id": "3b8a7e7c",
   "metadata": {},
   "outputs": [
    {
     "name": "stdout",
     "output_type": "stream",
     "text": [
      "['running', 'fly', 'happily']\n"
     ]
    }
   ],
   "source": [
    "from textblob import TextBlob\n",
    "from textblob import Word\n",
    "\n",
    "words = [\"running\", \"flies\", \"happily\"]\n",
    "lemmatized_words = [Word(word).lemmatize() for word in words]\n",
    "print(lemmatized_words)"
   ]
  },
  {
   "cell_type": "markdown",
   "id": "07b481be",
   "metadata": {},
   "source": [
    "# 3) Tokenization\n",
    "### (I) Using NLTK"
   ]
  },
  {
   "cell_type": "code",
   "execution_count": 14,
   "id": "62dc258a",
   "metadata": {},
   "outputs": [
    {
     "name": "stdout",
     "output_type": "stream",
     "text": [
      "['Tokenization', 'is', 'an', 'important', 'step', 'in', 'NLP', '.']\n"
     ]
    }
   ],
   "source": [
    "from nltk.tokenize import word_tokenize\n",
    "\n",
    "text = \"Tokenization is an important step in NLP.\"\n",
    "tokens = word_tokenize(text)\n",
    "print(tokens)"
   ]
  },
  {
   "cell_type": "markdown",
   "id": "3be8e565",
   "metadata": {},
   "source": [
    "### (II) Using spaCy"
   ]
  },
  {
   "cell_type": "code",
   "execution_count": 15,
   "id": "40e06c37",
   "metadata": {},
   "outputs": [
    {
     "name": "stdout",
     "output_type": "stream",
     "text": [
      "['Tokenization', 'is', 'an', 'important', 'step', 'in', 'NLP', '.']\n"
     ]
    }
   ],
   "source": [
    "import spacy\n",
    "\n",
    "nlp = spacy.load(\"en_core_web_sm\")\n",
    "text = \"Tokenization is an important step in NLP.\"\n",
    "doc = nlp(text)\n",
    "tokens = [token.text for token in doc]\n",
    "print(tokens)"
   ]
  },
  {
   "cell_type": "markdown",
   "id": "49549ab4",
   "metadata": {},
   "source": [
    "### (III) Using Text Blob\n"
   ]
  },
  {
   "cell_type": "code",
   "execution_count": 16,
   "id": "3c81f811",
   "metadata": {},
   "outputs": [
    {
     "name": "stdout",
     "output_type": "stream",
     "text": [
      "['Tokenization', 'is', 'an', 'important', 'step', 'in', 'NLP']\n"
     ]
    }
   ],
   "source": [
    "from textblob import TextBlob\n",
    "\n",
    "text = \"Tokenization is an important step in NLP.\"\n",
    "blob = TextBlob(text)\n",
    "tokens = blob.words\n",
    "print(tokens)"
   ]
  },
  {
   "cell_type": "code",
   "execution_count": null,
   "id": "adb8c984",
   "metadata": {},
   "outputs": [],
   "source": []
  }
 ],
 "metadata": {
  "kernelspec": {
   "display_name": "Python 3 (ipykernel)",
   "language": "python",
   "name": "python3"
  },
  "language_info": {
   "codemirror_mode": {
    "name": "ipython",
    "version": 3
   },
   "file_extension": ".py",
   "mimetype": "text/x-python",
   "name": "python",
   "nbconvert_exporter": "python",
   "pygments_lexer": "ipython3",
   "version": "3.9.13"
  }
 },
 "nbformat": 4,
 "nbformat_minor": 5
}
