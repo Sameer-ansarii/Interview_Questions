{
 "cells": [
  {
   "cell_type": "markdown",
   "id": "a8e2c997",
   "metadata": {},
   "source": [
    "### Q) What are the role and responsibilites of a Data Analyst?\n",
    "**Collecting data**: Data analysts collect data from a variety of sources, including surveys, customer transactions, and social media.\n",
    "\n",
    "**Cleaning data**: Data analysts clean data by removing errors and inconsistencies.\n",
    "\n",
    "**Analyzing data**: Data analysts use statistical and mathematical methods to analyze data and identify trends and patterns.\n",
    "\n",
    "**Interpreting data**: Data analysts interpret data and provide insights that can help businesses make better decisions.\n",
    "\n",
    "**Communicating findings**: Data analysts communicate their findings to stakeholders in a clear and concise way."
   ]
  },
  {
   "cell_type": "code",
   "execution_count": null,
   "id": "8f1d19fb",
   "metadata": {},
   "outputs": [],
   "source": []
  },
  {
   "cell_type": "markdown",
   "id": "ad9c1aca",
   "metadata": {},
   "source": [
    "### Q) What is forecasting?\n",
    "\n",
    "Forecasting is a statistical technique used to predict the future on the basis of resuts of previous data."
   ]
  },
  {
   "cell_type": "code",
   "execution_count": null,
   "id": "19138199",
   "metadata": {},
   "outputs": [],
   "source": []
  },
  {
   "cell_type": "markdown",
   "id": "5e5d6476",
   "metadata": {},
   "source": [
    "\n",
    "### Q) What is Time series analysis?\n",
    "\n",
    "Time series analysis is a statistical technique used to analysis data which is collect over the time. In time series analysis we identify the relationship, trends and pattern of data then draw conclusion based on it and make predict about the future value."
   ]
  },
  {
   "cell_type": "code",
   "execution_count": null,
   "id": "2025aae9",
   "metadata": {},
   "outputs": [],
   "source": []
  },
  {
   "cell_type": "markdown",
   "id": "4a326762",
   "metadata": {},
   "source": [
    "### Q) What is data joining and data blending?\n",
    "\n",
    "Data joining is the process of joing or merging the data of same source. Eg:- In sql or excel we join or merge 2 tables or 2 worksheets.\n",
    "\n",
    "Data blending is the process of combining the data of 2 or more different source. Eg:- We combine the data of SQL and oracle together. Data blending is done in Sql, Power Bi, Tableau by combine data of multiple souces."
   ]
  },
  {
   "cell_type": "code",
   "execution_count": null,
   "id": "5a3e1252",
   "metadata": {},
   "outputs": [],
   "source": []
  },
  {
   "cell_type": "markdown",
   "id": "44498870",
   "metadata": {},
   "source": [
    "### Q) What is significance of Exploratory Data Analysis?\n",
    "\n",
    "EDA is a process of exploring, understanding and analyizing the data and gain insights from it and pre-process the data for further tasks like model building. \n",
    "\n",
    "In EDA we analyze and understand the data and gain insight from it by visualizing the data and we also perform data cleaning, treating outliers, treating missing values, treating the distribution of data, etc.\n",
    "\n",
    "Hence EDA is a crucial step in data modelling, data analysis and model building."
   ]
  },
  {
   "cell_type": "code",
   "execution_count": null,
   "id": "0ac77839",
   "metadata": {},
   "outputs": [],
   "source": []
  },
  {
   "cell_type": "markdown",
   "id": "208e6473",
   "metadata": {},
   "source": [
    "### Q) What is data modelling?\n",
    "\n",
    "Data modelling is a process of organising the data in a proper and structured manner to perform further tasks on it like data analysis, etc."
   ]
  },
  {
   "cell_type": "code",
   "execution_count": null,
   "id": "54acb448",
   "metadata": {},
   "outputs": [],
   "source": []
  },
  {
   "cell_type": "markdown",
   "id": "72cb6cc8",
   "metadata": {},
   "source": [
    "### Q) What is pivot table?\n",
    "\n",
    "Pivot Table is a function in Excel, pandas, SQL and other applications also. It is used to summarize and analyze data. We can customize rows, columns, values inside the table and perform many mathematical and aggregation functions on data. Pivot table is used for analyzing the trends and pattern of data. It is very useful in analysis when we deal with big data."
   ]
  },
  {
   "cell_type": "code",
   "execution_count": null,
   "id": "154174d5",
   "metadata": {},
   "outputs": [],
   "source": []
  },
  {
   "cell_type": "markdown",
   "id": "485627f6",
   "metadata": {},
   "source": [
    "### Q) What is skewed distribution?\n",
    "\n",
    "Skewed distribution means when the distribution of data is asymmetric and one tail is longer than the other.\n",
    "\n",
    "\n",
    "**Right skewed distribution**:- When the majority values are lower and mean of the distribution is tends towards the right side.\n",
    "    \n",
    "    \n",
    "**Left Skewed distribution**: When the majority values are high and mean of distribution is tends towards the left side."
   ]
  },
  {
   "cell_type": "code",
   "execution_count": null,
   "id": "b3fcdc0d",
   "metadata": {},
   "outputs": [],
   "source": []
  },
  {
   "cell_type": "markdown",
   "id": "411352db",
   "metadata": {},
   "source": [
    "### Q) What is data wrangling?\n",
    "\n",
    "Data wrangling is also called as data cleaning. It is process of transforming and preparing raw data into that foramt of data which is used for further analysis."
   ]
  },
  {
   "cell_type": "code",
   "execution_count": null,
   "id": "4f4ef70a",
   "metadata": {},
   "outputs": [],
   "source": []
  },
  {
   "cell_type": "markdown",
   "id": "9599f98c",
   "metadata": {},
   "source": [
    "### Q)What is P-Value?\n",
    "\n",
    "P-Value is the probability value which is used to take a decision about hypothesis test by comparing P-Value with the significant value. If the P-Value is higher significance value we fail to reject the null hypotheis and if P-Value is lower than Significant value we reject the null hypothesis. P-value is also used to maintain a balance between type-I error and type II error. We usually take P-Value as 0.05."
   ]
  },
  {
   "cell_type": "code",
   "execution_count": null,
   "id": "b7f0c1a1",
   "metadata": {},
   "outputs": [],
   "source": []
  },
  {
   "cell_type": "markdown",
   "id": "ab4d0dca",
   "metadata": {},
   "source": [
    "### Q) What is type I error and type II error?\n",
    "\n",
    "Type I error occurs when we reject the null hypothesis when it is actually true.\n",
    "\n",
    "Type II errro occurs when we fail to reject null hypothesis when it is actually wrong."
   ]
  },
  {
   "cell_type": "code",
   "execution_count": null,
   "id": "61e9eeda",
   "metadata": {},
   "outputs": [],
   "source": []
  },
  {
   "cell_type": "markdown",
   "id": "a697fed2",
   "metadata": {},
   "source": [
    "### Q) What is hypothesis test?\n",
    "\n",
    "A Hypothesis test is a statistical test which is used to make inference or draw conclusion about a population based on sample data. In hypothesis test we compare null hypothesis with the alternative hypothesis."
   ]
  },
  {
   "cell_type": "code",
   "execution_count": null,
   "id": "0175032c",
   "metadata": {},
   "outputs": [],
   "source": []
  },
  {
   "cell_type": "markdown",
   "id": "8b9038a3",
   "metadata": {},
   "source": [
    "### Q) What is sampling techniques and their types?\n",
    "\n",
    "Sampling is a statistical method used to collect a subset of data from entire population to estimate the characteristics of the whole population.\n",
    "\n",
    "* Simple Random Sampling\n",
    "\n",
    "\n",
    "* Systematic Sampling\n",
    "\n",
    "\n",
    "* Cluster Sampling\n",
    "\n",
    "\n",
    "* Strafied Sampling\n",
    "\n",
    "\n",
    "* Purposive Sampling"
   ]
  },
  {
   "cell_type": "code",
   "execution_count": null,
   "id": "3940e68d",
   "metadata": {},
   "outputs": [],
   "source": []
  },
  {
   "cell_type": "markdown",
   "id": "cf157a81",
   "metadata": {},
   "source": [
    "### Q) What are the different techniques used in data analyst?\n",
    "\n",
    "**1) Correlation:-** It is used to find the strenth of directional relationship between two variable.\n",
    "    \n",
    "**2) Regression:-** It is use to precdict the value of dependent variable based on values of one and more independent variable.\n",
    "\n",
    "**3) Time Series:-** It is a statistical technique which is used to find realtionships, patterns and trends in data which is collected over the time and then draw conclusions and predict future based on data.\n",
    "\n",
    "\n",
    "These techniques are fundamental of data analysis which is used to provide valuable insights into relationships, predictions, and trends within datasets."
   ]
  },
  {
   "cell_type": "code",
   "execution_count": null,
   "id": "8e7317fc",
   "metadata": {},
   "outputs": [],
   "source": []
  },
  {
   "cell_type": "markdown",
   "id": "96eb598a",
   "metadata": {},
   "source": [
    "### Q) Explain Univariate, bivariate and multivariate analysis?\n",
    "\n",
    "**Univariate:-** In univariate analysis, we analyze only one variable or column and try to gain insights of it.\n",
    "    \n",
    "    \n",
    "**Bivariate:-** In bivariate analysis, we analyze two variable together.\n",
    "    \n",
    "    \n",
    "**Multivariate:-** In multivariate analysis, we analyze more than 2 variables together."
   ]
  },
  {
   "cell_type": "code",
   "execution_count": null,
   "id": "e0c7ef10",
   "metadata": {},
   "outputs": [],
   "source": []
  },
  {
   "cell_type": "markdown",
   "id": "2db69170",
   "metadata": {},
   "source": [
    "### Q) What is naiive bayes?\n",
    "\n",
    "Naiive Bayes is a machine learning algorithm, which is used to solve the classification problem and it is based on bayes theorem of conditional probability.\n",
    "\n",
    "Assumptions of Bayes Theorem:-\n",
    "\n",
    "1) All variables are independent to each other.\n",
    "\n",
    "\n",
    "2) All independent variables are equally important to predict the value of depent variable."
   ]
  },
  {
   "cell_type": "code",
   "execution_count": null,
   "id": "af434394",
   "metadata": {},
   "outputs": [],
   "source": []
  },
  {
   "cell_type": "markdown",
   "id": "62f8895c",
   "metadata": {},
   "source": [
    "### Q) What is RMSE?\n",
    "\n",
    "RMSE stands for Root Mean Squared Error, it is used to evaluate the performance of regression model. RMSE is calculated by taking square root of average squared difference between actual value and predicted value.\n",
    "\n",
    "The formula for calculating RMSE is as follows:\n",
    "\n",
    "RMSE = sqrt((1/n) * Σ(y_actual - y_predicted)^2)\n",
    "\n"
   ]
  },
  {
   "cell_type": "code",
   "execution_count": null,
   "id": "c10c7e2b",
   "metadata": {},
   "outputs": [],
   "source": []
  },
  {
   "cell_type": "markdown",
   "id": "6f0222f8",
   "metadata": {},
   "source": [
    "### Q) Explain Normal Distribution.\n",
    "\n",
    "Normal distribution is also known as 'gaussian distribution', it is a type of continuous probability distribution which is symmetric around the mean. In normal distribution mean, median and mode are same and present at the centre of the distribution. In normal distribution 68% of data is present between -1 to +1 standard deviation, 95% of data is present between -2 to +2 standard deviation and 97.7% data present between -3 to +3 standard deviation."
   ]
  },
  {
   "cell_type": "code",
   "execution_count": null,
   "id": "87a7c2aa",
   "metadata": {},
   "outputs": [],
   "source": []
  },
  {
   "cell_type": "markdown",
   "id": "2d0de5d0",
   "metadata": {},
   "source": [
    "### Q) What are the methods to identify outliers?\n",
    "\n",
    "1) Box Plot\n",
    "\n",
    "\n",
    "2) Z-Score Method\n",
    "\n",
    "\n",
    "3) IQR Method"
   ]
  },
  {
   "cell_type": "code",
   "execution_count": null,
   "id": "b49aaa7a",
   "metadata": {},
   "outputs": [],
   "source": []
  },
  {
   "cell_type": "markdown",
   "id": "52502d89",
   "metadata": {},
   "source": [
    "### Q) What is difference between standarize and unstandardize coefficients?\n",
    "\n",
    "Standarize coefficients are calculate by taking standard deviation of values and unstandardize coefficeints are calculated by taking actual values of coefficients.\n",
    "\n",
    "**They represent the amount of change in the dependent variable that is associated with a one-unit change in the independent variable.**"
   ]
  },
  {
   "cell_type": "code",
   "execution_count": null,
   "id": "cdbeedfe",
   "metadata": {},
   "outputs": [],
   "source": []
  },
  {
   "cell_type": "markdown",
   "id": "cc7ad295",
   "metadata": {},
   "source": [
    "### Q) What is the difference between recall,sensitivity and true positive rate?\n",
    "\n",
    "Recall / True positive rate (TPR) is the percentage of positive labels that are correctly predicted as positive.\n",
    "\n",
    "\n",
    "Sensitivity is the percentage of actual positives that are correctly predicted as positive.\n",
    "\n",
    "\n",
    "**The value of recall, sensitivity, and true positive rate (TPR) can be the same in a model.**"
   ]
  },
  {
   "cell_type": "code",
   "execution_count": null,
   "id": "b91432ab",
   "metadata": {},
   "outputs": [],
   "source": []
  },
  {
   "cell_type": "markdown",
   "id": "cdf9341f",
   "metadata": {},
   "source": [
    "### Q) How do you handle suspicious and missing values in data?\n",
    "\n",
    "* First I checked for the unique values of a variable and then analyze what are the suspicious values and then handle it by various ways.\n",
    "\n",
    "\n",
    "* I also checked for missing values using df.isnull().sum() and then impute missing values by using various ways.\n",
    "\n",
    "\n"
   ]
  },
  {
   "cell_type": "code",
   "execution_count": null,
   "id": "ae53cb1f",
   "metadata": {},
   "outputs": [],
   "source": []
  },
  {
   "cell_type": "markdown",
   "id": "2d204543",
   "metadata": {},
   "source": [
    "### Q) What are some of the popular tools used in big data?\n",
    "\n",
    "1) Apache Spark\n",
    "\n",
    "\n",
    "2) Apache Hadoop"
   ]
  },
  {
   "cell_type": "code",
   "execution_count": null,
   "id": "ee9da273",
   "metadata": {},
   "outputs": [],
   "source": []
  },
  {
   "cell_type": "markdown",
   "id": "d1f8be83",
   "metadata": {},
   "source": [
    "### Q) What is an outlier?\n",
    "\n",
    "\n",
    "Outlier is a data point which is different from other values of distribution. Either it can be a very large or very small value as compared to other values of distribution."
   ]
  },
  {
   "cell_type": "code",
   "execution_count": null,
   "id": "c9640a77",
   "metadata": {},
   "outputs": [],
   "source": []
  },
  {
   "cell_type": "markdown",
   "id": "17afb564",
   "metadata": {},
   "source": [
    "### Q) How to treat outliers?\n",
    "\n",
    "1) Remove outliers\n",
    "\n",
    "\n",
    "2) Assign a new value to outliers"
   ]
  },
  {
   "cell_type": "code",
   "execution_count": null,
   "id": "bd84ed96",
   "metadata": {},
   "outputs": [],
   "source": []
  },
  {
   "cell_type": "markdown",
   "id": "d6e19586",
   "metadata": {},
   "source": [
    "### Q) What is data profiling?\n",
    "\n",
    "Data profiling is the process of analyzing and summarizing the characteristics of a dataset, including its structure, quality, and content, to gain insights and understanding about the data in a concise manner."
   ]
  },
  {
   "cell_type": "code",
   "execution_count": null,
   "id": "c21cfbf6",
   "metadata": {},
   "outputs": [],
   "source": []
  },
  {
   "cell_type": "markdown",
   "id": "baff4b55",
   "metadata": {},
   "source": [
    "### Q) What is the key difference between Data analysis and data mining?\n",
    "\n",
    "Data analysis is the process of data cleaning and transforming raw data into fully processed data gain insights from data.\n",
    "\n",
    "Data Mining is a subset of data analysis which focus on find the reltionship, trends and patterns of data and gain insights from it."
   ]
  },
  {
   "cell_type": "code",
   "execution_count": null,
   "id": "295795e3",
   "metadata": {},
   "outputs": [],
   "source": []
  },
  {
   "cell_type": "markdown",
   "id": "a1679ddb",
   "metadata": {},
   "source": [
    "### Q) Steps involved in data analysis?\n",
    "\n",
    "Steps involved in data analysis are:-\n",
    "\n",
    "1) understand the problem statement\n",
    "\n",
    "\n",
    "2) Data cleaning and preprocessing\n",
    "\n",
    "\n",
    "3) Data Modeling\n",
    "\n",
    "\n",
    "4) Data exploration\n",
    "\n",
    "\n",
    "5) Research and gain insights\n",
    "\n",
    "\n",
    "6) Draw conclusion and make report"
   ]
  },
  {
   "cell_type": "code",
   "execution_count": null,
   "id": "b6878ff8",
   "metadata": {},
   "outputs": [],
   "source": []
  },
  {
   "cell_type": "markdown",
   "id": "b8081e05",
   "metadata": {},
   "source": [
    "### Q) What are the best methods for data cleaning?\n",
    "\n",
    "1) Create a data cleaning plan\n",
    "\n",
    "\n",
    "2) Before working on data remove the duplicates\n",
    "\n",
    "\n",
    "3) Work accordingly data cleaning plan"
   ]
  },
  {
   "cell_type": "code",
   "execution_count": null,
   "id": "8d823eb8",
   "metadata": {},
   "outputs": [],
   "source": []
  },
  {
   "cell_type": "markdown",
   "id": "6fc9f74f",
   "metadata": {},
   "source": [
    "### Q) Explain descriptive, predictive and prescriptive analysis?\n",
    "\n",
    "**Descriptive analysis** is used to describe the data. It involves summarizing the data and identifying patterns. Descriptive analysis can be used to answer questions like \"What is the average age of our customers?\" or \"What are the most popular products in our store?\"\n",
    "\n",
    "\n",
    "**Predictive analysis** is used to predict future outcomes. It involves building models that can predict the likelihood of an event occurring. Predictive analysis can be used to answer questions like \"What is the probability that a customer will churn?\" or \"What is the most likely product that a customer will purchase?\"\n",
    "\n",
    "\n",
    "**Prescriptive analysis** is used to recommend actions. It involves using models to identify the best course of action. Prescriptive analysis can be used to answer questions like \"What marketing campaign should we run?\" or \"What pricing strategy should we use?\""
   ]
  },
  {
   "cell_type": "code",
   "execution_count": null,
   "id": "3efc1e4c",
   "metadata": {},
   "outputs": [],
   "source": []
  },
  {
   "cell_type": "markdown",
   "id": "4297de3e",
   "metadata": {},
   "source": [
    "### Q) What are the common problems that data analyst encounter during analysis?\n",
    "\n",
    "1) Handling duplicates and missing values.\n",
    "\n",
    "\n",
    "2) When working with multiple data sources it is very complex to merge data \n",
    "\n",
    "\n",
    "3) Insufficient amount of data: Sometimes data is insufficient to answer the research questions\n",
    "\n",
    "\n",
    "4) Making data secure while working with confidential data."
   ]
  },
  {
   "cell_type": "code",
   "execution_count": null,
   "id": "b1c28e92",
   "metadata": {},
   "outputs": [],
   "source": []
  },
  {
   "cell_type": "markdown",
   "id": "5567eb76",
   "metadata": {},
   "source": [
    "### Q) What is Collaborative Filtering?\n",
    "\n",
    "Collaborative Filtering is an algorithm used to create recommendation system mainly considering the behavioral data of a cutomer or a user."
   ]
  },
  {
   "cell_type": "code",
   "execution_count": null,
   "id": "fbc0fb88",
   "metadata": {},
   "outputs": [],
   "source": []
  },
  {
   "cell_type": "markdown",
   "id": "1c5392ff",
   "metadata": {},
   "source": [
    "### Q) What are the data validation techniques used in data analysis?\n",
    "\n",
    "In data analysis, various validation techniques are used to ensure the quality and reliability of the data. Some common validation techniques include:\n",
    "\n",
    "**Statistical validation:** Applying statistical tests or techniques to verify assumptions, check for significance, or assess the validity of analytical results.\n",
    "\n",
    "\n",
    "**Data outlier detection:** Identifying and handling data points that are significantly different from the rest of the dataset, which may be errors or require special attention.\n",
    "\n",
    "\n",
    "**Cross-validation:** Comparing and validating data from different sources or methods to ensure consistency and accuracy.\n",
    "\n",
    "\n",
    "**Data completeness check:** Verifying that all required data fields or variables have been populated for each record or observation.\n",
    "\n",
    "\n",
    "**Data accuracy check:** Comparing the data against known sources or standards to identify any discrepancies or errors."
   ]
  },
  {
   "cell_type": "code",
   "execution_count": null,
   "id": "2939ef09",
   "metadata": {},
   "outputs": [],
   "source": []
  },
  {
   "cell_type": "markdown",
   "id": "be4d6baf",
   "metadata": {},
   "source": [
    " ### Q) What is null hypotheis and alternative hypothesis?\n",
    "\n",
    "* Null hypothesis is a statement which states that population parameter is equal to sample statistic. Null hypothesis is denoted as H₀. (H not)\n",
    "\n",
    "EG: My assumption is splender plus gives more milege than pulsar, so null hypothesis statement would be splendor bike gives equal milegae to pulsar bike.\n",
    "\n",
    "\n",
    "* Alternate hypothesis is a statement  which states that population parameter is not equal to sample statistic or population paramter is greater than or lesser than sample statistic. Alternate Hypothesis is denoted as H₁ or Ha. \n",
    "\n",
    "Eg:- My assumption is splender plus bike gives more milege than pulsar bike. So, my statemnt would be this.\n",
    "\n",
    "\n",
    "Note:- Our aim is to find that whether the hypothesis test fails to reject null hypothesis or rejects null hypothesis.   "
   ]
  },
  {
   "cell_type": "code",
   "execution_count": null,
   "id": "8de06ca3",
   "metadata": {},
   "outputs": [],
   "source": []
  },
  {
   "cell_type": "markdown",
   "id": "708e5a97",
   "metadata": {},
   "source": [
    "### Q) What is Parametric Test and Non-Parametric Test?\n",
    "\n",
    "* In parametric tests we compare sample statistic with the population parameter and parametric test assumes that sample data should be normally distributed.\n",
    "\n",
    "\n",
    "* In non-parameteric tests we compare anything about the population on the basis of sample data like distribution of data and there is no such assumption in non-parametric test that data should be normally distributed."
   ]
  },
  {
   "cell_type": "code",
   "execution_count": null,
   "id": "5b02d819",
   "metadata": {},
   "outputs": [],
   "source": []
  },
  {
   "cell_type": "markdown",
   "id": "4deebd22",
   "metadata": {},
   "source": [
    "### Q) What are the steps involve in Hyposthesis?\n",
    "\n",
    "1) Understand the research question.\n",
    "\n",
    "\n",
    "2) Give statement about Null and alternate hypothesis.\n",
    "    \n",
    "    \n",
    "3) Check what are the measurements which are given about sample and population.\n",
    "        \n",
    "        \n",
    "4) According to that we choose the test.\n",
    "        \n",
    "        \n",
    "5) Perform the test.    \n",
    "    \n",
    "    \n",
    "6) Then after seeing the result we decide to reject null hypothesis or fail to reject null hypothesis."
   ]
  },
  {
   "cell_type": "code",
   "execution_count": null,
   "id": "027f3ca1",
   "metadata": {},
   "outputs": [],
   "source": []
  },
  {
   "cell_type": "markdown",
   "id": "f06d1a59",
   "metadata": {},
   "source": [
    "### Q) What are Z-Test, T-Test, F-Test and Chi-Square Test?\n",
    "\n",
    "**T-Test**\n",
    "\n",
    "\n",
    "* T-Test is a type of parametric test which is use to compare the mean of two groups.\n",
    "    \n",
    "    \n",
    "* We perform T-Test when standard deviation of population is not known or sample size is smaller than 30.\n",
    "\n",
    "\n",
    "**Z-Test**\n",
    "\n",
    "\n",
    "* Z-test is a type of parametric test which is use to compare the sample mean with the population mean. \n",
    "    \n",
    "    \n",
    "* We perform Z-Test when standard deviation of population is known or sample is greater than or equals to 30. Z-test is known as sigma known test.\n",
    "\n",
    "\n",
    "**Chi-Square Test**\n",
    "\n",
    "\n",
    "* Chi-square test is a type of non-parametric test used to determine if there is a relationship between two categorical variables or not. It compares the observed frequencies of each category with the expected frequencies assuming that there is no relationship between the variables.\n",
    "\n",
    "\n",
    "* In Chi-Square test we find the value of chi-square, if the chi-square value is greater than critical value we reject null hypothesis and if chi-square value is lesser than the critical we accept the null hypothesis.\n",
    "\n",
    "\n",
    "**ANOVA Test / F-Test**\n",
    "\n",
    "\n",
    "* Anova stands for Analysis of Variance.It is a type of parametric test which is used to compare the mean of two or more groups by analyzing the variance of each group and comparing it to the overall variance.\n",
    "\n",
    "\n",
    "|Test|\tType|\tWhen to use|\n",
    "|------|--------|-----------|\n",
    "|Z-test|\tParametric|\tKnown population standard deviation, large sample size|\n",
    "|T-test|\tParametric\t|Unknown population standard deviation, small sample size|\n",
    "|Chi-square test\t|Non-parametric\t|Categorical data, independence of variables|\n",
    "|ANOVA|\tParametric\t|Normal distribution, two or more groups|"
   ]
  },
  {
   "cell_type": "code",
   "execution_count": null,
   "id": "0baec1f2",
   "metadata": {},
   "outputs": [],
   "source": []
  }
 ],
 "metadata": {
  "kernelspec": {
   "display_name": "Python 3 (ipykernel)",
   "language": "python",
   "name": "python3"
  },
  "language_info": {
   "codemirror_mode": {
    "name": "ipython",
    "version": 3
   },
   "file_extension": ".py",
   "mimetype": "text/x-python",
   "name": "python",
   "nbconvert_exporter": "python",
   "pygments_lexer": "ipython3",
   "version": "3.9.13"
  }
 },
 "nbformat": 4,
 "nbformat_minor": 5
}
