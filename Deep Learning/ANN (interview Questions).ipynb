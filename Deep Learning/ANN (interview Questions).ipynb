{
 "cells": [
  {
   "cell_type": "markdown",
   "id": "d14d31ee",
   "metadata": {},
   "source": [
    "### Q) What are ANN (artificial neural networks)?\n",
    "\n",
    "Artificial neural networks are computational models inspired by the structure and function of the human brain. They consist of interconnected nodes (neurons) organized into layers, where each neuron processes and transfers information to other neuron."
   ]
  },
  {
   "cell_type": "code",
   "execution_count": null,
   "id": "9b45396b",
   "metadata": {},
   "outputs": [],
   "source": []
  },
  {
   "cell_type": "markdown",
   "id": "ca28bca4",
   "metadata": {},
   "source": [
    "### Q: What are the main components of an ANN?\n",
    "\n",
    "The main components are input layer, hidden layers (if any), output layer, weights, biases, and activation functions. Each layer contains neurons that process information and pass it to neurons of the next layer."
   ]
  },
  {
   "cell_type": "code",
   "execution_count": null,
   "id": "f2cf4c05",
   "metadata": {},
   "outputs": [],
   "source": []
  },
  {
   "cell_type": "markdown",
   "id": "dcadcfab",
   "metadata": {},
   "source": [
    "### Q: What is the role of weights in an ANN?\n",
    "\n",
    "Weights is the hyperparameter and represents the strength of connections between neurons. They are learnable parameters that the network adjusts during training to improve its performance.\n",
    "\n",
    "--------\n",
    "\n",
    "Weights are responsible for learning the patterns and relationships in the data during the training process. The weights determine the strength of the connections between neurons in different layers and play a crucial role in the overall performance and convergence of the neural network."
   ]
  },
  {
   "cell_type": "code",
   "execution_count": null,
   "id": "b2b5b4cb",
   "metadata": {},
   "outputs": [],
   "source": []
  },
  {
   "cell_type": "markdown",
   "id": "c0dab1dd",
   "metadata": {},
   "source": [
    "### Q) What is bias?\n",
    "\n",
    "\n",
    "\n",
    "Bias is a hyperparameter parameter in neural networks that is used to adjust the weights of the network. Every neuron has its own bias, which is added to the weighted sum of the inputs to the neuron and apply activation function over it to generate output."
   ]
  },
  {
   "cell_type": "code",
   "execution_count": null,
   "id": "b84ee241",
   "metadata": {},
   "outputs": [],
   "source": []
  },
  {
   "cell_type": "markdown",
   "id": "fc2dd0d6",
   "metadata": {},
   "source": [
    "### Q: What is the purpose of activation functions in neurons?\n",
    "\n",
    "* Activation functions introduce non-linearity to the ANN, allowing it to learn complex patterns. Examples include sigmoid, ReLU, and tanh.\n",
    "\n",
    "\n",
    "* Activation functions introduce non-linearity to the output of neurons, enabling the network to learn complex patterns in the data and make predictions for various tasks."
   ]
  },
  {
   "cell_type": "code",
   "execution_count": null,
   "id": "5086337e",
   "metadata": {},
   "outputs": [],
   "source": []
  },
  {
   "cell_type": "markdown",
   "id": "ce1057c9",
   "metadata": {},
   "source": [
    "### Q: How does backpropagation work in ANN?\n",
    "\n",
    "Backpropagation is an optimization algorithm used during training. It calculates the gradients of the loss function with respect to the network's weights and biases, allowing the network to update its parameters to minimize the error."
   ]
  },
  {
   "cell_type": "code",
   "execution_count": null,
   "id": "93622d32",
   "metadata": {},
   "outputs": [],
   "source": []
  },
  {
   "cell_type": "markdown",
   "id": "18f23216",
   "metadata": {},
   "source": [
    "### Q: How do you prevent overfitting in an ANN?\n",
    "To prevent overfitting, techniques like dropout, regularization, and early stopping can be applied. These methods help generalize the network's learning beyond the training data and improve its performance on new data."
   ]
  },
  {
   "cell_type": "code",
   "execution_count": null,
   "id": "928d04c7",
   "metadata": {},
   "outputs": [],
   "source": []
  },
  {
   "cell_type": "markdown",
   "id": "8f31a262",
   "metadata": {},
   "source": [
    "### Q: What is the role of the learning rate in training an ANN?\n",
    "\n",
    "The learning rate determines the step size at each iteration of gradient descent.\n",
    "\n",
    "-------------\n",
    "\n",
    "The learning rate determines the step size during parameter updates in the optimization process. It controls how much the weights and biases are adjusted after each iteration to find the optimal values.\n",
    "\n",
    "-------\n",
    "\n",
    "Learning rate is a parameter which is used to specify step size by which the model's weights are updated during each iteration of the optimization process."
   ]
  },
  {
   "cell_type": "code",
   "execution_count": null,
   "id": "d83bbe06",
   "metadata": {},
   "outputs": [],
   "source": []
  },
  {
   "cell_type": "markdown",
   "id": "ce6930b7",
   "metadata": {},
   "source": [
    "### Q) When we don't take learning rate in neural network then what will happen?\n",
    "\n",
    "Learning rate is a parameter which is used to specify step size by which the model's weights are updated during each iteration of the optimization process and if step size is not specify then loss will shuffle randomly and can't reaches to global minima.\n"
   ]
  },
  {
   "cell_type": "code",
   "execution_count": null,
   "id": "2b6947fd",
   "metadata": {},
   "outputs": [],
   "source": []
  },
  {
   "cell_type": "markdown",
   "id": "c103a0a5",
   "metadata": {},
   "source": [
    "### Q) What is happen we take learning rate as small, large and not specify it?\n",
    "\n",
    "\n",
    "**Small learning rate**: The network will take a long time to converge, and it may not be able to converge at all.\n",
    "\n",
    "\n",
    "**Large learning rate**: The network may not converge to a minimum loss value, and it may oscillate wildly.\n",
    "\n",
    "\n",
    "**No learning rate**: The network will not be able to learn from the training data, and the loss function will not decrease."
   ]
  },
  {
   "cell_type": "code",
   "execution_count": null,
   "id": "1adb57a2",
   "metadata": {},
   "outputs": [],
   "source": []
  },
  {
   "cell_type": "markdown",
   "id": "c99f0944",
   "metadata": {},
   "source": [
    "### Q: What is the difference between supervised and unsupervised learning in ANN?\n",
    "In supervised learning, the ANN is trained on labeled data with known outputs, while in unsupervised learning, the network learns from unlabeled data and identifies patterns without explicit output labels."
   ]
  },
  {
   "cell_type": "code",
   "execution_count": null,
   "id": "3b71ff99",
   "metadata": {},
   "outputs": [],
   "source": []
  },
  {
   "cell_type": "markdown",
   "id": "defc3f1d",
   "metadata": {},
   "source": [
    "### Q: How do you choose the architecture of an ANN?\n",
    "The architecture, such as the number of layers and neurons, depends on the complexity of the task, the amount of data available, and the computational resources. It is often determined through experimentation and validation."
   ]
  },
  {
   "cell_type": "code",
   "execution_count": null,
   "id": "60ac05a2",
   "metadata": {},
   "outputs": [],
   "source": []
  },
  {
   "cell_type": "markdown",
   "id": "879ea7e0",
   "metadata": {},
   "source": [
    "### Q) How many neurons are present in the output layer?\n",
    "\n",
    "* Number of nuerons in output is depends on problem statement. If we have regression and binary classification problem then only one neuron is present in output layer and when we have multi-class classification problem, number of neurons are depend on the number of categories or labels presents in dependent variable. Example: We have 8 categories, so number of neurons in output layer is 8.\n",
    "\n",
    "\n",
    "* Algorithm will compute the probability for each class. The class having high probability among all that class consider as output."
   ]
  },
  {
   "cell_type": "code",
   "execution_count": null,
   "id": "95ca14a2",
   "metadata": {},
   "outputs": [],
   "source": []
  },
  {
   "cell_type": "markdown",
   "id": "a4209ba6",
   "metadata": {},
   "source": [
    "### Q) What is the role of the input layer in ANN?\n",
    "\n",
    "The input layer receives and passes the input data to the subsequent layers for processing."
   ]
  },
  {
   "cell_type": "code",
   "execution_count": null,
   "id": "cda3adde",
   "metadata": {},
   "outputs": [],
   "source": []
  },
  {
   "cell_type": "markdown",
   "id": "4593d6c2",
   "metadata": {},
   "source": [
    "### Q) How do you determine the number of hidden layers in an ANN?\n",
    "\n",
    "The number of hidden layers is typically determined by experimentation and the complexity of the problem."
   ]
  },
  {
   "cell_type": "code",
   "execution_count": null,
   "id": "d4ec10c8",
   "metadata": {},
   "outputs": [],
   "source": []
  },
  {
   "cell_type": "markdown",
   "id": "d341ca67",
   "metadata": {},
   "source": [
    "### Q) What is the purpose of the output layer?\n",
    "\n",
    "The output layer provides the final results of the ANN's computations."
   ]
  },
  {
   "cell_type": "code",
   "execution_count": null,
   "id": "ca6e7397",
   "metadata": {},
   "outputs": [],
   "source": []
  },
  {
   "cell_type": "markdown",
   "id": "3dac6e25",
   "metadata": {},
   "source": [
    "### Q) How do you calculate the number of neurons in a hidden layer?\n",
    "\n",
    "The number of neurons in a hidden layer is usually set based on the problem's complexity and heuristics."
   ]
  },
  {
   "cell_type": "code",
   "execution_count": null,
   "id": "e64518e2",
   "metadata": {},
   "outputs": [],
   "source": []
  },
  {
   "cell_type": "markdown",
   "id": "57defd2e",
   "metadata": {},
   "source": [
    "### Q) What is gradient descent?\n",
    "\n",
    "Gradient descent is an optimization algorithm used to minimize the cost function by adjusting the weights."
   ]
  },
  {
   "cell_type": "code",
   "execution_count": null,
   "id": "a757e3f0",
   "metadata": {},
   "outputs": [],
   "source": []
  },
  {
   "cell_type": "markdown",
   "id": "b4170ff1",
   "metadata": {},
   "source": [
    "### Q) How can you prevent overfitting in an ANN?\n",
    "\n",
    "Techniques like early stopping, dropout, and regularization can help prevent overfitting."
   ]
  },
  {
   "cell_type": "code",
   "execution_count": null,
   "id": "6694b7bf",
   "metadata": {},
   "outputs": [],
   "source": []
  },
  {
   "cell_type": "markdown",
   "id": "86755806",
   "metadata": {},
   "source": [
    "### Q) What are the advantages of ANNs over traditional algorithms?\n",
    "\n",
    "ANNs can learn complex patterns and generalize well to new data, making them suitable for various tasks."
   ]
  },
  {
   "cell_type": "code",
   "execution_count": null,
   "id": "a30af858",
   "metadata": {},
   "outputs": [],
   "source": []
  },
  {
   "cell_type": "markdown",
   "id": "936c196f",
   "metadata": {},
   "source": [
    "### Q) What is the role of bias in ANNs?\n",
    "\n",
    "Bias allows ANNs to adjust the output even when input features are zero. Bias can prevent from died neuron problem."
   ]
  },
  {
   "cell_type": "code",
   "execution_count": null,
   "id": "1f8a59e0",
   "metadata": {},
   "outputs": [],
   "source": []
  },
  {
   "cell_type": "markdown",
   "id": "060c26b7",
   "metadata": {},
   "source": [
    "### Q) How do you evaluate the performance of an ANN?\n",
    "Performance evaluation can be done using metrics like accuracy, precision, recall, and F1-score, depending on the problem type."
   ]
  },
  {
   "cell_type": "code",
   "execution_count": null,
   "id": "4b4c3fa7",
   "metadata": {},
   "outputs": [],
   "source": []
  },
  {
   "cell_type": "markdown",
   "id": "f73def0e",
   "metadata": {},
   "source": [
    "### Q) How to increase accuracy of ANN Model?\n",
    "\n",
    "\n",
    "1) Increase number of hidden layers and neurons in each layer but use dropout regularization to prevent from overfitting.\n",
    "\n",
    "\n",
    "2) Increase number of epochs but use early stopping regularization to prevent from overfitting."
   ]
  },
  {
   "cell_type": "code",
   "execution_count": null,
   "id": "7f49198b",
   "metadata": {},
   "outputs": [],
   "source": []
  },
  {
   "cell_type": "code",
   "execution_count": null,
   "id": "cf117417",
   "metadata": {},
   "outputs": [],
   "source": []
  }
 ],
 "metadata": {
  "kernelspec": {
   "display_name": "Python 3 (ipykernel)",
   "language": "python",
   "name": "python3"
  },
  "language_info": {
   "codemirror_mode": {
    "name": "ipython",
    "version": 3
   },
   "file_extension": ".py",
   "mimetype": "text/x-python",
   "name": "python",
   "nbconvert_exporter": "python",
   "pygments_lexer": "ipython3",
   "version": "3.9.13"
  }
 },
 "nbformat": 4,
 "nbformat_minor": 5
}
