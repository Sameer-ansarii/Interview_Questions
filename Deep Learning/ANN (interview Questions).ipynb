{
 "cells": [
  {
   "cell_type": "markdown",
   "id": "d14d31ee",
   "metadata": {},
   "source": [
    "### Q) What are ANN (artificial neural networks)?\n",
    "\n",
    "* Artificial neural networks are computational models inspired by the structure and function of the human brain. \n",
    "\n",
    "\n",
    "* They consist of interconnected nodes (neurons) organized into layers, where each neuron processes and transfers information to other neuron. \n",
    "\n",
    "\n",
    "* ANN can learn from data to perform various tasks, such as classification, regression, and pattern recognition."
   ]
  },
  {
   "cell_type": "code",
   "execution_count": null,
   "id": "9b45396b",
   "metadata": {},
   "outputs": [],
   "source": []
  },
  {
   "cell_type": "markdown",
   "id": "ca28bca4",
   "metadata": {},
   "source": [
    "### Q: What are the main components of an ANN?\n",
    "\n",
    "The main components are input layer, hidden layers (if any), output layer, weights, biases, and activation functions. Each layer contains neurons that process information and pass it to neurons of the next layer."
   ]
  },
  {
   "cell_type": "code",
   "execution_count": null,
   "id": "cc5e9d4b",
   "metadata": {},
   "outputs": [],
   "source": []
  },
  {
   "cell_type": "markdown",
   "id": "15b8dfc3",
   "metadata": {},
   "source": [
    "### Q) What are the advantages and disadvantages of ANNs?\n",
    "\n",
    "ANNs have several **`advantages`** over other machine learning models, including:\n",
    "\n",
    "* They can learn complex patterns from data.\n",
    "\n",
    "\n",
    "* They are able to generalize to new data.\n",
    "\n",
    "\n",
    "* They can be used to solve a wide variety of problems.\n",
    "\n",
    "\n",
    "**`Disadvantages`**\n",
    "\n",
    "\n",
    "They can be computationally expensive to train.\n",
    "\n",
    "\n",
    "They can be difficult to interpret.\n",
    "\n",
    "\n",
    "They can be sensitive to noise in the data.\n",
    "\n"
   ]
  },
  {
   "cell_type": "code",
   "execution_count": null,
   "id": "0b18756c",
   "metadata": {},
   "outputs": [],
   "source": []
  },
  {
   "cell_type": "markdown",
   "id": "0e73c9b2",
   "metadata": {},
   "source": [
    "### Q) What are the different activation functions in an ANN?\n",
    "The different activation functions in an ANN are:\n",
    "\n",
    "**Sigmoid function**: This function is a non-linear function that is typically used in the output layer.\n",
    "\n",
    "\n",
    "**ReLU function**: This function is a non-linear function that is typically used in hidden layers.\n",
    "\n",
    "\n",
    "**Tanh function**: This function is a non-linear function that is typically used in hidden layers."
   ]
  },
  {
   "cell_type": "code",
   "execution_count": null,
   "id": "460dd137",
   "metadata": {},
   "outputs": [],
   "source": []
  },
  {
   "cell_type": "markdown",
   "id": "fa71bdb2",
   "metadata": {},
   "source": [
    "### Q) What is the difference between ANNs and machine learning?\n",
    "Machine learning is a field of computer science that deals with the development of algorithms that can learn from data. ANNs are a type of machine learning model that is inspired by the human brain."
   ]
  },
  {
   "cell_type": "code",
   "execution_count": null,
   "id": "b26bc137",
   "metadata": {},
   "outputs": [],
   "source": []
  },
  {
   "cell_type": "markdown",
   "id": "408a3a26",
   "metadata": {},
   "source": [
    "### Q) What are the different layers in an ANN?\n",
    "\n",
    "The different layers in an ANN are:\n",
    "\n",
    "**Input layer**: This layer is responsible for receiving the input data.\n",
    "\n",
    "\n",
    "**Hidden layers**: These layers are responsible for processing the input data and learning patterns.\n",
    "\n",
    "\n",
    "**Output layer**: This layer is responsible for generating the output data."
   ]
  },
  {
   "cell_type": "code",
   "execution_count": null,
   "id": "75a1302e",
   "metadata": {},
   "outputs": [],
   "source": []
  },
  {
   "cell_type": "markdown",
   "id": "3ed98387",
   "metadata": {},
   "source": [
    "### Q) What are the advantages of using ANNs in comparison to traditional machine learning algorithms?\n",
    "\n",
    "* In ANN we don't have to feature selection and and then choose from multiple models which perform better. ANN can automatically do feature selection internally.\n",
    "\n",
    "\n",
    "* ANN can handle large and complex data and perform better on large data as compare to ML.\n",
    "\n",
    "\n",
    "* ANN can also handle high dimensional data and their is no need of converting high dimensional data into PC's.\n",
    "\n",
    "\n",
    "* We can perform Computer Vision, natural language processing, and speech recognition tasks using neural networks."
   ]
  },
  {
   "cell_type": "code",
   "execution_count": null,
   "id": "44763a80",
   "metadata": {},
   "outputs": [],
   "source": []
  },
  {
   "cell_type": "markdown",
   "id": "f38d8bad",
   "metadata": {},
   "source": [
    "### Q) What is the difference between supervised and unsupervised learning in ANN?\n",
    "\n",
    "Supervised learning involves providing labeled training data (input and corresponding output), while unsupervised learning deals with unlabeled data, and the network learns to find patterns or representations in the data."
   ]
  },
  {
   "cell_type": "code",
   "execution_count": null,
   "id": "5a283486",
   "metadata": {},
   "outputs": [],
   "source": []
  },
  {
   "cell_type": "markdown",
   "id": "e9681a2f",
   "metadata": {},
   "source": [
    "### Q) How do you handle imbalanced datasets in ANN?\n",
    "Techniques like oversampling, undersampling, and using class weights can be used to handle imbalanced datasets in ANN."
   ]
  },
  {
   "cell_type": "code",
   "execution_count": null,
   "id": "35070671",
   "metadata": {},
   "outputs": [],
   "source": []
  },
  {
   "cell_type": "markdown",
   "id": "db3b3447",
   "metadata": {},
   "source": [
    "### Q) Can ANNs be used for regression tasks?\n",
    "\n",
    "\n",
    "Yes, ANNs can be used for regression tasks by adjusting the output layer and using appropriate loss functions like mean squared error (MSE)."
   ]
  },
  {
   "cell_type": "code",
   "execution_count": null,
   "id": "59eec117",
   "metadata": {},
   "outputs": [],
   "source": []
  },
  {
   "cell_type": "markdown",
   "id": "c5b49d6a",
   "metadata": {},
   "source": [
    "### Q) Batch normalization is used ANN and when with code and best practice to apply batch normalization??\n",
    "\n",
    "Yes, batch normalization can be used in Artificial Neural Networks (ANNs). In fact, batch normalization was originally introduced for feedforward ANNs and has since been widely adopted in various neural network architectures.\n",
    "\n",
    "**Steps**:-\n",
    "\n",
    "1) Input data (features) are fed into the layer.\n",
    "\n",
    "\n",
    "2) The layer applies a linear transformation (weights and biases) to the input data.\n",
    "\n",
    "\n",
    "3) Batch Normalization is applied.\n",
    "\n",
    "\n",
    "4) The output of the linear transformation is passed through an activation function, producing the activations of the layer.\n",
    "\n",
    "**`Best Practice`**:-\n",
    "\n",
    "**Apply Batch Normalization after Every Hidden Layer (or Almost All)**\n",
    "\n",
    "**Avoid Batch Normalization in the Output Layer**"
   ]
  },
  {
   "cell_type": "code",
   "execution_count": null,
   "id": "373a520d",
   "metadata": {},
   "outputs": [],
   "source": [
    "import tensorflow as tf\n",
    "\n",
    "model = tf.keras.Sequential([\n",
    "    tf.keras.layers.Dense(128, input_shape=(input_dim,)),\n",
    "    tf.keras.layers.BatchNormalization(), \n",
    "    tf.keras.layers.Activation('relu'),    \n",
    "    \n",
    "    tf.keras.layers.Dense(64),\n",
    "    tf.keras.layers.BatchNormalization(), \n",
    "    tf.keras.layers.Activation('relu'),\n",
    "    \n",
    "    tf.keras.layers.Dense(output_dim, activation='softmax')  \n",
    "])\n",
    "\n",
    "\n",
    "model.compile(loss='categorical_crossentropy', optimizer='adam', metrics=['accuracy'])\n",
    "\n",
    "\n",
    "model.fit(x_train, y_train, batch_size=batch_size, epochs=num_epochs, validation_data=(x_val, y_val))"
   ]
  },
  {
   "cell_type": "code",
   "execution_count": null,
   "id": "79cdba24",
   "metadata": {},
   "outputs": [],
   "source": []
  },
  {
   "cell_type": "markdown",
   "id": "d7a7749b",
   "metadata": {},
   "source": [
    "### Q) What is class weight technique to deal imbalance dataset problem?\n",
    "\n",
    "\n",
    "Class weights assign higher weights to the minority class and lower weights to the majority class during the training process. By doing so, the model gives more importance to the minority class, effectively compensating for its lower representation in the dataset. This helps in making the model more sensitive to the minority class and improves its ability to correctly classify instances of the minority class."
   ]
  },
  {
   "cell_type": "code",
   "execution_count": null,
   "id": "6de843c9",
   "metadata": {},
   "outputs": [],
   "source": []
  },
  {
   "cell_type": "markdown",
   "id": "aa85319a",
   "metadata": {},
   "source": [
    "### Q) Explain the concept of transfer learning in ANN.\n",
    "\n",
    "\n",
    "Transfer learning involves using pre-trained neural network models and adapting them to new tasks. By reusing learned features, transfer learning can significantly reduce the training time and data requirements for new tasks."
   ]
  },
  {
   "cell_type": "code",
   "execution_count": null,
   "id": "c933fa9e",
   "metadata": {},
   "outputs": [],
   "source": []
  },
  {
   "cell_type": "markdown",
   "id": "79481840",
   "metadata": {},
   "source": [
    "### Q) Can ANNs handle missing data?\n",
    "\n",
    "ANNs can handle missing data by imputing or replacing missing values with techniques like mean imputation or using autoencoders for feature learning."
   ]
  },
  {
   "cell_type": "code",
   "execution_count": null,
   "id": "8edcc1a7",
   "metadata": {},
   "outputs": [],
   "source": []
  },
  {
   "cell_type": "markdown",
   "id": "c1d2b391",
   "metadata": {},
   "source": [
    "### Q) Explain the concept of weight initialization in ANN.\n",
    "\n",
    "\n",
    "Weight initialization refers to setting initial values for the weights in the network. Proper weight initialization is crucial to prevent issues like vanishing or exploding gradients during training. Common initialization methods include random initialization and Xavier/Glorot initialization."
   ]
  },
  {
   "cell_type": "code",
   "execution_count": null,
   "id": "02190483",
   "metadata": {},
   "outputs": [],
   "source": []
  },
  {
   "cell_type": "markdown",
   "id": "dcadcfab",
   "metadata": {},
   "source": [
    "### Q: What is the role of weights in an ANN?\n",
    "\n",
    "Weights is the hyperparameter and represents the strength of connections between neurons. They are learnable parameters that the network adjusts during training to improve its performance.\n",
    "\n",
    "--------\n",
    "\n",
    "Weights are responsible for learning the patterns and relationships in the data during the training process. The weights determine the strength of the connections between neurons in different layers and play a crucial role in the overall performance and convergence of the neural network."
   ]
  },
  {
   "cell_type": "code",
   "execution_count": null,
   "id": "e4c206c3",
   "metadata": {},
   "outputs": [],
   "source": []
  },
  {
   "cell_type": "markdown",
   "id": "c0dab1dd",
   "metadata": {},
   "source": [
    "### Q) What is bias?\n",
    "\n",
    "\n",
    "\n",
    "Bias is a hyperparameter parameter in neural networks that is used to adjust the weights of the network. Every neuron has its own bias, which is added to the weighted sum of the inputs to the neuron and apply activation function over it to generate output."
   ]
  },
  {
   "cell_type": "code",
   "execution_count": null,
   "id": "b84ee241",
   "metadata": {},
   "outputs": [],
   "source": []
  },
  {
   "cell_type": "markdown",
   "id": "fc2dd0d6",
   "metadata": {},
   "source": [
    "### Q: What is the purpose of activation functions in neurons?\n",
    "\n",
    "* Activation functions introduce non-linearity to the output of each neuron. IIt allows the network to learn complex patterns and make decisions based on the input data. Common activation functions include ReLU, Sigmoid, and Tanh.\n",
    "\n"
   ]
  },
  {
   "cell_type": "code",
   "execution_count": null,
   "id": "2d6dc09c",
   "metadata": {},
   "outputs": [],
   "source": []
  },
  {
   "cell_type": "markdown",
   "id": "597ee7d2",
   "metadata": {},
   "source": [
    "### Q) What is Linear Activation Function?\n",
    "For regression tasks, a common choice for the output layer is the linear activation function, which means the output of the neuron is the weighted sum of the inputs without any non-linearity applied. In this case, the output directly represents the predicted continuous values."
   ]
  },
  {
   "cell_type": "code",
   "execution_count": null,
   "id": "df36890c",
   "metadata": {},
   "outputs": [],
   "source": []
  },
  {
   "cell_type": "markdown",
   "id": "4c5994a0",
   "metadata": {},
   "source": [
    "### Q) What is the role of the activation function in the output layer?\n",
    "The activation function in the output layer is selected based on the nature of the problem. For binary classification, a sigmoid function is commonly used, while for multi-class classification, a softmax function is often used and for regression problem linear activation function is used."
   ]
  },
  {
   "cell_type": "code",
   "execution_count": null,
   "id": "9cedc5c6",
   "metadata": {},
   "outputs": [],
   "source": []
  },
  {
   "cell_type": "markdown",
   "id": "6094c5f9",
   "metadata": {},
   "source": [
    "### Q) What is batch normalization?\n",
    "\n",
    "Batch normalization is a technique used in neural networks to improve the training process and the performance of the model. It involves normalizing the output before applying the activation function. During training, batch normalization is applied on all mini-batches (subsets) of data.\n",
    "\n",
    "The normalization process ensures that the activations (the sum of weights and biases) within each mini-batch have a mean of zero and a standard deviation of one. This normalization is beneficial for the training process as it stabilizes gradients and helps the model learn more effectively.\n",
    "\n",
    "By normalizing the activations within each mini-batch, batch normalization allows the model to converge faster during training and can lead to an overall improvement in performance. It is an important technique in deep learning for enhancing the training process and achieving better results."
   ]
  },
  {
   "cell_type": "code",
   "execution_count": null,
   "id": "49e731cb",
   "metadata": {},
   "outputs": [],
   "source": []
  },
  {
   "cell_type": "markdown",
   "id": "ce1057c9",
   "metadata": {},
   "source": [
    "### Q: How does backpropagation work in ANN?\n",
    "\n",
    "Backpropagation is an optimization algorithm used during training. It is a process in which we update the weights of neurons by calculating the value of gradients with respect to weights and updates the weights to optimize the loss.\n",
    "\n",
    "--------\n",
    "\n",
    "\n",
    "Backpropagation is an algorithm that is used to train ANNs. Backpropagation works by calculating the error between the predicted output and the actual output, and then using this error to update the weights of the ANN."
   ]
  },
  {
   "cell_type": "markdown",
   "id": "2ab1ce47",
   "metadata": {},
   "source": []
  },
  {
   "cell_type": "markdown",
   "id": "18f23216",
   "metadata": {},
   "source": [
    "### Q: How do you prevent overfitting in an ANN?\n",
    "To prevent overfitting, techniques like dropout, regularization, and early stopping can be applied. These methods help generalize the network's learning beyond the training data and improve its performance on new data."
   ]
  },
  {
   "cell_type": "code",
   "execution_count": null,
   "id": "928d04c7",
   "metadata": {},
   "outputs": [],
   "source": []
  },
  {
   "cell_type": "markdown",
   "id": "8f31a262",
   "metadata": {},
   "source": [
    "### Q: What is the role of the learning rate in training an ANN?\n",
    "\n",
    "The learning rate determines the step size in gradient descent during weight updates. A higher learning rate can lead to faster convergence (minimize loss faster) but may overshoot the optimal solution (miss the global minima). A lower learning rate may take longer to converge (take more time and epochs to reach at global minima) but can be more accurate."
   ]
  },
  {
   "cell_type": "code",
   "execution_count": null,
   "id": "f228b10e",
   "metadata": {},
   "outputs": [],
   "source": []
  },
  {
   "cell_type": "markdown",
   "id": "ce6930b7",
   "metadata": {},
   "source": [
    "### Q) When we don't take learning rate in neural network then what will happen?\n",
    "\n",
    "Learning rate is a parameter which is used to specify step size by which the model's weights are updated during each iteration of the optimization process and if step size is not specify then loss will shuffle randomly and can't reaches to global minima.\n"
   ]
  },
  {
   "cell_type": "code",
   "execution_count": null,
   "id": "2b6947fd",
   "metadata": {},
   "outputs": [],
   "source": []
  },
  {
   "cell_type": "markdown",
   "id": "c103a0a5",
   "metadata": {},
   "source": [
    "### Q) What is happen we take learning rate as small, large and not specify it?\n",
    "\n",
    "\n",
    "**Small learning rate**: The network will take a long time to converge, and it may not be able to converge at all.\n",
    "\n",
    "\n",
    "**Large learning rate**: The network may not converge to a minimum loss value, and it may oscillate wildly.\n",
    "\n",
    "\n",
    "**No learning rate**: The network will not be able to learn from the training data, and the loss function will not decrease."
   ]
  },
  {
   "cell_type": "code",
   "execution_count": null,
   "id": "1adb57a2",
   "metadata": {},
   "outputs": [],
   "source": []
  },
  {
   "cell_type": "markdown",
   "id": "c99f0944",
   "metadata": {},
   "source": [
    "### Q: What is the difference between supervised and unsupervised learning in ANN?\n",
    "In supervised learning, the ANN is trained on labeled data with known outputs, while in unsupervised learning, the network learns from unlabeled data and identifies patterns without explicit output labels."
   ]
  },
  {
   "cell_type": "code",
   "execution_count": null,
   "id": "3b71ff99",
   "metadata": {},
   "outputs": [],
   "source": []
  },
  {
   "cell_type": "markdown",
   "id": "defc3f1d",
   "metadata": {},
   "source": [
    "### Q: How do you choose the architecture of an ANN?\n",
    "The architecture, such as the number of layers and neurons, depends on the complexity of the task, the amount of data available, and the computational resources. It is often determined through experimentation and validation."
   ]
  },
  {
   "cell_type": "code",
   "execution_count": null,
   "id": "60ac05a2",
   "metadata": {},
   "outputs": [],
   "source": []
  },
  {
   "cell_type": "markdown",
   "id": "879ea7e0",
   "metadata": {},
   "source": [
    "### Q) How many neurons are present in the output layer?\n",
    "\n",
    "* Number of nuerons in output is depends on problem statement. If we have regression and binary classification problem then only one neuron is present in output layer and when we have multi-class classification problem, number of neurons are depend on the number of categories or labels presents in dependent variable. Example: We have 8 categories, so number of neurons in output layer is 8.\n",
    "\n",
    "\n",
    "* Algorithm will compute the probability for each class. The class having high probability among all that class consider as output."
   ]
  },
  {
   "cell_type": "code",
   "execution_count": null,
   "id": "4b6777b0",
   "metadata": {},
   "outputs": [],
   "source": []
  },
  {
   "cell_type": "markdown",
   "id": "8a876a0c",
   "metadata": {},
   "source": [
    "### Q) What is regularization in ANN, and why is it used?\n",
    "\n",
    "Regularization techniques, such as L1 and L2 regularization, used to reduce or prevent overfitting in neural network by adding a penalty term to the loss function during training process, which helps neural network to learn effectively. Regularization penalize large weight values into small weight values. \n",
    "\n",
    "\n",
    "* **L1 Regularization (Lasso)**: In L1 regularization, the penalty term is indeed proportional to the absolute values of the weights. Mathematically, the L1 regularization term is represented as the sum of the absolute values of all the weights in the network, multiplied by a hyperparameter (usually denoted as λ or alpha) that controls the strength of the regularization:\n",
    "\n",
    "L1 Regularization Term = λ * Σ|w|\n",
    "\n",
    "\n",
    "* **L2 Regularization (Ridge)**: In L2 regularization, the penalty term is indeed proportional to the square of the weights. The L2 regularization term is represented as the sum of the squares of all the weights in the network, multiplied by the regularization strength (λ or alpha):\n",
    "\n",
    "L2 Regularization Term = λ * Σ(w^2)\n",
    "\n",
    "\n",
    "**In code regularization is applied to hidden and output layer, same as dropout.**"
   ]
  },
  {
   "cell_type": "code",
   "execution_count": null,
   "id": "95ca14a2",
   "metadata": {},
   "outputs": [],
   "source": []
  },
  {
   "cell_type": "markdown",
   "id": "e135e1f8",
   "metadata": {},
   "source": [
    "### Q) What is Dropout?\n",
    "\n",
    "Dropout is a regularization technique where neurons are randomly deactivated during training. This prevents the network from relying too much on specific neurons and improves generalization."
   ]
  },
  {
   "cell_type": "code",
   "execution_count": null,
   "id": "1cecfb83",
   "metadata": {},
   "outputs": [],
   "source": []
  },
  {
   "cell_type": "markdown",
   "id": "a4209ba6",
   "metadata": {},
   "source": [
    "### Q) What is the role of the input layer in ANN?\n",
    "\n",
    "The input layer receives and passes the input data to the subsequent layers for processing."
   ]
  },
  {
   "cell_type": "code",
   "execution_count": null,
   "id": "cda3adde",
   "metadata": {},
   "outputs": [],
   "source": []
  },
  {
   "cell_type": "markdown",
   "id": "4593d6c2",
   "metadata": {},
   "source": [
    "### Q) How do you determine the number of hidden layers in an ANN?\n",
    "\n",
    "The number of hidden layers is typically determined by experimentation and the complexity of the problem."
   ]
  },
  {
   "cell_type": "code",
   "execution_count": null,
   "id": "d4ec10c8",
   "metadata": {},
   "outputs": [],
   "source": []
  },
  {
   "cell_type": "markdown",
   "id": "d341ca67",
   "metadata": {},
   "source": [
    "### Q) What is the purpose of the output layer?\n",
    "\n",
    "The output layer provides the final results of the ANN's computations."
   ]
  },
  {
   "cell_type": "code",
   "execution_count": null,
   "id": "ca6e7397",
   "metadata": {},
   "outputs": [],
   "source": []
  },
  {
   "cell_type": "markdown",
   "id": "3dac6e25",
   "metadata": {},
   "source": [
    "### Q) How do you calculate the number of neurons in a hidden layer?\n",
    "\n",
    "The number of neurons in a hidden layer is usually set based on the problem's complexity and heuristics."
   ]
  },
  {
   "cell_type": "code",
   "execution_count": null,
   "id": "04723477",
   "metadata": {},
   "outputs": [],
   "source": []
  },
  {
   "cell_type": "markdown",
   "id": "2b3593dd",
   "metadata": {},
   "source": [
    "### Q) What is early stopping?\n",
    "* Early stopping is a technique that is used to prevent overfitting. Early stopping works by stopping the training of the ANN early, before it has had a chance to overfit the training data.\n",
    "\n",
    "\n",
    "* Early stopping is a technique used in machine learning and deep learning to prevent overfitting and improve model generalization. It involves monitoring the performance of the model on a validation dataset during training and stopping the training process when the performance on the validation data starts to degrade."
   ]
  },
  {
   "cell_type": "code",
   "execution_count": null,
   "id": "25698a8a",
   "metadata": {},
   "outputs": [],
   "source": []
  },
  {
   "cell_type": "markdown",
   "id": "57defd2e",
   "metadata": {},
   "source": [
    "### Q) What is gradient descent?\n",
    "\n",
    "Gradient descent is an optimization algorithm used to minimize the cost function by adjusting the weights."
   ]
  },
  {
   "cell_type": "code",
   "execution_count": null,
   "id": "a757e3f0",
   "metadata": {},
   "outputs": [],
   "source": []
  },
  {
   "cell_type": "markdown",
   "id": "b4170ff1",
   "metadata": {},
   "source": [
    "### Q) How can you prevent overfitting in an ANN?\n",
    "\n",
    "Techniques like early stopping, dropout, and regularization can help prevent overfitting."
   ]
  },
  {
   "cell_type": "code",
   "execution_count": null,
   "id": "6694b7bf",
   "metadata": {},
   "outputs": [],
   "source": []
  },
  {
   "cell_type": "markdown",
   "id": "86755806",
   "metadata": {},
   "source": [
    "### Q) What are the advantages of ANNs over traditional algorithms?\n",
    "\n",
    "ANNs can learn complex patterns and generalize well to new data, making them suitable for various tasks."
   ]
  },
  {
   "cell_type": "code",
   "execution_count": null,
   "id": "a30af858",
   "metadata": {},
   "outputs": [],
   "source": []
  },
  {
   "cell_type": "markdown",
   "id": "936c196f",
   "metadata": {},
   "source": [
    "### Q) What is the role of bias in ANNs?\n",
    "\n",
    "Bias allows ANNs to adjust the output even when input features are zero. Bias can prevent from died neuron problem."
   ]
  },
  {
   "cell_type": "code",
   "execution_count": null,
   "id": "1f8a59e0",
   "metadata": {},
   "outputs": [],
   "source": []
  },
  {
   "cell_type": "markdown",
   "id": "060c26b7",
   "metadata": {},
   "source": [
    "### Q) How do you evaluate the performance of an ANN?\n",
    "Performance evaluation can be done using metrics like accuracy, precision, recall, and F1-score, depending on the problem type."
   ]
  },
  {
   "cell_type": "code",
   "execution_count": null,
   "id": "4b4c3fa7",
   "metadata": {},
   "outputs": [],
   "source": []
  },
  {
   "cell_type": "markdown",
   "id": "f73def0e",
   "metadata": {},
   "source": [
    "### Q) How to increase accuracy of ANN Model?\n",
    "\n",
    "\n",
    "1) Increase number of hidden layers and neurons in each layer but use dropout regularization to prevent from overfitting.\n",
    "\n",
    "\n",
    "2) Increase number of epochs but use early stopping regularization to prevent from overfitting."
   ]
  },
  {
   "cell_type": "code",
   "execution_count": null,
   "id": "7f49198b",
   "metadata": {},
   "outputs": [],
   "source": []
  }
 ],
 "metadata": {
  "kernelspec": {
   "display_name": "Python 3 (ipykernel)",
   "language": "python",
   "name": "python3"
  },
  "language_info": {
   "codemirror_mode": {
    "name": "ipython",
    "version": 3
   },
   "file_extension": ".py",
   "mimetype": "text/x-python",
   "name": "python",
   "nbconvert_exporter": "python",
   "pygments_lexer": "ipython3",
   "version": "3.9.13"
  }
 },
 "nbformat": 4,
 "nbformat_minor": 5
}
