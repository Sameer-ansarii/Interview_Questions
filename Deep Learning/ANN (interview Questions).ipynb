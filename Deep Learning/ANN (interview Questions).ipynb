{
 "cells": [
  {
   "cell_type": "markdown",
   "id": "d14d31ee",
   "metadata": {},
   "source": [
    "### Q) What are ANN (artificial neural networks)?\n",
    "\n",
    "Artificial neural networks are computational models inspired by the structure and function of the human brain. They consist of interconnected nodes (neurons) organized into layers, where each neuron processes and transfers information to other neuron."
   ]
  },
  {
   "cell_type": "code",
   "execution_count": null,
   "id": "9b45396b",
   "metadata": {},
   "outputs": [],
   "source": []
  },
  {
   "cell_type": "markdown",
   "id": "ca28bca4",
   "metadata": {},
   "source": [
    "### Q: What are the main components of an ANN?\n",
    "\n",
    "The main components of an ANN are the input layer, hidden layers (if present), and the output layer. Each layer contains neurons that process information and pass it to the next layer."
   ]
  },
  {
   "cell_type": "code",
   "execution_count": null,
   "id": "f2cf4c05",
   "metadata": {},
   "outputs": [],
   "source": []
  },
  {
   "cell_type": "markdown",
   "id": "dcadcfab",
   "metadata": {},
   "source": [
    "### Q: What is the role of weights in an ANN?\n",
    "\n",
    "Weights in an ANN represent the strength of connections between neurons. They are learnable parameters that the network adjusts during training to improve its performance."
   ]
  },
  {
   "cell_type": "code",
   "execution_count": null,
   "id": "b84ee241",
   "metadata": {},
   "outputs": [],
   "source": []
  },
  {
   "cell_type": "markdown",
   "id": "fc2dd0d6",
   "metadata": {},
   "source": [
    "### Q: What is the purpose of activation functions in neurons?\n",
    "\n",
    "Activation functions introduce non-linearity to the output of neurons, enabling the network to learn complex patterns in the data and make predictions for various tasks."
   ]
  },
  {
   "cell_type": "code",
   "execution_count": null,
   "id": "5086337e",
   "metadata": {},
   "outputs": [],
   "source": []
  },
  {
   "cell_type": "markdown",
   "id": "ce1057c9",
   "metadata": {},
   "source": [
    "### Q: How does backpropagation work in ANN?\n",
    "\n",
    "Backpropagation is an optimization algorithm used during training. It calculates the gradients of the loss function with respect to the network's weights and biases, allowing the network to update its parameters to minimize the error."
   ]
  },
  {
   "cell_type": "code",
   "execution_count": null,
   "id": "93622d32",
   "metadata": {},
   "outputs": [],
   "source": []
  },
  {
   "cell_type": "markdown",
   "id": "18f23216",
   "metadata": {},
   "source": [
    "### Q: How do you prevent overfitting in an ANN?\n",
    "To prevent overfitting, techniques like dropout, regularization, and early stopping can be applied. These methods help generalize the network's learning beyond the training data and improve its performance on new data."
   ]
  },
  {
   "cell_type": "code",
   "execution_count": null,
   "id": "928d04c7",
   "metadata": {},
   "outputs": [],
   "source": []
  },
  {
   "cell_type": "markdown",
   "id": "8f31a262",
   "metadata": {},
   "source": [
    "### Q: What is the role of the learning rate in training an ANN?\n",
    "The learning rate determines the step size during parameter updates in the optimization process. It controls how much the weights and biases are adjusted after each iteration to find the optimal values."
   ]
  },
  {
   "cell_type": "code",
   "execution_count": null,
   "id": "d83bbe06",
   "metadata": {},
   "outputs": [],
   "source": []
  },
  {
   "cell_type": "markdown",
   "id": "c99f0944",
   "metadata": {},
   "source": [
    "### Q: What is the difference between supervised and unsupervised learning in ANN?\n",
    "In supervised learning, the ANN is trained on labeled data with known outputs, while in unsupervised learning, the network learns from unlabeled data and identifies patterns without explicit output labels."
   ]
  },
  {
   "cell_type": "code",
   "execution_count": null,
   "id": "3b71ff99",
   "metadata": {},
   "outputs": [],
   "source": []
  },
  {
   "cell_type": "markdown",
   "id": "defc3f1d",
   "metadata": {},
   "source": [
    "### Q: How do you choose the architecture of an ANN?\n",
    "The architecture, such as the number of layers and neurons, depends on the complexity of the task, the amount of data available, and the computational resources. It is often determined through experimentation and validation."
   ]
  },
  {
   "cell_type": "code",
   "execution_count": null,
   "id": "60ac05a2",
   "metadata": {},
   "outputs": [],
   "source": []
  }
 ],
 "metadata": {
  "kernelspec": {
   "display_name": "Python 3 (ipykernel)",
   "language": "python",
   "name": "python3"
  },
  "language_info": {
   "codemirror_mode": {
    "name": "ipython",
    "version": 3
   },
   "file_extension": ".py",
   "mimetype": "text/x-python",
   "name": "python",
   "nbconvert_exporter": "python",
   "pygments_lexer": "ipython3",
   "version": "3.9.13"
  }
 },
 "nbformat": 4,
 "nbformat_minor": 5
}
