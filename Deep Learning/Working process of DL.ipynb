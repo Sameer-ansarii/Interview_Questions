{
 "cells": [
  {
   "cell_type": "markdown",
   "id": "858c6492",
   "metadata": {},
   "source": [
    "### Which weight initializer is used when?\n",
    "\n",
    "* **Xavier/Glorot Initialization**: Used when we use Sigmoid or Tanh Activation Function.\n",
    "\n",
    "\n",
    "* **He Initialization**: Used with ReLU.\n",
    "\n",
    "We have 2 types of both normal and uniform. Perform trail and test and then select better one."
   ]
  },
  {
   "cell_type": "code",
   "execution_count": null,
   "id": "bd1278ef",
   "metadata": {},
   "outputs": [],
   "source": []
  },
  {
   "cell_type": "markdown",
   "id": "82b541e5",
   "metadata": {},
   "source": [
    "### Which Activation Function is to apply in which layer and when?\n",
    "\n",
    "* **Regression**: ReLU + Linear\n",
    "\n",
    "\n",
    "* **Binary Classification**: ReLU + Sigmoid\n",
    "\n",
    "\n",
    "* **Multi-Class Classfication**: ReLU + Softmax\n",
    "\n",
    "\n",
    "**`Note`**: There is no such rule that always always these comobinations. Perform trail and error to choose better combination than this."
   ]
  },
  {
   "cell_type": "code",
   "execution_count": null,
   "id": "d468a806",
   "metadata": {},
   "outputs": [],
   "source": []
  },
  {
   "cell_type": "markdown",
   "id": "90c4ffaf",
   "metadata": {},
   "source": [
    "### Which optimizer is best in which case?\n",
    "\n",
    "90% time we are using 'Adam' Optimizer in all problem statements. Perform trail and error to choose better optimizer."
   ]
  },
  {
   "cell_type": "code",
   "execution_count": null,
   "id": "a492f301",
   "metadata": {},
   "outputs": [],
   "source": []
  },
  {
   "cell_type": "markdown",
   "id": "bfab0ca1",
   "metadata": {},
   "source": [
    "### Q) How to specify number of neuron in each layer?\n",
    "\n",
    "**Input Layer**: Number of neurons are equal to number of independent feataures in dataset.\n",
    "\n",
    "\n",
    "**Hidden Layer**: In first hidden layer number of neurons are equal to neurons in input layer and second hidden layer neurons are half of first hidden layer and like this. But their is no such rule that always apply this technique perform trail and error also.\n",
    "\n",
    "\n",
    "**Output Layer**: In case of regression and binary classification number of neurons in output layer is one and in case of multi-class classification and image data number of neurons in output layer is depennd on number of categories in dependent variabl."
   ]
  },
  {
   "cell_type": "code",
   "execution_count": null,
   "id": "6d09fa37",
   "metadata": {},
   "outputs": [],
   "source": []
  },
  {
   "cell_type": "markdown",
   "id": "0fdf2193",
   "metadata": {},
   "source": [
    "### Calculate Loss by which loss function?\n",
    "\n",
    "* **Regression**: MSE, MAE, Huber Loss\n",
    "    \n",
    "    \n",
    "* **Binary Classification**: Binary Cross Entropy\n",
    "\n",
    "\n",
    "* **Multi-Class Classfication**: Categorical Loss Entopy\n",
    "\n",
    "\n",
    "* **Image Data**: Sparse Categorical Entopy\n",
    "\n"
   ]
  },
  {
   "cell_type": "code",
   "execution_count": null,
   "id": "d6f046f9",
   "metadata": {},
   "outputs": [],
   "source": []
  },
  {
   "cell_type": "markdown",
   "id": "61b58577",
   "metadata": {},
   "source": [
    "### `Notes`:\n",
    "\n",
    "* While working on image data we first scale matrix of data. We can scale manually and we have libraries also then we convert matrix of image data into 1D array by using .reshape function of numpy and then build neural network of it.\n",
    "\n",
    "\n",
    "* After neural network is build we evaulate the performance of neural network on same metrics we use in ML."
   ]
  },
  {
   "cell_type": "code",
   "execution_count": null,
   "id": "5ca2a312",
   "metadata": {},
   "outputs": [],
   "source": []
  }
 ],
 "metadata": {
  "kernelspec": {
   "display_name": "Python 3 (ipykernel)",
   "language": "python",
   "name": "python3"
  },
  "language_info": {
   "codemirror_mode": {
    "name": "ipython",
    "version": 3
   },
   "file_extension": ".py",
   "mimetype": "text/x-python",
   "name": "python",
   "nbconvert_exporter": "python",
   "pygments_lexer": "ipython3",
   "version": "3.9.13"
  }
 },
 "nbformat": 4,
 "nbformat_minor": 5
}
