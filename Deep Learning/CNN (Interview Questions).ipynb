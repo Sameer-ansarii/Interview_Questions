{
 "cells": [
  {
   "cell_type": "markdown",
   "id": "c5e46ba6",
   "metadata": {},
   "source": [
    "###  Q) What is CNN?\n",
    "\n",
    "CNN stands for Convolutional Neural Network. It is a deep learning algorithm commonly used for image recognition and computer vision tasks. \n",
    "\n",
    "\n",
    "CNNs work by learning to identify patterns in the data, and then using those patterns to classify the data into different categories."
   ]
  },
  {
   "cell_type": "code",
   "execution_count": null,
   "id": "9b47be22",
   "metadata": {},
   "outputs": [],
   "source": []
  },
  {
   "cell_type": "markdown",
   "id": "597c7d0e",
   "metadata": {},
   "source": [
    "### Q) When CNN was introduced / invent?"
   ]
  },
  {
   "cell_type": "code",
   "execution_count": null,
   "id": "a88751e7",
   "metadata": {},
   "outputs": [],
   "source": []
  },
  {
   "cell_type": "markdown",
   "id": "897a8ab3",
   "metadata": {},
   "source": [
    "### Q) Why we use CNN instead of ANN and ML? We can work on image data in ANN and ML instead."
   ]
  },
  {
   "cell_type": "code",
   "execution_count": null,
   "id": "bbb9c681",
   "metadata": {},
   "outputs": [],
   "source": []
  },
  {
   "cell_type": "markdown",
   "id": "4c75eb61",
   "metadata": {},
   "source": [
    "### Q) If we make put a image of (228*228) pixels  then what is it size of feature map?\n",
    "\n",
    "Formula: n-f+1\n",
    "\n",
    "n = image pixel size\n",
    "\n",
    "\n",
    "f = filter size\n",
    "\n",
    "\n",
    "Sol: 288-3+1 = 226\n",
    "\n",
    "(226*226) pixels"
   ]
  },
  {
   "cell_type": "code",
   "execution_count": null,
   "id": "ea02b1a4",
   "metadata": {},
   "outputs": [],
   "source": []
  },
  {
   "cell_type": "markdown",
   "id": "db23068a",
   "metadata": {},
   "source": [
    "### Q) Are there any limitations of CNNs?\n",
    "\n",
    "1) CNNs require high computational power to perform tasks because image datasets are typically in GBs. In order to perform calculations and train the model quickly, high computational power is required.\n",
    "\n",
    "\n",
    "2) Training a CNN model takes more time. In some cases, it can take around 2-3 days to train a CNN model.\n",
    "\n",
    "\n",
    "3) CNNs require large datasets for training. The more data we provide, the better the model will perform."
   ]
  },
  {
   "cell_type": "code",
   "execution_count": null,
   "id": "0600042d",
   "metadata": {},
   "outputs": [],
   "source": []
  },
  {
   "cell_type": "markdown",
   "id": "ac6cfdfa",
   "metadata": {},
   "source": [
    "### Q) What is Data Augmentation and it's use in CNN?\n",
    "\n",
    "Data augmentation is a technique in deep learning that is used to artificially increase the size of a dataset by creating new data points from existing data. \n",
    "\n",
    "\n",
    "Data augmentation is usually done in CNN to increase the size of dataset by applying a variety of transformations to the existing data, such as rotating, flipping, cropping, scaling, and adjusting the brightness or contrast of image."
   ]
  },
  {
   "cell_type": "code",
   "execution_count": null,
   "id": "58c9f2b6",
   "metadata": {},
   "outputs": [],
   "source": []
  },
  {
   "cell_type": "code",
   "execution_count": null,
   "id": "4833d457",
   "metadata": {},
   "outputs": [],
   "source": []
  }
 ],
 "metadata": {
  "kernelspec": {
   "display_name": "Python 3 (ipykernel)",
   "language": "python",
   "name": "python3"
  },
  "language_info": {
   "codemirror_mode": {
    "name": "ipython",
    "version": 3
   },
   "file_extension": ".py",
   "mimetype": "text/x-python",
   "name": "python",
   "nbconvert_exporter": "python",
   "pygments_lexer": "ipython3",
   "version": "3.9.13"
  }
 },
 "nbformat": 4,
 "nbformat_minor": 5
}
