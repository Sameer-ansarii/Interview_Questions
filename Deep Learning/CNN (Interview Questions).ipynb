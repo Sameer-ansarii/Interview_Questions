{
 "cells": [
  {
   "cell_type": "markdown",
   "id": "edaa4aeb",
   "metadata": {},
   "source": [
    "###  Q) What is CNN?\n",
    "\n",
    "* CNN stands for Convolutional Neural Network. It is a deep learning algorithm commonly used for image recognition and computer vision tasks. When we have to deal with images and videos we use CNN.\n",
    "\n",
    "\n",
    "* CNN is inspired by the visual cortex of the human brain.\n",
    "\n",
    "\n",
    "* CNN is a type of deep learning algorithm that is used for image recognition and other tasks. CNNs are inspired by the way the human visual cortex works. They work by extracting features from images, such as edges, shapes, and textures. These features are then used to classify the image."
   ]
  },
  {
   "cell_type": "code",
   "execution_count": null,
   "id": "c5a0d1f5",
   "metadata": {},
   "outputs": [],
   "source": []
  },
  {
   "cell_type": "markdown",
   "id": "88f3cd02",
   "metadata": {},
   "source": [
    "### Q) How does convolutional neural networks (CNNs) differ from traditional neural networks?\n",
    "CNNs use convolutional layers to automatically learn spatial hierarchies of features, making them well-suited for image-related tasks."
   ]
  },
  {
   "cell_type": "code",
   "execution_count": null,
   "id": "b4ac177c",
   "metadata": {},
   "outputs": [],
   "source": []
  },
  {
   "cell_type": "markdown",
   "id": "cbdd7433",
   "metadata": {},
   "source": [
    "### Q)  What are the main components of a CNN?\n",
    "\n",
    "The main components of a CNN are:\n",
    "\n",
    "**`Convolutional layers`** are the building blocks of a CNN. They scan the input data and extract features that are relevant to the task at hand.\n",
    "\n",
    "\n",
    "**`Activation functions`** are used to introduce non-linearity into the network. This allows the network to learn complex patterns that would not be possible with linear functions.\n",
    "\n",
    "\n",
    "**`Pooling layers`** reduce the size of the feature maps, which helps to prevent overfitting and speeds up training.\n",
    "\n",
    "\n",
    "**`Fully connected layers`** are responsible for making final predictions. They take the extracted features from the previous layers and combine them to produce a prediction.\n",
    "\n",
    "\n",
    "**`Loss function`** measures the difference between the predicted and actual values. This is used to guide the network during training.\n",
    "\n",
    "\n",
    "**`Optimizer`** updates the network's parameters based on the gradients computed during backpropagation. This is how the network learns."
   ]
  },
  {
   "cell_type": "code",
   "execution_count": null,
   "id": "4858280a",
   "metadata": {},
   "outputs": [],
   "source": []
  },
  {
   "cell_type": "markdown",
   "id": "73021d43",
   "metadata": {},
   "source": [
    "### Q) What is Feature maps?\n",
    "\n",
    "\n",
    "Feature maps are the output of the convolutional layers, and they contain information about the primitive features that have been extracted from the input image."
   ]
  },
  {
   "cell_type": "code",
   "execution_count": null,
   "id": "6c26f885",
   "metadata": {},
   "outputs": [],
   "source": []
  },
  {
   "cell_type": "markdown",
   "id": "0396d1ea",
   "metadata": {},
   "source": [
    "### Q) What are the different layers in a CNN?\n",
    "\n",
    "The different layers in a CNN are:\n",
    "\n",
    "**`The convolutional layer`**: The convolutional layer is the most important layer in a CNN. It is responsible for extracting primitive features from images. The convolutional layer uses a filter to scan the image and extract primitive features.\n",
    "\n",
    "    \n",
    "**`The pooling layer`**: The pooling layer is used to reduce the size of the feature maps. This is done to reduce the number of parameters in the model and to make the model more efficient.\n",
    "\n",
    "    \n",
    "**`The fully connected layer`**: The fully connected layer is a traditional neural network layer. It is used to classify the image."
   ]
  },
  {
   "cell_type": "code",
   "execution_count": null,
   "id": "ec390384",
   "metadata": {},
   "outputs": [],
   "source": []
  },
  {
   "cell_type": "markdown",
   "id": "958ec957",
   "metadata": {},
   "source": [
    "### Q) What is the purpose of convolutional layers in CNN?\n",
    "\n",
    "Convolutional layers apply filters to input data, extracting relevant features and learning patterns from the images."
   ]
  },
  {
   "cell_type": "code",
   "execution_count": null,
   "id": "b7478209",
   "metadata": {},
   "outputs": [],
   "source": []
  },
  {
   "cell_type": "markdown",
   "id": "80ccd583",
   "metadata": {},
   "source": [
    "### Q) What is pooling?\n",
    "\n",
    "* Pooling is a technique used in convolutional neural networks (CNNs) to reduce the size of the feature maps while preserving the most important information. This helps to prevent overfitting and speeds up training.\n",
    "\n",
    "\n",
    "* Pooling layers are typically used after convolutional layers in CNNs. The pooling layer takes a small window of pixels from the feature map and calculates a single value for that window. This value is then used to represent the entire window.\n",
    "\n",
    "\n",
    "* There are two main types of pooling: max pooling and average pooling. Max pooling takes the maximum value in the window, while average pooling takes the average value in the window.\n",
    "\n",
    "\n",
    "* The size of the window and the stride of the pooling layer are important hyperparameters that need to be tuned for the specific application. The window size determines the size of the output feature map, while the stride determines how far the window moves across the input feature map.\n",
    "\n",
    "\n",
    "* Pooling layers are a powerful tool for reducing the size of feature maps while still preserving the most important information. This helps to prevent overfitting and speeds up training, which can lead to improved performance.\n",
    "\n",
    "\n",
    "* Pooling is known as Down-sampling becuase it reduces the spatial dimensions of the feature maps, effectively."
   ]
  },
  {
   "cell_type": "code",
   "execution_count": null,
   "id": "135733bb",
   "metadata": {},
   "outputs": [],
   "source": []
  },
  {
   "cell_type": "markdown",
   "id": "1bc789de",
   "metadata": {},
   "source": [
    "### Q) What is the purpose of using pooling layers in CNNs?\n",
    "\n",
    "* Pooling layers are used in CNNs to reduce the size of the feature maps while preserving the most important information. This helps the CNN to learn important features faster and reduces computation and prevent from overfitting.\n",
    "\n",
    "\n",
    "* Pooling layers are used in CNNs to reduce the spatial dimensions of the feature maps while retaining the most important information. This helps to prevent overfitting and speeds up training. The aggregated value is calculated using a variety of methods, such as the maximum value, the average value, or the L2 norm. The specific method used depends on the application.\n",
    "\n",
    "\n",
    "**`Note`**: **`Aggregation`** is the process of combining nearby pixels or values into a single representative value."
   ]
  },
  {
   "cell_type": "code",
   "execution_count": null,
   "id": "c3c236cb",
   "metadata": {},
   "outputs": [],
   "source": []
  },
  {
   "cell_type": "markdown",
   "id": "ec7e27d3",
   "metadata": {},
   "source": [
    "### Q) Advantages and disadvantages of pooling?\n",
    "\n",
    "\n",
    "**Advantage**\n",
    "\n",
    "\n",
    "1) Reduces computational complexity: Pooling can make CNNs faster to train by reducing the number of calculations that need to be done. This is because pooling reduces the size of the feature maps, which means that there are fewer pixels to process.\n",
    "\n",
    "\n",
    "2) Increases invariance to translation: Pooling can make CNNs more robust to changes in the position of features in an image. This is because pooling averages the values in a small region of the feature map, which makes the CNN less sensitive to the exact location of the features.\n",
    "\n",
    "\n",
    "3) Improves feature selection: Pooling can help CNNs to focus on the most important features in an image. This is because pooling reduces the size of the feature maps, which means that the most important features are more likely to be preserved.\n",
    "\n",
    "\n",
    "**Disadvantage**\n",
    "\n",
    "\n",
    "1) More information will be loss"
   ]
  },
  {
   "cell_type": "code",
   "execution_count": null,
   "id": "7c7f0b51",
   "metadata": {},
   "outputs": [],
   "source": []
  },
  {
   "cell_type": "markdown",
   "id": "9c00384f",
   "metadata": {},
   "source": [
    "### Q) What is spatial dimensions of image?\n",
    "\n",
    "Spatial dimensions refer to the width and height of the image."
   ]
  },
  {
   "cell_type": "code",
   "execution_count": null,
   "id": "7d6c8542",
   "metadata": {},
   "outputs": [],
   "source": []
  },
  {
   "cell_type": "markdown",
   "id": "976b8c46",
   "metadata": {},
   "source": [
    "### Q) What is the role of the Flatten layer in CNN?\n",
    "\n",
    "The flatten layer in a convolutional neural network (CNN) turns the 3D output from the convolutional and pooling layers into a 1D vector that can be used by the fully connected layers."
   ]
  },
  {
   "cell_type": "code",
   "execution_count": null,
   "id": "4f9f5036",
   "metadata": {},
   "outputs": [],
   "source": []
  },
  {
   "cell_type": "markdown",
   "id": "00a67c25",
   "metadata": {},
   "source": [
    "### Q) Limitation of filters / What will be the disadvantage if we don't use padding?\n",
    "\n",
    "1) Size of input image is reduced. Bigger size image has more clarity than the smaller sized image.\n",
    "\n",
    "\n",
    "2) Filters are applied more time on middle elements than the upper elements of the input image, and ideally, filters can apply to all elements equally.\n",
    "\n",
    "\n",
    "**Due to these limitations of Filters we have applied Padding.**"
   ]
  },
  {
   "cell_type": "code",
   "execution_count": null,
   "id": "2dea4700",
   "metadata": {},
   "outputs": [],
   "source": []
  },
  {
   "cell_type": "markdown",
   "id": "ee76fc47",
   "metadata": {},
   "source": [
    "### Q) What is Padding?\n",
    "\n",
    "* Padding is a technique used in convolutional neural networks (CNNs) to ensure that the output of a convolutional layer has the same dimensions as the input. This is done by adding zeros around the edges of the input, which helps to preserve the spatial information (pixels or elements within an image) in the image.\n",
    "\n",
    "\n",
    "* Suppose we have (6 * 6) image when we apply filter directly on it without apply padding then their dimension will be (4 * 4) and when we apply padding their dimension will remain same as input size (6 * 6). Padding will increase the size of image.\n",
    "\n",
    "\n",
    "Equation of Padding is:\n",
    "\n",
    "\n",
    "n-f+1\n",
    "\n",
    "6 = n-3+1\n",
    "\n",
    "n = 8\n",
    "\n",
    "\n",
    "Now image size will be (8 * 8)\n",
    " \n",
    " \n",
    " n = image size\n",
    " \n",
    " \n",
    " f = filter size"
   ]
  },
  {
   "cell_type": "code",
   "execution_count": null,
   "id": "48e1408f",
   "metadata": {},
   "outputs": [],
   "source": []
  },
  {
   "cell_type": "markdown",
   "id": "ead65342",
   "metadata": {},
   "source": [
    "### Q) Advantages of Padding?\n",
    "\n",
    "1) After applying padding, the size of the image will remain in the output.\n",
    "\n",
    "\n",
    "2) After applying padding, the filters will be applied to all elements of the image equally."
   ]
  },
  {
   "cell_type": "markdown",
   "id": "aaf13436",
   "metadata": {},
   "source": []
  },
  {
   "cell_type": "markdown",
   "id": "7be83fac",
   "metadata": {},
   "source": [
    "### Q) Explain 'valid' and 'same' padding in CNN.\n",
    "\n",
    "**`Valid padding`**: This type of padding does not add any zeros around the edges of the input. This means that the output of the convolutional layer will have smaller dimensions than the input.\n",
    "\n",
    "\n",
    "**`Same padding`**: This type of padding adds zeros around the edges of the input so that the output of the convolutional layer has the same dimensions as the input."
   ]
  },
  {
   "cell_type": "code",
   "execution_count": null,
   "id": "c0cef9d8",
   "metadata": {},
   "outputs": [],
   "source": []
  },
  {
   "cell_type": "markdown",
   "id": "0ff1d44d",
   "metadata": {},
   "source": [
    "### Q) Why we add 0 value at the edges of images in padding, why not any other value?\n",
    "\n",
    "We add zeros to the edges of images in padding because zero means no information, and we want to overcome the limitations of the filter without adding any additional information to the image."
   ]
  },
  {
   "cell_type": "code",
   "execution_count": null,
   "id": "eac1fb8b",
   "metadata": {},
   "outputs": [],
   "source": []
  },
  {
   "cell_type": "markdown",
   "id": "6b1de422",
   "metadata": {},
   "source": [
    "### Q) What are the different types of pooling?\n",
    "\n",
    "\n",
    "There are two main types of pooling:\n",
    "\n",
    "**`Max pooling`**: Max pooling is the most common type of pooling. It works by taking the maximum value from each region of the feature map.\n",
    "\n",
    "\n",
    "**`Min pooling`**: Min pooling is taking the minimum value from each region of the feature map.\n",
    "\n",
    "\n",
    "**`Average pooling`**: Average pooling works by taking the average value from each region of the feature map.\n",
    "\n",
    "\n",
    "**`Global Average pooling`**: Global average pooling works by taking the average value of the entire feature map, reducing it to a single value.\n",
    "\n",
    "\n",
    "**`Global Max pooling`**:  Global max pooling works by taking the maximum value of the entire feature map, reducing it to a single value."
   ]
  },
  {
   "cell_type": "code",
   "execution_count": null,
   "id": "6c8faded",
   "metadata": {},
   "outputs": [],
   "source": []
  },
  {
   "cell_type": "markdown",
   "id": "6519e743",
   "metadata": {},
   "source": [
    "### Q) What is Data Augmentation and it's use in CNN?\n",
    "\n",
    "Data augmentation is a technique used to artificially increase the size of a dataset by applying various transformations to the existing images, such as rotations, flips, translations, zooming, etc. \n",
    "\n",
    "-------\n",
    "\n",
    "Data augmentation is a technique in deep learning that is used to artificially increase the size of a dataset by creating new data points from existing data. \n",
    "\n",
    "---\n",
    "\n",
    "Data augmentation is usually done in CNN to increase the size of dataset by applying a variety of transformations to the existing data, such as rotating, flipping, cropping, scaling, and adjusting the brightness or contrast of image."
   ]
  },
  {
   "cell_type": "code",
   "execution_count": null,
   "id": "1c325bdb",
   "metadata": {},
   "outputs": [],
   "source": []
  },
  {
   "cell_type": "markdown",
   "id": "35527d57",
   "metadata": {},
   "source": [
    "### What are pretrained models?\n",
    "\n",
    "Pretrained models are existing deep learning models that have been trained on massive datasets. They come with learned knowledge that can be used as a starting point for specific tasks, saving time and effort in training new models from scratch."
   ]
  },
  {
   "cell_type": "code",
   "execution_count": null,
   "id": "a86288b7",
   "metadata": {},
   "outputs": [],
   "source": []
  },
  {
   "cell_type": "markdown",
   "id": "b1f4e155",
   "metadata": {},
   "source": [
    "### Q) Why we having pretrained models only in CNN not in other neural netwroks?\n",
    "\n",
    "\n",
    "* **Speed**: Training a CNN from scratch can be time-consuming and computationally expensive. Pre-trained models have already been trained on a large dataset of images, so they can be used as a starting point for training a new model. This can significantly speed up the training process.\n",
    "\n",
    "\n",
    "* **Accuracy**: Pre-trained models have already learned to recognize a wide range of visual patterns. This can help to improve the accuracy of a new model that is trained on a smaller dataset.\n",
    "\n",
    "\n",
    "* **Reusability**: The architecture of a CNN is often specific to a particular task. However, the pre-trained weights of a CNN can be reused for different tasks. This can save time and effort when training a new model."
   ]
  },
  {
   "cell_type": "code",
   "execution_count": null,
   "id": "1bb1d369",
   "metadata": {},
   "outputs": [],
   "source": []
  },
  {
   "cell_type": "markdown",
   "id": "f0413389",
   "metadata": {},
   "source": [
    "### Q) Why do scientists make pretrained models\n",
    "\n",
    "\n",
    "* Data collection is a difficult task that requires manual effort and time. It can be time-consuming to collect a large dataset of images or text, and it can also be difficult to label the data correctly.\n",
    "\n",
    "\n",
    "\n",
    "* Labeled data is required, which means creating a folder for each separate category. This can be a tedious and time-consuming process.\n",
    "\n",
    "\n",
    "* To improve the accuracy of new models by using the same architecture of pretrained model. \n",
    "\n",
    "\n",
    "To overcome these two problems, scientists create pretrained models for future generations. Their goal is to reduce the time, complexity, and manual effort involved in creating a CNN model."
   ]
  },
  {
   "cell_type": "code",
   "execution_count": null,
   "id": "1746b14c",
   "metadata": {},
   "outputs": [],
   "source": []
  },
  {
   "cell_type": "markdown",
   "id": "dc9f33e8",
   "metadata": {},
   "source": [
    "### Q) What is the difference between a CNN and a multilayer perceptron (MLP)?\n",
    "\n",
    "The main difference between a convolutional neural network (CNN) and a multilayer perceptron (MLP) is that:\n",
    "\n",
    "\n",
    "* CNNs are specifically designed for image recognition, while MLPs are more generally used for neural networks.\n",
    "\n",
    "\n",
    "* CNNs use convolutional layers to extract features from images, while MLPs use fully connected layers."
   ]
  },
  {
   "cell_type": "code",
   "execution_count": null,
   "id": "a82e37b5",
   "metadata": {},
   "outputs": [],
   "source": []
  },
  {
   "cell_type": "markdown",
   "id": "254b31c3",
   "metadata": {},
   "source": [
    "### Q) What are the advantages of using CNNs?\n",
    "\n",
    "The advantages of using CNNs include:\n",
    "\n",
    "* **`They are very good at image recognition`**: This means that CNNs can be used to identify objects in images. They are often used in applications such as facial recognition, object detection, and medical image analysis.\n",
    "\n",
    "\n",
    "* **`They are very efficient`**:: This means that they can process images quickly and accurately. This makes them a good choice for applications where you need to process a large number of images."
   ]
  },
  {
   "cell_type": "code",
   "execution_count": null,
   "id": "a602c815",
   "metadata": {},
   "outputs": [],
   "source": []
  },
  {
   "cell_type": "markdown",
   "id": "90135f05",
   "metadata": {},
   "source": [
    "### Q) What are the disadvantages of using CNNs?\n",
    "\n",
    "The disadvantages of using CNNs include:\n",
    "\n",
    " **`They can be computationally expensive to train`**: This means that it can take a long time and a lot of computing power to train a CNN.\n",
    "\n",
    "\n",
    " **`They can be sensitive to the choice of hyperparameters`**: This means that the performance of a CNN can depend on the values of the hyperparameters, which are the settings that control the learning process.\n",
    "\n",
    "\n",
    "**`They can be difficult to interpret`**: This means that it can be hard to understand how a CNN makes its predictions."
   ]
  },
  {
   "cell_type": "code",
   "execution_count": null,
   "id": "3330c0e2",
   "metadata": {},
   "outputs": [],
   "source": []
  },
  {
   "cell_type": "markdown",
   "id": "d7e1963e",
   "metadata": {},
   "source": [
    "### Q) What are some applications of CNNs?\n",
    "\n",
    "\n",
    "**`Google Lens`**: Google Lens is a mobile app that uses CNNs to identify objects in the real world. It can be used to identify plants, animals, landmarks, and even text.\n",
    "\n",
    "\n",
    "**`X-ray image analysis`**: CNNs can be used to analyze X-ray images to detect diseases and abnormalities. This is a valuable tool for doctors and radiologists, as it can help them to diagnose diseases more quickly and accurately.\n",
    "\n",
    "\n",
    "**`Face recognition`**: CNNs can be used to recognize faces. This is a valuable technology for security applications, as it can be used to identify people who are not authorized to enter a secure area.\n",
    "\n",
    "\n",
    "**`Object detection`**: CNNs can be used to detect objects in images. This is a valuable technology for a variety of applications, such as self-driving cars, image search, and video surveillance."
   ]
  },
  {
   "cell_type": "code",
   "execution_count": null,
   "id": "24892b94",
   "metadata": {},
   "outputs": [],
   "source": []
  },
  {
   "cell_type": "markdown",
   "id": "cd311683",
   "metadata": {},
   "source": [
    "### Q) What are some of the challenges of using CNNs / Are there any limitations of CNNs?\n",
    "\n",
    "\n",
    "1) CNNs require high computational power to perform tasks because image datasets are typically in GBs. In order to perform calculations and train the model quickly, high computational power is required.\n",
    "\n",
    "\n",
    "2) Training a CNN model takes more time. In some cases, it can take around 2-3 days to train a CNN model.\n",
    "\n",
    "\n",
    "3) CNNs require large datasets for training. The more data we provide, the better the model will perform.\n",
    "\n",
    "\n",
    "4) CNN needs large dataset to train.\n",
    "\n",
    "\n",
    "5) CNNs can be difficult to interpret. This means that it can be difficult to understand how the model makes its predictions."
   ]
  },
  {
   "cell_type": "code",
   "execution_count": null,
   "id": "e2d54c6c",
   "metadata": {},
   "outputs": [],
   "source": []
  },
  {
   "cell_type": "markdown",
   "id": "03465c59",
   "metadata": {},
   "source": [
    "### Q) What is filter and their use in CNN?\n",
    "\n",
    "* Filter is also known as kernal, is a small matrix which is used to extract primitive features from image. We have multiple filter sizes (e.g., 3x3, 5x5, 7x7) and filters are applied on covolutional layers.\n",
    "\n",
    "\n",
    "* The size of the filter (kernel) determines the area of the filter matrix that the layer can \"see\" and process to extract primitive features from the input image. Larger kernel sizes capture more context, but they also increase the number of parameters."
   ]
  },
  {
   "cell_type": "code",
   "execution_count": null,
   "id": "88bf5ea8",
   "metadata": {},
   "outputs": [],
   "source": []
  },
  {
   "cell_type": "markdown",
   "id": "bf2ca0a8",
   "metadata": {},
   "source": [
    "### Q) What are some of the best practices for using CNNs?\n",
    "Some of the best practices for using CNNs include:\n",
    "\n",
    "**`Use a large dataset`**: The more data you have, the better your model will be.\n",
    "\n",
    "\n",
    "**`Use regularization`**: Regularization can help to prevent overfitting.\n",
    "\n",
    "\n",
    "**`Use dropout`**: Dropout can also help to prevent overfitting.\n",
    "\n",
    "\n",
    "**Use `batch normalization` after convolutional layer than apply activation on it and not apply `batch normalization` after pooling.**\n",
    "\n",
    "\n",
    "**`Choose the right hyperparameters`**: The hyperparameters of a CNN can have a big impact on the performance of the model. It is important to choose the hyperparameters that work best for your dataset."
   ]
  },
  {
   "cell_type": "code",
   "execution_count": null,
   "id": "f07da26a",
   "metadata": {},
   "outputs": [],
   "source": []
  },
  {
   "cell_type": "markdown",
   "id": "98ed4e1f",
   "metadata": {},
   "source": [
    "### Q) What are activation functions and what activation is commonly used in CNN?\n",
    "\n",
    "Activation functions are used to introduce non-linearity into the network. This allows the network to learn complex patterns that would not be possible with linear functions. Common activation functions include ReLU (Rectified Linear Unit) and variants like Leaky ReLU, P RELU, sigmoid, and tanh."
   ]
  },
  {
   "cell_type": "code",
   "execution_count": null,
   "id": "fbda2ebc",
   "metadata": {},
   "outputs": [],
   "source": []
  },
  {
   "cell_type": "markdown",
   "id": "b84f8e33",
   "metadata": {},
   "source": [
    "### Q) What is the role of the activation function in the convolutional layer?\n",
    "\n",
    "The activation function introduces non-linearity to the convolutional layer's output, enabling the network to model complex patterns and improve the learning process."
   ]
  },
  {
   "cell_type": "code",
   "execution_count": null,
   "id": "d76f4271",
   "metadata": {},
   "outputs": [],
   "source": []
  },
  {
   "cell_type": "markdown",
   "id": "a5b1ec8a",
   "metadata": {},
   "source": [
    "### Q) What is the purpose of the stride in CNNs?\n",
    "* The stride determines the step size of convolutional filters and pooling during trainning.\n",
    "\n",
    "\n",
    "* Stride is a parameter that controls the step size at which the convolutional filters or pooling operations move across the input data during training.\n",
    "\n",
    "\n",
    "* A larger stride value reduces the spatial dimensions (height and width) of the output, while a smaller stride value preserves more spatial information.\n",
    "\n",
    "\n",
    "* Stride controls the step size of the feature maps and pooling output, which helps to reduce computational complexity in the network.\n",
    "\n",
    "\n",
    "Equation of Stride:\n",
    "\n",
    "(n-f+1)/2\n",
    "\n",
    "n = size of image\n",
    "\n",
    "f = filter size or pooling size"
   ]
  },
  {
   "cell_type": "code",
   "execution_count": null,
   "id": "fc29f43b",
   "metadata": {},
   "outputs": [],
   "source": []
  },
  {
   "cell_type": "markdown",
   "id": "152dc531",
   "metadata": {},
   "source": [
    "### Q) What are the advantages and disadvantages of strides?\n",
    "\n",
    "**Advantage**\n",
    "\n",
    "\n",
    "1) Computing will becomes faster becuase size of image will be decreased.\n",
    "\n",
    "\n",
    "2) After applying strides to filters and pooling we get high-level primivitive features. \n",
    "\n",
    "**Disadvantage**\n",
    "\n",
    "1) More information will be loss."
   ]
  },
  {
   "cell_type": "code",
   "execution_count": null,
   "id": "a1e3a913",
   "metadata": {},
   "outputs": [],
   "source": []
  },
  {
   "cell_type": "markdown",
   "id": "aad494c5",
   "metadata": {},
   "source": [
    "### Q) If we apply (2,2) stride to (28*28) image then what what will be the output after applying filter?\n",
    "\n",
    "image size = 28\n",
    "\n",
    "filter size = 3\n",
    "\n",
    "n-f+1/2\n",
    "\n",
    "\n",
    "(28-3+1)/2\n",
    "\n",
    "13\n",
    "\n",
    "\n",
    "output image size will be (13*13)"
   ]
  },
  {
   "cell_type": "code",
   "execution_count": null,
   "id": "9a18f1e3",
   "metadata": {},
   "outputs": [],
   "source": []
  },
  {
   "cell_type": "markdown",
   "id": "5228c63b",
   "metadata": {},
   "source": [
    "### Q) How can you choose an appropriate CNN architecture(No. of layers and parameters value) for a specific task?\n",
    "The choice of architecture depends on the dataset size, task complexity, and available resources."
   ]
  },
  {
   "cell_type": "code",
   "execution_count": null,
   "id": "d2db6b7b",
   "metadata": {},
   "outputs": [],
   "source": []
  },
  {
   "cell_type": "markdown",
   "id": "e2ceed2c",
   "metadata": {},
   "source": [
    "### Q) When CNN was introduced / invent?\n",
    "\n",
    "CNN is introduced by by Kunihiko Fukushima, a Japanese neuroscientist. CNN first used in 1998 for cheque scanning. It was used to identify that cheque is original or not. Then CNN tehnology is picked by Microsoft and it uses CNN for handwritting recognization and OCR."
   ]
  },
  {
   "cell_type": "code",
   "execution_count": null,
   "id": "d877f448",
   "metadata": {},
   "outputs": [],
   "source": []
  },
  {
   "cell_type": "markdown",
   "id": "aa4dca13",
   "metadata": {},
   "source": [
    "### Q) Why we use CNN instead of ANN and ML for working on image data? \n",
    "\n",
    "\n",
    "1) If we want to deal with images in ANN, we need to flatten the images into tabular data, while in CNN, we can directly use the 2D matrix of pixels.\n",
    "\n",
    "\n",
    "2) Images data is large in size, so training an ANN on image data will generally take more time than training a CNN.\n",
    "\n",
    "\n",
    "3)  The problem of overfitting can arise in ANNs and CNNs, but CNNs are known to be effective in reducing overfitting due to their ability to extract high-level primitive features from images."
   ]
  },
  {
   "cell_type": "code",
   "execution_count": null,
   "id": "f0c6f990",
   "metadata": {},
   "outputs": [],
   "source": []
  },
  {
   "cell_type": "markdown",
   "id": "f3322ade",
   "metadata": {},
   "source": [
    "### Q) If we make put a image of (228*228) pixels  then what is it size of feature map?\n",
    "\n",
    "Formula: n-f+1\n",
    "\n",
    "n = image pixel size\n",
    "\n",
    "\n",
    "f = filter size\n",
    "\n",
    "\n",
    "Sol: 288-3+1 = 226\n",
    "\n",
    "(226*226) pixels"
   ]
  },
  {
   "cell_type": "code",
   "execution_count": null,
   "id": "dff41437",
   "metadata": {},
   "outputs": [],
   "source": []
  },
  {
   "cell_type": "markdown",
   "id": "47d10f9c",
   "metadata": {},
   "source": [
    "### Q) What is RGB Image?\n",
    "\n",
    "The full form of RGB image is Red Green Blue. RGB is a color model that uses three primary colors to represent all other colors. The three primary colors in RGB are red, green, and blue."
   ]
  },
  {
   "cell_type": "code",
   "execution_count": null,
   "id": "4e4db316",
   "metadata": {},
   "outputs": [],
   "source": []
  },
  {
   "cell_type": "markdown",
   "id": "ec6bb99d",
   "metadata": {},
   "source": [
    "### Q) How does a CNN handle overfitting?\n",
    "To handle overfitting, CNNs use techniques like:\n",
    "\n",
    "1)  Dropout (randomly disabling neurons during training)\n",
    "\n",
    "\n",
    "2) Data augmentation (creating variations of the training data)\n",
    "\n",
    "\n",
    "3) Regularization (adding penalties to the model's weights)\n",
    "\n",
    "\n",
    "4) Batch Normlization\n",
    "\n",
    "\n",
    "5) Early Stopping"
   ]
  },
  {
   "cell_type": "markdown",
   "id": "24fa3e4e",
   "metadata": {},
   "source": []
  },
  {
   "cell_type": "markdown",
   "id": "d717083e",
   "metadata": {},
   "source": [
    "### Q) What is Batch Normalization in CNN?\n",
    "\n",
    "\n",
    "* Batch Normalization (BN) is a technique used in Convolutional Neural Networks (CNNs) to improve the training process and performance of the model by normalizing the intermediate activations in each mini-batch (subset of data) during training. This helps the model converge faster(minimize loss faster) and improves overall performance.\n",
    "\n",
    "\n",
    "* It is typically used after convolutional layers and before activation functions.\n",
    "\n",
    "\n",
    "* Batch normalization works by normalizing the activations of a layer across a batch of inputs. This helps to stabilize the training process and prevents the activations from becoming too large or too small. BN can also help to improve the generalization (refers to the ability of a model to perform well on new data) performance of the model."
   ]
  },
  {
   "cell_type": "code",
   "execution_count": null,
   "id": "3c42e371",
   "metadata": {},
   "outputs": [],
   "source": [
    "model.add(Conv2D(32, kernel_size=(3, 3), padding='valid', input_shape=(256, 256, 3)))\n",
    "model.add(BatchNormalization())\n",
    "model.add(Activation('relu'))\n",
    "model.add(MaxPooling2D(pool_size=(2, 2), strides=(2, 2), padding=\"valid\"))"
   ]
  },
  {
   "cell_type": "code",
   "execution_count": null,
   "id": "e469bc5c",
   "metadata": {},
   "outputs": [],
   "source": []
  },
  {
   "cell_type": "markdown",
   "id": "d798cba8",
   "metadata": {},
   "source": [
    "### Q) What are the advantages of using batch normalization in ANN?\n",
    "\n",
    "Batch normalization helps in faster convergence (minimize loss faster), regularization (reduce or prevent from overfitting) , and reducing the dependence on hyperparameter tuning. It also stabilizes training and allows the use of higher learning rates."
   ]
  },
  {
   "cell_type": "code",
   "execution_count": null,
   "id": "3d903aa8",
   "metadata": {},
   "outputs": [],
   "source": []
  },
  {
   "cell_type": "markdown",
   "id": "3fd75506",
   "metadata": {},
   "source": [
    "### Q) How to increase Accuracy of CNN Model?\n",
    "\n",
    "1) Increase number of hidden layers and neurons in hidden layers.\n",
    "\n",
    "\n",
    "2) Increase number of convolutional layers.\n",
    "\n",
    "\n",
    "3) Increase number of epochs but use early stopping to prevent from overfitting."
   ]
  },
  {
   "cell_type": "code",
   "execution_count": null,
   "id": "f61b2127",
   "metadata": {},
   "outputs": [],
   "source": []
  },
  {
   "cell_type": "markdown",
   "id": "9c71325f",
   "metadata": {},
   "source": [
    "### Q) What is Transfer Learning in CNN?\n",
    "\n",
    "* Transfer learning is a technique that uses a pre-trained model to help train a new model. This can be done by freezing the weights of the pre-trained model and then training the new model on a different dataset.\n",
    "\n",
    "\n",
    "* Transfer learning can be used to improve the performance of a CNN on a new task. This is because the pre-trained CNN has already learned to extract features from images, which can be reused on the new task.\n",
    "\n",
    "\n",
    "* In transfer we give data of categories which we want to add in pre-trainned models to perform a new task."
   ]
  },
  {
   "cell_type": "code",
   "execution_count": null,
   "id": "85fd5456",
   "metadata": {},
   "outputs": [],
   "source": []
  },
  {
   "cell_type": "markdown",
   "id": "f273592a",
   "metadata": {},
   "source": [
    "### Q) What are some of the future trends in CNNs?\n",
    "\n",
    "Some of the future trends in CNNs include:\n",
    "\n",
    "\n",
    "* The use of larger and deeper CNNs.\n",
    "\n",
    "\n",
    "* The use of more efficient training algorithms.\n",
    "\n",
    "\n",
    "* The development of new activation functions.\n",
    "\n",
    "\n",
    "* The use of CNNs for new applications."
   ]
  },
  {
   "cell_type": "code",
   "execution_count": null,
   "id": "011f948d",
   "metadata": {},
   "outputs": [],
   "source": []
  }
 ],
 "metadata": {
  "kernelspec": {
   "display_name": "Python 3 (ipykernel)",
   "language": "python",
   "name": "python3"
  },
  "language_info": {
   "codemirror_mode": {
    "name": "ipython",
    "version": 3
   },
   "file_extension": ".py",
   "mimetype": "text/x-python",
   "name": "python",
   "nbconvert_exporter": "python",
   "pygments_lexer": "ipython3",
   "version": "3.9.13"
  }
 },
 "nbformat": 4,
 "nbformat_minor": 5
}
