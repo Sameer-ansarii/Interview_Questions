{
 "cells": [
  {
   "cell_type": "markdown",
   "id": "434e6f67",
   "metadata": {},
   "source": [
    "### Q) What is Deep Learning?\n",
    "\n",
    "Deep Learning is a subset of machine learning that involves training neural networks with multiple layers (deep architectures) to learn and represent complex patterns and hierarchical features from data."
   ]
  },
  {
   "cell_type": "code",
   "execution_count": null,
   "id": "9cae6277",
   "metadata": {},
   "outputs": [],
   "source": []
  },
  {
   "cell_type": "markdown",
   "id": "03db82dd",
   "metadata": {},
   "source": [
    "### Q) What is the fundamental building block of a neural network?\n",
    "\n",
    "The fundamental building block is a neuron (or node) that takes inputs, performs a weighted sum, applies an activation function, and produces an output."
   ]
  },
  {
   "cell_type": "code",
   "execution_count": null,
   "id": "714a48cd",
   "metadata": {},
   "outputs": [],
   "source": []
  },
  {
   "cell_type": "markdown",
   "id": "57605785",
   "metadata": {},
   "source": [
    "### Q) What are the differences between shallow and deep neural networks?\n",
    "\n",
    "Shallow networks have a limited number of layers, whereas deep networks have many layers. Deep networks can learn more complex features and patterns."
   ]
  },
  {
   "cell_type": "code",
   "execution_count": null,
   "id": "14eca4c4",
   "metadata": {},
   "outputs": [],
   "source": []
  },
  {
   "cell_type": "markdown",
   "id": "a182db1f",
   "metadata": {},
   "source": [
    "### Q) What is backpropagation?\n",
    "Backpropagation is an optimization algorithm used to train neural networks by calculating gradients and updating weights to minimize the prediction error."
   ]
  },
  {
   "cell_type": "code",
   "execution_count": null,
   "id": "265cbf61",
   "metadata": {},
   "outputs": [],
   "source": []
  },
  {
   "cell_type": "markdown",
   "id": "4693a31d",
   "metadata": {},
   "source": [
    "### Q) How can the vanishing gradient problem be addressed?\n",
    "Techniques like ReLU activation and batch normalization help mitigate the vanishing gradient problem."
   ]
  },
  {
   "cell_type": "code",
   "execution_count": null,
   "id": "6638f5ef",
   "metadata": {},
   "outputs": [],
   "source": []
  },
  {
   "cell_type": "markdown",
   "id": "b229777d",
   "metadata": {},
   "source": [
    "### Q) How does convolutional neural networks (CNNs) differ from traditional neural networks?\n",
    "CNNs use convolutional layers to automatically learn spatial hierarchies of features, making them well-suited for image-related tasks."
   ]
  },
  {
   "cell_type": "code",
   "execution_count": null,
   "id": "77bf211a",
   "metadata": {},
   "outputs": [],
   "source": []
  },
  {
   "cell_type": "markdown",
   "id": "1e2baa86",
   "metadata": {},
   "source": [
    "### Q) Explain the concept of pooling in CNNs.\n",
    "Pooling reduces spatial dimension (height & width) of feature map and retains important features, making CNNs more efficient and robust with image.\n",
    "\n"
   ]
  },
  {
   "cell_type": "code",
   "execution_count": null,
   "id": "9a67d54c",
   "metadata": {},
   "outputs": [],
   "source": []
  },
  {
   "cell_type": "markdown",
   "id": "4ad09673",
   "metadata": {},
   "source": [
    "### Q) What is recurrent neural networks (RNNs) used for?\n",
    "RNNs are used for sequential data processing tasks like natural language processing and time series analysis."
   ]
  },
  {
   "cell_type": "code",
   "execution_count": null,
   "id": "dcb78f2d",
   "metadata": {},
   "outputs": [],
   "source": []
  },
  {
   "cell_type": "markdown",
   "id": "a4c9bd1f",
   "metadata": {},
   "source": [
    "### Q) What is trainable and non-trainable parameters?\n",
    "\n",
    "* Trainable parameters are the ones we add and optimize during training.\n",
    "\n",
    "\n",
    "* Non-trainable parameters are already trained on specific weights and we can not changed it."
   ]
  },
  {
   "cell_type": "code",
   "execution_count": null,
   "id": "85381653",
   "metadata": {},
   "outputs": [],
   "source": []
  },
  {
   "cell_type": "markdown",
   "id": "a2d7fd12",
   "metadata": {},
   "source": [
    "### Q) What are the challenges in training deep learning models?\n",
    "Challenges include overfitting, vanishing/exploding gradients, selecting appropriate architectures, and dealing with large datasets."
   ]
  },
  {
   "cell_type": "code",
   "execution_count": null,
   "id": "644ad700",
   "metadata": {},
   "outputs": [],
   "source": []
  },
  {
   "cell_type": "markdown",
   "id": "c7803da7",
   "metadata": {},
   "source": [
    "### Q) What is the role of activation functions in deep learning?\n",
    "Activation functions introduce non-linearity, enabling neural networks to learn complex patterns."
   ]
  },
  {
   "cell_type": "code",
   "execution_count": null,
   "id": "2994d470",
   "metadata": {},
   "outputs": [],
   "source": []
  },
  {
   "cell_type": "markdown",
   "id": "53ee5cf8",
   "metadata": {},
   "source": [
    "### Q) What are the differences between L1 and L2 regularization?\n",
    "L1 regularization adds the absolute value of the weights to the loss function, while L2 regularization adds the square of the weights."
   ]
  },
  {
   "cell_type": "code",
   "execution_count": null,
   "id": "e86707cb",
   "metadata": {},
   "outputs": [],
   "source": []
  },
  {
   "cell_type": "markdown",
   "id": "0b34d5c2",
   "metadata": {},
   "source": [
    "### Q) How can you handle imbalanced datasets in deep learning?\n",
    "Techniques like class weights, oversampling, and undersampling can be used to handle imbalanced datasets."
   ]
  },
  {
   "cell_type": "code",
   "execution_count": null,
   "id": "a2334ec9",
   "metadata": {},
   "outputs": [],
   "source": []
  },
  {
   "cell_type": "markdown",
   "id": "e000c34a",
   "metadata": {},
   "source": [
    "### Q) What are the advantages and disadvantages of using deep learning over traditional machine learning?\n",
    "Advantages include automatic feature learning, high performance on large datasets, and handling complex tasks.\n",
    "\n",
    "Disadvantages include the need for large amounts of data and computational resources."
   ]
  },
  {
   "cell_type": "code",
   "execution_count": null,
   "id": "b5bf2754",
   "metadata": {},
   "outputs": [],
   "source": []
  },
  {
   "cell_type": "markdown",
   "id": "872fd34b",
   "metadata": {},
   "source": [
    "### Q) What are the benefits of deep learning?\n",
    "Deep learning models can learn complex patterns from data that would be difficult or impossible for traditional machine learning models to learn. This makes deep learning models very powerful for a variety of tasks, such as image recognition, natural language processing, and speech recognition."
   ]
  },
  {
   "cell_type": "code",
   "execution_count": null,
   "id": "d6bee7eb",
   "metadata": {},
   "outputs": [],
   "source": []
  },
  {
   "cell_type": "markdown",
   "id": "5a85154d",
   "metadata": {},
   "source": [
    "### Q) What is the Adam optimizer?\n",
    "The Adam optimizer is a popular optimizer for training deep neural networks. Adam combines the advantages of the AdaGrad and RMSProp optimizers. Adam is a stochastic gradient descent optimizer that uses adaptive learning rates."
   ]
  },
  {
   "cell_type": "code",
   "execution_count": null,
   "id": "b5040a8b",
   "metadata": {},
   "outputs": [],
   "source": []
  },
  {
   "cell_type": "markdown",
   "id": "ba99e8c1",
   "metadata": {},
   "source": [
    "### Q) What is the exploding gradient problem?\n",
    "The exploding gradient problem is a problem that can occur in deep neural networks during backpropagation. The exploding gradient problem occurs when the gradients, which are the derivative of the loss function with respect to the weights, become very large in the deeper layers of the network. This means that the updates to the weights become very large, and the optimizer can cause  the training process unstable, and the model's performance get worse over time instead of improving. "
   ]
  },
  {
   "cell_type": "code",
   "execution_count": null,
   "id": "7aaf0086",
   "metadata": {},
   "outputs": [],
   "source": []
  },
  {
   "cell_type": "markdown",
   "id": "3bd374f0",
   "metadata": {},
   "source": [
    "### Q) What are the challenges of deep learning?\n",
    "One of the biggest challenges of deep learning is the need for large amounts of data.\n",
    "\n",
    "Another challenge of deep learning is the risk of overfitting."
   ]
  },
  {
   "cell_type": "code",
   "execution_count": null,
   "id": "efd396bf",
   "metadata": {},
   "outputs": [],
   "source": []
  },
  {
   "cell_type": "markdown",
   "id": "674bf629",
   "metadata": {},
   "source": [
    "### Q) What is neurons in human body?\n",
    "\n",
    "* Neurons are presents in all parts of body but they they are more concentrated around brain and spinal cord. The brain contains about 86 billion neurons, and the spinal cord contains about 100 million neurons. Neurons in the human body are interconnected to each other and form a complex network. This network is called the nervous system, and it is responsible for sending and receiving information throughout the body. \n",
    "\n",
    "\n",
    "* Neurons are known as nerve cells. They are specialized cells which are connected to the other neurons, cells and muscles of the body and form a complex network throughout the body. The function of neurons are passing the internal and external information from one body part to another, specially brain and brain commands on action taken by the body parts."
   ]
  },
  {
   "cell_type": "code",
   "execution_count": null,
   "id": "e7aff699",
   "metadata": {},
   "outputs": [],
   "source": []
  },
  {
   "cell_type": "markdown",
   "id": "9735401b",
   "metadata": {},
   "source": [
    "### Q) What is deep learning?\n",
    "\n",
    "Deep learning is a type of machine learning that uses artificial neural networks to learn from data. Neural networks are inspired by the human brain, and they are able to learn complex patterns from data. Deep learning has been used to achieve state-of-the-art results in many different areas, including image recognition, natural language processing, and speech recognition."
   ]
  },
  {
   "cell_type": "code",
   "execution_count": null,
   "id": "7ae9d92a",
   "metadata": {},
   "outputs": [],
   "source": []
  },
  {
   "cell_type": "markdown",
   "id": "7e136031",
   "metadata": {},
   "source": [
    "### Q) What is neural network?\n",
    "\n",
    "Neural networks are a type of machine learning process called deep learning. They are inspired by the human brain, which uses interconnected nodes or neurons in a layered structure. Neural networks teach computers to process data in a way that is similar to how the human brain does."
   ]
  },
  {
   "cell_type": "code",
   "execution_count": null,
   "id": "877c74e1",
   "metadata": {},
   "outputs": [],
   "source": []
  },
  {
   "cell_type": "markdown",
   "id": "21f8d1a7",
   "metadata": {},
   "source": [
    "### Q) What is neuron in neural networks?\n",
    "\n",
    "Neurons are the basic building blocks of neural networks. They are also known as nodes or units. Neurons take information from input data or from other neurons in the previous layer, perform calculations on that data, and generate an output. This output is then taken as input by other neurons in the next layer."
   ]
  },
  {
   "attachments": {
    "comparision.png": {
     "image/png": "[encoded data removed]"
    }
   },
   "cell_type": "markdown",
   "id": "93cbff15",
   "metadata": {},
   "source": [
    "![comparision.png](attachment:comparision.png)"
   ]
  },
  {
   "cell_type": "code",
   "execution_count": null,
   "id": "d9b8d366",
   "metadata": {},
   "outputs": [],
   "source": []
  },
  {
   "cell_type": "markdown",
   "id": "59ad7338",
   "metadata": {},
   "source": [
    "### Q) What are the key components of a neural network?\n",
    "\n",
    "The key components of a neural network include the input layer, hidden layers, output layer, activation functions, weights, biases, and the optimization algorithm."
   ]
  },
  {
   "cell_type": "code",
   "execution_count": null,
   "id": "f58c6d4e",
   "metadata": {},
   "outputs": [],
   "source": []
  },
  {
   "cell_type": "markdown",
   "id": "22cab756",
   "metadata": {},
   "source": [
    "### Q) What are ANN (artificial neural networks)?\n",
    "\n",
    "Artificial neural networks are computational models inspired by the structure and function of the human brain. They consist of interconnected nodes (neurons) organized into layers, where each neuron processes and transfers information to other neuron."
   ]
  },
  {
   "cell_type": "code",
   "execution_count": null,
   "id": "67b62b88",
   "metadata": {},
   "outputs": [],
   "source": []
  },
  {
   "cell_type": "markdown",
   "id": "0ddf78d8",
   "metadata": {},
   "source": [
    "### Q) What is the basic building block of a neural network?\n",
    "\n",
    "The basic building block is a neuron (or node). It takes inputs, applies weights to them, adds a bias term, performs an activation function, and produces an output."
   ]
  },
  {
   "cell_type": "code",
   "execution_count": null,
   "id": "c824bee6",
   "metadata": {},
   "outputs": [],
   "source": []
  },
  {
   "cell_type": "markdown",
   "id": "15e1184f",
   "metadata": {},
   "source": [
    "### Q) What is perceptron?\n",
    "\n",
    "The single layer neural network is known as perceptron. Whether that single is input layer, hidden layer or output layer."
   ]
  },
  {
   "cell_type": "code",
   "execution_count": null,
   "id": "2a9da711",
   "metadata": {},
   "outputs": [],
   "source": []
  },
  {
   "cell_type": "markdown",
   "id": "668373ee",
   "metadata": {},
   "source": [
    "### Q) What are the challenges of training deep ANNs?\n",
    "\n",
    "* Vanishing gradient problem\n",
    "\n",
    "\n",
    "* overfitting\n",
    "\n",
    "\n",
    "* time-consuming training\n",
    "\n",
    "\n",
    "* selecting appropriate network architecture\n",
    "\n",
    "\n",
    "* hyperparameter tuning."
   ]
  },
  {
   "cell_type": "code",
   "execution_count": null,
   "id": "c429a57f",
   "metadata": {},
   "outputs": [],
   "source": []
  },
  {
   "cell_type": "markdown",
   "id": "f6e62c74",
   "metadata": {},
   "source": [
    "### Q) What is early stopping?\n",
    "\n",
    "* Early stopping is a technique that is used to prevent overfitting. Early stopping works by stopping the training of the ANN early, before it has had a chance to overfit the training data.\n",
    "\n",
    "\n",
    "* Early stopping is a technique used in machine learning and deep learning to prevent overfitting and improve model generalization. It involves monitoring the performance of the model on a validation dataset during training and stopping the training process when the performance on the validation data starts to degrade."
   ]
  },
  {
   "cell_type": "code",
   "execution_count": null,
   "id": "9bc34021",
   "metadata": {},
   "outputs": [],
   "source": []
  },
  {
   "cell_type": "markdown",
   "id": "617836da",
   "metadata": {},
   "source": [
    "### Q) What is backpropagation?\n",
    "\n",
    "Backpropagation is the process by which a neural network adjusts its weights and biases during training to minimize the error. It uses the chain rule of calculus to calculate gradients and update the parameters."
   ]
  },
  {
   "cell_type": "code",
   "execution_count": null,
   "id": "64c29ea2",
   "metadata": {},
   "outputs": [],
   "source": []
  },
  {
   "cell_type": "markdown",
   "id": "8b221f23",
   "metadata": {},
   "source": [
    "### Q) What is the vanishing gradient problem?\n",
    "\n",
    "* The vanishing gradient problem occurs in deep neural networks when the gradients / slopes  in the deeper layers of the network  become extremely small during backpropagation. This means that the updated weights are approximately equal to the old weights, and the optimizer has no effect on reducing the error / loss.\n",
    "\n",
    "\n",
    "* Vanishing Gradient Descent problem arises becuase we have only simoid activation function at that time. The derivative range of sigmoid is (0-0.25). When we multiply derivates of weight the values as a very small number and then we subtract that value with old weight to find new weight. So, very small value is subtacted from old weight and new weight is approximately equal to new weight. That's why their is no effect of optimizer is seeing there,"
   ]
  },
  {
   "cell_type": "code",
   "execution_count": null,
   "id": "c609266f",
   "metadata": {},
   "outputs": [],
   "source": []
  },
  {
   "cell_type": "markdown",
   "id": "108cd6dd",
   "metadata": {},
   "source": [
    "### Q) What is dropout in neural networks?\n",
    "\n",
    "Dropout is a regularization technique used to prevent overfitting in neural networks. During training, random neurons are dropped (set to zero) / deactivated with a certain probability, reducing interdependence and improving generalization."
   ]
  },
  {
   "cell_type": "code",
   "execution_count": null,
   "id": "cc65cc4b",
   "metadata": {},
   "outputs": [],
   "source": []
  },
  {
   "cell_type": "markdown",
   "id": "6d398cc5",
   "metadata": {},
   "source": [
    "### Q) What is the difference between CNN and RNN?\n",
    "\n",
    "\n",
    "* Convolutional Neural Networks (CNNs) are designed for image-related tasks and take advantage of spatial information.\n",
    "\n",
    "\n",
    "* Recurrent Neural Networks (RNNs) are suitable for sequence data, such as natural language, due to their ability to retain contextual information through time."
   ]
  },
  {
   "cell_type": "code",
   "execution_count": null,
   "id": "448c854c",
   "metadata": {},
   "outputs": [],
   "source": []
  },
  {
   "cell_type": "markdown",
   "id": "53bced25",
   "metadata": {},
   "source": [
    "### Q) What is transfer learning?\n",
    "\n",
    "* Transfer learning is a technique that can be used to improve the performance of a deep learning model. Transfer learning involves using a pre-trained model as a starting point for training a new model. The pre-trained model has already learned from previous features, so the new model can use those features to learn a new task. For example, if there is a pre-trained model that can classify images of dogs, we can customize it to create a new neural network that can predict the breed of the dog in the image."
   ]
  },
  {
   "cell_type": "code",
   "execution_count": null,
   "id": "1a7d5ac1",
   "metadata": {},
   "outputs": [],
   "source": []
  },
  {
   "cell_type": "markdown",
   "id": "e3215d04",
   "metadata": {},
   "source": [
    "### Q) Explain overfitting in deep learning.\n",
    "\n",
    "* Overfitting occurs when a neural network performs well on the training data but poorly on unseen data. It means the model has memorized the training data without learning general patterns.\n",
    "\n",
    "\n",
    "* The problem of overfitting arises when we icrease the number of neurons and hidden layers."
   ]
  },
  {
   "cell_type": "code",
   "execution_count": null,
   "id": "44b7c323",
   "metadata": {},
   "outputs": [],
   "source": []
  },
  {
   "cell_type": "markdown",
   "id": "bfafa5f5",
   "metadata": {},
   "source": [
    "### Q) How can you prevent overfitting?\n",
    "\n",
    "Techniques to prevent overfitting include:-\n",
    "\n",
    "* Using more data, \n",
    "\n",
    "\n",
    "* Applying regularization (e.g., L1 or L2 regularization)\n",
    "\n",
    "\n",
    "* Dropout layers\n",
    "\n",
    "\n",
    "* Early stopping\n",
    "\n",
    "\n",
    "* Using data augmentation."
   ]
  },
  {
   "cell_type": "code",
   "execution_count": null,
   "id": "731bfe74",
   "metadata": {},
   "outputs": [],
   "source": []
  },
  {
   "cell_type": "markdown",
   "id": "15e5518b",
   "metadata": {},
   "source": [
    "### Q) What is Loss Function in Neural Network?\n",
    "\n",
    "Loss Function in neural network is used to calculate the error of neural network (Difference between predicted value and actual value). During training, the goal is to minimize the loss function by adjusting the weights to improve the model's predictions."
   ]
  },
  {
   "cell_type": "code",
   "execution_count": null,
   "id": "9ec2e9d8",
   "metadata": {},
   "outputs": [],
   "source": []
  },
  {
   "cell_type": "markdown",
   "id": "46e62fb3",
   "metadata": {},
   "source": [
    "### Q) Difference between Loss & Cost Function in DL?\n",
    "\n",
    "Loss function is used to calculate error of  single data points and cost function is used to calculate average error of all data points."
   ]
  },
  {
   "cell_type": "code",
   "execution_count": null,
   "id": "49297cd3",
   "metadata": {},
   "outputs": [],
   "source": []
  },
  {
   "cell_type": "markdown",
   "id": "59e7a801",
   "metadata": {},
   "source": [
    "### Q) What is data augmentation?\n",
    "\n",
    "Data augmentation is a data preprocessing technique commonly used in deep learning, especially in Convolutional Neural Networks (CNNs). It involves applying various transformations or modifications to the existing training data to create additional samples. The goal of data augmentation is to increase the diversity and size of the training dataset without collecting new data manually. \n",
    "\n",
    "\n",
    "The process of data augmentation typically involves applying transformations such as:\n",
    "\n",
    "\n",
    "* **Rotation**: Rotating the image by a certain angle to simulate variations in camera angles or orientations.\n",
    "\n",
    "\n",
    "* **Horizontal and Vertical Flipping**: Mirroring the image horizontally or vertically to create new samples.\n",
    "\n",
    "\n",
    "* **Translation**: Shifting the image in different directions to represent changes in the object's position.\n",
    "\n",
    "\n",
    "* **Scaling and Zooming**: Resizing the image to simulate different object sizes or zooming effects.\n",
    "\n",
    "\n",
    "* **Brightness and Contrast Adjustment**: Changing the brightness and contrast of the image.\n",
    "\n",
    "\n",
    "* **Noise Addition**: Introducing random noise to the image to mimic real-world variations."
   ]
  },
  {
   "cell_type": "code",
   "execution_count": null,
   "id": "14931c4e",
   "metadata": {},
   "outputs": [],
   "source": []
  },
  {
   "cell_type": "markdown",
   "id": "4ffae14d",
   "metadata": {},
   "source": [
    "### Q) What are some of the most common applications of deep learning?\n",
    "Some of the most common applications of deep learning include:\n",
    "\n",
    "* `Image recognition`: Deep learning has been used to develop algorithms that can recognize objects in images. This has been used for tasks such as facial recognition, object detection, and scene classification.\n",
    "\n",
    "\n",
    "* `Natural language processing`: Deep learning has been used to develop algorithms that can understand and process natural language. This has been used for tasks such as machine translation, text summarization, and question answering.\n",
    "\n",
    "\n",
    "* `Speech recognition`: Deep learning has been used to develop algorithms that can recognize speech. This has been used for tasks such as voice search, dictation, and customer service."
   ]
  },
  {
   "cell_type": "code",
   "execution_count": null,
   "id": "d963ae0a",
   "metadata": {},
   "outputs": [],
   "source": []
  },
  {
   "cell_type": "markdown",
   "id": "86ce2b8d",
   "metadata": {},
   "source": [
    "### Q) What is forword and backward propogation?\n",
    "\n",
    "* Forward propagation is the process of passing the input data through the neural network to calculate the output.\n",
    "\n",
    "\n",
    "* Backward propagation is the process of calculating the gradients of the loss function with respect to the weights of the neural network. The gradients are then used to update the weights of the neural network and optimize the performance of neural networks."
   ]
  },
  {
   "cell_type": "code",
   "execution_count": null,
   "id": "152e16b6",
   "metadata": {},
   "outputs": [],
   "source": []
  },
  {
   "cell_type": "markdown",
   "id": "aeccb7ca",
   "metadata": {},
   "source": [
    "### Q) What are some common optimization algorithms used in training ANNs?\n",
    "\n",
    "Some common optimization algorithms include Stochastic Gradient Descent (SGD), Adam, RMSprop, and AdaGrad."
   ]
  },
  {
   "cell_type": "code",
   "execution_count": null,
   "id": "c0637f7a",
   "metadata": {},
   "outputs": [],
   "source": []
  },
  {
   "cell_type": "markdown",
   "id": "6ec757c5",
   "metadata": {},
   "source": [
    "### Q) What is epocha?\n",
    "\n",
    "An epoch refers to the number of times the entire training dataset passes through the neural network in forward and backward propagation."
   ]
  },
  {
   "cell_type": "code",
   "execution_count": null,
   "id": "780b5228",
   "metadata": {},
   "outputs": [],
   "source": []
  },
  {
   "cell_type": "markdown",
   "id": "e4258245",
   "metadata": {},
   "source": [
    "### Q) What is derivatives?\n",
    "\n",
    "* Derivatives represents the rate of change in one quantity with respect to other quantity. It means, change of 1 unit in quantity, how it effects the other quantity. \n",
    "\n",
    "\n",
    "* Derivates are used in neural networks to update the weights of neural network during trainning process. This process is known as backward propogation.\n",
    "\n",
    "\n",
    "* The work of derivates is to calculate 1 unit chanhe in weight, how it effects the loss function."
   ]
  },
  {
   "cell_type": "code",
   "execution_count": null,
   "id": "bbf2bb97",
   "metadata": {},
   "outputs": [],
   "source": []
  },
  {
   "cell_type": "markdown",
   "id": "9c5c6802",
   "metadata": {},
   "source": [
    "### Q) What is the role of the activation function in the output layer?\n",
    "\n",
    "\n",
    "The activation function in the output layer is selected based on the nature of the problem. For binary classification, a sigmoid function is commonly used, while for multi-class classification, a softmax function is often used and for regression problem linear activation function is used."
   ]
  },
  {
   "cell_type": "code",
   "execution_count": null,
   "id": "baf3d35c",
   "metadata": {},
   "outputs": [],
   "source": []
  },
  {
   "cell_type": "markdown",
   "id": "5c8eab8f",
   "metadata": {},
   "source": [
    "### Q) What is Linear Activation Function?\n",
    "\n",
    "For regression tasks, a common choice for the output layer is the linear activation function, which means the output of the neuron is the weighted sum of the inputs without any non-linearity applied. In this case, the output directly represents the predicted continuous values."
   ]
  },
  {
   "cell_type": "code",
   "execution_count": null,
   "id": "6f51733c",
   "metadata": {},
   "outputs": [],
   "source": []
  },
  {
   "cell_type": "markdown",
   "id": "f9e00e0c",
   "metadata": {},
   "source": [
    "### Q) What are activation functions and their role in neural networks?\n",
    "\n",
    "* Activation functions are matehmatical functions which are applied to the output of neurons. It ensures that whether the neuron is activated or not based on the input it receives. It also builds non-linearity in the networks.\n",
    "\n",
    "\n",
    "* Activation Functions helps the neural network to learn the complex patterns of data more effectively by introducing non-linearity in neural networks.\n",
    "\n",
    "----------\n",
    "\n",
    "Importance of Activation Functions:\n",
    "\n",
    "\n",
    "**To introduce nonlinearity**: Neural networks are made up of many layers of neurons. Each neuron takes in a set of inputs and produces an output. If the neurons in a neural network were all linear, then the network would only be able to learn linear functions. However, most real-world problems require the ability to learn non-linear functions. Activation functions introduce non-linearity into neural networks, which allows them to learn more complex functions.\n",
    "\n",
    "\n",
    "**To convert inputs into outputs**: The activation function converts the weighted sum of the inputs to a neuron into an output. The output of a neuron can be used as an input to another neuron, or it can be used as the final output of the neural network.\n",
    "\n",
    "\n",
    "**To decide whether a neuron should be activated**: The activation function decides whether a neuron should be activated or not. If the activation function outputs a value greater than a certain threshold, then the neuron is activated. If the activation function outputs a value less than the threshold, then the neuron is not activated."
   ]
  },
  {
   "cell_type": "code",
   "execution_count": null,
   "id": "365ae435",
   "metadata": {},
   "outputs": [],
   "source": []
  },
  {
   "cell_type": "markdown",
   "id": "9f8b257d",
   "metadata": {},
   "source": [
    "### Q) Which activation function and when to use?\n",
    "\n",
    "|Activation Function|Description|When to Use|\n",
    "|---------|----------------------|----------|\n",
    "|Sigmoid|Non-linear function with a sigmoid shape. Output values between 0 and 1.|Classification problems|\n",
    "|Tanh\tS|imilar to the sigmoid function, but has a range of [-1, 1].\t|Classification and regression problems|\n",
    "|ReLU\t|Non-linear function with a linear shape for positive inputs and a zero output for negative inputs. Computationally efficient.\t|Classification and regression problems|\n",
    "|Leaky ReLU\t|Variant of the ReLU function that has a small positive output for negative inputs. Less prone to the vanishing gradient problem than the ReLU function.\t|Classification and regression problems|\n",
    "|Softmax\t|Normalization function that outputs a vector of probabilities that sum to 1.|\tClassification problems|\n",
    "\n",
    "------------------\n",
    "\n",
    "**`Regression`**: ReLU/Leaky ReLU/P ReLU + Linear\n",
    "\n",
    "\n",
    "**`Binary-Classification`**: ReLU/Leaky ReLU/P ReLU + Sigmoid Activation Function\n",
    "    \n",
    "\n",
    "**`Multi-Class Classification`**: ReLU/Leaky ReLU/P ReLU + Softmax Activation Function\n",
    "\n",
    "---------------------\n",
    "\n",
    "1) **`Sigmoid Activation Function`**\n",
    "\n",
    "\n",
    "Equation: σ(x) = 1 / (1 + exp(-x))\n",
    "\n",
    "\n",
    "Range: (0, 1)\n",
    "\n",
    "\n",
    "Derivative Range: (0, 0.25)\n",
    "\n",
    "\n",
    "**`Advantage`**: \n",
    "\n",
    "* The sigmoid function is a non-linear function that has a sigmoid shape.\n",
    "\n",
    "\n",
    "*  it can output values between 0 and 1, which can be interpreted as probabilities.\n",
    "\n",
    "\n",
    "* It is usually used with binary classififcation problem.\n",
    "\n",
    "\n",
    "**`Limitations`**:\n",
    "\n",
    "\n",
    "* Due to low range (0-0.25) the problem of vanishing gradient descent is created.\n",
    "\n",
    "\n",
    "* It doesn't has zero centric curve, it means after applying Sigmoid Activation Function, value of weights always comes in positive only not in negative.\n",
    "\n",
    "\n",
    "* It equation is complex, it means executing time is more.\n",
    "\n",
    "\n",
    "**`Note`**: To deal with problem of zero centric curve, scientist campe up with second activtion function Tanh.\n",
    "\n",
    "----------------\n",
    "\n",
    "2) **`Tanh (Hyperbolic Tangent) Activation Function:`**\n",
    "\n",
    "\n",
    "Equation: tanh(x) = (exp(x) - exp(-x)) / (exp(x) + exp(-x))\n",
    "\n",
    "\n",
    "Range: (-1, 1)\n",
    "\n",
    "\n",
    "Derivative Range: (0, 1)\n",
    "\n",
    "\n",
    "**`Advantage`**:\n",
    "\n",
    "\n",
    "* The tanh function is similar to the sigmoid function, but it has a range of [-1, 1].\n",
    " \n",
    "\n",
    "* It prevents from zero centric curve problem, it means value of weights comes in both postive and negative.\n",
    "\n",
    "\n",
    "* The range is more than sigmoid.\n",
    "\n",
    "\n",
    "* Used in Regression problems\n",
    "\n",
    "\n",
    "**`Limitations`**:\n",
    "\n",
    "\n",
    "* The equation is more complex than sigmoid and take more time in execution.\n",
    "\n",
    "-------------------\n",
    "\n",
    "3) **`ReLU (Rectified Linear Unit) Activation Function`**:\n",
    "\n",
    "\n",
    "Equation: f(x) = max(0, x)\n",
    "\n",
    "\n",
    "Range: [0, +∞)\n",
    "\n",
    "\n",
    "Derivative Range: {0 for x < 0, 1 for x > 0}\n",
    "\n",
    " \n",
    "**`Advantage`**:\n",
    "\n",
    "\n",
    "* This is much faster than Sigmoid and Tanh in execution due to it's simple formula.\n",
    "\n",
    "\n",
    "* The ReLU (Rectified Linear Unit) function is a non-linear function that has a linear shape.\n",
    "\n",
    "\n",
    "* It is a very popular activation function in deep learning, as it is computationally efficient and can help to prevent the vanishing gradient problem.\n",
    "\n",
    "\n",
    "* Usually used in both regression and classification in hidden layer.\n",
    "\n",
    "\n",
    "**`Limitations`**:\n",
    "\n",
    "\n",
    "* Derivative range is 0-1. So, in case if value of derivative is zero than the neuron is destory because in this case old weight = new weight. This is known as died ReLU problem.\n",
    "\n",
    "\n",
    "**`Note`**: To deal with problem of died Relu, scientist came up with Leaky ReLU.\n",
    "\n",
    "--------------------------\n",
    "\n",
    "\n",
    "4) **`Leaky ReLU`**: The Leaky ReLU function is a variant of the ReLU function that has a small positive output for negative inputs. This makes it less prone to the vanishing gradient problem than the ReLU function.\n",
    "\n",
    "Equation: f(x) = max(0.01x, x)\n",
    "\n",
    "\n",
    "Range: [0, +∞)\n",
    "\n",
    "\n",
    "Derivative range: [0.01, 1]\n",
    "\n",
    "\n",
    "**`Advantage`**: \n",
    "\n",
    "\n",
    "* The Leaky ReLU function is a variant of the ReLU activation function.\n",
    "\n",
    "\n",
    "* It solves the problem of died ReLU because it equation is max(0.01x, x), where x can not be 0.\n",
    "\n",
    "\n",
    "* Usually used in both regression and classification in hidden layer.\n",
    "\n",
    "\n",
    "**`Limitations`**:\n",
    "\n",
    "* It is less prone to the vanishing gradient problem than the ReLU function.\n",
    "\n",
    "---------------\n",
    "\n",
    "5) **`ELU (Exponential Linear Unit) Activation Function:`**: \n",
    "\n",
    "Equation: f(x) = α * (exp(x) - 1) for x < 0, x for x >= 0, where α is a small positive constant (e.g., 1.0)\n",
    "\n",
    "\n",
    "Range: (-∞, +∞)\n",
    "\n",
    "\n",
    "Derivative Range: {α * exp(x) for x < 0, 1 for x >= 0}\n",
    "\n",
    "\n",
    "**`Advantage`**: \n",
    "\n",
    "\n",
    "* We can customize the value of α (Alpha).\n",
    "\n",
    "\n",
    "**`Limitations`**:\n",
    "\n",
    "\n",
    "* We can not use it anywhere, means it is not a important activation function.\n",
    "\n",
    "-------------------------\n",
    "\n",
    "6) **`Softmax  Activation Function (for Multiclass Classification)`**\n",
    "\n",
    "Equation: σ(x_i) = exp(x_i) / Σ(exp(x_j)) for all i, where x_i is the input to the i-th class, and the sum is over all classes.\n",
    "\n",
    "\n",
    "Range: (0, 1)\n",
    "\n",
    "\n",
    "Derivative Range: (0, 1)\n",
    "\n",
    "\n",
    "**`Advantage`**: \n",
    "\n",
    "\n",
    "* In formula which label has highest value of x it will take that label as output.\n",
    "\n",
    "\n",
    "* The softmax function is a normalization function that is often used in  multi-class classification problems.\n",
    "\n",
    "\n",
    "* It is  commonly used in the output layer for multi-class classification problems.\n",
    "\n",
    "-----------\n",
    "\n",
    "\n",
    "7) **`Parametric ReLU (PReLU) Activation Function`**: \n",
    "\n",
    "\n",
    "Equation: f(x) = max(αx, x), where α is a learnable parameter during training\n",
    "\n",
    "\n",
    "Range: (-∞, +∞)\n",
    "\n",
    "\n",
    "Derivative Range: {α for x < 0, 1 for x > 0}\n",
    "\n",
    "\n",
    "**`Advantage`**:  \n",
    "\n",
    "* It is the combination of ReLU and Leaky ReLU that has a learnable parameter α (Alpha).\n",
    "\n",
    "\n",
    "* It is used in both in both Regression and classification problem.\n",
    "\n",
    "\n",
    "**`Limitations`**:\n",
    "\n",
    "* We use P ReLU where ReLU and Leaky ReLU fails.\n",
    "\n",
    "\n",
    "8) **`SWISH (Smoothed Exponential Linear Unit)`**:\n",
    "\n",
    "\n",
    "Equation: f(x) = x * sigmoid(x * 3)\n",
    "\n",
    "\n",
    "**`Advantage`**:  \n",
    "\n",
    "\n",
    "* SWISH are non-linear activation functions and advance version of sigmoid function.\n",
    "\n",
    "\n",
    "**`Limitations`**:\n",
    "\n",
    "\n",
    "* This is a relatively new activation function and not as commonly used as the others."
   ]
  },
  {
   "cell_type": "code",
   "execution_count": null,
   "id": "5656d32c",
   "metadata": {},
   "outputs": [],
   "source": []
  },
  {
   "cell_type": "markdown",
   "id": "f3d85697",
   "metadata": {},
   "source": [
    "### Q) What are weights in neural network?\n",
    "\n",
    "\n",
    "In neural networks, weights are the numerical value and hyperparameter parameters that control the strength of the connections between neurons. Weights are updated many times during the learning process. The goal of neural networks is to find the correct set of weights that will allow the neural network to perform better.\n",
    "\n"
   ]
  },
  {
   "cell_type": "code",
   "execution_count": null,
   "id": "04083608",
   "metadata": {},
   "outputs": [],
   "source": []
  },
  {
   "cell_type": "markdown",
   "id": "b247bb8e",
   "metadata": {},
   "source": [
    "### Q) What is bias?\n",
    "\n",
    "\n",
    "\n",
    "Bias is a learnable parameter in neural networks that is used to adjust the weights of the network. Every neuron has its own bias, which is added to the weighted sum of the inputs to the neuron and apply activation function over it to generate output."
   ]
  },
  {
   "cell_type": "code",
   "execution_count": null,
   "id": "236c91a3",
   "metadata": {},
   "outputs": [],
   "source": []
  },
  {
   "cell_type": "markdown",
   "id": "026b2572",
   "metadata": {},
   "source": [
    "### Q) What is Tensor in neural networks?\n",
    "\n",
    "Tensor is a type data structure similar to array or a matrix. Tensors are used to store information and represents input data such as weights, bias, gradients and outputs of neuron.\n",
    "\n",
    "Tensors can have different ranks, which define their dimensions:\n",
    "\n",
    "A rank-0 tensor is a scalar (a single value).\n",
    "\n",
    "\n",
    "A rank-1 tensor is a vector (an array of values).\n",
    "\n",
    "\n",
    "A rank-2 tensor is a matrix (a 2-dimensional array).\n",
    "\n",
    "\n",
    "A rank-3 tensor is a 3-dimensional array, and so on."
   ]
  },
  {
   "cell_type": "code",
   "execution_count": null,
   "id": "e2cdea6a",
   "metadata": {},
   "outputs": [],
   "source": []
  },
  {
   "cell_type": "markdown",
   "id": "56e3e093",
   "metadata": {},
   "source": [
    "### Q) What is Dropout regularization?\n",
    "Dropout regularization is a technique used in neural networks to reduce overfitting. During training, a fraction of randomly selected neurons is temporarily \"dropped out\" or deactivated. This prevents the network from relying too heavily on specific neurons and encourages more robust and generalized learning."
   ]
  },
  {
   "cell_type": "code",
   "execution_count": null,
   "id": "cc188dd2",
   "metadata": {},
   "outputs": [],
   "source": []
  },
  {
   "cell_type": "markdown",
   "id": "9b3e3df8",
   "metadata": {},
   "source": [
    "### Q) What is weight initialization in neural network and types of weight initializers?\n",
    "\n",
    "Weight initialization in neural networks refers to the process of setting initial values for the weights of the connections between neurons. Proper weight initialization is important because it can significantly impact the training dynamics and performance of the neural network.\n",
    "\n",
    "\n",
    "Types of weight initializers include:\n",
    "\n",
    "\n",
    "* **`Random Initialization`**: Weights are initialized with small random values drawn from a uniform or normal distribution.\n",
    "\n",
    "\n",
    "* **`Xavier/Glorot Initialization`**: This method sets the initial weights based on the size of the input and output dimensions of the layer. It is commonly used for layers with the sigmoid or tanh activation functions.\n",
    "\n",
    "\n",
    "* **`He Initialization`**: Similar to Xavier initialization, but it takes into account only the size of the input dimension. It is commonly used for layers with the ReLU activation function."
   ]
  },
  {
   "cell_type": "code",
   "execution_count": null,
   "id": "25e52d11",
   "metadata": {},
   "outputs": [],
   "source": []
  },
  {
   "cell_type": "markdown",
   "id": "7a357622",
   "metadata": {},
   "source": [
    "### Q) What is the rectified linear unit (ReLU) activation function?\n",
    "\n",
    "ReLU is an activation function that outputs the input if it's positive, and zero otherwise."
   ]
  },
  {
   "cell_type": "code",
   "execution_count": null,
   "id": "9feaa264",
   "metadata": {},
   "outputs": [],
   "source": []
  },
  {
   "cell_type": "markdown",
   "id": "f830758b",
   "metadata": {},
   "source": [
    "### Q) What is Out-of-time validation?\n",
    "\n",
    "Out-of-time validation (OTV) is a technique used to evaluate the performance of a machine learning or deep learning model on data that was not seen during training."
   ]
  },
  {
   "cell_type": "code",
   "execution_count": null,
   "id": "4f700bd6",
   "metadata": {},
   "outputs": [],
   "source": []
  },
  {
   "cell_type": "markdown",
   "id": "854387f3",
   "metadata": {},
   "source": [
    "### Q) What is early stopping in neural networks?\n",
    "\n",
    "* Early stopping in neural networks is a technique used during the training process to prevent overfitting and save time and resources. In early stopping we stop the neural network early from trainning to prevent from overfitting.\n",
    "\n",
    "\n",
    "* In early stopping we consider the performance of neural network on validation set and if performance is not increasing by given value of min_delta and patience then it will stop neural network from trainning.\n",
    "\n",
    "\n",
    "* In early stopping we set 2 parameters min_delta and patience. Min_delta means if the performance is this much increasing then consider otherwise not and patience parameter means wait atleast for this value of epochas. "
   ]
  },
  {
   "cell_type": "markdown",
   "id": "1d5dbc85",
   "metadata": {},
   "source": [
    "### Early Stopping Parameters\n",
    "\n",
    "\n",
    "\n"
   ]
  },
  {
   "cell_type": "code",
   "execution_count": null,
   "id": "ad964a3c",
   "metadata": {},
   "outputs": [],
   "source": [
    "callback = EarlyStopping(\n",
    "    monitor='val_loss', # monitor: The metric to monitor during training. 'val_loss' monitors the validation loss\n",
    "    min_delta=0.0001,   # min_delta: The minimum change in the monitored metric to be considered an improvement.\n",
    "    patience=2,         # patience: The number of epochs with no improvement after which training will be stopped.\n",
    "    verbose=1,          # verbose: Set to 1 to print a message when training is stopped due to early stopping.\n",
    "    mode='auto',        # mode: 'auto' (default) automatically detects the direction of improvement (min or max).\n",
    "    baseline=None,      # baseline: The baseline value for the monitored metric. Training will stop if the metric does not improve relative to this baseline.\n",
    "    restore_best_weights=False # restore_best_weights: Whether to restore the model's weights to the ones with the best performance on the validation set."
   ]
  }
 ],
 "metadata": {
  "kernelspec": {
   "display_name": "Python 3 (ipykernel)",
   "language": "python",
   "name": "python3"
  },
  "language_info": {
   "codemirror_mode": {
    "name": "ipython",
    "version": 3
   },
   "file_extension": ".py",
   "mimetype": "text/x-python",
   "name": "python",
   "nbconvert_exporter": "python",
   "pygments_lexer": "ipython3",
   "version": "3.9.13"
  }
 },
 "nbformat": 4,
 "nbformat_minor": 5
}
