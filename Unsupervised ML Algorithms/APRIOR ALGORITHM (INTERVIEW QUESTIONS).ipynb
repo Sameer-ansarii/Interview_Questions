{
 "cells": [
  {
   "cell_type": "markdown",
   "id": "b989c645",
   "metadata": {},
   "source": [
    "### Q) What is Aprior Algorithm?\n",
    "\n",
    "The Apriori algorithm is created by srikant and agrawal in 1994. This algorithm finds the most frequent itemsets in the data and then generates association rules from them. This can be done by using transactional data, such as sales data. This algorithm used to increase the overall sales and promotion of a product."
   ]
  },
  {
   "cell_type": "code",
   "execution_count": null,
   "id": "100a1f5f",
   "metadata": {},
   "outputs": [],
   "source": []
  },
  {
   "cell_type": "markdown",
   "id": "67b547c1",
   "metadata": {},
   "source": [
    "### Q) What is Antecedent and Consequent?\n",
    "\n",
    "* Antecendent and consequent is a condition of logic. Antecendent refers to 'if' and consequent refers to 'then'. In Aprior Algorithm it is also used to give a condition that is A = B doesn't mean B = A.\n",
    "\n",
    "\n",
    "* It means if a customers buys a product A then it is likely to buy product B also but it doesn't mean that if person buy a product B then it is also likely to buy product A.\n",
    "\n",
    "\n",
    "* This a logic in aprior algorithm, which have to understand."
   ]
  },
  {
   "cell_type": "code",
   "execution_count": null,
   "id": "955009e3",
   "metadata": {},
   "outputs": [],
   "source": []
  },
  {
   "cell_type": "markdown",
   "id": "5473db08",
   "metadata": {},
   "source": [
    "### Q) What is Association Rule?\n",
    "\n",
    "Association rule is a technique of data mining used to find the patterns and interesting relations between variables in the data. Eg:- If a person buys a product A and product B together so it will likely to buy product C also.\n",
    "\n",
    "\n",
    "Use of Assosication Rule in Aprior Algorithm:-\n",
    "\n",
    "1) It can help to identify hidden patterns in your data.\n",
    "\n",
    "\n",
    "2) It can help to analize customer behavior.\n",
    "\n",
    "\n",
    "3) It can help to make business decisions better."
   ]
  },
  {
   "cell_type": "code",
   "execution_count": null,
   "id": "8d6bb1a5",
   "metadata": {},
   "outputs": [],
   "source": []
  },
  {
   "cell_type": "markdown",
   "id": "67582951",
   "metadata": {},
   "source": [
    "### What is Support?\n",
    "\n",
    " Support measures the frequeny of a item or itemsets present in the data."
   ]
  },
  {
   "cell_type": "code",
   "execution_count": null,
   "id": "bf15a683",
   "metadata": {},
   "outputs": [],
   "source": []
  },
  {
   "cell_type": "markdown",
   "id": "81369fdd",
   "metadata": {},
   "source": [
    "### What is confidence?\n",
    "\n",
    "Confidence measures the probability of itemsets, means it is used to find the probability that if a product has been purchased then what is the probability for another item is also been purchased along with it. For example, if a customer buys milk, there is a 70% probability that it will also buy bread."
   ]
  },
  {
   "cell_type": "code",
   "execution_count": null,
   "id": "dd0d51cb",
   "metadata": {},
   "outputs": [],
   "source": []
  },
  {
   "cell_type": "markdown",
   "id": "24c46ddb",
   "metadata": {},
   "source": [
    "### What is Lift?\n",
    "\n",
    "* Lift is a measures of strength of an association rule. \n",
    "\n",
    "\n",
    "* Lift is the ratio between support and confidence that means if an item has been purchased than what are the chances that along with that item another item has also been purchased.\n",
    "\n",
    "\n",
    "* If the value of lift is 1, it means there is no relationship between the two items. When the value of lift is greater than 1, it means there is a positive relationship between the two items. When the value of lift is less than 1, it means there is a negative relationship between the two items.\n",
    "\n",
    "\n",
    "* The support of this Association Rule is 0.2, which means that 20% of the transactions contain both bread and milk. The confidence of this rule is 0.75, which means that 75% of the transactions that contain bread also contain milk.The lift of this rule is 3.75, which means that the rule is informative and that bread and milk are likely to be purchase together.\n",
    "\n",
    "\n",
    "* The value range of lift is from 0 to infinity. \n",
    "\n",
    "\n",
    "* Lift can be used to identify strong association rules that can be used to improve business performance. For example, a supermarket could use the lift of the rule \"If a customer buys bread, then they are likely to buy milk\" to place bread and milk near each other in the store. This would make it more likely that customers who buy bread will also buy milk."
   ]
  },
  {
   "cell_type": "code",
   "execution_count": null,
   "id": "b370cadd",
   "metadata": {},
   "outputs": [],
   "source": []
  },
  {
   "cell_type": "markdown",
   "id": "949d7317",
   "metadata": {},
   "source": [
    "### Q) What are the steps of the Apriori Algorithm?\n",
    "\n",
    "The steps involved in the Apriori algorithm are as follows:\n",
    "\n",
    "1) First we have to select a threshold value for support level, means the frequency of a product in the dataset.\n",
    "\n",
    "\n",
    "2) Then it generates a table of 1 itemsets with their frequencies. Among all items we consider only that items which are above the support level.\n",
    "\n",
    "\n",
    "3) Then it genrates a table of 2 itemsets with thier frequencies. In this table only that items are consider which having the above support level in table 1. Then among all items only that items are consider which having the above support level.\n",
    "\n",
    "\n",
    "4) This process of making the frequency table for different values of itemsets is repeated iteratively until no more itemsets can be generated.\n",
    "\n",
    "\n",
    "5) Than we make the subsets of products which are above the support level.\n",
    "\n",
    "\n",
    "6) Then we define a threshold value for confidence.\n",
    "\n",
    "\n",
    "7) Apply confidence on all subset of products which are above support level to make association rule of it.\n",
    "\n",
    "\n",
    "8) Select only that combos of itemset which are above confidence level. \n",
    "\n",
    "\n",
    "9) The confidence of each subset of product is known as association rule.\n",
    "\n",
    "\n",
    "10) Then make strategies to increase sales according given association rules."
   ]
  },
  {
   "cell_type": "code",
   "execution_count": null,
   "id": "dfdaa23a",
   "metadata": {},
   "outputs": [],
   "source": []
  },
  {
   "cell_type": "markdown",
   "id": "5aa603cf",
   "metadata": {},
   "source": [
    "### Q) What are the advantages of the Apriori Algorithm?\n",
    "\n",
    "1) Easy to understand and implement.\n",
    "\n",
    "\n",
    "2) The Apriori algorithm is accurate, and it can find strong association rules.\n",
    "\n",
    "\n",
    "3) It can be used to find association rules in both transactional data and non-transactional data.\n",
    "\n",
    "\n",
    "4) When Apriori Algorithm is used with transcational data it is known as market basket analysis. It can be used to identify patterns in customer behavior, such as what items are often purchased together.\n",
    "\n",
    "\n",
    "5) The Apriori algorithm is used to find the pattern and interesting relationship between products and helps in analizing the products. "
   ]
  },
  {
   "cell_type": "code",
   "execution_count": null,
   "id": "bff0dbd9",
   "metadata": {},
   "outputs": [],
   "source": []
  },
  {
   "cell_type": "markdown",
   "id": "86a6d068",
   "metadata": {},
   "source": [
    "### Q) What are the limitations of the Apriori algorithm?\n",
    "\n",
    "1) The Apriori algorithm can be computationally expensive for large datasets due to its lengthy calculation.\n",
    "\n",
    "\n",
    "2) The Apriori algorithm makes association rules on the basis of the frequency of a product. This means that it does not make any association rules on those products which are not frequent.\n",
    "\n",
    "\n",
    "3) The Apriori algorithm does not consider products of different categories. This means that it cannot make association rules between products of different categories."
   ]
  },
  {
   "cell_type": "code",
   "execution_count": null,
   "id": "a8a490dd",
   "metadata": {},
   "outputs": [],
   "source": []
  },
  {
   "cell_type": "markdown",
   "id": "c4848a37",
   "metadata": {},
   "source": [
    "### Q) How to deal with the limitation of Aprior Algorithm?\n",
    "\n",
    "To deal with the limitations of the Apriori algorithm, you can use the following techniques:\n",
    "\n",
    "1) Use a clustering algorithm: You can use a clustering algorithm to group products into categories. This will allow you to apply the Apriori algorithm to each category separately.\n",
    "\n",
    "\n",
    "2) Use a less threshold value for support, it helps in consider the low frequency products.\n",
    "\n",
    "\n",
    "3) USe a high threshold value for confidence to filter strong association rules."
   ]
  },
  {
   "cell_type": "code",
   "execution_count": null,
   "id": "5fcdbfb5",
   "metadata": {},
   "outputs": [],
   "source": []
  }
 ],
 "metadata": {
  "kernelspec": {
   "display_name": "Python 3 (ipykernel)",
   "language": "python",
   "name": "python3"
  },
  "language_info": {
   "codemirror_mode": {
    "name": "ipython",
    "version": 3
   },
   "file_extension": ".py",
   "mimetype": "text/x-python",
   "name": "python",
   "nbconvert_exporter": "python",
   "pygments_lexer": "ipython3",
   "version": "3.9.13"
  }
 },
 "nbformat": 4,
 "nbformat_minor": 5
}
