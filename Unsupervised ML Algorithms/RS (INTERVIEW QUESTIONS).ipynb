{
 "cells": [
  {
   "cell_type": "markdown",
   "id": "72a92cc6",
   "metadata": {},
   "source": [
    "Q) What is Recommendation System?\n",
    "\n",
    "* Recommendation systems are the algorithms which are used to give recommendations or suggestions to user based on their preferences, behaviour, or similarities to other users.\n",
    "\n",
    "\n",
    "* These systems can be usedin various domains, like e-commerce, streaming platforms like netflix and amazon prime, social media, and more. "
   ]
  },
  {
   "cell_type": "code",
   "execution_count": null,
   "id": "154077de",
   "metadata": {},
   "outputs": [],
   "source": []
  },
  {
   "cell_type": "markdown",
   "id": "2726ba7b",
   "metadata": {},
   "source": [
    "Q) What are the different types of Recommendation system?\n",
    "\n",
    "1) Popularity Based Recommendation System:- It gives suggestions and recommendations of things which are most popular and are in trending among all. It doesn't consider individual user preferences but focuses on overall popularity. Eg:- When you open youtube with guest account it will shows that videos which are in trending and popular among all videos.\n",
    "\n",
    "\n",
    "2) Content Based Recommendation System: This type of RS suggests or recommend products, videos, content of similar kind, which user search for. Eg:- In netflix when you searches for a movie, it will show movies which are  similar.\n",
    "\n",
    "\n",
    "3) Collabrative Filtering: This type of RS finds the similarities between users and according to that it will suggests products, videos, content to users. Example:- There are 2 users who watched or purchased 5 movies or itproductsems, 4 of the movies or products are same among them, so it will recommend or suggests 1 movie and product which are not similar among them. There are 2 types of Collabrative Filtering RS.\n",
    "\n",
    "a) User Based:- The above example is of user based collabrative filtering RS.\n",
    "\n",
    "\n",
    "b) Item Based:- In this type of RS we have make matrix of products called User Item Interaction Matrix, which show the user vertically and items purcased by them or movies watched by them horizontally, in this matrix the values are given as 0 or 1.\n",
    "Then algorithm analize the trends and patterns in this matrix. Then it will suggests or recommends things based on their analysis. Example:- If a person purchased a product, RS will suggests some other products related to that product. It analizes in User Item Interaction Matrix that many people purchased similar product along with that products, so it will suggest you that products also.\n",
    "\n",
    "\n",
    "4) Hybrid Recommendation System:- In this RS we combine RS's given above, whether we combine any of 2 or all these, and give some weightage to them according to our need. Ideally we combine all 3 of these and give them equal weightage which is 33.33%."
   ]
  },
  {
   "cell_type": "markdown",
   "id": "d0b2cb9d",
   "metadata": {},
   "source": [
    "##  Same answer is given by chat gpt in simple words.\n",
    "\n",
    "1) Popularity-Based Recommendation System: It suggests items based on their popularity among all users. It doesn't consider individual user preferences but focuses on overall popularity.\n",
    "\n",
    "\n",
    "2) Content-Based Recommendation System: It suggests items similar to what the user has searched for or shown interest in.\n",
    "\n",
    "\n",
    "3) Collaborative Filtering: It finds similarities between users or items to make recommendations. However, it's worth noting that there are two types of collaborative filtering: user-based and item-based.\n",
    "\n",
    "a) User-Based Collaborative Filtering: It finds similarities between users based on their preferences and recommends items liked by similar users.\n",
    "\n",
    "b) Item-Based Collaborative Filtering: It analyzes the relationships between items based on user interactions and recommends similar items.\n",
    "\n",
    "4) Hybrid Recommendation System: It combines multiple recommendation techniques, such as collaborative filtering and content-based filtering, to provide more accurate and diverse recommendations. The combination and weightage of different techniques can vary based on the system's requirements."
   ]
  },
  {
   "cell_type": "code",
   "execution_count": null,
   "id": "0f3b8fd0",
   "metadata": {},
   "outputs": [],
   "source": []
  }
 ],
 "metadata": {
  "kernelspec": {
   "display_name": "Python 3 (ipykernel)",
   "language": "python",
   "name": "python3"
  },
  "language_info": {
   "codemirror_mode": {
    "name": "ipython",
    "version": 3
   },
   "file_extension": ".py",
   "mimetype": "text/x-python",
   "name": "python",
   "nbconvert_exporter": "python",
   "pygments_lexer": "ipython3",
   "version": "3.9.13"
  }
 },
 "nbformat": 4,
 "nbformat_minor": 5
}
