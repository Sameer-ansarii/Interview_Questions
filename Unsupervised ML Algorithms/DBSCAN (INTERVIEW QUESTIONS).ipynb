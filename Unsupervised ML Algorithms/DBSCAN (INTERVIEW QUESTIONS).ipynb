{
 "cells": [
  {
   "cell_type": "markdown",
   "id": "bd9f17c1",
   "metadata": {},
   "source": [
    "# Basic Terminologies of DBSCAN\n",
    "\n",
    "1) Epsilon (ε):- Radius\n",
    "    \n",
    "\n",
    "2) Minimum Points:- n number of minimum points present in the circle of epsilon to became the part of cluster otherwise not consider data points in a  cluster.\n",
    "\n",
    "\n",
    "3) Core Point:- From the data point it measures the epsilon around, is known as core point.\n",
    "\n",
    "\n",
    "4) Border Point:- Data points present at the border of a cluster.\n",
    "\n",
    "\n",
    "5) Noise:- Noise are the data points which are not capture by any of the cluster consider as outliers."
   ]
  },
  {
   "cell_type": "code",
   "execution_count": null,
   "id": "4d45f172",
   "metadata": {},
   "outputs": [],
   "source": []
  },
  {
   "cell_type": "markdown",
   "id": "9aaf181f",
   "metadata": {},
   "source": [
    "Q) What is DBSCAN clustering algorithm?\n",
    "\n",
    "* DBSCAN (Density-Based Spatial Clustering of Applications with Noise) is a density-based clustering algorithm used in unsupervised machine learning to make clusters of a dataset.\n",
    "\n",
    "\n",
    "* The algorithm make clusters on the basis of density(epsilon) value given by user. Density value means epsilon value which also known as the radius.\n",
    "\n",
    "\n",
    "* DBSCAN takes two main parameters: epsilon (ε) and minimum points (MinPts). Epsilon is the radius around each point and (MinPts) is the minimum number of data points required to form a cluster which are present in the circle of epsilon.\n",
    "\n",
    "\n",
    "* Points that do not belong to any cluster are considere as noise or outliers.\n",
    "\n",
    "\n",
    "* DBSCAN has the advantage of identify random shaped clusters and identify noise or outliers in the data."
   ]
  },
  {
   "cell_type": "code",
   "execution_count": null,
   "id": "f097c59c",
   "metadata": {},
   "outputs": [],
   "source": []
  },
  {
   "cell_type": "markdown",
   "id": "c75fdf95",
   "metadata": {},
   "source": [
    "Q) What are the advantages of using DBSCAN over other clustering algorithms?\n",
    "\n",
    "The advantages of using DBSCAN over other clustering algorithms are:-\n",
    " \n",
    "\n",
    "1) DBSCAN can identify clusters of any shape and size, not just circular or spherical clusters.\n",
    "\n",
    "\n",
    "2) DBSCAN can handle noise and outliers in the data by classifying them as noise points.\n",
    "\n",
    "\n",
    "3) DBSCAN does not require the number of clusters to be specified beforehand, unlike K-Means algorithms."
   ]
  },
  {
   "cell_type": "code",
   "execution_count": null,
   "id": "e590321c",
   "metadata": {},
   "outputs": [],
   "source": []
  },
  {
   "cell_type": "markdown",
   "id": "b8afd694",
   "metadata": {},
   "source": [
    "Q) What are the disadvantages of using DBSCAN clustering algorithm?\n",
    "\n",
    "The disadvantages of using DBSCAN clustering algorithm are:-\n",
    "\n",
    "1) We have to specify the correct value of epsilon and minimum points because if we give any random value in these parameters will result in bad clusters formation.\n",
    "\n",
    "\n",
    "2) DBSCAN may not work well for high-dimensional datasets, because in high dimensional data points are tightly packed and very closer to each other."
   ]
  },
  {
   "cell_type": "code",
   "execution_count": null,
   "id": "673905b9",
   "metadata": {},
   "outputs": [],
   "source": []
  },
  {
   "cell_type": "markdown",
   "id": "78464e73",
   "metadata": {},
   "source": [
    "Q) What is the main difference between DBSCAN and K-means clustering algorithms?\n",
    "\n",
    "* The main difference between DBSCAN and K-means clustering algorithms is that K-means is a centroid-based clustering algorithm, whereas DBSCAN is a density-based clustering algorithm. \n",
    "\n",
    "\n",
    "* K-means algorithm requires the number of clusters to be specified beforehand, whereas DBSCAN does not. \n",
    "\n",
    "\n",
    "* In DBSCAN, clusters are formed based on the density of data points, whereas in K-means, clusters are formed based on the distance between data points and cluster's centroids."
   ]
  },
  {
   "cell_type": "code",
   "execution_count": null,
   "id": "0ab4956d",
   "metadata": {},
   "outputs": [],
   "source": []
  },
  {
   "cell_type": "markdown",
   "id": "63379924",
   "metadata": {},
   "source": [
    "Q) What is the significance of the epsilon parameter in DBSCAN?\n",
    "\n",
    "The epsilon parameter in DBSCAN indicates the radius of core points.\n",
    "\n",
    "\n",
    "1) A high epsilon value results in:-\n",
    "\n",
    "* Results in fewer clusters being formed because points that are further away from each other will not be considered neighbors.\n",
    "\n",
    "\n",
    "* Can lead to a single large cluster or no cluster formation at all.\n",
    "\n",
    "\n",
    "* Detects fewer outliers because more data points are considered part of the same cluster.\n",
    "\n",
    "2) A low epsilon value results in :-\n",
    "\n",
    "* More clusters formation \n",
    "\n",
    "\n",
    "* Detects more outliers because points that are not part of a cluster are considered noise."
   ]
  },
  {
   "cell_type": "code",
   "execution_count": null,
   "id": "15507101",
   "metadata": {},
   "outputs": [],
   "source": []
  },
  {
   "cell_type": "markdown",
   "id": "dd914319",
   "metadata": {},
   "source": [
    "Q) What is the significance of min_samples or minimum points in DBSCAN?\n",
    "\n",
    "\n",
    "1) A low value of min_samples will result in:-\n",
    "\n",
    "* Big clusters being formed beacuse more points will be considered core points. \n",
    "\n",
    "\n",
    "* noise points consider as a part of clusters.\n",
    "\n",
    "2) A high value of min_samples will result in:-\n",
    "\n",
    "* Small clusters being formed\n",
    "\n",
    "\n",
    "* Due to high value of min_samples many points are not consider as a part of cluster which detects as a noise."
   ]
  },
  {
   "cell_type": "code",
   "execution_count": null,
   "id": "c9c9e589",
   "metadata": {},
   "outputs": [],
   "source": []
  },
  {
   "cell_type": "markdown",
   "id": "00e0e767",
   "metadata": {},
   "source": [
    "Q) How to select appropriate value of epsilon?\n",
    "\n",
    "1) Scree Plot of Epsilon Values against the Percentage of Points Classified as Outliers to determine the appropriate epsilon value.\n",
    "\n",
    "\n",
    "2) Grid search: Perform a grid search over a range of epsilon values and evaluate the clustering performance using a Silhouette Score. The value of epsilon that gives the best performance can be selected as the appropriate value.\n",
    "\n",
    "\n",
    "3) Scree Plot of Epsilon Value against the Epsilon values to determine the appropriate epsilon value."
   ]
  },
  {
   "cell_type": "code",
   "execution_count": null,
   "id": "bdf55285",
   "metadata": {},
   "outputs": [],
   "source": []
  },
  {
   "cell_type": "markdown",
   "id": "373e2ad3",
   "metadata": {},
   "source": [
    "Q) How to get the correct value of min_samples parameter in DBSCAN?\n",
    "\n",
    "* A good 'min_samples' number is two times the number of features (columns).\n",
    "\n",
    "\n",
    "* After finding the appropriate value of epsilon, make a Scree Plot of minimum points against the Silhouette Score to determine the appropriate min_samples value."
   ]
  },
  {
   "cell_type": "code",
   "execution_count": null,
   "id": "0c980ba7",
   "metadata": {},
   "outputs": [],
   "source": []
  },
  {
   "cell_type": "markdown",
   "id": "6b422134",
   "metadata": {},
   "source": [
    "Q) What is rand index?\n",
    "\n",
    "Rand Index:-\n",
    " \n",
    "* Performance metric used to evaluate the quality of clusters.\n",
    "\n",
    "\n",
    "* Compares predicted cluster labels with true cluster labels.\n",
    "\n",
    "\n",
    "* Used to compare the results of different clustering algorithms. \n",
    "\n",
    "\n",
    "* Value ranges from 0 to 1, where a higher value indicates more similarities between clustering results.\n",
    "\n",
    "\n",
    "Adjusted Rand Index:-\n",
    "\n",
    "* Improved version of the Rand Index.\n",
    "\n",
    "\n",
    "* Value ranges from -1 to 1, where a value closer to 1 indicates more similarities between clustering results."
   ]
  },
  {
   "cell_type": "code",
   "execution_count": null,
   "id": "9cdcf3b8",
   "metadata": {},
   "outputs": [],
   "source": []
  }
 ],
 "metadata": {
  "kernelspec": {
   "display_name": "Python 3 (ipykernel)",
   "language": "python",
   "name": "python3"
  },
  "language_info": {
   "codemirror_mode": {
    "name": "ipython",
    "version": 3
   },
   "file_extension": ".py",
   "mimetype": "text/x-python",
   "name": "python",
   "nbconvert_exporter": "python",
   "pygments_lexer": "ipython3",
   "version": "3.9.13"
  }
 },
 "nbformat": 4,
 "nbformat_minor": 5
}
