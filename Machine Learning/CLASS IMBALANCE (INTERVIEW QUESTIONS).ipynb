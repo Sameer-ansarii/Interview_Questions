{
 "cells": [
  {
   "cell_type": "markdown",
   "id": "098f0bcc",
   "metadata": {},
   "source": [
    "### Q) What is class imbalance in machine learning?\n",
    "Class imbalance refers to a situation where the classes in a classification problem are not represented equally. One class (the majority class) has significantly more samples than the other class(es) (the minority class(es)). Class imbalance can pose challenges for machine learning algorithms, as they tend to be biased towards the majority class and have lower predictive performance for the minority class."
   ]
  },
  {
   "cell_type": "code",
   "execution_count": null,
   "id": "afcf496a",
   "metadata": {},
   "outputs": [],
   "source": []
  },
  {
   "cell_type": "markdown",
   "id": "7b4bfb5c",
   "metadata": {},
   "source": [
    "### Q) Why is class imbalance a problem in machine learning?\n",
    "Class imbalance can lead to biased models that have poor performance on the minority class. The model tends to predict the majority class most of the time, resulting in low sensitivity/recall for the minority class and a high false negative rate. Class imbalance can also cause issues with model evaluation metrics, such as accuracy, as even a simple majority class prediction can yield high accuracy due to the imbalanced class distribution."
   ]
  },
  {
   "cell_type": "code",
   "execution_count": null,
   "id": "caa883f3",
   "metadata": {},
   "outputs": [],
   "source": []
  },
  {
   "cell_type": "markdown",
   "id": "6267d443",
   "metadata": {},
   "source": [
    "### Q) What are undersampling and oversampling techniques?\n",
    "Undersampling and oversampling are techniques used to address class imbalance in machine learning:\n",
    "\n",
    "* Undersampling involves reducing the number of samples in the majority class to make it more balanced with the minority class.\n",
    "\n",
    "\n",
    "* Oversampling involves increasing the number of samples in the minority class to balance it with the majority class."
   ]
  },
  {
   "cell_type": "code",
   "execution_count": null,
   "id": "364b4a77",
   "metadata": {},
   "outputs": [],
   "source": []
  },
  {
   "cell_type": "markdown",
   "id": "5f891825",
   "metadata": {},
   "source": [
    "### Q) What is the goal of undersampling?\n",
    "The goal of undersampling is to create a balanced dataset by reducing the number of samples in the majority class. By undersampling, we aim to eliminate the bias towards the majority class and give equal importance to both classes during model training. This helps the model learn the patterns and characteristics of the minority class more effectively."
   ]
  },
  {
   "cell_type": "code",
   "execution_count": null,
   "id": "3746a00e",
   "metadata": {},
   "outputs": [],
   "source": []
  },
  {
   "cell_type": "markdown",
   "id": "03bec966",
   "metadata": {},
   "source": [
    "### Q) What is the goal of oversampling?\n",
    "The goal of oversampling is to address class imbalance by increasing the number of samples in the minority class. By replicating or synthesizing new instances of the minority class, oversampling ensures that the model receives sufficient exposure to the minority class, improving its ability to learn the distinguishing features and make accurate predictions for that class."
   ]
  },
  {
   "cell_type": "code",
   "execution_count": null,
   "id": "e5f6ef62",
   "metadata": {},
   "outputs": [],
   "source": []
  },
  {
   "cell_type": "markdown",
   "id": "c12c6ef2",
   "metadata": {},
   "source": [
    "### Q) What are some commonly used undersampling techniques?\n",
    "Some commonly used undersampling techniques include:\n",
    "\n",
    "* Random Undersampling: Randomly selects a subset of samples from the majority class to match the size of the minority class.\n",
    "\n",
    "\n",
    "* Tomek Links: Identifies pairs of samples from different classes that are closest to each other and removes the majority class samples to make the boundary clearer.\n",
    "\n",
    "\n",
    "* Cluster Centroids: Uses clustering algorithms to identify clusters of majority class samples and reduces them to a representative subset."
   ]
  },
  {
   "cell_type": "code",
   "execution_count": null,
   "id": "a4d270d7",
   "metadata": {},
   "outputs": [],
   "source": []
  },
  {
   "cell_type": "markdown",
   "id": "c91b00a2",
   "metadata": {},
   "source": [
    "### Q) What are some commonly used oversampling techniques?\n",
    "Some commonly used oversampling techniques include:\n",
    "\n",
    "* Random Oversampling: Randomly replicates samples from the minority class to increase its representation in the dataset.\n",
    "\n",
    "\n",
    "* SMOTE (Synthetic Minority Over-sampling Technique): Generates synthetic samples by interpolating between neighboring minority class samples.\n",
    "\n",
    "\n",
    "* ADASYN (Adaptive Synthetic Sampling): Similar to SMOTE, but gives more focus to the samples that are harder to learn by generating more synthetic samples for them."
   ]
  },
  {
   "cell_type": "code",
   "execution_count": null,
   "id": "a2138cc1",
   "metadata": {},
   "outputs": [],
   "source": []
  },
  {
   "cell_type": "markdown",
   "id": "bee9a69e",
   "metadata": {},
   "source": [
    "### Q) What are the advantages and disadvantages of undersampling and oversampling?\n",
    "\n",
    "Advantages of undersampling:\n",
    "\n",
    "* It reduces the computational complexity and training time since the dataset size is reduced.\n",
    "\n",
    "\n",
    "* It can help mitigate the impact of noisy or irrelevant majority class samples.\n",
    "\n",
    "Disadvantages of undersampling:\n",
    "\n",
    "* It can lead to the loss of potentially important information from the majority class.\n",
    "\n",
    "\n",
    "* It may result in underutilization of available data, especially if the majority class is already limited.\n",
    "\n",
    "Advantages of oversampling:\n",
    "\n",
    "* It increases the representation of the minority class, allowing the model to learn its patterns more effectively.\n",
    "\n",
    "\n",
    "* It retains all available data, preventing information loss.\n",
    "\n",
    "Disadvantages of oversampling:\n",
    "\n",
    "\n",
    "* Oversampling can increase the risk of overgeneralization if the minority class is already well-represented in the training data."
   ]
  },
  {
   "cell_type": "code",
   "execution_count": null,
   "id": "81457d16",
   "metadata": {},
   "outputs": [],
   "source": []
  }
 ],
 "metadata": {
  "kernelspec": {
   "display_name": "Python 3 (ipykernel)",
   "language": "python",
   "name": "python3"
  },
  "language_info": {
   "codemirror_mode": {
    "name": "ipython",
    "version": 3
   },
   "file_extension": ".py",
   "mimetype": "text/x-python",
   "name": "python",
   "nbconvert_exporter": "python",
   "pygments_lexer": "ipython3",
   "version": "3.9.13"
  }
 },
 "nbformat": 4,
 "nbformat_minor": 5
}
