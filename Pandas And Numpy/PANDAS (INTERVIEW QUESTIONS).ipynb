{
 "cells": [
  {
   "cell_type": "markdown",
   "id": "7551512c",
   "metadata": {},
   "source": [
    "### Q) What is Pandas and it's use?\n",
    "\n",
    "* Pandas is an open-source data manipulation and analysis library in Python. \n",
    "\n",
    "It's use:-\n",
    "\n",
    "1) We can handle structure data in form of tables in pandas. \n",
    "\n",
    "\n",
    "2) We can perform many data manipulation and data analysis tasks using pandas, such as dropping column, checking the null values in the data and fill it, check the skewness of a particular variable, check data types of all columns and many more things we can perfrom using pandas library.\n",
    "\n",
    "\n",
    "3) Pandas library is widely used in data science, finance, and many other fields for data analysis and data manipulation tasks."
   ]
  },
  {
   "cell_type": "markdown",
   "id": "24696b9d",
   "metadata": {},
   "source": [
    "### Q) What are the different data structures in Pandas?\n",
    "\n",
    "The two main data structures in Pandas are the Series and the DataFrame.\n",
    "\n",
    "* A Series is a one-dimensional array of data. Series is looks like a single column.\n",
    "\n",
    "\n",
    "* A DataFrame is a two-dimensional array of data. Dataframe is looks like a table."
   ]
  },
  {
   "cell_type": "code",
   "execution_count": 43,
   "id": "49881368",
   "metadata": {},
   "outputs": [
    {
     "data": {
      "text/plain": [
       "0    1\n",
       "1    2\n",
       "2    3\n",
       "3    4\n",
       "4    5\n",
       "dtype: int64"
      ]
     },
     "execution_count": 43,
     "metadata": {},
     "output_type": "execute_result"
    }
   ],
   "source": [
    "series = pd.Series([1, 2, 3, 4, 5])\n",
    "series"
   ]
  },
  {
   "cell_type": "markdown",
   "id": "9c9b0c52",
   "metadata": {},
   "source": [
    "### Q) What are the significant features of the Pandas library?\n",
    "\n",
    "**High-performance data manipulation:** Pandas is very efficient at manipulating data.\n",
    "\n",
    "\n",
    "**Easy-to-use data analysis tools:** Pandas provides a wide range of data analysis tools, making it easy to perform statistical analysis on data.\n",
    "\n",
    "\n",
    "**Flexible data structures:** Pandas data structures are flexible and can be easily used to represent a variety of data types.\n",
    "Widely used: Pandas is widely used by data scientists and machine learning engineers."
   ]
  },
  {
   "cell_type": "markdown",
   "id": "b36eb86c",
   "metadata": {},
   "source": [
    "### Q) What are the advantages of using Pandas over other data analysis libraries?\n",
    "\n",
    "* It is easy to use.\n",
    "\n",
    "\n",
    "* It is fast.\n",
    "\n",
    "\n",
    "* It is flexible,it means we can use variety of data types.\n",
    "\n",
    "\n",
    "* It is widely used. \n"
   ]
  },
  {
   "cell_type": "markdown",
   "id": "bcc67f2a",
   "metadata": {},
   "source": [
    "### Q) What are some of the limitations of Pandas?\n",
    "\n",
    "\n",
    "**It can be memory-intensive:** Pandas data structures can be large, so it is important to be aware of memory usage when working with Pandas.\n",
    "\n",
    "\n",
    "**It is not as powerful as some other data analysis libraries:** Pandas is not as powerful as some other data analysis libraries, such as R or MATLAB.\n",
    "\n",
    "\n",
    "**It is not as well-suited for some tasks:** Pandas is not as well-suited for some tasks, such as machine learning, because it takes much time to train a model."
   ]
  },
  {
   "cell_type": "markdown",
   "id": "aee99ee3",
   "metadata": {},
   "source": [
    "### Q) How would you use Pandas to solve a real-world problem?\n",
    "\n",
    "\n",
    "* Data cleaning\n",
    "\n",
    "\n",
    "* Data analysis\n",
    "\n",
    "\n",
    "* Machine learning"
   ]
  },
  {
   "cell_type": "markdown",
   "id": "0b98a162",
   "metadata": {},
   "source": [
    "### Q) What are some of the best practices for using Pandas?"
   ]
  },
  {
   "cell_type": "markdown",
   "id": "087c11e9",
   "metadata": {},
   "source": [
    "**Use the right data structures:** Pandas has different data structures for different tasks. Use the right data structure for the task at hand.\n",
    "\n",
    "\n",
    "**Be aware of memory usage:** Pandas data structures can be large, so it is important to be aware of memory usage when working with Pandas.\n",
    "\n",
    "\n",
    "**Use the right tools:** Pandas has a variety of tools for different tasks. Use the right tools for the task at hand.\n",
    "\n",
    "\n",
    "**Document your code:** Pandas code can be complex. Document your code to make it easier to understand and maintain."
   ]
  },
  {
   "cell_type": "markdown",
   "id": "2b736905",
   "metadata": {},
   "source": [
    "### Q) How to create Dataframe in pandas?\n",
    "\n"
   ]
  },
  {
   "cell_type": "code",
   "execution_count": 1,
   "id": "55eda176",
   "metadata": {},
   "outputs": [
    {
     "data": {
      "text/html": [
       "<div>\n",
       "<style scoped>\n",
       "    .dataframe tbody tr th:only-of-type {\n",
       "        vertical-align: middle;\n",
       "    }\n",
       "\n",
       "    .dataframe tbody tr th {\n",
       "        vertical-align: top;\n",
       "    }\n",
       "\n",
       "    .dataframe thead th {\n",
       "        text-align: right;\n",
       "    }\n",
       "</style>\n",
       "<table border=\"1\" class=\"dataframe\">\n",
       "  <thead>\n",
       "    <tr style=\"text-align: right;\">\n",
       "      <th></th>\n",
       "      <th>Name</th>\n",
       "      <th>Age</th>\n",
       "    </tr>\n",
       "  </thead>\n",
       "  <tbody>\n",
       "    <tr>\n",
       "      <th>0</th>\n",
       "      <td>Sameer</td>\n",
       "      <td>23</td>\n",
       "    </tr>\n",
       "    <tr>\n",
       "      <th>1</th>\n",
       "      <td>Faiz</td>\n",
       "      <td>24</td>\n",
       "    </tr>\n",
       "    <tr>\n",
       "      <th>2</th>\n",
       "      <td>Shuaib</td>\n",
       "      <td>25</td>\n",
       "    </tr>\n",
       "  </tbody>\n",
       "</table>\n",
       "</div>"
      ],
      "text/plain": [
       "     Name  Age\n",
       "0  Sameer   23\n",
       "1    Faiz   24\n",
       "2  Shuaib   25"
      ]
     },
     "execution_count": 1,
     "metadata": {},
     "output_type": "execute_result"
    }
   ],
   "source": [
    "# We can create Dataframe by using pd.DataFrame() Function. The code will be:-\n",
    "\n",
    "import pandas as pd\n",
    "\n",
    "df = pd.DataFrame({'Name':['Sameer','Faiz','Shuaib'], 'Age':[23,24,25]})\n",
    "df"
   ]
  },
  {
   "cell_type": "code",
   "execution_count": 2,
   "id": "4f128d43",
   "metadata": {},
   "outputs": [
    {
     "data": {
      "text/html": [
       "<div>\n",
       "<style scoped>\n",
       "    .dataframe tbody tr th:only-of-type {\n",
       "        vertical-align: middle;\n",
       "    }\n",
       "\n",
       "    .dataframe tbody tr th {\n",
       "        vertical-align: top;\n",
       "    }\n",
       "\n",
       "    .dataframe thead th {\n",
       "        text-align: right;\n",
       "    }\n",
       "</style>\n",
       "<table border=\"1\" class=\"dataframe\">\n",
       "  <thead>\n",
       "    <tr style=\"text-align: right;\">\n",
       "      <th></th>\n",
       "      <th>Name</th>\n",
       "      <th>Age</th>\n",
       "      <th>City</th>\n",
       "    </tr>\n",
       "  </thead>\n",
       "  <tbody>\n",
       "    <tr>\n",
       "      <th>0</th>\n",
       "      <td>John</td>\n",
       "      <td>25</td>\n",
       "      <td>New York</td>\n",
       "    </tr>\n",
       "    <tr>\n",
       "      <th>1</th>\n",
       "      <td>Emma</td>\n",
       "      <td>28</td>\n",
       "      <td>London</td>\n",
       "    </tr>\n",
       "    <tr>\n",
       "      <th>2</th>\n",
       "      <td>David</td>\n",
       "      <td>31</td>\n",
       "      <td>Paris</td>\n",
       "    </tr>\n",
       "    <tr>\n",
       "      <th>3</th>\n",
       "      <td>Sophia</td>\n",
       "      <td>24</td>\n",
       "      <td>Sydney</td>\n",
       "    </tr>\n",
       "  </tbody>\n",
       "</table>\n",
       "</div>"
      ],
      "text/plain": [
       "     Name  Age      City\n",
       "0    John   25  New York\n",
       "1    Emma   28    London\n",
       "2   David   31     Paris\n",
       "3  Sophia   24    Sydney"
      ]
     },
     "execution_count": 2,
     "metadata": {},
     "output_type": "execute_result"
    }
   ],
   "source": [
    "df = pd.DataFrame({'Name': ['John', 'Emma', 'David', 'Sophia'],\n",
    "        'Age': [25, 28, 31, 24],\n",
    "        'City': ['New York', 'London', 'Paris', 'Sydney']})\n",
    "\n",
    "df"
   ]
  },
  {
   "cell_type": "markdown",
   "id": "deaa0795",
   "metadata": {},
   "source": [
    "### Q) How to import data in pandas?\n",
    "\n"
   ]
  },
  {
   "cell_type": "raw",
   "id": "d057f437",
   "metadata": {},
   "source": [
    "Import pandas as pd\n",
    "\n",
    "df = pd.read_csv(r'File_location/File_name.csv')\n",
    "\n",
    "df.head()"
   ]
  },
  {
   "cell_type": "markdown",
   "id": "4aaf2443",
   "metadata": {},
   "source": [
    "### Q) How do you save a DataFrame to a CSV file using pandas?\n"
   ]
  },
  {
   "cell_type": "code",
   "execution_count": 41,
   "id": "b7c1320b",
   "metadata": {},
   "outputs": [],
   "source": [
    "df.to_csv('output.csv', index=False)"
   ]
  },
  {
   "cell_type": "markdown",
   "id": "c12759e2",
   "metadata": {},
   "source": [
    "### Q) How do you rename columns in a DataFrame in pandas?"
   ]
  },
  {
   "cell_type": "markdown",
   "id": "b89ed2db",
   "metadata": {},
   "source": [
    "df = df.rename(columns={'old_column_name': 'new_column_name'})"
   ]
  },
  {
   "cell_type": "markdown",
   "id": "9d9ae9ae",
   "metadata": {},
   "source": [
    "### Q) How to select particular columns in pandas?\n",
    "\n"
   ]
  },
  {
   "cell_type": "code",
   "execution_count": 3,
   "id": "a1247e27",
   "metadata": {},
   "outputs": [
    {
     "data": {
      "text/html": [
       "<div>\n",
       "<style scoped>\n",
       "    .dataframe tbody tr th:only-of-type {\n",
       "        vertical-align: middle;\n",
       "    }\n",
       "\n",
       "    .dataframe tbody tr th {\n",
       "        vertical-align: top;\n",
       "    }\n",
       "\n",
       "    .dataframe thead th {\n",
       "        text-align: right;\n",
       "    }\n",
       "</style>\n",
       "<table border=\"1\" class=\"dataframe\">\n",
       "  <thead>\n",
       "    <tr style=\"text-align: right;\">\n",
       "      <th></th>\n",
       "      <th>Name</th>\n",
       "      <th>Age</th>\n",
       "    </tr>\n",
       "  </thead>\n",
       "  <tbody>\n",
       "    <tr>\n",
       "      <th>0</th>\n",
       "      <td>John</td>\n",
       "      <td>25</td>\n",
       "    </tr>\n",
       "    <tr>\n",
       "      <th>1</th>\n",
       "      <td>Emma</td>\n",
       "      <td>28</td>\n",
       "    </tr>\n",
       "    <tr>\n",
       "      <th>2</th>\n",
       "      <td>David</td>\n",
       "      <td>31</td>\n",
       "    </tr>\n",
       "    <tr>\n",
       "      <th>3</th>\n",
       "      <td>Sophia</td>\n",
       "      <td>24</td>\n",
       "    </tr>\n",
       "  </tbody>\n",
       "</table>\n",
       "</div>"
      ],
      "text/plain": [
       "     Name  Age\n",
       "0    John   25\n",
       "1    Emma   28\n",
       "2   David   31\n",
       "3  Sophia   24"
      ]
     },
     "execution_count": 3,
     "metadata": {},
     "output_type": "execute_result"
    }
   ],
   "source": [
    "Columns = df[['Name','Age']]\n",
    "Columns"
   ]
  },
  {
   "cell_type": "markdown",
   "id": "3665508d",
   "metadata": {},
   "source": [
    "### Q) How do you add a new column to an existing DataFrame?"
   ]
  },
  {
   "cell_type": "code",
   "execution_count": 50,
   "id": "58b13425",
   "metadata": {},
   "outputs": [
    {
     "data": {
      "text/html": [
       "<div>\n",
       "<style scoped>\n",
       "    .dataframe tbody tr th:only-of-type {\n",
       "        vertical-align: middle;\n",
       "    }\n",
       "\n",
       "    .dataframe tbody tr th {\n",
       "        vertical-align: top;\n",
       "    }\n",
       "\n",
       "    .dataframe thead th {\n",
       "        text-align: right;\n",
       "    }\n",
       "</style>\n",
       "<table border=\"1\" class=\"dataframe\">\n",
       "  <thead>\n",
       "    <tr style=\"text-align: right;\">\n",
       "      <th></th>\n",
       "      <th>Name</th>\n",
       "      <th>Age</th>\n",
       "      <th>Sex</th>\n",
       "      <th>Address</th>\n",
       "      <th>Age_squared</th>\n",
       "      <th>Sum</th>\n",
       "      <th>new_column</th>\n",
       "    </tr>\n",
       "  </thead>\n",
       "  <tbody>\n",
       "    <tr>\n",
       "      <th>0</th>\n",
       "      <td>John</td>\n",
       "      <td>25</td>\n",
       "      <td>M</td>\n",
       "      <td>Banglore</td>\n",
       "      <td>625</td>\n",
       "      <td>650</td>\n",
       "      <td>1</td>\n",
       "    </tr>\n",
       "    <tr>\n",
       "      <th>1</th>\n",
       "      <td>Emma</td>\n",
       "      <td>28</td>\n",
       "      <td>F</td>\n",
       "      <td>Chennai</td>\n",
       "      <td>784</td>\n",
       "      <td>812</td>\n",
       "      <td>2</td>\n",
       "    </tr>\n",
       "    <tr>\n",
       "      <th>2</th>\n",
       "      <td>David</td>\n",
       "      <td>31</td>\n",
       "      <td>M</td>\n",
       "      <td>Gurgaon</td>\n",
       "      <td>961</td>\n",
       "      <td>992</td>\n",
       "      <td>3</td>\n",
       "    </tr>\n",
       "    <tr>\n",
       "      <th>3</th>\n",
       "      <td>Sophia</td>\n",
       "      <td>24</td>\n",
       "      <td>F</td>\n",
       "      <td>Mumbai</td>\n",
       "      <td>576</td>\n",
       "      <td>600</td>\n",
       "      <td>4</td>\n",
       "    </tr>\n",
       "  </tbody>\n",
       "</table>\n",
       "</div>"
      ],
      "text/plain": [
       "     Name  Age Sex   Address  Age_squared  Sum  new_column\n",
       "0    John   25   M  Banglore          625  650           1\n",
       "1    Emma   28   F   Chennai          784  812           2\n",
       "2   David   31   M   Gurgaon          961  992           3\n",
       "3  Sophia   24   F    Mumbai          576  600           4"
      ]
     },
     "execution_count": 50,
     "metadata": {},
     "output_type": "execute_result"
    }
   ],
   "source": [
    "df['new_column'] = [1, 2, 3, 4]\n",
    "df"
   ]
  },
  {
   "cell_type": "markdown",
   "id": "df914b7c",
   "metadata": {},
   "source": [
    "### Q) What are the different ways to access columns in a pandas DataFrame?"
   ]
  },
  {
   "cell_type": "code",
   "execution_count": 4,
   "id": "c54fefe8",
   "metadata": {},
   "outputs": [
    {
     "data": {
      "text/plain": [
       "Index(['Name', 'Age', 'City'], dtype='object')"
      ]
     },
     "execution_count": 4,
     "metadata": {},
     "output_type": "execute_result"
    }
   ],
   "source": [
    "df.columns"
   ]
  },
  {
   "cell_type": "code",
   "execution_count": 5,
   "id": "7262d24f",
   "metadata": {},
   "outputs": [
    {
     "data": {
      "text/plain": [
       "0      John\n",
       "1      Emma\n",
       "2     David\n",
       "3    Sophia\n",
       "Name: Name, dtype: object"
      ]
     },
     "execution_count": 5,
     "metadata": {},
     "output_type": "execute_result"
    }
   ],
   "source": [
    "df['Name']"
   ]
  },
  {
   "cell_type": "markdown",
   "id": "93dd5467",
   "metadata": {},
   "source": [
    "### Q) How do you handle missing values in a DataFrame using pandas?"
   ]
  },
  {
   "cell_type": "code",
   "execution_count": 6,
   "id": "d9bdb9b0",
   "metadata": {},
   "outputs": [
    {
     "data": {
      "text/html": [
       "<div>\n",
       "<style scoped>\n",
       "    .dataframe tbody tr th:only-of-type {\n",
       "        vertical-align: middle;\n",
       "    }\n",
       "\n",
       "    .dataframe tbody tr th {\n",
       "        vertical-align: top;\n",
       "    }\n",
       "\n",
       "    .dataframe thead th {\n",
       "        text-align: right;\n",
       "    }\n",
       "</style>\n",
       "<table border=\"1\" class=\"dataframe\">\n",
       "  <thead>\n",
       "    <tr style=\"text-align: right;\">\n",
       "      <th></th>\n",
       "      <th>Name</th>\n",
       "      <th>Age</th>\n",
       "      <th>City</th>\n",
       "    </tr>\n",
       "  </thead>\n",
       "  <tbody>\n",
       "    <tr>\n",
       "      <th>0</th>\n",
       "      <td>False</td>\n",
       "      <td>False</td>\n",
       "      <td>False</td>\n",
       "    </tr>\n",
       "    <tr>\n",
       "      <th>1</th>\n",
       "      <td>False</td>\n",
       "      <td>False</td>\n",
       "      <td>False</td>\n",
       "    </tr>\n",
       "    <tr>\n",
       "      <th>2</th>\n",
       "      <td>False</td>\n",
       "      <td>False</td>\n",
       "      <td>False</td>\n",
       "    </tr>\n",
       "    <tr>\n",
       "      <th>3</th>\n",
       "      <td>False</td>\n",
       "      <td>False</td>\n",
       "      <td>False</td>\n",
       "    </tr>\n",
       "  </tbody>\n",
       "</table>\n",
       "</div>"
      ],
      "text/plain": [
       "    Name    Age   City\n",
       "0  False  False  False\n",
       "1  False  False  False\n",
       "2  False  False  False\n",
       "3  False  False  False"
      ]
     },
     "execution_count": 6,
     "metadata": {},
     "output_type": "execute_result"
    }
   ],
   "source": [
    "# Check if values are missing\n",
    "\n",
    "df.isnull()"
   ]
  },
  {
   "cell_type": "code",
   "execution_count": 7,
   "id": "9874c9be",
   "metadata": {},
   "outputs": [
    {
     "data": {
      "text/html": [
       "<div>\n",
       "<style scoped>\n",
       "    .dataframe tbody tr th:only-of-type {\n",
       "        vertical-align: middle;\n",
       "    }\n",
       "\n",
       "    .dataframe tbody tr th {\n",
       "        vertical-align: top;\n",
       "    }\n",
       "\n",
       "    .dataframe thead th {\n",
       "        text-align: right;\n",
       "    }\n",
       "</style>\n",
       "<table border=\"1\" class=\"dataframe\">\n",
       "  <thead>\n",
       "    <tr style=\"text-align: right;\">\n",
       "      <th></th>\n",
       "      <th>Name</th>\n",
       "      <th>Age</th>\n",
       "      <th>City</th>\n",
       "    </tr>\n",
       "  </thead>\n",
       "  <tbody>\n",
       "    <tr>\n",
       "      <th>0</th>\n",
       "      <td>John</td>\n",
       "      <td>25</td>\n",
       "      <td>New York</td>\n",
       "    </tr>\n",
       "    <tr>\n",
       "      <th>1</th>\n",
       "      <td>Emma</td>\n",
       "      <td>28</td>\n",
       "      <td>London</td>\n",
       "    </tr>\n",
       "    <tr>\n",
       "      <th>2</th>\n",
       "      <td>David</td>\n",
       "      <td>31</td>\n",
       "      <td>Paris</td>\n",
       "    </tr>\n",
       "    <tr>\n",
       "      <th>3</th>\n",
       "      <td>Sophia</td>\n",
       "      <td>24</td>\n",
       "      <td>Sydney</td>\n",
       "    </tr>\n",
       "  </tbody>\n",
       "</table>\n",
       "</div>"
      ],
      "text/plain": [
       "     Name  Age      City\n",
       "0    John   25  New York\n",
       "1    Emma   28    London\n",
       "2   David   31     Paris\n",
       "3  Sophia   24    Sydney"
      ]
     },
     "execution_count": 7,
     "metadata": {},
     "output_type": "execute_result"
    }
   ],
   "source": [
    "# Drop rows with any missing values\n",
    "\n",
    "df.dropna()"
   ]
  },
  {
   "cell_type": "markdown",
   "id": "d37974c0",
   "metadata": {},
   "source": [
    "### Q) How do you filter rows in a DataFrame based on a condition in pandas?"
   ]
  },
  {
   "cell_type": "code",
   "execution_count": 8,
   "id": "1a96c0b3",
   "metadata": {},
   "outputs": [
    {
     "data": {
      "text/html": [
       "<div>\n",
       "<style scoped>\n",
       "    .dataframe tbody tr th:only-of-type {\n",
       "        vertical-align: middle;\n",
       "    }\n",
       "\n",
       "    .dataframe tbody tr th {\n",
       "        vertical-align: top;\n",
       "    }\n",
       "\n",
       "    .dataframe thead th {\n",
       "        text-align: right;\n",
       "    }\n",
       "</style>\n",
       "<table border=\"1\" class=\"dataframe\">\n",
       "  <thead>\n",
       "    <tr style=\"text-align: right;\">\n",
       "      <th></th>\n",
       "      <th>Name</th>\n",
       "      <th>Age</th>\n",
       "      <th>City</th>\n",
       "    </tr>\n",
       "  </thead>\n",
       "  <tbody>\n",
       "    <tr>\n",
       "      <th>1</th>\n",
       "      <td>Emma</td>\n",
       "      <td>28</td>\n",
       "      <td>London</td>\n",
       "    </tr>\n",
       "    <tr>\n",
       "      <th>2</th>\n",
       "      <td>David</td>\n",
       "      <td>31</td>\n",
       "      <td>Paris</td>\n",
       "    </tr>\n",
       "  </tbody>\n",
       "</table>\n",
       "</div>"
      ],
      "text/plain": [
       "    Name  Age    City\n",
       "1   Emma   28  London\n",
       "2  David   31   Paris"
      ]
     },
     "execution_count": 8,
     "metadata": {},
     "output_type": "execute_result"
    }
   ],
   "source": [
    "filtered_df = df[df['Age'] > 25]\n",
    "filtered_df"
   ]
  },
  {
   "cell_type": "markdown",
   "id": "1dbff5b1",
   "metadata": {},
   "source": [
    "### Q) How do you sort a DataFrame by a specific column in pandas?"
   ]
  },
  {
   "cell_type": "code",
   "execution_count": 9,
   "id": "a9e99ab8",
   "metadata": {},
   "outputs": [
    {
     "data": {
      "text/html": [
       "<div>\n",
       "<style scoped>\n",
       "    .dataframe tbody tr th:only-of-type {\n",
       "        vertical-align: middle;\n",
       "    }\n",
       "\n",
       "    .dataframe tbody tr th {\n",
       "        vertical-align: top;\n",
       "    }\n",
       "\n",
       "    .dataframe thead th {\n",
       "        text-align: right;\n",
       "    }\n",
       "</style>\n",
       "<table border=\"1\" class=\"dataframe\">\n",
       "  <thead>\n",
       "    <tr style=\"text-align: right;\">\n",
       "      <th></th>\n",
       "      <th>Name</th>\n",
       "      <th>Age</th>\n",
       "      <th>City</th>\n",
       "    </tr>\n",
       "  </thead>\n",
       "  <tbody>\n",
       "    <tr>\n",
       "      <th>3</th>\n",
       "      <td>Sophia</td>\n",
       "      <td>24</td>\n",
       "      <td>Sydney</td>\n",
       "    </tr>\n",
       "    <tr>\n",
       "      <th>0</th>\n",
       "      <td>John</td>\n",
       "      <td>25</td>\n",
       "      <td>New York</td>\n",
       "    </tr>\n",
       "    <tr>\n",
       "      <th>1</th>\n",
       "      <td>Emma</td>\n",
       "      <td>28</td>\n",
       "      <td>London</td>\n",
       "    </tr>\n",
       "    <tr>\n",
       "      <th>2</th>\n",
       "      <td>David</td>\n",
       "      <td>31</td>\n",
       "      <td>Paris</td>\n",
       "    </tr>\n",
       "  </tbody>\n",
       "</table>\n",
       "</div>"
      ],
      "text/plain": [
       "     Name  Age      City\n",
       "3  Sophia   24    Sydney\n",
       "0    John   25  New York\n",
       "1    Emma   28    London\n",
       "2   David   31     Paris"
      ]
     },
     "execution_count": 9,
     "metadata": {},
     "output_type": "execute_result"
    }
   ],
   "source": [
    "#sort by ascending\n",
    "\n",
    "sorted_df = df.sort_values('Age')\n",
    "sorted_df"
   ]
  },
  {
   "cell_type": "code",
   "execution_count": 51,
   "id": "48f9999e",
   "metadata": {},
   "outputs": [
    {
     "data": {
      "text/html": [
       "<div>\n",
       "<style scoped>\n",
       "    .dataframe tbody tr th:only-of-type {\n",
       "        vertical-align: middle;\n",
       "    }\n",
       "\n",
       "    .dataframe tbody tr th {\n",
       "        vertical-align: top;\n",
       "    }\n",
       "\n",
       "    .dataframe thead th {\n",
       "        text-align: right;\n",
       "    }\n",
       "</style>\n",
       "<table border=\"1\" class=\"dataframe\">\n",
       "  <thead>\n",
       "    <tr style=\"text-align: right;\">\n",
       "      <th></th>\n",
       "      <th>Name</th>\n",
       "      <th>Age</th>\n",
       "      <th>Sex</th>\n",
       "      <th>Address</th>\n",
       "      <th>Age_squared</th>\n",
       "      <th>Sum</th>\n",
       "      <th>new_column</th>\n",
       "    </tr>\n",
       "  </thead>\n",
       "  <tbody>\n",
       "    <tr>\n",
       "      <th>2</th>\n",
       "      <td>David</td>\n",
       "      <td>31</td>\n",
       "      <td>M</td>\n",
       "      <td>Gurgaon</td>\n",
       "      <td>961</td>\n",
       "      <td>992</td>\n",
       "      <td>3</td>\n",
       "    </tr>\n",
       "    <tr>\n",
       "      <th>1</th>\n",
       "      <td>Emma</td>\n",
       "      <td>28</td>\n",
       "      <td>F</td>\n",
       "      <td>Chennai</td>\n",
       "      <td>784</td>\n",
       "      <td>812</td>\n",
       "      <td>2</td>\n",
       "    </tr>\n",
       "    <tr>\n",
       "      <th>0</th>\n",
       "      <td>John</td>\n",
       "      <td>25</td>\n",
       "      <td>M</td>\n",
       "      <td>Banglore</td>\n",
       "      <td>625</td>\n",
       "      <td>650</td>\n",
       "      <td>1</td>\n",
       "    </tr>\n",
       "    <tr>\n",
       "      <th>3</th>\n",
       "      <td>Sophia</td>\n",
       "      <td>24</td>\n",
       "      <td>F</td>\n",
       "      <td>Mumbai</td>\n",
       "      <td>576</td>\n",
       "      <td>600</td>\n",
       "      <td>4</td>\n",
       "    </tr>\n",
       "  </tbody>\n",
       "</table>\n",
       "</div>"
      ],
      "text/plain": [
       "     Name  Age Sex   Address  Age_squared  Sum  new_column\n",
       "2   David   31   M   Gurgaon          961  992           3\n",
       "1    Emma   28   F   Chennai          784  812           2\n",
       "0    John   25   M  Banglore          625  650           1\n",
       "3  Sophia   24   F    Mumbai          576  600           4"
      ]
     },
     "execution_count": 51,
     "metadata": {},
     "output_type": "execute_result"
    }
   ],
   "source": [
    "#sort by descending\n",
    "\n",
    "sorted_df = df.sort_values('Age',ascending=False)\n",
    "sorted_df"
   ]
  },
  {
   "cell_type": "markdown",
   "id": "6ec79a42",
   "metadata": {},
   "source": [
    "### Q) You have a DataFrame in Pandas columns, how to make a new column between 2nd and 3rd column?\n",
    "\n",
    "\n",
    "* We using df.insert() function and the code will be df.inseri(index no. of column, 'column name', variable of new column values)."
   ]
  },
  {
   "cell_type": "code",
   "execution_count": 10,
   "id": "72290cb7",
   "metadata": {},
   "outputs": [
    {
     "data": {
      "text/html": [
       "<div>\n",
       "<style scoped>\n",
       "    .dataframe tbody tr th:only-of-type {\n",
       "        vertical-align: middle;\n",
       "    }\n",
       "\n",
       "    .dataframe tbody tr th {\n",
       "        vertical-align: top;\n",
       "    }\n",
       "\n",
       "    .dataframe thead th {\n",
       "        text-align: right;\n",
       "    }\n",
       "</style>\n",
       "<table border=\"1\" class=\"dataframe\">\n",
       "  <thead>\n",
       "    <tr style=\"text-align: right;\">\n",
       "      <th></th>\n",
       "      <th>Name</th>\n",
       "      <th>Age</th>\n",
       "      <th>Sex</th>\n",
       "      <th>City</th>\n",
       "    </tr>\n",
       "  </thead>\n",
       "  <tbody>\n",
       "    <tr>\n",
       "      <th>0</th>\n",
       "      <td>John</td>\n",
       "      <td>25</td>\n",
       "      <td>M</td>\n",
       "      <td>New York</td>\n",
       "    </tr>\n",
       "    <tr>\n",
       "      <th>1</th>\n",
       "      <td>Emma</td>\n",
       "      <td>28</td>\n",
       "      <td>F</td>\n",
       "      <td>London</td>\n",
       "    </tr>\n",
       "    <tr>\n",
       "      <th>2</th>\n",
       "      <td>David</td>\n",
       "      <td>31</td>\n",
       "      <td>M</td>\n",
       "      <td>Paris</td>\n",
       "    </tr>\n",
       "    <tr>\n",
       "      <th>3</th>\n",
       "      <td>Sophia</td>\n",
       "      <td>24</td>\n",
       "      <td>F</td>\n",
       "      <td>Sydney</td>\n",
       "    </tr>\n",
       "  </tbody>\n",
       "</table>\n",
       "</div>"
      ],
      "text/plain": [
       "     Name  Age Sex      City\n",
       "0    John   25   M  New York\n",
       "1    Emma   28   F    London\n",
       "2   David   31   M     Paris\n",
       "3  Sophia   24   F    Sydney"
      ]
     },
     "execution_count": 10,
     "metadata": {},
     "output_type": "execute_result"
    }
   ],
   "source": [
    "# By using df.insert() function\n",
    "# Format df.insert(index, 'new column name', Variable of new column values)\n",
    "\n",
    "Sex = ['M', 'F', 'M', 'F']\n",
    "\n",
    "df.insert(2, 'Sex', Sex)\n",
    "\n",
    "df"
   ]
  },
  {
   "cell_type": "markdown",
   "id": "cb41322c",
   "metadata": {},
   "source": [
    "### Q) How to delete a column and add a new ones in it's index position?"
   ]
  },
  {
   "cell_type": "code",
   "execution_count": 11,
   "id": "6b24824a",
   "metadata": {},
   "outputs": [
    {
     "data": {
      "text/html": [
       "<div>\n",
       "<style scoped>\n",
       "    .dataframe tbody tr th:only-of-type {\n",
       "        vertical-align: middle;\n",
       "    }\n",
       "\n",
       "    .dataframe tbody tr th {\n",
       "        vertical-align: top;\n",
       "    }\n",
       "\n",
       "    .dataframe thead th {\n",
       "        text-align: right;\n",
       "    }\n",
       "</style>\n",
       "<table border=\"1\" class=\"dataframe\">\n",
       "  <thead>\n",
       "    <tr style=\"text-align: right;\">\n",
       "      <th></th>\n",
       "      <th>Name</th>\n",
       "      <th>Age</th>\n",
       "      <th>Sex</th>\n",
       "      <th>Address</th>\n",
       "    </tr>\n",
       "  </thead>\n",
       "  <tbody>\n",
       "    <tr>\n",
       "      <th>0</th>\n",
       "      <td>John</td>\n",
       "      <td>25</td>\n",
       "      <td>M</td>\n",
       "      <td>delhi</td>\n",
       "    </tr>\n",
       "    <tr>\n",
       "      <th>1</th>\n",
       "      <td>Emma</td>\n",
       "      <td>28</td>\n",
       "      <td>F</td>\n",
       "      <td>mumbai</td>\n",
       "    </tr>\n",
       "    <tr>\n",
       "      <th>2</th>\n",
       "      <td>David</td>\n",
       "      <td>31</td>\n",
       "      <td>M</td>\n",
       "      <td>kolkata</td>\n",
       "    </tr>\n",
       "    <tr>\n",
       "      <th>3</th>\n",
       "      <td>Sophia</td>\n",
       "      <td>24</td>\n",
       "      <td>F</td>\n",
       "      <td>chennai</td>\n",
       "    </tr>\n",
       "  </tbody>\n",
       "</table>\n",
       "</div>"
      ],
      "text/plain": [
       "     Name  Age Sex  Address\n",
       "0    John   25   M    delhi\n",
       "1    Emma   28   F   mumbai\n",
       "2   David   31   M  kolkata\n",
       "3  Sophia   24   F  chennai"
      ]
     },
     "execution_count": 11,
     "metadata": {},
     "output_type": "execute_result"
    }
   ],
   "source": [
    "df.drop('City',axis=1,inplace=True)\n",
    "\n",
    "Location = ['delhi', 'mumbai', 'kolkata', 'chennai']\n",
    "\n",
    "df.insert(3, 'Address', Location)\n",
    "\n",
    "df"
   ]
  },
  {
   "cell_type": "markdown",
   "id": "ad9d16c0",
   "metadata": {},
   "source": [
    "### Q) Add a new column with an address?\n",
    "\n"
   ]
  },
  {
   "cell_type": "code",
   "execution_count": 12,
   "id": "928224f4",
   "metadata": {},
   "outputs": [
    {
     "data": {
      "text/html": [
       "<div>\n",
       "<style scoped>\n",
       "    .dataframe tbody tr th:only-of-type {\n",
       "        vertical-align: middle;\n",
       "    }\n",
       "\n",
       "    .dataframe tbody tr th {\n",
       "        vertical-align: top;\n",
       "    }\n",
       "\n",
       "    .dataframe thead th {\n",
       "        text-align: right;\n",
       "    }\n",
       "</style>\n",
       "<table border=\"1\" class=\"dataframe\">\n",
       "  <thead>\n",
       "    <tr style=\"text-align: right;\">\n",
       "      <th></th>\n",
       "      <th>Name</th>\n",
       "      <th>Age</th>\n",
       "      <th>Sex</th>\n",
       "      <th>Address</th>\n",
       "    </tr>\n",
       "  </thead>\n",
       "  <tbody>\n",
       "    <tr>\n",
       "      <th>0</th>\n",
       "      <td>John</td>\n",
       "      <td>25</td>\n",
       "      <td>M</td>\n",
       "      <td>Banglore</td>\n",
       "    </tr>\n",
       "    <tr>\n",
       "      <th>1</th>\n",
       "      <td>Emma</td>\n",
       "      <td>28</td>\n",
       "      <td>F</td>\n",
       "      <td>Chennai</td>\n",
       "    </tr>\n",
       "    <tr>\n",
       "      <th>2</th>\n",
       "      <td>David</td>\n",
       "      <td>31</td>\n",
       "      <td>M</td>\n",
       "      <td>Gurgaon</td>\n",
       "    </tr>\n",
       "    <tr>\n",
       "      <th>3</th>\n",
       "      <td>Sophia</td>\n",
       "      <td>24</td>\n",
       "      <td>F</td>\n",
       "      <td>Mumbai</td>\n",
       "    </tr>\n",
       "  </tbody>\n",
       "</table>\n",
       "</div>"
      ],
      "text/plain": [
       "     Name  Age Sex   Address\n",
       "0    John   25   M  Banglore\n",
       "1    Emma   28   F   Chennai\n",
       "2   David   31   M   Gurgaon\n",
       "3  Sophia   24   F    Mumbai"
      ]
     },
     "execution_count": 12,
     "metadata": {},
     "output_type": "execute_result"
    }
   ],
   "source": [
    "df['Address'] = ['Banglore', 'Chennai', 'Gurgaon', 'Mumbai']\n",
    "df.head()"
   ]
  },
  {
   "cell_type": "markdown",
   "id": "2725301a",
   "metadata": {},
   "source": [
    "### Q) Fetch the records where Age is greater than 26 and Sex is 'M'.\n",
    "\n"
   ]
  },
  {
   "cell_type": "code",
   "execution_count": 13,
   "id": "622d7b57",
   "metadata": {},
   "outputs": [
    {
     "data": {
      "text/html": [
       "<div>\n",
       "<style scoped>\n",
       "    .dataframe tbody tr th:only-of-type {\n",
       "        vertical-align: middle;\n",
       "    }\n",
       "\n",
       "    .dataframe tbody tr th {\n",
       "        vertical-align: top;\n",
       "    }\n",
       "\n",
       "    .dataframe thead th {\n",
       "        text-align: right;\n",
       "    }\n",
       "</style>\n",
       "<table border=\"1\" class=\"dataframe\">\n",
       "  <thead>\n",
       "    <tr style=\"text-align: right;\">\n",
       "      <th></th>\n",
       "      <th>Name</th>\n",
       "      <th>Age</th>\n",
       "      <th>Sex</th>\n",
       "      <th>Address</th>\n",
       "    </tr>\n",
       "  </thead>\n",
       "  <tbody>\n",
       "    <tr>\n",
       "      <th>2</th>\n",
       "      <td>David</td>\n",
       "      <td>31</td>\n",
       "      <td>M</td>\n",
       "      <td>Gurgaon</td>\n",
       "    </tr>\n",
       "  </tbody>\n",
       "</table>\n",
       "</div>"
      ],
      "text/plain": [
       "    Name  Age Sex  Address\n",
       "2  David   31   M  Gurgaon"
      ]
     },
     "execution_count": 13,
     "metadata": {},
     "output_type": "execute_result"
    }
   ],
   "source": [
    "df[(df['Age']>26)&(df['Sex']=='M')]"
   ]
  },
  {
   "cell_type": "markdown",
   "id": "e5395397",
   "metadata": {},
   "source": [
    "### Q) How to rename a column?"
   ]
  },
  {
   "cell_type": "code",
   "execution_count": 14,
   "id": "e3301f23",
   "metadata": {},
   "outputs": [
    {
     "data": {
      "text/html": [
       "<div>\n",
       "<style scoped>\n",
       "    .dataframe tbody tr th:only-of-type {\n",
       "        vertical-align: middle;\n",
       "    }\n",
       "\n",
       "    .dataframe tbody tr th {\n",
       "        vertical-align: top;\n",
       "    }\n",
       "\n",
       "    .dataframe thead th {\n",
       "        text-align: right;\n",
       "    }\n",
       "</style>\n",
       "<table border=\"1\" class=\"dataframe\">\n",
       "  <thead>\n",
       "    <tr style=\"text-align: right;\">\n",
       "      <th></th>\n",
       "      <th>Name</th>\n",
       "      <th>Age</th>\n",
       "      <th>Gender</th>\n",
       "      <th>Address</th>\n",
       "    </tr>\n",
       "  </thead>\n",
       "  <tbody>\n",
       "    <tr>\n",
       "      <th>0</th>\n",
       "      <td>John</td>\n",
       "      <td>25</td>\n",
       "      <td>M</td>\n",
       "      <td>Banglore</td>\n",
       "    </tr>\n",
       "    <tr>\n",
       "      <th>1</th>\n",
       "      <td>Emma</td>\n",
       "      <td>28</td>\n",
       "      <td>F</td>\n",
       "      <td>Chennai</td>\n",
       "    </tr>\n",
       "    <tr>\n",
       "      <th>2</th>\n",
       "      <td>David</td>\n",
       "      <td>31</td>\n",
       "      <td>M</td>\n",
       "      <td>Gurgaon</td>\n",
       "    </tr>\n",
       "    <tr>\n",
       "      <th>3</th>\n",
       "      <td>Sophia</td>\n",
       "      <td>24</td>\n",
       "      <td>F</td>\n",
       "      <td>Mumbai</td>\n",
       "    </tr>\n",
       "  </tbody>\n",
       "</table>\n",
       "</div>"
      ],
      "text/plain": [
       "     Name  Age Gender   Address\n",
       "0    John   25      M  Banglore\n",
       "1    Emma   28      F   Chennai\n",
       "2   David   31      M   Gurgaon\n",
       "3  Sophia   24      F    Mumbai"
      ]
     },
     "execution_count": 14,
     "metadata": {},
     "output_type": "execute_result"
    }
   ],
   "source": [
    "df.rename(columns={'Sex':'Gender'})"
   ]
  },
  {
   "cell_type": "markdown",
   "id": "be626f72",
   "metadata": {},
   "source": [
    "### Q) How to sort a dataframe?"
   ]
  },
  {
   "cell_type": "code",
   "execution_count": 15,
   "id": "54742eec",
   "metadata": {},
   "outputs": [
    {
     "data": {
      "text/html": [
       "<div>\n",
       "<style scoped>\n",
       "    .dataframe tbody tr th:only-of-type {\n",
       "        vertical-align: middle;\n",
       "    }\n",
       "\n",
       "    .dataframe tbody tr th {\n",
       "        vertical-align: top;\n",
       "    }\n",
       "\n",
       "    .dataframe thead th {\n",
       "        text-align: right;\n",
       "    }\n",
       "</style>\n",
       "<table border=\"1\" class=\"dataframe\">\n",
       "  <thead>\n",
       "    <tr style=\"text-align: right;\">\n",
       "      <th></th>\n",
       "      <th>Name</th>\n",
       "      <th>Age</th>\n",
       "      <th>Sex</th>\n",
       "      <th>Address</th>\n",
       "    </tr>\n",
       "  </thead>\n",
       "  <tbody>\n",
       "    <tr>\n",
       "      <th>2</th>\n",
       "      <td>David</td>\n",
       "      <td>31</td>\n",
       "      <td>M</td>\n",
       "      <td>Gurgaon</td>\n",
       "    </tr>\n",
       "    <tr>\n",
       "      <th>1</th>\n",
       "      <td>Emma</td>\n",
       "      <td>28</td>\n",
       "      <td>F</td>\n",
       "      <td>Chennai</td>\n",
       "    </tr>\n",
       "    <tr>\n",
       "      <th>0</th>\n",
       "      <td>John</td>\n",
       "      <td>25</td>\n",
       "      <td>M</td>\n",
       "      <td>Banglore</td>\n",
       "    </tr>\n",
       "    <tr>\n",
       "      <th>3</th>\n",
       "      <td>Sophia</td>\n",
       "      <td>24</td>\n",
       "      <td>F</td>\n",
       "      <td>Mumbai</td>\n",
       "    </tr>\n",
       "  </tbody>\n",
       "</table>\n",
       "</div>"
      ],
      "text/plain": [
       "     Name  Age Sex   Address\n",
       "2   David   31   M   Gurgaon\n",
       "1    Emma   28   F   Chennai\n",
       "0    John   25   M  Banglore\n",
       "3  Sophia   24   F    Mumbai"
      ]
     },
     "execution_count": 15,
     "metadata": {},
     "output_type": "execute_result"
    }
   ],
   "source": [
    "df.sort_values(by=\"Name\")"
   ]
  },
  {
   "cell_type": "markdown",
   "id": "4dbbafc9",
   "metadata": {},
   "source": [
    "### Q) How will you find the unique values for each column and subset of data for age>25 and age<30."
   ]
  },
  {
   "cell_type": "code",
   "execution_count": 17,
   "id": "08c2b129",
   "metadata": {},
   "outputs": [
    {
     "data": {
      "text/plain": [
       "array(['John', 'Emma', 'David', 'Sophia'], dtype=object)"
      ]
     },
     "execution_count": 17,
     "metadata": {},
     "output_type": "execute_result"
    }
   ],
   "source": [
    "df['Name'].unique()"
   ]
  },
  {
   "cell_type": "code",
   "execution_count": 18,
   "id": "9bdc946c",
   "metadata": {},
   "outputs": [
    {
     "data": {
      "text/plain": [
       "4"
      ]
     },
     "execution_count": 18,
     "metadata": {},
     "output_type": "execute_result"
    }
   ],
   "source": [
    "df['Name'].nunique()"
   ]
  },
  {
   "cell_type": "code",
   "execution_count": 19,
   "id": "68b027a4",
   "metadata": {},
   "outputs": [
    {
     "data": {
      "text/html": [
       "<div>\n",
       "<style scoped>\n",
       "    .dataframe tbody tr th:only-of-type {\n",
       "        vertical-align: middle;\n",
       "    }\n",
       "\n",
       "    .dataframe tbody tr th {\n",
       "        vertical-align: top;\n",
       "    }\n",
       "\n",
       "    .dataframe thead th {\n",
       "        text-align: right;\n",
       "    }\n",
       "</style>\n",
       "<table border=\"1\" class=\"dataframe\">\n",
       "  <thead>\n",
       "    <tr style=\"text-align: right;\">\n",
       "      <th></th>\n",
       "      <th>Name</th>\n",
       "      <th>Age</th>\n",
       "      <th>Sex</th>\n",
       "      <th>Address</th>\n",
       "    </tr>\n",
       "  </thead>\n",
       "  <tbody>\n",
       "    <tr>\n",
       "      <th>1</th>\n",
       "      <td>Emma</td>\n",
       "      <td>28</td>\n",
       "      <td>F</td>\n",
       "      <td>Chennai</td>\n",
       "    </tr>\n",
       "  </tbody>\n",
       "</table>\n",
       "</div>"
      ],
      "text/plain": [
       "   Name  Age Sex  Address\n",
       "1  Emma   28   F  Chennai"
      ]
     },
     "execution_count": 19,
     "metadata": {},
     "output_type": "execute_result"
    }
   ],
   "source": [
    "a = df[(df['Age']>25) & (df['Age']<30)]\n",
    "a"
   ]
  },
  {
   "cell_type": "markdown",
   "id": "aa69d388",
   "metadata": {},
   "source": [
    "### Q) Find the statistical summary of dataframe and transpose it.\n",
    "\n"
   ]
  },
  {
   "cell_type": "code",
   "execution_count": 20,
   "id": "8892f081",
   "metadata": {},
   "outputs": [
    {
     "data": {
      "text/html": [
       "<div>\n",
       "<style scoped>\n",
       "    .dataframe tbody tr th:only-of-type {\n",
       "        vertical-align: middle;\n",
       "    }\n",
       "\n",
       "    .dataframe tbody tr th {\n",
       "        vertical-align: top;\n",
       "    }\n",
       "\n",
       "    .dataframe thead th {\n",
       "        text-align: right;\n",
       "    }\n",
       "</style>\n",
       "<table border=\"1\" class=\"dataframe\">\n",
       "  <thead>\n",
       "    <tr style=\"text-align: right;\">\n",
       "      <th></th>\n",
       "      <th>Age</th>\n",
       "    </tr>\n",
       "  </thead>\n",
       "  <tbody>\n",
       "    <tr>\n",
       "      <th>count</th>\n",
       "      <td>4.000000</td>\n",
       "    </tr>\n",
       "    <tr>\n",
       "      <th>mean</th>\n",
       "      <td>27.000000</td>\n",
       "    </tr>\n",
       "    <tr>\n",
       "      <th>std</th>\n",
       "      <td>3.162278</td>\n",
       "    </tr>\n",
       "    <tr>\n",
       "      <th>min</th>\n",
       "      <td>24.000000</td>\n",
       "    </tr>\n",
       "    <tr>\n",
       "      <th>25%</th>\n",
       "      <td>24.750000</td>\n",
       "    </tr>\n",
       "    <tr>\n",
       "      <th>50%</th>\n",
       "      <td>26.500000</td>\n",
       "    </tr>\n",
       "    <tr>\n",
       "      <th>75%</th>\n",
       "      <td>28.750000</td>\n",
       "    </tr>\n",
       "    <tr>\n",
       "      <th>max</th>\n",
       "      <td>31.000000</td>\n",
       "    </tr>\n",
       "  </tbody>\n",
       "</table>\n",
       "</div>"
      ],
      "text/plain": [
       "             Age\n",
       "count   4.000000\n",
       "mean   27.000000\n",
       "std     3.162278\n",
       "min    24.000000\n",
       "25%    24.750000\n",
       "50%    26.500000\n",
       "75%    28.750000\n",
       "max    31.000000"
      ]
     },
     "execution_count": 20,
     "metadata": {},
     "output_type": "execute_result"
    }
   ],
   "source": [
    "df.describe()"
   ]
  },
  {
   "cell_type": "code",
   "execution_count": 21,
   "id": "a1ce922e",
   "metadata": {},
   "outputs": [
    {
     "data": {
      "text/html": [
       "<div>\n",
       "<style scoped>\n",
       "    .dataframe tbody tr th:only-of-type {\n",
       "        vertical-align: middle;\n",
       "    }\n",
       "\n",
       "    .dataframe tbody tr th {\n",
       "        vertical-align: top;\n",
       "    }\n",
       "\n",
       "    .dataframe thead th {\n",
       "        text-align: right;\n",
       "    }\n",
       "</style>\n",
       "<table border=\"1\" class=\"dataframe\">\n",
       "  <thead>\n",
       "    <tr style=\"text-align: right;\">\n",
       "      <th></th>\n",
       "      <th>count</th>\n",
       "      <th>mean</th>\n",
       "      <th>std</th>\n",
       "      <th>min</th>\n",
       "      <th>25%</th>\n",
       "      <th>50%</th>\n",
       "      <th>75%</th>\n",
       "      <th>max</th>\n",
       "    </tr>\n",
       "  </thead>\n",
       "  <tbody>\n",
       "    <tr>\n",
       "      <th>Age</th>\n",
       "      <td>4.0</td>\n",
       "      <td>27.0</td>\n",
       "      <td>3.162278</td>\n",
       "      <td>24.0</td>\n",
       "      <td>24.75</td>\n",
       "      <td>26.5</td>\n",
       "      <td>28.75</td>\n",
       "      <td>31.0</td>\n",
       "    </tr>\n",
       "  </tbody>\n",
       "</table>\n",
       "</div>"
      ],
      "text/plain": [
       "     count  mean       std   min    25%   50%    75%   max\n",
       "Age    4.0  27.0  3.162278  24.0  24.75  26.5  28.75  31.0"
      ]
     },
     "execution_count": 21,
     "metadata": {},
     "output_type": "execute_result"
    }
   ],
   "source": [
    "df.describe().T"
   ]
  },
  {
   "cell_type": "markdown",
   "id": "8e347b9e",
   "metadata": {},
   "source": [
    "### Q) How to find the names of columns of a dataframe?"
   ]
  },
  {
   "cell_type": "code",
   "execution_count": 22,
   "id": "190f0ff6",
   "metadata": {},
   "outputs": [
    {
     "data": {
      "text/plain": [
       "Index(['Name', 'Age', 'Sex', 'Address'], dtype='object')"
      ]
     },
     "execution_count": 22,
     "metadata": {},
     "output_type": "execute_result"
    }
   ],
   "source": [
    "df.columns"
   ]
  },
  {
   "cell_type": "markdown",
   "id": "adaf9f5f",
   "metadata": {},
   "source": [
    "### Q) What is the difference between loc and iloc in pandas?\n",
    "\n",
    "\n",
    "\n",
    "loc and iloc both function are used to select particular data from dataframe and we can perform filtering in loc function. In loc function columns and rows are selected by label indexing and in iloc function columns and rows are select by using integer indexing.\n",
    "\n"
   ]
  },
  {
   "cell_type": "code",
   "execution_count": 23,
   "id": "b3cb3038",
   "metadata": {},
   "outputs": [
    {
     "name": "stdout",
     "output_type": "stream",
     "text": [
      "    Name  Age\n",
      "1   Emma   28\n",
      "2  David   31\n"
     ]
    }
   ],
   "source": [
    "# Select rows and columns by labels\n",
    "\n",
    "selected_data = df.loc[1:2, 'Name':'Age']\n",
    "print(selected_data)"
   ]
  },
  {
   "cell_type": "code",
   "execution_count": 46,
   "id": "44bb9b87",
   "metadata": {},
   "outputs": [
    {
     "data": {
      "text/html": [
       "<div>\n",
       "<style scoped>\n",
       "    .dataframe tbody tr th:only-of-type {\n",
       "        vertical-align: middle;\n",
       "    }\n",
       "\n",
       "    .dataframe tbody tr th {\n",
       "        vertical-align: top;\n",
       "    }\n",
       "\n",
       "    .dataframe thead th {\n",
       "        text-align: right;\n",
       "    }\n",
       "</style>\n",
       "<table border=\"1\" class=\"dataframe\">\n",
       "  <thead>\n",
       "    <tr style=\"text-align: right;\">\n",
       "      <th></th>\n",
       "      <th>Name</th>\n",
       "      <th>Age</th>\n",
       "      <th>Sex</th>\n",
       "      <th>Address</th>\n",
       "      <th>Age_squared</th>\n",
       "      <th>Sum</th>\n",
       "    </tr>\n",
       "  </thead>\n",
       "  <tbody>\n",
       "    <tr>\n",
       "      <th>2</th>\n",
       "      <td>David</td>\n",
       "      <td>31</td>\n",
       "      <td>M</td>\n",
       "      <td>Gurgaon</td>\n",
       "      <td>961</td>\n",
       "      <td>992</td>\n",
       "    </tr>\n",
       "  </tbody>\n",
       "</table>\n",
       "</div>"
      ],
      "text/plain": [
       "    Name  Age Sex  Address  Age_squared  Sum\n",
       "2  David   31   M  Gurgaon          961  992"
      ]
     },
     "execution_count": 46,
     "metadata": {},
     "output_type": "execute_result"
    }
   ],
   "source": [
    "# perform filtering\n",
    "\n",
    "df.loc[df['Age'] >= 30]"
   ]
  },
  {
   "cell_type": "code",
   "execution_count": 24,
   "id": "03123230",
   "metadata": {},
   "outputs": [
    {
     "name": "stdout",
     "output_type": "stream",
     "text": [
      "    Name  Age\n",
      "1   Emma   28\n",
      "2  David   31\n"
     ]
    }
   ],
   "source": [
    "# Select rows and columns by integer positions\n",
    "\n",
    "selected_data = df.iloc[1:3, 0:2]\n",
    "print(selected_data)"
   ]
  },
  {
   "cell_type": "markdown",
   "id": "31899a93",
   "metadata": {},
   "source": [
    "### Q) How do you merge two DataFrames in pandas?"
   ]
  },
  {
   "cell_type": "raw",
   "id": "1dc7c82c",
   "metadata": {},
   "source": [
    "merged_df = pd.merge(df1, df2, on='column_name')"
   ]
  },
  {
   "cell_type": "markdown",
   "id": "296cbb3c",
   "metadata": {},
   "source": [
    "### Q) What is Pivot Table?\n",
    "\n",
    "* Pivot table is a type of customize table where we can customize the index, columns and data inside the table by taking original data. It is use for data anlayis and data summarization. In pivot table we can perform aggregation functions, such as count, sum, mean and median, etc."
   ]
  },
  {
   "cell_type": "code",
   "execution_count": 25,
   "id": "a36a7d1c",
   "metadata": {},
   "outputs": [
    {
     "name": "stdout",
     "output_type": "stream",
     "text": [
      "             Sex                       \n",
      "Address Banglore Chennai Gurgaon Mumbai\n",
      "Name                                   \n",
      "David        NaN     NaN       M    NaN\n",
      "Emma         NaN       F     NaN    NaN\n",
      "John           M     NaN     NaN    NaN\n",
      "Sophia       NaN     NaN     NaN      F\n"
     ]
    }
   ],
   "source": [
    "# Pivot the DataFrame\n",
    "\n",
    "pivoted_df = df.pivot(index='Name', columns='Address', values=['Sex'])\n",
    "\n",
    "print(pivoted_df)"
   ]
  },
  {
   "cell_type": "markdown",
   "id": "5e3fa6e0",
   "metadata": {},
   "source": [
    "### Q) What is the use of groupby function?\n",
    "\n",
    "The groupby() function in pandas is indeed used to group data or categories of one or more columns. It is commonly used for summarizing data and performing data analysis tasks. Additionally, you can perform aggregation functions on the categories of a column using the groupby function."
   ]
  },
  {
   "cell_type": "code",
   "execution_count": 26,
   "id": "79dd28a8",
   "metadata": {},
   "outputs": [
    {
     "data": {
      "text/plain": [
       "<pandas.core.groupby.generic.SeriesGroupBy object at 0x000001FEA6CE29A0>"
      ]
     },
     "execution_count": 26,
     "metadata": {},
     "output_type": "execute_result"
    }
   ],
   "source": [
    "df.groupby('Name')['Address']"
   ]
  },
  {
   "cell_type": "code",
   "execution_count": 27,
   "id": "c139cb8d",
   "metadata": {},
   "outputs": [
    {
     "name": "stdout",
     "output_type": "stream",
     "text": [
      "27.0\n"
     ]
    }
   ],
   "source": [
    "average_age = df['Age'].mean()\n",
    "print(average_age)"
   ]
  },
  {
   "cell_type": "markdown",
   "id": "0030cbcc",
   "metadata": {},
   "source": [
    "### Q) How do you apply a function to a column or row in a DataFrame using pandas?\n",
    "* In pandas, you can apply a function to a column or row in a DataFrame using the apply() function. The apply() function allows you to apply a function to each element, column, or row of a DataFrame."
   ]
  },
  {
   "cell_type": "code",
   "execution_count": 28,
   "id": "b6728b1b",
   "metadata": {},
   "outputs": [
    {
     "data": {
      "text/html": [
       "<div>\n",
       "<style scoped>\n",
       "    .dataframe tbody tr th:only-of-type {\n",
       "        vertical-align: middle;\n",
       "    }\n",
       "\n",
       "    .dataframe tbody tr th {\n",
       "        vertical-align: top;\n",
       "    }\n",
       "\n",
       "    .dataframe thead th {\n",
       "        text-align: right;\n",
       "    }\n",
       "</style>\n",
       "<table border=\"1\" class=\"dataframe\">\n",
       "  <thead>\n",
       "    <tr style=\"text-align: right;\">\n",
       "      <th></th>\n",
       "      <th>Name</th>\n",
       "      <th>Age</th>\n",
       "      <th>Sex</th>\n",
       "      <th>Address</th>\n",
       "      <th>Age_squared</th>\n",
       "    </tr>\n",
       "  </thead>\n",
       "  <tbody>\n",
       "    <tr>\n",
       "      <th>0</th>\n",
       "      <td>John</td>\n",
       "      <td>25</td>\n",
       "      <td>M</td>\n",
       "      <td>Banglore</td>\n",
       "      <td>625</td>\n",
       "    </tr>\n",
       "    <tr>\n",
       "      <th>1</th>\n",
       "      <td>Emma</td>\n",
       "      <td>28</td>\n",
       "      <td>F</td>\n",
       "      <td>Chennai</td>\n",
       "      <td>784</td>\n",
       "    </tr>\n",
       "    <tr>\n",
       "      <th>2</th>\n",
       "      <td>David</td>\n",
       "      <td>31</td>\n",
       "      <td>M</td>\n",
       "      <td>Gurgaon</td>\n",
       "      <td>961</td>\n",
       "    </tr>\n",
       "    <tr>\n",
       "      <th>3</th>\n",
       "      <td>Sophia</td>\n",
       "      <td>24</td>\n",
       "      <td>F</td>\n",
       "      <td>Mumbai</td>\n",
       "      <td>576</td>\n",
       "    </tr>\n",
       "  </tbody>\n",
       "</table>\n",
       "</div>"
      ],
      "text/plain": [
       "     Name  Age Sex   Address  Age_squared\n",
       "0    John   25   M  Banglore          625\n",
       "1    Emma   28   F   Chennai          784\n",
       "2   David   31   M   Gurgaon          961\n",
       "3  Sophia   24   F    Mumbai          576"
      ]
     },
     "execution_count": 28,
     "metadata": {},
     "output_type": "execute_result"
    }
   ],
   "source": [
    "# Define a function to apply\n",
    "def square(x):\n",
    "    return x**2\n",
    "\n",
    "# Apply the function to a column using apply()\n",
    "df['Age_squared'] = df['Age'].apply(square)\n",
    "df"
   ]
  },
  {
   "cell_type": "code",
   "execution_count": 29,
   "id": "fbc3fdec",
   "metadata": {},
   "outputs": [
    {
     "data": {
      "text/html": [
       "<div>\n",
       "<style scoped>\n",
       "    .dataframe tbody tr th:only-of-type {\n",
       "        vertical-align: middle;\n",
       "    }\n",
       "\n",
       "    .dataframe tbody tr th {\n",
       "        vertical-align: top;\n",
       "    }\n",
       "\n",
       "    .dataframe thead th {\n",
       "        text-align: right;\n",
       "    }\n",
       "</style>\n",
       "<table border=\"1\" class=\"dataframe\">\n",
       "  <thead>\n",
       "    <tr style=\"text-align: right;\">\n",
       "      <th></th>\n",
       "      <th>Name</th>\n",
       "      <th>Age</th>\n",
       "      <th>Sex</th>\n",
       "      <th>Address</th>\n",
       "      <th>Age_squared</th>\n",
       "      <th>Sum</th>\n",
       "    </tr>\n",
       "  </thead>\n",
       "  <tbody>\n",
       "    <tr>\n",
       "      <th>0</th>\n",
       "      <td>John</td>\n",
       "      <td>25</td>\n",
       "      <td>M</td>\n",
       "      <td>Banglore</td>\n",
       "      <td>625</td>\n",
       "      <td>650</td>\n",
       "    </tr>\n",
       "    <tr>\n",
       "      <th>1</th>\n",
       "      <td>Emma</td>\n",
       "      <td>28</td>\n",
       "      <td>F</td>\n",
       "      <td>Chennai</td>\n",
       "      <td>784</td>\n",
       "      <td>812</td>\n",
       "    </tr>\n",
       "    <tr>\n",
       "      <th>2</th>\n",
       "      <td>David</td>\n",
       "      <td>31</td>\n",
       "      <td>M</td>\n",
       "      <td>Gurgaon</td>\n",
       "      <td>961</td>\n",
       "      <td>992</td>\n",
       "    </tr>\n",
       "    <tr>\n",
       "      <th>3</th>\n",
       "      <td>Sophia</td>\n",
       "      <td>24</td>\n",
       "      <td>F</td>\n",
       "      <td>Mumbai</td>\n",
       "      <td>576</td>\n",
       "      <td>600</td>\n",
       "    </tr>\n",
       "  </tbody>\n",
       "</table>\n",
       "</div>"
      ],
      "text/plain": [
       "     Name  Age Sex   Address  Age_squared  Sum\n",
       "0    John   25   M  Banglore          625  650\n",
       "1    Emma   28   F   Chennai          784  812\n",
       "2   David   31   M   Gurgaon          961  992\n",
       "3  Sophia   24   F    Mumbai          576  600"
      ]
     },
     "execution_count": 29,
     "metadata": {},
     "output_type": "execute_result"
    }
   ],
   "source": [
    "# Apply the function to a row using apply() with axis=1\n",
    "df['Sum'] = df.apply(lambda row: row['Age'] + row['Age_squared'], axis=1)\n",
    "df"
   ]
  },
  {
   "cell_type": "markdown",
   "id": "bd6cabd2",
   "metadata": {},
   "source": [
    "### Q) How do you perform a left join, right join, inner join, and outer join in pandas?\n",
    "\n",
    "In pandas, you can perform different types of joins between two DataFrames using the merge() function. The four common types of joins are left join, right join, inner join, and outer join. Here's how you can perform each type of join."
   ]
  },
  {
   "cell_type": "code",
   "execution_count": 33,
   "id": "4b443133",
   "metadata": {},
   "outputs": [
    {
     "data": {
      "text/html": [
       "<div>\n",
       "<style scoped>\n",
       "    .dataframe tbody tr th:only-of-type {\n",
       "        vertical-align: middle;\n",
       "    }\n",
       "\n",
       "    .dataframe tbody tr th {\n",
       "        vertical-align: top;\n",
       "    }\n",
       "\n",
       "    .dataframe thead th {\n",
       "        text-align: right;\n",
       "    }\n",
       "</style>\n",
       "<table border=\"1\" class=\"dataframe\">\n",
       "  <thead>\n",
       "    <tr style=\"text-align: right;\">\n",
       "      <th></th>\n",
       "      <th>Name</th>\n",
       "      <th>Age</th>\n",
       "      <th>City</th>\n",
       "      <th>Salary</th>\n",
       "    </tr>\n",
       "  </thead>\n",
       "  <tbody>\n",
       "    <tr>\n",
       "      <th>0</th>\n",
       "      <td>John</td>\n",
       "      <td>25</td>\n",
       "      <td>New York</td>\n",
       "      <td>50000</td>\n",
       "    </tr>\n",
       "    <tr>\n",
       "      <th>1</th>\n",
       "      <td>Alice</td>\n",
       "      <td>30</td>\n",
       "      <td>London</td>\n",
       "      <td>60000</td>\n",
       "    </tr>\n",
       "    <tr>\n",
       "      <th>2</th>\n",
       "      <td>Bob</td>\n",
       "      <td>35</td>\n",
       "      <td>Paris</td>\n",
       "      <td>70000</td>\n",
       "    </tr>\n",
       "    <tr>\n",
       "      <th>3</th>\n",
       "      <td>Alice</td>\n",
       "      <td>28</td>\n",
       "      <td>London</td>\n",
       "      <td>55000</td>\n",
       "    </tr>\n",
       "    <tr>\n",
       "      <th>4</th>\n",
       "      <td>John</td>\n",
       "      <td>22</td>\n",
       "      <td>New York</td>\n",
       "      <td>45000</td>\n",
       "    </tr>\n",
       "  </tbody>\n",
       "</table>\n",
       "</div>"
      ],
      "text/plain": [
       "    Name  Age      City  Salary\n",
       "0   John   25  New York   50000\n",
       "1  Alice   30    London   60000\n",
       "2    Bob   35     Paris   70000\n",
       "3  Alice   28    London   55000\n",
       "4   John   22  New York   45000"
      ]
     },
     "execution_count": 33,
     "metadata": {},
     "output_type": "execute_result"
    }
   ],
   "source": [
    "data = pd.DataFrame({'Name': ['John', 'Alice', 'Bob', 'Alice', 'John'],\n",
    "        'Age': [25, 30, 35, 28, 22],\n",
    "        'City': ['New York', 'London', 'Paris', 'London', 'New York'],\n",
    "        'Salary': [50000, 60000, 70000, 55000, 45000]})\n",
    "data"
   ]
  },
  {
   "cell_type": "code",
   "execution_count": 36,
   "id": "6ac73794",
   "metadata": {},
   "outputs": [
    {
     "data": {
      "text/html": [
       "<div>\n",
       "<style scoped>\n",
       "    .dataframe tbody tr th:only-of-type {\n",
       "        vertical-align: middle;\n",
       "    }\n",
       "\n",
       "    .dataframe tbody tr th {\n",
       "        vertical-align: top;\n",
       "    }\n",
       "\n",
       "    .dataframe thead th {\n",
       "        text-align: right;\n",
       "    }\n",
       "</style>\n",
       "<table border=\"1\" class=\"dataframe\">\n",
       "  <thead>\n",
       "    <tr style=\"text-align: right;\">\n",
       "      <th></th>\n",
       "      <th>Name_x</th>\n",
       "      <th>Age</th>\n",
       "      <th>City</th>\n",
       "      <th>Salary</th>\n",
       "      <th>Name_y</th>\n",
       "      <th>Sex</th>\n",
       "      <th>Address</th>\n",
       "      <th>Age_squared</th>\n",
       "      <th>Sum</th>\n",
       "    </tr>\n",
       "  </thead>\n",
       "  <tbody>\n",
       "    <tr>\n",
       "      <th>0</th>\n",
       "      <td>John</td>\n",
       "      <td>25</td>\n",
       "      <td>New York</td>\n",
       "      <td>50000</td>\n",
       "      <td>John</td>\n",
       "      <td>M</td>\n",
       "      <td>Banglore</td>\n",
       "      <td>625.0</td>\n",
       "      <td>650.0</td>\n",
       "    </tr>\n",
       "    <tr>\n",
       "      <th>1</th>\n",
       "      <td>Alice</td>\n",
       "      <td>30</td>\n",
       "      <td>London</td>\n",
       "      <td>60000</td>\n",
       "      <td>NaN</td>\n",
       "      <td>NaN</td>\n",
       "      <td>NaN</td>\n",
       "      <td>NaN</td>\n",
       "      <td>NaN</td>\n",
       "    </tr>\n",
       "    <tr>\n",
       "      <th>2</th>\n",
       "      <td>Bob</td>\n",
       "      <td>35</td>\n",
       "      <td>Paris</td>\n",
       "      <td>70000</td>\n",
       "      <td>NaN</td>\n",
       "      <td>NaN</td>\n",
       "      <td>NaN</td>\n",
       "      <td>NaN</td>\n",
       "      <td>NaN</td>\n",
       "    </tr>\n",
       "    <tr>\n",
       "      <th>3</th>\n",
       "      <td>Alice</td>\n",
       "      <td>28</td>\n",
       "      <td>London</td>\n",
       "      <td>55000</td>\n",
       "      <td>Emma</td>\n",
       "      <td>F</td>\n",
       "      <td>Chennai</td>\n",
       "      <td>784.0</td>\n",
       "      <td>812.0</td>\n",
       "    </tr>\n",
       "    <tr>\n",
       "      <th>4</th>\n",
       "      <td>John</td>\n",
       "      <td>22</td>\n",
       "      <td>New York</td>\n",
       "      <td>45000</td>\n",
       "      <td>NaN</td>\n",
       "      <td>NaN</td>\n",
       "      <td>NaN</td>\n",
       "      <td>NaN</td>\n",
       "      <td>NaN</td>\n",
       "    </tr>\n",
       "  </tbody>\n",
       "</table>\n",
       "</div>"
      ],
      "text/plain": [
       "  Name_x  Age      City  Salary Name_y  Sex   Address  Age_squared    Sum\n",
       "0   John   25  New York   50000   John    M  Banglore        625.0  650.0\n",
       "1  Alice   30    London   60000    NaN  NaN       NaN          NaN    NaN\n",
       "2    Bob   35     Paris   70000    NaN  NaN       NaN          NaN    NaN\n",
       "3  Alice   28    London   55000   Emma    F   Chennai        784.0  812.0\n",
       "4   John   22  New York   45000    NaN  NaN       NaN          NaN    NaN"
      ]
     },
     "execution_count": 36,
     "metadata": {},
     "output_type": "execute_result"
    }
   ],
   "source": [
    "left_df = pd.merge(data,df, on='Age', how='left')\n",
    "left_df"
   ]
  },
  {
   "cell_type": "markdown",
   "id": "81437796",
   "metadata": {},
   "source": [
    "**In a left join, all the rows from the left DataFrame (left_df) are included, and matching rows from the right DataFrame (right_df) are joined based on a common column. If there are no matches in the right DataFrame, the resulting rows will contain NaN values.**"
   ]
  },
  {
   "cell_type": "code",
   "execution_count": 38,
   "id": "47f0f382",
   "metadata": {},
   "outputs": [
    {
     "data": {
      "text/html": [
       "<div>\n",
       "<style scoped>\n",
       "    .dataframe tbody tr th:only-of-type {\n",
       "        vertical-align: middle;\n",
       "    }\n",
       "\n",
       "    .dataframe tbody tr th {\n",
       "        vertical-align: top;\n",
       "    }\n",
       "\n",
       "    .dataframe thead th {\n",
       "        text-align: right;\n",
       "    }\n",
       "</style>\n",
       "<table border=\"1\" class=\"dataframe\">\n",
       "  <thead>\n",
       "    <tr style=\"text-align: right;\">\n",
       "      <th></th>\n",
       "      <th>Name_x</th>\n",
       "      <th>Age</th>\n",
       "      <th>City</th>\n",
       "      <th>Salary</th>\n",
       "      <th>Name_y</th>\n",
       "      <th>Sex</th>\n",
       "      <th>Address</th>\n",
       "      <th>Age_squared</th>\n",
       "      <th>Sum</th>\n",
       "    </tr>\n",
       "  </thead>\n",
       "  <tbody>\n",
       "    <tr>\n",
       "      <th>0</th>\n",
       "      <td>John</td>\n",
       "      <td>25</td>\n",
       "      <td>New York</td>\n",
       "      <td>50000.0</td>\n",
       "      <td>John</td>\n",
       "      <td>M</td>\n",
       "      <td>Banglore</td>\n",
       "      <td>625</td>\n",
       "      <td>650</td>\n",
       "    </tr>\n",
       "    <tr>\n",
       "      <th>1</th>\n",
       "      <td>Alice</td>\n",
       "      <td>28</td>\n",
       "      <td>London</td>\n",
       "      <td>55000.0</td>\n",
       "      <td>Emma</td>\n",
       "      <td>F</td>\n",
       "      <td>Chennai</td>\n",
       "      <td>784</td>\n",
       "      <td>812</td>\n",
       "    </tr>\n",
       "    <tr>\n",
       "      <th>2</th>\n",
       "      <td>NaN</td>\n",
       "      <td>31</td>\n",
       "      <td>NaN</td>\n",
       "      <td>NaN</td>\n",
       "      <td>David</td>\n",
       "      <td>M</td>\n",
       "      <td>Gurgaon</td>\n",
       "      <td>961</td>\n",
       "      <td>992</td>\n",
       "    </tr>\n",
       "    <tr>\n",
       "      <th>3</th>\n",
       "      <td>NaN</td>\n",
       "      <td>24</td>\n",
       "      <td>NaN</td>\n",
       "      <td>NaN</td>\n",
       "      <td>Sophia</td>\n",
       "      <td>F</td>\n",
       "      <td>Mumbai</td>\n",
       "      <td>576</td>\n",
       "      <td>600</td>\n",
       "    </tr>\n",
       "  </tbody>\n",
       "</table>\n",
       "</div>"
      ],
      "text/plain": [
       "  Name_x  Age      City   Salary  Name_y Sex   Address  Age_squared  Sum\n",
       "0   John   25  New York  50000.0    John   M  Banglore          625  650\n",
       "1  Alice   28    London  55000.0    Emma   F   Chennai          784  812\n",
       "2    NaN   31       NaN      NaN   David   M   Gurgaon          961  992\n",
       "3    NaN   24       NaN      NaN  Sophia   F    Mumbai          576  600"
      ]
     },
     "execution_count": 38,
     "metadata": {},
     "output_type": "execute_result"
    }
   ],
   "source": [
    "right_df = pd.merge(data,df, on='Age', how='right')\n",
    "right_df"
   ]
  },
  {
   "cell_type": "markdown",
   "id": "1ad1fd9d",
   "metadata": {},
   "source": [
    "**In a right join, all the rows from the right DataFrame (right_df) are included, and matching rows from the left DataFrame (left_df) are joined based on a common column. If there are no matches in the left DataFrame, the resulting rows will contain NaN values.**"
   ]
  },
  {
   "cell_type": "code",
   "execution_count": 39,
   "id": "71c6f3ef",
   "metadata": {},
   "outputs": [
    {
     "data": {
      "text/html": [
       "<div>\n",
       "<style scoped>\n",
       "    .dataframe tbody tr th:only-of-type {\n",
       "        vertical-align: middle;\n",
       "    }\n",
       "\n",
       "    .dataframe tbody tr th {\n",
       "        vertical-align: top;\n",
       "    }\n",
       "\n",
       "    .dataframe thead th {\n",
       "        text-align: right;\n",
       "    }\n",
       "</style>\n",
       "<table border=\"1\" class=\"dataframe\">\n",
       "  <thead>\n",
       "    <tr style=\"text-align: right;\">\n",
       "      <th></th>\n",
       "      <th>Name_x</th>\n",
       "      <th>Age</th>\n",
       "      <th>City</th>\n",
       "      <th>Salary</th>\n",
       "      <th>Name_y</th>\n",
       "      <th>Sex</th>\n",
       "      <th>Address</th>\n",
       "      <th>Age_squared</th>\n",
       "      <th>Sum</th>\n",
       "    </tr>\n",
       "  </thead>\n",
       "  <tbody>\n",
       "    <tr>\n",
       "      <th>0</th>\n",
       "      <td>John</td>\n",
       "      <td>25</td>\n",
       "      <td>New York</td>\n",
       "      <td>50000</td>\n",
       "      <td>John</td>\n",
       "      <td>M</td>\n",
       "      <td>Banglore</td>\n",
       "      <td>625</td>\n",
       "      <td>650</td>\n",
       "    </tr>\n",
       "    <tr>\n",
       "      <th>1</th>\n",
       "      <td>Alice</td>\n",
       "      <td>28</td>\n",
       "      <td>London</td>\n",
       "      <td>55000</td>\n",
       "      <td>Emma</td>\n",
       "      <td>F</td>\n",
       "      <td>Chennai</td>\n",
       "      <td>784</td>\n",
       "      <td>812</td>\n",
       "    </tr>\n",
       "  </tbody>\n",
       "</table>\n",
       "</div>"
      ],
      "text/plain": [
       "  Name_x  Age      City  Salary Name_y Sex   Address  Age_squared  Sum\n",
       "0   John   25  New York   50000   John   M  Banglore          625  650\n",
       "1  Alice   28    London   55000   Emma   F   Chennai          784  812"
      ]
     },
     "execution_count": 39,
     "metadata": {},
     "output_type": "execute_result"
    }
   ],
   "source": [
    "inner_df = pd.merge(data,df, on='Age', how='inner')\n",
    "inner_df"
   ]
  },
  {
   "cell_type": "markdown",
   "id": "7b0b26e3",
   "metadata": {},
   "source": [
    "**In an inner join, only the matching rows from both the left DataFrame (left_df) and the right DataFrame (right_df) are included based on a common column. Rows that do not have a match in both DataFrames are excluded from the result.**"
   ]
  },
  {
   "cell_type": "code",
   "execution_count": 40,
   "id": "e41ad0ab",
   "metadata": {},
   "outputs": [
    {
     "data": {
      "text/html": [
       "<div>\n",
       "<style scoped>\n",
       "    .dataframe tbody tr th:only-of-type {\n",
       "        vertical-align: middle;\n",
       "    }\n",
       "\n",
       "    .dataframe tbody tr th {\n",
       "        vertical-align: top;\n",
       "    }\n",
       "\n",
       "    .dataframe thead th {\n",
       "        text-align: right;\n",
       "    }\n",
       "</style>\n",
       "<table border=\"1\" class=\"dataframe\">\n",
       "  <thead>\n",
       "    <tr style=\"text-align: right;\">\n",
       "      <th></th>\n",
       "      <th>Name_x</th>\n",
       "      <th>Age</th>\n",
       "      <th>City</th>\n",
       "      <th>Salary</th>\n",
       "      <th>Name_y</th>\n",
       "      <th>Sex</th>\n",
       "      <th>Address</th>\n",
       "      <th>Age_squared</th>\n",
       "      <th>Sum</th>\n",
       "    </tr>\n",
       "  </thead>\n",
       "  <tbody>\n",
       "    <tr>\n",
       "      <th>0</th>\n",
       "      <td>John</td>\n",
       "      <td>25</td>\n",
       "      <td>New York</td>\n",
       "      <td>50000.0</td>\n",
       "      <td>John</td>\n",
       "      <td>M</td>\n",
       "      <td>Banglore</td>\n",
       "      <td>625.0</td>\n",
       "      <td>650.0</td>\n",
       "    </tr>\n",
       "    <tr>\n",
       "      <th>1</th>\n",
       "      <td>Alice</td>\n",
       "      <td>30</td>\n",
       "      <td>London</td>\n",
       "      <td>60000.0</td>\n",
       "      <td>NaN</td>\n",
       "      <td>NaN</td>\n",
       "      <td>NaN</td>\n",
       "      <td>NaN</td>\n",
       "      <td>NaN</td>\n",
       "    </tr>\n",
       "    <tr>\n",
       "      <th>2</th>\n",
       "      <td>Bob</td>\n",
       "      <td>35</td>\n",
       "      <td>Paris</td>\n",
       "      <td>70000.0</td>\n",
       "      <td>NaN</td>\n",
       "      <td>NaN</td>\n",
       "      <td>NaN</td>\n",
       "      <td>NaN</td>\n",
       "      <td>NaN</td>\n",
       "    </tr>\n",
       "    <tr>\n",
       "      <th>3</th>\n",
       "      <td>Alice</td>\n",
       "      <td>28</td>\n",
       "      <td>London</td>\n",
       "      <td>55000.0</td>\n",
       "      <td>Emma</td>\n",
       "      <td>F</td>\n",
       "      <td>Chennai</td>\n",
       "      <td>784.0</td>\n",
       "      <td>812.0</td>\n",
       "    </tr>\n",
       "    <tr>\n",
       "      <th>4</th>\n",
       "      <td>John</td>\n",
       "      <td>22</td>\n",
       "      <td>New York</td>\n",
       "      <td>45000.0</td>\n",
       "      <td>NaN</td>\n",
       "      <td>NaN</td>\n",
       "      <td>NaN</td>\n",
       "      <td>NaN</td>\n",
       "      <td>NaN</td>\n",
       "    </tr>\n",
       "    <tr>\n",
       "      <th>5</th>\n",
       "      <td>NaN</td>\n",
       "      <td>31</td>\n",
       "      <td>NaN</td>\n",
       "      <td>NaN</td>\n",
       "      <td>David</td>\n",
       "      <td>M</td>\n",
       "      <td>Gurgaon</td>\n",
       "      <td>961.0</td>\n",
       "      <td>992.0</td>\n",
       "    </tr>\n",
       "    <tr>\n",
       "      <th>6</th>\n",
       "      <td>NaN</td>\n",
       "      <td>24</td>\n",
       "      <td>NaN</td>\n",
       "      <td>NaN</td>\n",
       "      <td>Sophia</td>\n",
       "      <td>F</td>\n",
       "      <td>Mumbai</td>\n",
       "      <td>576.0</td>\n",
       "      <td>600.0</td>\n",
       "    </tr>\n",
       "  </tbody>\n",
       "</table>\n",
       "</div>"
      ],
      "text/plain": [
       "  Name_x  Age      City   Salary  Name_y  Sex   Address  Age_squared    Sum\n",
       "0   John   25  New York  50000.0    John    M  Banglore        625.0  650.0\n",
       "1  Alice   30    London  60000.0     NaN  NaN       NaN          NaN    NaN\n",
       "2    Bob   35     Paris  70000.0     NaN  NaN       NaN          NaN    NaN\n",
       "3  Alice   28    London  55000.0    Emma    F   Chennai        784.0  812.0\n",
       "4   John   22  New York  45000.0     NaN  NaN       NaN          NaN    NaN\n",
       "5    NaN   31       NaN      NaN   David    M   Gurgaon        961.0  992.0\n",
       "6    NaN   24       NaN      NaN  Sophia    F    Mumbai        576.0  600.0"
      ]
     },
     "execution_count": 40,
     "metadata": {},
     "output_type": "execute_result"
    }
   ],
   "source": [
    "outer_df = pd.merge(data,df, on='Age', how='outer')\n",
    "outer_df"
   ]
  },
  {
   "cell_type": "markdown",
   "id": "75853e44",
   "metadata": {},
   "source": [
    "**In an outer join, all the rows from both the left DataFrame (left_df) and the right DataFrame (right_df) are included. Matching rows are joined based on a common column, and if there are no matches, the resulting rows will contain NaN values.**"
   ]
  },
  {
   "cell_type": "markdown",
   "id": "622c8336",
   "metadata": {},
   "source": [
    "### Q) What is the use of inplace=True parameter.\n",
    "\n",
    "* inplace is a inbuild parameter in pandas which is used to manipulate the original dataset directly. For eg: we write a code that df.drop('column name', axis=1, inplace=True), which means it will drop that column permantly even in the original dataset."
   ]
  },
  {
   "cell_type": "markdown",
   "id": "2962db8f",
   "metadata": {},
   "source": [
    "### Q) How to find null values?\n",
    "\n",
    "* By using df.isnull().sum()"
   ]
  },
  {
   "cell_type": "markdown",
   "id": "43467cef",
   "metadata": {},
   "source": [
    "### Q) How to drop a column in pandas?\n",
    "\n",
    "* We use df.drop('column name', axis = 1, inplace = True)"
   ]
  },
  {
   "cell_type": "markdown",
   "id": "f5e63433",
   "metadata": {},
   "source": [
    "### Q) How to unique values with their count?\n",
    "\n",
    "df.value_counts()"
   ]
  },
  {
   "cell_type": "markdown",
   "id": "7f95bac7",
   "metadata": {},
   "source": [
    "### Q) How to compute median in pandas?\n",
    "\n",
    "df.median()"
   ]
  },
  {
   "cell_type": "markdown",
   "id": "1d2afe24",
   "metadata": {},
   "source": [
    "### Q) How to compute mode in pamdas?\n",
    "* By using df.mode() function, it will give mode of every column."
   ]
  },
  {
   "cell_type": "markdown",
   "id": "0fa49164",
   "metadata": {},
   "source": [
    "### Q) How to compute variance & standard deviation in pandas?\n",
    "\n",
    "By using df.var() function we compute variance of all columns and by using df.std() function we compute standard deviation of all columns."
   ]
  },
  {
   "cell_type": "markdown",
   "id": "4ce3139a",
   "metadata": {},
   "source": [
    "### Q) How to compute covariance and correlation in pandas?\n",
    "\n",
    "* By using df.cov() function it will compute covariance and by using using df.corr('pearson') it will compute Pearson's coefficient Correlation and by using df.corr('spearman') it will compute Spearman's rank correlation."
   ]
  }
 ],
 "metadata": {
  "kernelspec": {
   "display_name": "Python 3 (ipykernel)",
   "language": "python",
   "name": "python3"
  },
  "language_info": {
   "codemirror_mode": {
    "name": "ipython",
    "version": 3
   },
   "file_extension": ".py",
   "mimetype": "text/x-python",
   "name": "python",
   "nbconvert_exporter": "python",
   "pygments_lexer": "ipython3",
   "version": "3.9.13"
  }
 },
 "nbformat": 4,
 "nbformat_minor": 5
}
