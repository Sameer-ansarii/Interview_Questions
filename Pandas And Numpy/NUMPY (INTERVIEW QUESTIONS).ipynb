{
 "cells": [
  {
   "cell_type": "markdown",
   "id": "f7feffec",
   "metadata": {},
   "source": [
    "### Q) What is numpy and it's use?\n",
    "\n",
    "* Numpy is an open-source library of python use to perform various mathematical & statistical tasks, such as finding measures of central tendency, covariance & correlation, matrix multiplication, etc."
   ]
  },
  {
   "cell_type": "code",
   "execution_count": null,
   "id": "6f290284",
   "metadata": {},
   "outputs": [],
   "source": []
  },
  {
   "cell_type": "markdown",
   "id": "2bb94f98",
   "metadata": {},
   "source": [
    "### Q) What is array?\n",
    "\n",
    "* Array is a matrix of numerical values which are called elements. Array contains only numerical values. Array can be of any dimension, such as 1D array,  2D array, etc."
   ]
  },
  {
   "cell_type": "code",
   "execution_count": null,
   "id": "f433da21",
   "metadata": {},
   "outputs": [],
   "source": []
  },
  {
   "cell_type": "markdown",
   "id": "a2c3fa10",
   "metadata": {},
   "source": [
    "### Q) Difference between list and array?\n",
    "\n",
    "* List contains any data type, such as object, integer, float but array contains only numerical value whether it is interger or float.\n",
    "\n",
    "\n",
    "* List can be only one dimensional but array can be one dimensional or multi-dimensional."
   ]
  },
  {
   "cell_type": "code",
   "execution_count": null,
   "id": "8503fa97",
   "metadata": {},
   "outputs": [],
   "source": []
  },
  {
   "cell_type": "markdown",
   "id": "fd781c32",
   "metadata": {},
   "source": [
    "### Q) How to compute measures of central tendency using numpy?\n",
    "\n",
    "* We have various functions in numpy to compute measures of central tendency, such as \n",
    "\n",
    "* np.mean('column name'), np.median('column name') and to compute mode we have no dirct function in numpy so we use scipy.stats library to compute mode and the code will be scipy.stats.mode('column name') or we use pandas to compute mode by applying df.mode() function which computes mode of every column."
   ]
  },
  {
   "cell_type": "code",
   "execution_count": null,
   "id": "ab96a67a",
   "metadata": {},
   "outputs": [],
   "source": []
  },
  {
   "cell_type": "markdown",
   "id": "7fee1a28",
   "metadata": {},
   "source": [
    "### Q) How to compute percentile?\n",
    "\n",
    "* We use np.percentile() function and code will be np.percentile('column name', percentile value like 25,50)"
   ]
  },
  {
   "cell_type": "code",
   "execution_count": null,
   "id": "86e08106",
   "metadata": {},
   "outputs": [],
   "source": []
  },
  {
   "cell_type": "markdown",
   "id": "e59599e3",
   "metadata": {},
   "source": [
    "### Q) How to convert a list into numpy array?"
   ]
  },
  {
   "cell_type": "code",
   "execution_count": 1,
   "id": "54a8a9b0",
   "metadata": {},
   "outputs": [
    {
     "data": {
      "text/plain": [
       "array([1, 5, 7, 6])"
      ]
     },
     "execution_count": 1,
     "metadata": {},
     "output_type": "execute_result"
    }
   ],
   "source": [
    "import numpy as np\n",
    "\n",
    "a = [1,5,7,6]\n",
    "\n",
    "numpy_array = np.array(a)\n",
    "\n",
    "numpy_array # Numpy array results output as a list of elements which are comma seprated "
   ]
  },
  {
   "cell_type": "code",
   "execution_count": 2,
   "id": "ffb1d18d",
   "metadata": {},
   "outputs": [
    {
     "name": "stdout",
     "output_type": "stream",
     "text": [
      "[1 5 7 6]\n"
     ]
    }
   ],
   "source": [
    "print(numpy_array) # Print a numpy array results in list of elements which are not comma seprated"
   ]
  },
  {
   "cell_type": "code",
   "execution_count": 3,
   "id": "345781ca",
   "metadata": {},
   "outputs": [
    {
     "data": {
      "text/plain": [
       "[1, 5, 7, 6]"
      ]
     },
     "execution_count": 3,
     "metadata": {},
     "output_type": "execute_result"
    }
   ],
   "source": [
    "a   # list results output in list of elements which are comma seprated. "
   ]
  },
  {
   "cell_type": "code",
   "execution_count": 4,
   "id": "bd5b2d04",
   "metadata": {},
   "outputs": [
    {
     "name": "stdout",
     "output_type": "stream",
     "text": [
      "[1, 5, 7, 6]\n"
     ]
    }
   ],
   "source": [
    "print(a)  # Print a list results same output as object of list"
   ]
  },
  {
   "cell_type": "code",
   "execution_count": 5,
   "id": "004a401e",
   "metadata": {},
   "outputs": [
    {
     "data": {
      "text/plain": [
       "list"
      ]
     },
     "execution_count": 5,
     "metadata": {},
     "output_type": "execute_result"
    }
   ],
   "source": [
    "type(a)"
   ]
  },
  {
   "cell_type": "code",
   "execution_count": 6,
   "id": "3ab3cfbc",
   "metadata": {},
   "outputs": [
    {
     "data": {
      "text/plain": [
       "numpy.ndarray"
      ]
     },
     "execution_count": 6,
     "metadata": {},
     "output_type": "execute_result"
    }
   ],
   "source": [
    "type(numpy_array)"
   ]
  },
  {
   "cell_type": "code",
   "execution_count": null,
   "id": "e13fe214",
   "metadata": {},
   "outputs": [],
   "source": []
  },
  {
   "cell_type": "markdown",
   "id": "1c4ba185",
   "metadata": {},
   "source": [
    "### Q) Suppose there is an array [[1,2,3][4,5,6][7,8,9]]. Extract the value 8 using 2D indexing"
   ]
  },
  {
   "cell_type": "code",
   "execution_count": 7,
   "id": "b3067551",
   "metadata": {},
   "outputs": [
    {
     "name": "stdout",
     "output_type": "stream",
     "text": [
      "[[1 2 3]\n",
      " [4 5 6]\n",
      " [7 8 9]]\n"
     ]
    }
   ],
   "source": [
    "num = np.array([[1,2,3],[4,5,6],[7,8,9]])\n",
    "print(num)"
   ]
  },
  {
   "cell_type": "code",
   "execution_count": 9,
   "id": "9eff3b16",
   "metadata": {},
   "outputs": [
    {
     "data": {
      "text/plain": [
       "8"
      ]
     },
     "execution_count": 9,
     "metadata": {},
     "output_type": "execute_result"
    }
   ],
   "source": [
    "num[2,1]"
   ]
  },
  {
   "cell_type": "code",
   "execution_count": null,
   "id": "912b386c",
   "metadata": {},
   "outputs": [],
   "source": []
  },
  {
   "cell_type": "markdown",
   "id": "7223e828",
   "metadata": {},
   "source": [
    "### Q) Suppose there is an array that has values: [0,1,2,3,4,5,6,7,8,9]. How will you display the following values from an array:[1,3,5,7,9]?"
   ]
  },
  {
   "cell_type": "code",
   "execution_count": 11,
   "id": "2a7fb86c",
   "metadata": {},
   "outputs": [
    {
     "data": {
      "text/plain": [
       "array([0, 1, 2, 3, 4, 5, 6, 7, 8, 9])"
      ]
     },
     "execution_count": 11,
     "metadata": {},
     "output_type": "execute_result"
    }
   ],
   "source": [
    "arr = np.arange(10)\n",
    "arr"
   ]
  },
  {
   "cell_type": "code",
   "execution_count": 12,
   "id": "205f33ad",
   "metadata": {},
   "outputs": [
    {
     "data": {
      "text/plain": [
       "array([1, 3, 5, 7, 9])"
      ]
     },
     "execution_count": 12,
     "metadata": {},
     "output_type": "execute_result"
    }
   ],
   "source": [
    "arr[arr%2==1]"
   ]
  },
  {
   "cell_type": "code",
   "execution_count": null,
   "id": "fc748474",
   "metadata": {},
   "outputs": [],
   "source": []
  },
  {
   "cell_type": "markdown",
   "id": "80c77607",
   "metadata": {},
   "source": [
    "### Q) How will you print four random integers between 1 to 15 using Numpy?"
   ]
  },
  {
   "cell_type": "code",
   "execution_count": 18,
   "id": "b6b062b8",
   "metadata": {},
   "outputs": [
    {
     "data": {
      "text/plain": [
       "array([ 8,  7, 13,  6])"
      ]
     },
     "execution_count": 18,
     "metadata": {},
     "output_type": "execute_result"
    }
   ],
   "source": [
    "rand_arr = np.random.randint(1,15,4)\n",
    "rand_arr"
   ]
  },
  {
   "cell_type": "code",
   "execution_count": null,
   "id": "d50dccbf",
   "metadata": {},
   "outputs": [],
   "source": []
  },
  {
   "cell_type": "markdown",
   "id": "05cde454",
   "metadata": {},
   "source": [
    "### Q) There are two arrays 'A', 'B'. Stack the arrays A and B horizontally using the Numby.\n",
    "\n"
   ]
  },
  {
   "cell_type": "code",
   "execution_count": 22,
   "id": "4cfffd71",
   "metadata": {},
   "outputs": [
    {
     "data": {
      "text/plain": [
       "(array([1, 2, 3]), array([4, 5, 6]))"
      ]
     },
     "execution_count": 22,
     "metadata": {},
     "output_type": "execute_result"
    }
   ],
   "source": [
    "A = np.array([1,2,3])\n",
    "B = np.array([4,5,6])\n",
    "\n",
    "A,B"
   ]
  },
  {
   "cell_type": "code",
   "execution_count": 26,
   "id": "eb62f97e",
   "metadata": {},
   "outputs": [
    {
     "data": {
      "text/plain": [
       "array([1, 2, 3, 4, 5, 6])"
      ]
     },
     "execution_count": 26,
     "metadata": {},
     "output_type": "execute_result"
    }
   ],
   "source": [
    "np.hstack([A,B])"
   ]
  },
  {
   "cell_type": "code",
   "execution_count": null,
   "id": "6fd5529f",
   "metadata": {},
   "outputs": [],
   "source": []
  },
  {
   "cell_type": "markdown",
   "id": "e1f608b6",
   "metadata": {},
   "source": [
    "### Q) How to reshape a array?"
   ]
  },
  {
   "cell_type": "code",
   "execution_count": 41,
   "id": "72755ddb",
   "metadata": {},
   "outputs": [
    {
     "data": {
      "text/plain": [
       "(1, array([1, 2, 3, 4, 5, 6]))"
      ]
     },
     "execution_count": 41,
     "metadata": {},
     "output_type": "execute_result"
    }
   ],
   "source": [
    "arr = np.array([1, 2, 3, 4, 5, 6])\n",
    "\n",
    "arr.ndim, arr"
   ]
  },
  {
   "cell_type": "code",
   "execution_count": 42,
   "id": "2a08cc32",
   "metadata": {},
   "outputs": [
    {
     "data": {
      "text/plain": [
       "(2,\n",
       " array([[1, 2, 3],\n",
       "        [4, 5, 6]]))"
      ]
     },
     "execution_count": 42,
     "metadata": {},
     "output_type": "execute_result"
    }
   ],
   "source": [
    "reshaped_arr = arr.reshape(2, 3)\n",
    "reshaped_arr.ndim, reshaped_arr"
   ]
  },
  {
   "cell_type": "code",
   "execution_count": null,
   "id": "38787e66",
   "metadata": {},
   "outputs": [],
   "source": []
  }
 ],
 "metadata": {
  "kernelspec": {
   "display_name": "Python 3 (ipykernel)",
   "language": "python",
   "name": "python3"
  },
  "language_info": {
   "codemirror_mode": {
    "name": "ipython",
    "version": 3
   },
   "file_extension": ".py",
   "mimetype": "text/x-python",
   "name": "python",
   "nbconvert_exporter": "python",
   "pygments_lexer": "ipython3",
   "version": "3.9.13"
  }
 },
 "nbformat": 4,
 "nbformat_minor": 5
}
