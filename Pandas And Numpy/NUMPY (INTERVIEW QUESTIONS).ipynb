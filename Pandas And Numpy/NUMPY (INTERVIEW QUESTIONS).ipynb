{
 "cells": [
  {
   "cell_type": "markdown",
   "id": "f7feffec",
   "metadata": {},
   "source": [
    "### Q) What is numpy and it's use?\n",
    "\n",
    "NumPy stands for numeric python which is a python package for the computation and processing of the multidimensional and single dimensional array elements.\n",
    "\n",
    "-----------\n",
    "\n",
    "Numpy is an open-source library of python use to perform various mathematical & statistical tasks, such as finding measures of central tendency, covariance & correlation, matrix multiplication, etc.\n",
    "\n",
    "-----------------\n",
    "\n",
    "NumPy is a powerful Python library used for numerical computing. It provides support for multi-dimensional arrays and a wide range of mathematical functions to perform operations efficiently."
   ]
  },
  {
   "cell_type": "code",
   "execution_count": null,
   "id": "d7d5fdb4",
   "metadata": {},
   "outputs": [],
   "source": []
  },
  {
   "cell_type": "markdown",
   "id": "de6dc38d",
   "metadata": {},
   "source": [
    "### Q) How do you create a NumPy array?\n",
    "You can create a NumPy array from a Python list using the numpy.array() function:"
   ]
  },
  {
   "cell_type": "code",
   "execution_count": 1,
   "id": "6753a5d6",
   "metadata": {},
   "outputs": [
    {
     "data": {
      "text/plain": [
       "array([1, 2, 3, 4, 5])"
      ]
     },
     "execution_count": 1,
     "metadata": {},
     "output_type": "execute_result"
    }
   ],
   "source": [
    "#Method 1\n",
    "\n",
    "import numpy as np\n",
    "\n",
    "my_list = [1, 2, 3, 4, 5]\n",
    "my_array = np.array(my_list)\n",
    "my_array"
   ]
  },
  {
   "cell_type": "code",
   "execution_count": 2,
   "id": "f7760375",
   "metadata": {},
   "outputs": [
    {
     "data": {
      "text/plain": [
       "numpy.ndarray"
      ]
     },
     "execution_count": 2,
     "metadata": {},
     "output_type": "execute_result"
    }
   ],
   "source": [
    "type(my_array)"
   ]
  },
  {
   "cell_type": "code",
   "execution_count": 15,
   "id": "34d23d4b",
   "metadata": {},
   "outputs": [
    {
     "name": "stdout",
     "output_type": "stream",
     "text": [
      "[]\n"
     ]
    }
   ],
   "source": [
    "print(my_array[0:3:-1])"
   ]
  },
  {
   "cell_type": "markdown",
   "id": "6c3edbc6",
   "metadata": {},
   "source": [
    "**`NOTE`: Reverse slicing doesn't work in numpy**"
   ]
  },
  {
   "cell_type": "code",
   "execution_count": null,
   "id": "cee257b5",
   "metadata": {},
   "outputs": [],
   "source": []
  },
  {
   "cell_type": "markdown",
   "id": "2575525e",
   "metadata": {},
   "source": [
    "### Q) How to create a 2D or multi-dimensional array?"
   ]
  },
  {
   "cell_type": "code",
   "execution_count": 13,
   "id": "b82b8838",
   "metadata": {},
   "outputs": [
    {
     "data": {
      "text/plain": [
       "2"
      ]
     },
     "execution_count": 13,
     "metadata": {},
     "output_type": "execute_result"
    }
   ],
   "source": [
    "#create 2D array\n",
    "\n",
    "arr = np.array([[1, 2, 3, 4, 5]])\n",
    "arr.ndim"
   ]
  },
  {
   "cell_type": "code",
   "execution_count": 14,
   "id": "6b64913e",
   "metadata": {},
   "outputs": [
    {
     "data": {
      "text/plain": [
       "5"
      ]
     },
     "execution_count": 14,
     "metadata": {},
     "output_type": "execute_result"
    }
   ],
   "source": [
    "#Create multi-dimensional array\n",
    "\n",
    "arr = np.array([[[[[1, 2, 3, 4, 5]]]]])\n",
    "arr.ndim"
   ]
  },
  {
   "cell_type": "code",
   "execution_count": 22,
   "id": "abd84983",
   "metadata": {},
   "outputs": [
    {
     "data": {
      "text/plain": [
       "array([[[1],\n",
       "        [2],\n",
       "        [3]]])"
      ]
     },
     "execution_count": 22,
     "metadata": {},
     "output_type": "execute_result"
    }
   ],
   "source": [
    "# Method 2\n",
    "\n",
    "my_array = np.array([[[1],[2],[3]]])\n",
    "my_array"
   ]
  },
  {
   "cell_type": "code",
   "execution_count": 23,
   "id": "5c2072e4",
   "metadata": {},
   "outputs": [
    {
     "data": {
      "text/plain": [
       "3"
      ]
     },
     "execution_count": 23,
     "metadata": {},
     "output_type": "execute_result"
    }
   ],
   "source": [
    "my_array.ndim"
   ]
  },
  {
   "cell_type": "code",
   "execution_count": 27,
   "id": "689b0050",
   "metadata": {},
   "outputs": [
    {
     "data": {
      "text/plain": [
       "array([[ 1,  2,  3],\n",
       "       [ 4,  5,  6],\n",
       "       [ 5,  9,  0],\n",
       "       [ 9,  8, 10],\n",
       "       [ 5,  4,  5]])"
      ]
     },
     "execution_count": 27,
     "metadata": {},
     "output_type": "execute_result"
    }
   ],
   "source": [
    "# Method 3\n",
    "\n",
    "matrix = np.array([[1,2,3],[4,5,6],[5,9,0],[9,8,10],[5,4,5]])\n",
    "matrix"
   ]
  },
  {
   "cell_type": "code",
   "execution_count": 28,
   "id": "c21f328f",
   "metadata": {},
   "outputs": [
    {
     "data": {
      "text/plain": [
       "2"
      ]
     },
     "execution_count": 28,
     "metadata": {},
     "output_type": "execute_result"
    }
   ],
   "source": [
    "matrix.ndim"
   ]
  },
  {
   "cell_type": "code",
   "execution_count": null,
   "id": "f85fd80a",
   "metadata": {},
   "outputs": [],
   "source": []
  },
  {
   "cell_type": "markdown",
   "id": "5998e464",
   "metadata": {},
   "source": [
    "### Q) How to perform slicing in an array?\n",
    "\n"
   ]
  },
  {
   "cell_type": "markdown",
   "id": "33f9003d",
   "metadata": {},
   "source": [
    "**Slicing of Multi-Dimensional Array**"
   ]
  },
  {
   "cell_type": "code",
   "execution_count": 29,
   "id": "e825a54d",
   "metadata": {},
   "outputs": [
    {
     "name": "stdout",
     "output_type": "stream",
     "text": [
      "[[2]\n",
      " [5]]\n"
     ]
    }
   ],
   "source": [
    "print(matrix[0:2,1:2]) #Rows, Columns"
   ]
  },
  {
   "cell_type": "code",
   "execution_count": 30,
   "id": "cfe699c7",
   "metadata": {},
   "outputs": [
    {
     "data": {
      "text/plain": [
       "array([5])"
      ]
     },
     "execution_count": 30,
     "metadata": {},
     "output_type": "execute_result"
    }
   ],
   "source": [
    "matrix[4,-1:]"
   ]
  },
  {
   "cell_type": "code",
   "execution_count": 44,
   "id": "7ba94733",
   "metadata": {},
   "outputs": [
    {
     "data": {
      "text/plain": [
       "array([[1, 2, 3],\n",
       "       [4, 5, 6],\n",
       "       [5, 9, 0]])"
      ]
     },
     "execution_count": 44,
     "metadata": {},
     "output_type": "execute_result"
    }
   ],
   "source": [
    "matrix[0:3]"
   ]
  },
  {
   "cell_type": "code",
   "execution_count": null,
   "id": "32ac2b3d",
   "metadata": {},
   "outputs": [],
   "source": []
  },
  {
   "cell_type": "markdown",
   "id": "828229b0",
   "metadata": {},
   "source": [
    "### Q) How to check minimum and maximum element of an entire array?"
   ]
  },
  {
   "cell_type": "code",
   "execution_count": 46,
   "id": "3083c0d2",
   "metadata": {},
   "outputs": [
    {
     "data": {
      "text/plain": [
       "0"
      ]
     },
     "execution_count": 46,
     "metadata": {},
     "output_type": "execute_result"
    }
   ],
   "source": [
    "# minimum element\n",
    "\n",
    "np.min(matrix)"
   ]
  },
  {
   "cell_type": "code",
   "execution_count": null,
   "id": "52d396ad",
   "metadata": {},
   "outputs": [],
   "source": [
    "# maximum element\n",
    "\n",
    "\n",
    "np.max(matrix)"
   ]
  },
  {
   "cell_type": "code",
   "execution_count": null,
   "id": "729b98a1",
   "metadata": {},
   "outputs": [],
   "source": []
  },
  {
   "cell_type": "markdown",
   "id": "f8fd7313",
   "metadata": {},
   "source": [
    "### Q) How to check minimum and maximum element of an array, row & column wise?"
   ]
  },
  {
   "cell_type": "code",
   "execution_count": 47,
   "id": "e9472416",
   "metadata": {},
   "outputs": [
    {
     "data": {
      "text/plain": [
       "array([[ 1,  2,  3],\n",
       "       [ 4,  5,  6],\n",
       "       [ 5,  9,  0],\n",
       "       [ 9,  8, 10],\n",
       "       [ 5,  4,  5]])"
      ]
     },
     "execution_count": 47,
     "metadata": {},
     "output_type": "execute_result"
    }
   ],
   "source": [
    "matrix"
   ]
  },
  {
   "cell_type": "code",
   "execution_count": 50,
   "id": "d3681f48",
   "metadata": {},
   "outputs": [
    {
     "data": {
      "text/plain": [
       "array([1, 2, 0])"
      ]
     },
     "execution_count": 50,
     "metadata": {},
     "output_type": "execute_result"
    }
   ],
   "source": [
    "# Column wise minimum value\n",
    "\n",
    "np.min(matrix, axis = 0) "
   ]
  },
  {
   "cell_type": "code",
   "execution_count": 51,
   "id": "08868ed9",
   "metadata": {},
   "outputs": [
    {
     "data": {
      "text/plain": [
       "array([ 9,  9, 10])"
      ]
     },
     "execution_count": 51,
     "metadata": {},
     "output_type": "execute_result"
    }
   ],
   "source": [
    "# Column wise maximum value\n",
    "\n",
    "np.max(matrix, axis = 0) "
   ]
  },
  {
   "cell_type": "code",
   "execution_count": 52,
   "id": "3ef30fcd",
   "metadata": {},
   "outputs": [
    {
     "data": {
      "text/plain": [
       "array([1, 4, 0, 8, 4])"
      ]
     },
     "execution_count": 52,
     "metadata": {},
     "output_type": "execute_result"
    }
   ],
   "source": [
    "# Row wise minimum value\n",
    "\n",
    "np.min(matrix, axis = 1) "
   ]
  },
  {
   "cell_type": "code",
   "execution_count": 53,
   "id": "95323c70",
   "metadata": {},
   "outputs": [
    {
     "data": {
      "text/plain": [
       "array([ 3,  6,  9, 10,  5])"
      ]
     },
     "execution_count": 53,
     "metadata": {},
     "output_type": "execute_result"
    }
   ],
   "source": [
    "# Row wise maximum value\n",
    "\n",
    "np.max(matrix, axis = 1) "
   ]
  },
  {
   "cell_type": "code",
   "execution_count": null,
   "id": "34708550",
   "metadata": {},
   "outputs": [],
   "source": []
  },
  {
   "cell_type": "markdown",
   "id": "b95be79f",
   "metadata": {},
   "source": [
    "### Q) Calcualte the mean of all rows, columns and  elements of an  array."
   ]
  },
  {
   "cell_type": "code",
   "execution_count": 54,
   "id": "5179f120",
   "metadata": {},
   "outputs": [
    {
     "data": {
      "text/plain": [
       "5.066666666666666"
      ]
     },
     "execution_count": 54,
     "metadata": {},
     "output_type": "execute_result"
    }
   ],
   "source": [
    "# Mean of all elememts\n",
    "\n",
    "matrix.mean()"
   ]
  },
  {
   "cell_type": "code",
   "execution_count": 57,
   "id": "cb5f5073",
   "metadata": {},
   "outputs": [
    {
     "data": {
      "text/plain": [
       "array([2.        , 5.        , 4.66666667, 9.        , 4.66666667])"
      ]
     },
     "execution_count": 57,
     "metadata": {},
     "output_type": "execute_result"
    }
   ],
   "source": [
    "# Row wise mean\n",
    "\n",
    "matrix.mean(axi = 1)"
   ]
  },
  {
   "cell_type": "code",
   "execution_count": 58,
   "id": "f53de466",
   "metadata": {},
   "outputs": [
    {
     "data": {
      "text/plain": [
       "array([4.8, 5.6, 4.8])"
      ]
     },
     "execution_count": 58,
     "metadata": {},
     "output_type": "execute_result"
    }
   ],
   "source": [
    "# Column wise mean\n",
    "\n",
    "matrix.mean(axis = 0)"
   ]
  },
  {
   "cell_type": "code",
   "execution_count": null,
   "id": "4a5763f0",
   "metadata": {},
   "outputs": [],
   "source": []
  },
  {
   "cell_type": "markdown",
   "id": "0b345a4c",
   "metadata": {},
   "source": [
    "### Q) Count elements and shape of an array."
   ]
  },
  {
   "cell_type": "code",
   "execution_count": 59,
   "id": "3c7f73da",
   "metadata": {},
   "outputs": [
    {
     "data": {
      "text/plain": [
       "array([[[1],\n",
       "        [2],\n",
       "        [3]]])"
      ]
     },
     "execution_count": 59,
     "metadata": {},
     "output_type": "execute_result"
    }
   ],
   "source": [
    "my_array = np.array([[[1],[2],[3]]])\n",
    "my_array"
   ]
  },
  {
   "cell_type": "code",
   "execution_count": 60,
   "id": "5a4a84a1",
   "metadata": {},
   "outputs": [
    {
     "data": {
      "text/plain": [
       "3"
      ]
     },
     "execution_count": 60,
     "metadata": {},
     "output_type": "execute_result"
    }
   ],
   "source": [
    "# Counts of elements\n",
    "\n",
    "my_array.size"
   ]
  },
  {
   "cell_type": "code",
   "execution_count": 61,
   "id": "c74ad895",
   "metadata": {},
   "outputs": [
    {
     "data": {
      "text/plain": [
       "(1, 3, 1)"
      ]
     },
     "execution_count": 61,
     "metadata": {},
     "output_type": "execute_result"
    }
   ],
   "source": [
    "my_array.shape"
   ]
  },
  {
   "cell_type": "code",
   "execution_count": null,
   "id": "4a0a8421",
   "metadata": {},
   "outputs": [],
   "source": []
  },
  {
   "cell_type": "markdown",
   "id": "7a706496",
   "metadata": {},
   "source": [
    "### Q) How to reshape array?"
   ]
  },
  {
   "cell_type": "code",
   "execution_count": 62,
   "id": "8a02e9e2",
   "metadata": {},
   "outputs": [
    {
     "data": {
      "text/plain": [
       "array([[ 1,  2,  3],\n",
       "       [ 4,  5,  6],\n",
       "       [ 5,  9,  0],\n",
       "       [ 9,  8, 10],\n",
       "       [ 5,  4,  5]])"
      ]
     },
     "execution_count": 62,
     "metadata": {},
     "output_type": "execute_result"
    }
   ],
   "source": [
    "matrix"
   ]
  },
  {
   "cell_type": "code",
   "execution_count": 66,
   "id": "bc6d2708",
   "metadata": {},
   "outputs": [
    {
     "data": {
      "text/plain": [
       "array([[ 1,  2,  3,  4,  5],\n",
       "       [ 6,  5,  9,  0,  9],\n",
       "       [ 8, 10,  5,  4,  5]])"
      ]
     },
     "execution_count": 66,
     "metadata": {},
     "output_type": "execute_result"
    }
   ],
   "source": [
    "matrix.reshape(3,5) #Rows, Columns"
   ]
  },
  {
   "cell_type": "code",
   "execution_count": 67,
   "id": "a60aa1e5",
   "metadata": {},
   "outputs": [
    {
     "ename": "ValueError",
     "evalue": "cannot reshape array of size 15 into shape (4,4)",
     "output_type": "error",
     "traceback": [
      "\u001b[1;31m---------------------------------------------------------------------------\u001b[0m",
      "\u001b[1;31mValueError\u001b[0m                                Traceback (most recent call last)",
      "\u001b[1;32m~\\AppData\\Local\\Temp\\ipykernel_2172\\740843095.py\u001b[0m in \u001b[0;36m<module>\u001b[1;34m\u001b[0m\n\u001b[1;32m----> 1\u001b[1;33m \u001b[0mmatrix\u001b[0m\u001b[1;33m.\u001b[0m\u001b[0mreshape\u001b[0m\u001b[1;33m(\u001b[0m\u001b[1;36m4\u001b[0m\u001b[1;33m,\u001b[0m\u001b[1;36m4\u001b[0m\u001b[1;33m)\u001b[0m\u001b[1;33m\u001b[0m\u001b[1;33m\u001b[0m\u001b[0m\n\u001b[0m",
      "\u001b[1;31mValueError\u001b[0m: cannot reshape array of size 15 into shape (4,4)"
     ]
    }
   ],
   "source": [
    "matrix.reshape(4,4)"
   ]
  },
  {
   "cell_type": "markdown",
   "id": "1f35bf70",
   "metadata": {},
   "source": [
    "**Make sure that elements are equal to the elements in existing array.**"
   ]
  },
  {
   "cell_type": "code",
   "execution_count": null,
   "id": "b017407c",
   "metadata": {},
   "outputs": [],
   "source": []
  },
  {
   "cell_type": "markdown",
   "id": "1cba2c9e",
   "metadata": {},
   "source": [
    "### Q) Perform mathematical functions on 2 arrays, such as addition, subtraction, multiplication."
   ]
  },
  {
   "cell_type": "code",
   "execution_count": 70,
   "id": "98b0e0c7",
   "metadata": {},
   "outputs": [
    {
     "data": {
      "text/plain": [
       "array([[1, 2, 3],\n",
       "       [6, 5, 6],\n",
       "       [7, 7, 9]])"
      ]
     },
     "execution_count": 70,
     "metadata": {},
     "output_type": "execute_result"
    }
   ],
   "source": [
    "matrix_1 = np.array([[1,2,3],[6,5,6],[7,7,9]])\n",
    "matrix_1"
   ]
  },
  {
   "cell_type": "code",
   "execution_count": 71,
   "id": "cb0c03b1",
   "metadata": {},
   "outputs": [
    {
     "data": {
      "text/plain": [
       "array([[7, 8, 9],\n",
       "       [4, 5, 6],\n",
       "       [1, 2, 3]])"
      ]
     },
     "execution_count": 71,
     "metadata": {},
     "output_type": "execute_result"
    }
   ],
   "source": [
    "matrix_2 = np.array([[7,8,9],[4,5,6],[1,2,3]])\n",
    "matrix_2"
   ]
  },
  {
   "cell_type": "code",
   "execution_count": 72,
   "id": "44fc1151",
   "metadata": {},
   "outputs": [
    {
     "data": {
      "text/plain": [
       "array([[ 8, 10, 12],\n",
       "       [10, 10, 12],\n",
       "       [ 8,  9, 12]])"
      ]
     },
     "execution_count": 72,
     "metadata": {},
     "output_type": "execute_result"
    }
   ],
   "source": [
    "# Adding 2 matrixes\n",
    "\n",
    "np.add(matrix_1,matrix_2)"
   ]
  },
  {
   "cell_type": "code",
   "execution_count": 73,
   "id": "ccba13cf",
   "metadata": {},
   "outputs": [
    {
     "data": {
      "text/plain": [
       "array([[-6, -6, -6],\n",
       "       [ 2,  0,  0],\n",
       "       [ 6,  5,  6]])"
      ]
     },
     "execution_count": 73,
     "metadata": {},
     "output_type": "execute_result"
    }
   ],
   "source": [
    "# subtracting 2 matrixes\n",
    "\n",
    "np.subtract(matrix_1,matrix_2)"
   ]
  },
  {
   "cell_type": "code",
   "execution_count": 74,
   "id": "ee59e091",
   "metadata": {},
   "outputs": [
    {
     "data": {
      "text/plain": [
       "array([[ 7, 16, 27],\n",
       "       [24, 25, 36],\n",
       "       [ 7, 14, 27]])"
      ]
     },
     "execution_count": 74,
     "metadata": {},
     "output_type": "execute_result"
    }
   ],
   "source": [
    "# multiplying 2 matrixes\n",
    "\n",
    "matrix_1*matrix_2"
   ]
  },
  {
   "cell_type": "markdown",
   "id": "acee1612",
   "metadata": {},
   "source": [
    "**Mathematical functions are done by positioning of elements.**"
   ]
  },
  {
   "cell_type": "code",
   "execution_count": null,
   "id": "c6cae60a",
   "metadata": {},
   "outputs": [],
   "source": []
  },
  {
   "cell_type": "markdown",
   "id": "34fda9cf",
   "metadata": {},
   "source": [
    "### Q) Convert multi-dimensional array into D array."
   ]
  },
  {
   "cell_type": "code",
   "execution_count": 75,
   "id": "5ac5e0c2",
   "metadata": {},
   "outputs": [
    {
     "data": {
      "text/plain": [
       "2"
      ]
     },
     "execution_count": 75,
     "metadata": {},
     "output_type": "execute_result"
    }
   ],
   "source": [
    "matrix.ndim"
   ]
  },
  {
   "cell_type": "code",
   "execution_count": 81,
   "id": "01d7409f",
   "metadata": {},
   "outputs": [],
   "source": [
    "x = matrix.flatten()"
   ]
  },
  {
   "cell_type": "code",
   "execution_count": 82,
   "id": "83260f75",
   "metadata": {},
   "outputs": [
    {
     "data": {
      "text/plain": [
       "1"
      ]
     },
     "execution_count": 82,
     "metadata": {},
     "output_type": "execute_result"
    }
   ],
   "source": [
    "x.ndim"
   ]
  },
  {
   "cell_type": "code",
   "execution_count": null,
   "id": "25d33d6a",
   "metadata": {},
   "outputs": [],
   "source": []
  },
  {
   "cell_type": "markdown",
   "id": "fbf3f632",
   "metadata": {},
   "source": [
    "### Q) Output all the unique elements of an array?"
   ]
  },
  {
   "cell_type": "code",
   "execution_count": 83,
   "id": "1a7ee19c",
   "metadata": {},
   "outputs": [],
   "source": [
    "a = np.array([1,1,2,2,3,3,5,7,9,9])"
   ]
  },
  {
   "cell_type": "code",
   "execution_count": 87,
   "id": "d24c7714",
   "metadata": {},
   "outputs": [
    {
     "data": {
      "text/plain": [
       "array([1, 2, 3, 5, 7, 9])"
      ]
     },
     "execution_count": 87,
     "metadata": {},
     "output_type": "execute_result"
    }
   ],
   "source": [
    "np.unique(a)"
   ]
  },
  {
   "cell_type": "code",
   "execution_count": null,
   "id": "28194fd6",
   "metadata": {},
   "outputs": [],
   "source": []
  },
  {
   "cell_type": "markdown",
   "id": "d9931176",
   "metadata": {},
   "source": [
    "### Q) Generate (5,3) array of random numbers between 0-1."
   ]
  },
  {
   "cell_type": "code",
   "execution_count": 89,
   "id": "c22ff56b",
   "metadata": {},
   "outputs": [
    {
     "data": {
      "text/plain": [
       "array([[0.62321331, 0.5239855 , 0.63203553],\n",
       "       [0.73347264, 0.06844459, 0.31202461],\n",
       "       [0.92524322, 0.60459505, 0.17576985],\n",
       "       [0.43412588, 0.26357514, 0.7022545 ],\n",
       "       [0.06886067, 0.58749658, 0.03398974]])"
      ]
     },
     "execution_count": 89,
     "metadata": {},
     "output_type": "execute_result"
    }
   ],
   "source": [
    "np.random.rand(5,3)"
   ]
  },
  {
   "cell_type": "code",
   "execution_count": null,
   "id": "f96778f5",
   "metadata": {},
   "outputs": [],
   "source": []
  },
  {
   "cell_type": "markdown",
   "id": "cbae8ffc",
   "metadata": {},
   "source": [
    "### Q) Generate (5,3) array of random numbers between 10-20."
   ]
  },
  {
   "cell_type": "code",
   "execution_count": 92,
   "id": "69f509ee",
   "metadata": {},
   "outputs": [
    {
     "data": {
      "text/plain": [
       "array([[19, 10, 14],\n",
       "       [14, 15, 15],\n",
       "       [14, 14, 14],\n",
       "       [12, 18, 15],\n",
       "       [18, 13, 16]])"
      ]
     },
     "execution_count": 92,
     "metadata": {},
     "output_type": "execute_result"
    }
   ],
   "source": [
    "np.random.randint(10,20, size = (5,3))"
   ]
  },
  {
   "cell_type": "code",
   "execution_count": null,
   "id": "dda40eb6",
   "metadata": {},
   "outputs": [],
   "source": []
  },
  {
   "cell_type": "markdown",
   "id": "4ec4e302",
   "metadata": {},
   "source": [
    "### Q) Round-up and round down the float elemets of an array."
   ]
  },
  {
   "cell_type": "code",
   "execution_count": 93,
   "id": "af13ccf2",
   "metadata": {},
   "outputs": [
    {
     "data": {
      "text/plain": [
       "array([  1.,   1.,   2.,   2.,  10., 102.])"
      ]
     },
     "execution_count": 93,
     "metadata": {},
     "output_type": "execute_result"
    }
   ],
   "source": [
    "# Round-Up Array\n",
    "\n",
    "arr = [0.23, 0.09, 1.2, 1.24, 9.99, 101.01]\n",
    "r_arr = np.ceil(arr)\n",
    "r_arr"
   ]
  },
  {
   "cell_type": "code",
   "execution_count": 95,
   "id": "df82f21d",
   "metadata": {},
   "outputs": [
    {
     "data": {
      "text/plain": [
       "array([  0.,   0.,   1.,   1.,   9., 101.])"
      ]
     },
     "execution_count": 95,
     "metadata": {},
     "output_type": "execute_result"
    }
   ],
   "source": [
    "# Round-Down Array\n",
    "\n",
    "r_arr = np.floor(arr)\n",
    "r_arr"
   ]
  },
  {
   "cell_type": "code",
   "execution_count": null,
   "id": "7b6c2cc2",
   "metadata": {},
   "outputs": [],
   "source": []
  },
  {
   "cell_type": "markdown",
   "id": "7e77e844",
   "metadata": {},
   "source": [
    "  ### Q) How to replace elemets of an array?"
   ]
  },
  {
   "cell_type": "code",
   "execution_count": 97,
   "id": "4c485730",
   "metadata": {},
   "outputs": [
    {
     "data": {
      "text/plain": [
       "array([[110,  90,  80],\n",
       "       [ 70,  60, 110],\n",
       "       [ 30,  10,  20],\n",
       "       [ 50,  40, 110]])"
      ]
     },
     "execution_count": 97,
     "metadata": {},
     "output_type": "execute_result"
    }
   ],
   "source": [
    "#Consider the array as follows\n",
    "lst=[[110,90,80],[70,60,110],[30,10,20],[50,40,110]]\n",
    "npm=np.array(lst)\n",
    "npm"
   ]
  },
  {
   "cell_type": "code",
   "execution_count": 98,
   "id": "34a9643d",
   "metadata": {},
   "outputs": [
    {
     "data": {
      "text/plain": [
       "array([[50, 50, 50],\n",
       "       [50, 50, 50],\n",
       "       [50, 50, 50],\n",
       "       [50, 50, 50]])"
      ]
     },
     "execution_count": 98,
     "metadata": {},
     "output_type": "execute_result"
    }
   ],
   "source": [
    "# Replace all elements of numpy array with 50\n",
    "npm[:,:]=50\n",
    "npm"
   ]
  },
  {
   "cell_type": "code",
   "execution_count": 99,
   "id": "9035cdb0",
   "metadata": {},
   "outputs": [
    {
     "data": {
      "text/plain": [
       "array([[500,  50,  50],\n",
       "       [ 50,  50,  50],\n",
       "       [ 50,  50,  50],\n",
       "       [ 50,  50,  50]])"
      ]
     },
     "execution_count": 99,
     "metadata": {},
     "output_type": "execute_result"
    }
   ],
   "source": [
    "# Replace 0,0 position with 500\n",
    "npm[0,0]=500\n",
    "npm"
   ]
  },
  {
   "cell_type": "code",
   "execution_count": null,
   "id": "05e3418b",
   "metadata": {},
   "outputs": [],
   "source": []
  },
  {
   "cell_type": "markdown",
   "id": "a6a31ea5",
   "metadata": {},
   "source": [
    "### Q) Write a NumPy program to create a vector with values ​​ranging from 15 to 55 and print all values ​​except the first and last."
   ]
  },
  {
   "cell_type": "code",
   "execution_count": 100,
   "id": "94b0493a",
   "metadata": {},
   "outputs": [
    {
     "name": "stdout",
     "output_type": "stream",
     "text": [
      "[15 17 19 21 23 25 27 29 31 33 35 37 39 41 43 45 47 49 51 53]\n"
     ]
    }
   ],
   "source": [
    "a = np.arange(15,56)\n",
    "print(a[0:-1:2])"
   ]
  },
  {
   "cell_type": "code",
   "execution_count": 101,
   "id": "238e35e1",
   "metadata": {},
   "outputs": [
    {
     "data": {
      "text/plain": [
       "array([15, 16, 17, 18, 19, 20, 21, 22, 23, 24, 25, 26, 27, 28, 29, 30, 31,\n",
       "       32, 33, 34, 35, 36, 37, 38, 39, 40, 41, 42, 43, 44, 45, 46, 47, 48,\n",
       "       49, 50, 51, 52, 53, 54, 55])"
      ]
     },
     "execution_count": 101,
     "metadata": {},
     "output_type": "execute_result"
    }
   ],
   "source": [
    "a"
   ]
  },
  {
   "cell_type": "code",
   "execution_count": null,
   "id": "f78719ca",
   "metadata": {},
   "outputs": [],
   "source": []
  },
  {
   "cell_type": "markdown",
   "id": "24ec9bd9",
   "metadata": {},
   "source": [
    "### Q) Write a NumPy program to convert a given list into an array, then again convert it into a list. Check initial list and final list are equal or not."
   ]
  },
  {
   "cell_type": "code",
   "execution_count": 104,
   "id": "a9b65ae7",
   "metadata": {},
   "outputs": [
    {
     "data": {
      "text/plain": [
       "[1, 2, 3, 4, 5, 6]"
      ]
     },
     "execution_count": 104,
     "metadata": {},
     "output_type": "execute_result"
    }
   ],
   "source": [
    "my_list = [1,2,3,4,5,6]\n",
    "\n",
    "a = np.array(my_list)\n",
    "l1=list(a)\n",
    "l1"
   ]
  },
  {
   "cell_type": "code",
   "execution_count": 103,
   "id": "a341ef6a",
   "metadata": {},
   "outputs": [
    {
     "data": {
      "text/plain": [
       "numpy.ndarray"
      ]
     },
     "execution_count": 103,
     "metadata": {},
     "output_type": "execute_result"
    }
   ],
   "source": [
    "type(a)"
   ]
  },
  {
   "cell_type": "code",
   "execution_count": 105,
   "id": "7e765a6f",
   "metadata": {},
   "outputs": [
    {
     "data": {
      "text/plain": [
       "1"
      ]
     },
     "execution_count": 105,
     "metadata": {},
     "output_type": "execute_result"
    }
   ],
   "source": [
    "a.ndim"
   ]
  },
  {
   "cell_type": "code",
   "execution_count": null,
   "id": "40c34c5f",
   "metadata": {},
   "outputs": [],
   "source": []
  },
  {
   "cell_type": "markdown",
   "id": "665b0ba0",
   "metadata": {},
   "source": [
    "### Q) How to create array using 'FOR' Loop?\n"
   ]
  },
  {
   "cell_type": "code",
   "execution_count": 10,
   "id": "ba39df4b",
   "metadata": {},
   "outputs": [
    {
     "name": "stdout",
     "output_type": "stream",
     "text": [
      "enter:5\n",
      "enter:6\n",
      "enter:6\n",
      "enter:6\n",
      "[5 6 6 6]\n"
     ]
    }
   ],
   "source": [
    "l=[]\n",
    "for i in range(1,5):\n",
    "    a=int(input(\"enter:\"))\n",
    "    l.append(a)\n",
    "print(np.array(l))"
   ]
  },
  {
   "cell_type": "code",
   "execution_count": null,
   "id": "a4ed250f",
   "metadata": {},
   "outputs": [],
   "source": []
  },
  {
   "cell_type": "markdown",
   "id": "d2b47ecd",
   "metadata": {},
   "source": [
    "### Q) How to chech dimension of an array?\n",
    "\n",
    "By using .ndim function."
   ]
  },
  {
   "cell_type": "code",
   "execution_count": 4,
   "id": "c84e5a6f",
   "metadata": {},
   "outputs": [
    {
     "data": {
      "text/plain": [
       "1"
      ]
     },
     "execution_count": 4,
     "metadata": {},
     "output_type": "execute_result"
    }
   ],
   "source": [
    "my_array.ndim"
   ]
  },
  {
   "cell_type": "markdown",
   "id": "2bb94f98",
   "metadata": {},
   "source": [
    "### Q) What is array?\n",
    "\n",
    "* Array is a matrix of numerical values which are called elements. Array contains only numerical values. Array can be of any dimension, such as 1D array,  2D array, etc."
   ]
  },
  {
   "cell_type": "code",
   "execution_count": null,
   "id": "f433da21",
   "metadata": {},
   "outputs": [],
   "source": []
  },
  {
   "cell_type": "markdown",
   "id": "a2c3fa10",
   "metadata": {},
   "source": [
    "### Q) Difference between list and array?\n",
    "\n",
    "* List contains any data type, such as object, integer, float but array contains only numerical value whether it is interger or float.\n",
    "\n",
    "\n",
    "* List can be only one dimensional but array can be one dimensional or multi-dimensional."
   ]
  },
  {
   "cell_type": "code",
   "execution_count": null,
   "id": "cce59121",
   "metadata": {},
   "outputs": [],
   "source": []
  },
  {
   "cell_type": "markdown",
   "id": "05918db1",
   "metadata": {},
   "source": [
    "### Q) What are the key features of NumPy?\n",
    "NumPy's main feature is the ndarray (n-dimensional array) that allows you to perform operations efficiently on large datasets. It also provides functions for mathematical operations, array slicing, reshaping, and broadcasting."
   ]
  },
  {
   "cell_type": "code",
   "execution_count": null,
   "id": "8503fa97",
   "metadata": {},
   "outputs": [],
   "source": []
  },
  {
   "cell_type": "markdown",
   "id": "fd781c32",
   "metadata": {},
   "source": [
    "### Q) How to compute measures of central tendency using numpy?\n",
    "\n",
    "* We have various functions in numpy to compute measures of central tendency, such as \n",
    "\n",
    "\n",
    "* np.mean('column name'), np.median('column name') and to compute mode we have no dirct function in numpy so we use scipy.stats library to compute mode and the code will be scipy.stats.mode('column name') or we use pandas to compute mode by applying df.mode() function which computes mode of every column."
   ]
  },
  {
   "cell_type": "code",
   "execution_count": null,
   "id": "ab96a67a",
   "metadata": {},
   "outputs": [],
   "source": []
  },
  {
   "cell_type": "markdown",
   "id": "7fee1a28",
   "metadata": {},
   "source": [
    "### Q) How to compute percentile?\n",
    "\n",
    "* We use np.percentile() function and code will be np.percentile('column name', percentile value like 25,50)"
   ]
  },
  {
   "cell_type": "code",
   "execution_count": null,
   "id": "86e08106",
   "metadata": {},
   "outputs": [],
   "source": []
  },
  {
   "cell_type": "markdown",
   "id": "e59599e3",
   "metadata": {},
   "source": [
    "### Q) How to convert a list into numpy array?"
   ]
  },
  {
   "cell_type": "code",
   "execution_count": 1,
   "id": "54a8a9b0",
   "metadata": {},
   "outputs": [
    {
     "data": {
      "text/plain": [
       "array([1, 5, 7, 6])"
      ]
     },
     "execution_count": 1,
     "metadata": {},
     "output_type": "execute_result"
    }
   ],
   "source": [
    "import numpy as np\n",
    "\n",
    "a = [1,5,7,6]\n",
    "\n",
    "numpy_array = np.array(a)\n",
    "\n",
    "numpy_array # Numpy array results output as a list of elements which are comma seprated "
   ]
  },
  {
   "cell_type": "code",
   "execution_count": 2,
   "id": "ffb1d18d",
   "metadata": {},
   "outputs": [
    {
     "name": "stdout",
     "output_type": "stream",
     "text": [
      "[1 5 7 6]\n"
     ]
    }
   ],
   "source": [
    "print(numpy_array) # Print a numpy array results in list of elements which are not comma seprated"
   ]
  },
  {
   "cell_type": "code",
   "execution_count": 3,
   "id": "345781ca",
   "metadata": {},
   "outputs": [
    {
     "data": {
      "text/plain": [
       "[1, 5, 7, 6]"
      ]
     },
     "execution_count": 3,
     "metadata": {},
     "output_type": "execute_result"
    }
   ],
   "source": [
    "a   # list results output in list of elements which are comma seprated. "
   ]
  },
  {
   "cell_type": "code",
   "execution_count": 4,
   "id": "bd5b2d04",
   "metadata": {},
   "outputs": [
    {
     "name": "stdout",
     "output_type": "stream",
     "text": [
      "[1, 5, 7, 6]\n"
     ]
    }
   ],
   "source": [
    "print(a)  # Print a list results same output as object of list"
   ]
  },
  {
   "cell_type": "code",
   "execution_count": 5,
   "id": "004a401e",
   "metadata": {},
   "outputs": [
    {
     "data": {
      "text/plain": [
       "list"
      ]
     },
     "execution_count": 5,
     "metadata": {},
     "output_type": "execute_result"
    }
   ],
   "source": [
    "type(a)"
   ]
  },
  {
   "cell_type": "code",
   "execution_count": 6,
   "id": "3ab3cfbc",
   "metadata": {},
   "outputs": [
    {
     "data": {
      "text/plain": [
       "numpy.ndarray"
      ]
     },
     "execution_count": 6,
     "metadata": {},
     "output_type": "execute_result"
    }
   ],
   "source": [
    "type(numpy_array)"
   ]
  },
  {
   "cell_type": "code",
   "execution_count": null,
   "id": "e13fe214",
   "metadata": {},
   "outputs": [],
   "source": []
  },
  {
   "cell_type": "markdown",
   "id": "1c4ba185",
   "metadata": {},
   "source": [
    "### Q) Suppose there is an array [[1,2,3][4,5,6][7,8,9]]. Extract the value 8 using 2D indexing"
   ]
  },
  {
   "cell_type": "code",
   "execution_count": 7,
   "id": "b3067551",
   "metadata": {},
   "outputs": [
    {
     "name": "stdout",
     "output_type": "stream",
     "text": [
      "[[1 2 3]\n",
      " [4 5 6]\n",
      " [7 8 9]]\n"
     ]
    }
   ],
   "source": [
    "num = np.array([[1,2,3],[4,5,6],[7,8,9]])\n",
    "print(num)"
   ]
  },
  {
   "cell_type": "code",
   "execution_count": 9,
   "id": "9eff3b16",
   "metadata": {},
   "outputs": [
    {
     "data": {
      "text/plain": [
       "8"
      ]
     },
     "execution_count": 9,
     "metadata": {},
     "output_type": "execute_result"
    }
   ],
   "source": [
    "num[2,1]"
   ]
  },
  {
   "cell_type": "code",
   "execution_count": null,
   "id": "912b386c",
   "metadata": {},
   "outputs": [],
   "source": []
  },
  {
   "cell_type": "markdown",
   "id": "7223e828",
   "metadata": {},
   "source": [
    "### Q) Suppose there is an array that has values: [0,1,2,3,4,5,6,7,8,9]. How will you display the following values from an array:[1,3,5,7,9]?"
   ]
  },
  {
   "cell_type": "code",
   "execution_count": 11,
   "id": "2a7fb86c",
   "metadata": {},
   "outputs": [
    {
     "data": {
      "text/plain": [
       "array([0, 1, 2, 3, 4, 5, 6, 7, 8, 9])"
      ]
     },
     "execution_count": 11,
     "metadata": {},
     "output_type": "execute_result"
    }
   ],
   "source": [
    "arr = np.arange(10)\n",
    "arr"
   ]
  },
  {
   "cell_type": "code",
   "execution_count": 12,
   "id": "205f33ad",
   "metadata": {},
   "outputs": [
    {
     "data": {
      "text/plain": [
       "array([1, 3, 5, 7, 9])"
      ]
     },
     "execution_count": 12,
     "metadata": {},
     "output_type": "execute_result"
    }
   ],
   "source": [
    "arr[arr%2==1]"
   ]
  },
  {
   "cell_type": "code",
   "execution_count": null,
   "id": "fc748474",
   "metadata": {},
   "outputs": [],
   "source": []
  },
  {
   "cell_type": "markdown",
   "id": "80c77607",
   "metadata": {},
   "source": [
    "### Q) How will you print four random integers between 1 to 15 using Numpy?"
   ]
  },
  {
   "cell_type": "code",
   "execution_count": 18,
   "id": "b6b062b8",
   "metadata": {},
   "outputs": [
    {
     "data": {
      "text/plain": [
       "array([ 8,  7, 13,  6])"
      ]
     },
     "execution_count": 18,
     "metadata": {},
     "output_type": "execute_result"
    }
   ],
   "source": [
    "rand_arr = np.random.randint(1,15,4)\n",
    "rand_arr"
   ]
  },
  {
   "cell_type": "code",
   "execution_count": null,
   "id": "d50dccbf",
   "metadata": {},
   "outputs": [],
   "source": []
  },
  {
   "cell_type": "markdown",
   "id": "05cde454",
   "metadata": {},
   "source": [
    "### Q) There are two arrays 'A', 'B'. Stack the arrays A and B horizontally using the Numby.\n",
    "\n"
   ]
  },
  {
   "cell_type": "code",
   "execution_count": 22,
   "id": "4cfffd71",
   "metadata": {},
   "outputs": [
    {
     "data": {
      "text/plain": [
       "(array([1, 2, 3]), array([4, 5, 6]))"
      ]
     },
     "execution_count": 22,
     "metadata": {},
     "output_type": "execute_result"
    }
   ],
   "source": [
    "A = np.array([1,2,3])\n",
    "B = np.array([4,5,6])\n",
    "\n",
    "A,B"
   ]
  },
  {
   "cell_type": "code",
   "execution_count": 26,
   "id": "eb62f97e",
   "metadata": {},
   "outputs": [
    {
     "data": {
      "text/plain": [
       "array([1, 2, 3, 4, 5, 6])"
      ]
     },
     "execution_count": 26,
     "metadata": {},
     "output_type": "execute_result"
    }
   ],
   "source": [
    "np.hstack([A,B])"
   ]
  },
  {
   "cell_type": "code",
   "execution_count": null,
   "id": "6fd5529f",
   "metadata": {},
   "outputs": [],
   "source": []
  },
  {
   "cell_type": "markdown",
   "id": "e1f608b6",
   "metadata": {},
   "source": [
    "### Q) How to reshape a array?"
   ]
  },
  {
   "cell_type": "code",
   "execution_count": 41,
   "id": "72755ddb",
   "metadata": {},
   "outputs": [
    {
     "data": {
      "text/plain": [
       "(1, array([1, 2, 3, 4, 5, 6]))"
      ]
     },
     "execution_count": 41,
     "metadata": {},
     "output_type": "execute_result"
    }
   ],
   "source": [
    "arr = np.array([1, 2, 3, 4, 5, 6])\n",
    "\n",
    "arr.ndim, arr"
   ]
  },
  {
   "cell_type": "code",
   "execution_count": 42,
   "id": "2a08cc32",
   "metadata": {},
   "outputs": [
    {
     "data": {
      "text/plain": [
       "(2,\n",
       " array([[1, 2, 3],\n",
       "        [4, 5, 6]]))"
      ]
     },
     "execution_count": 42,
     "metadata": {},
     "output_type": "execute_result"
    }
   ],
   "source": [
    "reshaped_arr = arr.reshape(2, 3)\n",
    "reshaped_arr.ndim, reshaped_arr"
   ]
  },
  {
   "cell_type": "code",
   "execution_count": null,
   "id": "38787e66",
   "metadata": {},
   "outputs": [],
   "source": []
  }
 ],
 "metadata": {
  "kernelspec": {
   "display_name": "Python 3 (ipykernel)",
   "language": "python",
   "name": "python3"
  },
  "language_info": {
   "codemirror_mode": {
    "name": "ipython",
    "version": 3
   },
   "file_extension": ".py",
   "mimetype": "text/x-python",
   "name": "python",
   "nbconvert_exporter": "python",
   "pygments_lexer": "ipython3",
   "version": "3.9.13"
  }
 },
 "nbformat": 4,
 "nbformat_minor": 5
}
