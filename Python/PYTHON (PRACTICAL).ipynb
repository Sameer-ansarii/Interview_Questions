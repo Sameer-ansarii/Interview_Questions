{
 "cells": [
  {
   "cell_type": "markdown",
   "id": "1c7be362",
   "metadata": {},
   "source": [
    "### Q) Write a program where you give input any integer or float and it will tells whether the number is odd or even."
   ]
  },
  {
   "cell_type": "code",
   "execution_count": null,
   "id": "638a300f",
   "metadata": {},
   "outputs": [],
   "source": [
    "num = float(input(\"Enter a number: \"))\n",
    "\n",
    "if num % 2 == 0:\n",
    "    print(\"The number is even.\")\n",
    "else:\n",
    "    print(\"The number is odd.\")"
   ]
  },
  {
   "cell_type": "markdown",
   "id": "e3ea4453",
   "metadata": {},
   "source": [
    "### Q) How to check data type of a variable?"
   ]
  },
  {
   "cell_type": "code",
   "execution_count": 1,
   "id": "7085486e",
   "metadata": {},
   "outputs": [
    {
     "data": {
      "text/plain": [
       "(int, float, str)"
      ]
     },
     "execution_count": 1,
     "metadata": {},
     "output_type": "execute_result"
    }
   ],
   "source": [
    "a = 1\n",
    "\n",
    "b = 1.5\n",
    "\n",
    "c = 'Sameer'\n",
    "\n",
    "type(a), type(b), type(c)"
   ]
  },
  {
   "cell_type": "markdown",
   "id": "4e546d8f",
   "metadata": {},
   "source": [
    "### Q) Write a logic to check smallest of these. a=10, b=20, c= 15."
   ]
  },
  {
   "cell_type": "code",
   "execution_count": 2,
   "id": "7a468340",
   "metadata": {},
   "outputs": [
    {
     "name": "stdout",
     "output_type": "stream",
     "text": [
      "The smallest number is: 10\n"
     ]
    }
   ],
   "source": [
    "a = 10\n",
    "b = 20\n",
    "c = 15\n",
    "\n",
    "smallest = a  # Assume 'a' is the smallest initially\n",
    "\n",
    "if b < smallest:\n",
    "    smallest = b\n",
    "\n",
    "if c < smallest:\n",
    "    smallest = c\n",
    "\n",
    "print(\"The smallest number is:\", smallest)"
   ]
  },
  {
   "cell_type": "markdown",
   "id": "a03a82bf",
   "metadata": {},
   "source": [
    "# String"
   ]
  },
  {
   "cell_type": "markdown",
   "id": "b1c8cbd5",
   "metadata": {},
   "source": [
    "### Q) You have a string in python which is 'Sameer' and I want output to be in list of string, i.e:- ['Sameer']. Write a code for it."
   ]
  },
  {
   "cell_type": "code",
   "execution_count": 3,
   "id": "4220e5ed",
   "metadata": {},
   "outputs": [
    {
     "data": {
      "text/plain": [
       "['Sameer']"
      ]
     },
     "execution_count": 3,
     "metadata": {},
     "output_type": "execute_result"
    }
   ],
   "source": [
    "a = 'Sameer'\n",
    "\n",
    "[a] # print([a]) "
   ]
  },
  {
   "cell_type": "markdown",
   "id": "9ca1153a",
   "metadata": {},
   "source": [
    "### Q) How to check the count of a string?"
   ]
  },
  {
   "cell_type": "code",
   "execution_count": 4,
   "id": "4f38320e",
   "metadata": {},
   "outputs": [
    {
     "data": {
      "text/plain": [
       "6"
      ]
     },
     "execution_count": 4,
     "metadata": {},
     "output_type": "execute_result"
    }
   ],
   "source": [
    "a = 'Sameer'\n",
    "\n",
    "len(a)"
   ]
  },
  {
   "cell_type": "markdown",
   "id": "d0cf3bd2",
   "metadata": {},
   "source": [
    "### Q) How to check for a particular element of a string?"
   ]
  },
  {
   "cell_type": "code",
   "execution_count": 5,
   "id": "e680f4f8",
   "metadata": {},
   "outputs": [
    {
     "data": {
      "text/plain": [
       "1"
      ]
     },
     "execution_count": 5,
     "metadata": {},
     "output_type": "execute_result"
    }
   ],
   "source": [
    "a = 'Sameer'\n",
    "\n",
    "a.count('S')"
   ]
  },
  {
   "cell_type": "markdown",
   "id": "60686fa2",
   "metadata": {},
   "source": [
    "### Q) How to reverse all elements of a string?\n",
    "\n"
   ]
  },
  {
   "cell_type": "code",
   "execution_count": 6,
   "id": "532240ed",
   "metadata": {},
   "outputs": [
    {
     "data": {
      "text/plain": [
       "'reemaS'"
      ]
     },
     "execution_count": 6,
     "metadata": {},
     "output_type": "execute_result"
    }
   ],
   "source": [
    "# We will use slicing method.\n",
    "\n",
    "my_string = \"Sameer\"\n",
    "my_string[::-1]"
   ]
  },
  {
   "cell_type": "code",
   "execution_count": 7,
   "id": "8fee5de9",
   "metadata": {},
   "outputs": [
    {
     "data": {
      "text/plain": [
       "'amee'"
      ]
     },
     "execution_count": 7,
     "metadata": {},
     "output_type": "execute_result"
    }
   ],
   "source": [
    "# Use of scling method:-\n",
    "# Format [starting index : ending inex : intervals] i.e(intervals):- 1 same / -1 reverse\n",
    "\n",
    "my_string[1:5:1]"
   ]
  },
  {
   "cell_type": "markdown",
   "id": "88f2e9a9",
   "metadata": {},
   "source": [
    "### Q) How to make 1+1=11?"
   ]
  },
  {
   "cell_type": "code",
   "execution_count": 8,
   "id": "039b0975",
   "metadata": {},
   "outputs": [
    {
     "name": "stdout",
     "output_type": "stream",
     "text": [
      "11\n"
     ]
    }
   ],
   "source": [
    "a = '1'\n",
    "\n",
    "b = '1'\n",
    "\n",
    "c = a+b\n",
    "\n",
    "print(c)"
   ]
  },
  {
   "cell_type": "markdown",
   "id": "7e7c45b8",
   "metadata": {},
   "source": [
    "### Q) How to convert a string into list?"
   ]
  },
  {
   "cell_type": "code",
   "execution_count": 9,
   "id": "e8cd932b",
   "metadata": {},
   "outputs": [
    {
     "data": {
      "text/plain": [
       "['P', 'y', 't', 'h', 'o', 'n']"
      ]
     },
     "execution_count": 9,
     "metadata": {},
     "output_type": "execute_result"
    }
   ],
   "source": [
    "s = \"Python\"\n",
    "\n",
    "l = list(s)\n",
    "\n",
    "l"
   ]
  },
  {
   "cell_type": "code",
   "execution_count": 10,
   "id": "42890159",
   "metadata": {},
   "outputs": [
    {
     "data": {
      "text/plain": [
       "list"
      ]
     },
     "execution_count": 10,
     "metadata": {},
     "output_type": "execute_result"
    }
   ],
   "source": [
    "type(l)"
   ]
  },
  {
   "cell_type": "markdown",
   "id": "ebcd1687",
   "metadata": {},
   "source": [
    "### Q) We known that string is immutable, once string is created we can not modified it, then how to change values in a string?\n",
    "\n",
    "**By using .replce() function.**"
   ]
  },
  {
   "cell_type": "code",
   "execution_count": 11,
   "id": "2cff7168",
   "metadata": {},
   "outputs": [
    {
     "name": "stdout",
     "output_type": "stream",
     "text": [
      "Hello, World! \n",
      "\n",
      "Hi, World!\n"
     ]
    }
   ],
   "source": [
    "a = \"Hello, World!\"\n",
    "\n",
    "b = a.replace(\"Hello\", \"Hi\")\n",
    "\n",
    "print(a,'\\n')         \n",
    "print(b)    "
   ]
  },
  {
   "cell_type": "markdown",
   "id": "8ebd5fc8",
   "metadata": {},
   "source": [
    "# List"
   ]
  },
  {
   "cell_type": "markdown",
   "id": "502cd1d9",
   "metadata": {},
   "source": [
    "### Q) We have a list of numbers like [55,95,1,5,7,82]. I want the output to be minimum number of the list. Write a code for it."
   ]
  },
  {
   "cell_type": "code",
   "execution_count": 12,
   "id": "35e413e3",
   "metadata": {},
   "outputs": [
    {
     "data": {
      "text/plain": [
       "1"
      ]
     },
     "execution_count": 12,
     "metadata": {},
     "output_type": "execute_result"
    }
   ],
   "source": [
    "#Method 1\n",
    "\n",
    "numbers = [55, 95, 1, 5, 7, 82]\n",
    "\n",
    "min(numbers)           # print(min(numbers))"
   ]
  },
  {
   "cell_type": "code",
   "execution_count": 13,
   "id": "f2ff0c97",
   "metadata": {},
   "outputs": [
    {
     "data": {
      "text/plain": [
       "1"
      ]
     },
     "execution_count": 13,
     "metadata": {},
     "output_type": "execute_result"
    }
   ],
   "source": [
    "#Method 2\n",
    "\n",
    "numbers = [55, 95, 1, 5, 7, 82]\n",
    "\n",
    "sorted_list = sorted(numbers)\n",
    "\n",
    "sorted_list[0]       # print(sorted_list[0])"
   ]
  },
  {
   "cell_type": "markdown",
   "id": "7dc5e251",
   "metadata": {},
   "source": [
    "### Q) How to change elemets of a list?\n",
    "\n"
   ]
  },
  {
   "cell_type": "code",
   "execution_count": 14,
   "id": "82748dba",
   "metadata": {},
   "outputs": [
    {
     "data": {
      "text/plain": [
       "['orange', 0, 0]"
      ]
     },
     "execution_count": 14,
     "metadata": {},
     "output_type": "execute_result"
    }
   ],
   "source": [
    "lst = [0,0,0]\n",
    "\n",
    "lst[0]='orange'\n",
    "\n",
    "lst"
   ]
  },
  {
   "cell_type": "markdown",
   "id": "72da8517",
   "metadata": {},
   "source": [
    "### Q) Given 2 lists l1 & l2, Find the elements present in l1 but are absent in l2.\n",
    "\n",
    "This cannot be achieved bysimple subtraction of two lists. It is a two step process:\n",
    "\n",
    "1) Convert both lists into set by using set function and subtract. It gives output in the set form. \n",
    "\n",
    "\n",
    "2) Convert the set to list"
   ]
  },
  {
   "cell_type": "code",
   "execution_count": 15,
   "id": "65ebde86",
   "metadata": {},
   "outputs": [
    {
     "data": {
      "text/plain": [
       "{3, 7}"
      ]
     },
     "execution_count": 15,
     "metadata": {},
     "output_type": "execute_result"
    }
   ],
   "source": [
    "l1=[8,7,4,3,2,2] \n",
    "\n",
    "l2=[8,6,4,1,2]\n",
    "\n",
    "set(l1)-set(l2) #Output in set "
   ]
  },
  {
   "cell_type": "markdown",
   "id": "5774b505",
   "metadata": {},
   "source": [
    "### Q) How to find the unique elements of list?\n",
    "\n",
    "**By converting list into set data type.**\n",
    "\n"
   ]
  },
  {
   "cell_type": "code",
   "execution_count": 16,
   "id": "50dc9749",
   "metadata": {},
   "outputs": [
    {
     "data": {
      "text/plain": [
       "{1, 2, 23, 58, 89, 'a', 'b'}"
      ]
     },
     "execution_count": 16,
     "metadata": {},
     "output_type": "execute_result"
    }
   ],
   "source": [
    "l = [1,1,1,23,2,2,58,'a','b', 89]\n",
    "\n",
    "set(l) #return output in set"
   ]
  },
  {
   "cell_type": "code",
   "execution_count": 17,
   "id": "71f2f74f",
   "metadata": {},
   "outputs": [
    {
     "data": {
      "text/plain": [
       "[1, 2, 'a', 23, 89, 58, 'b']"
      ]
     },
     "execution_count": 17,
     "metadata": {},
     "output_type": "execute_result"
    }
   ],
   "source": [
    "#return output in list\n",
    "\n",
    "list(set(l))"
   ]
  },
  {
   "cell_type": "markdown",
   "id": "84f8934f",
   "metadata": {},
   "source": [
    "# Operations with List\n",
    "\n",
    "1) Addition of two lists\n",
    "\n",
    "\n",
    "2) Multiplication with Scalar\n",
    "\n",
    "\n",
    "3) Built in Functions\n",
    "\n",
    "\n",
    "4) Appending List"
   ]
  },
  {
   "cell_type": "markdown",
   "id": "ccad56df",
   "metadata": {},
   "source": [
    "## Addition of two lists"
   ]
  },
  {
   "cell_type": "code",
   "execution_count": 18,
   "id": "6c2d1d39",
   "metadata": {},
   "outputs": [
    {
     "data": {
      "text/plain": [
       "[1, 2, 3, '1', '2', '3', '4']"
      ]
     },
     "execution_count": 18,
     "metadata": {},
     "output_type": "execute_result"
    }
   ],
   "source": [
    "# Addition of two lists\n",
    "\n",
    "lst1=[1,2,3]\n",
    "\n",
    "lst2=['1','2','3','4']\n",
    "\n",
    "lst1=lst1+lst2\n",
    "\n",
    "lst1"
   ]
  },
  {
   "cell_type": "code",
   "execution_count": 19,
   "id": "29e95f56",
   "metadata": {},
   "outputs": [
    {
     "data": {
      "text/plain": [
       "[1, 2, 3, '1', '2', '3', '4', '1', '2', '3', '4']"
      ]
     },
     "execution_count": 19,
     "metadata": {},
     "output_type": "execute_result"
    }
   ],
   "source": [
    "lst3=lst1+lst2\n",
    "\n",
    "lst3"
   ]
  },
  {
   "cell_type": "markdown",
   "id": "dc68b2f8",
   "metadata": {},
   "source": [
    "## Multiplication with Scalar\n"
   ]
  },
  {
   "cell_type": "code",
   "execution_count": 20,
   "id": "7aec752f",
   "metadata": {},
   "outputs": [
    {
     "data": {
      "text/plain": [
       "[1, 2, 3, 'A', 1, 2, 3, 'A', 1, 2, 3, 'A', 1, 2, 3, 'A', 1, 2, 3, 'A']"
      ]
     },
     "execution_count": 20,
     "metadata": {},
     "output_type": "execute_result"
    }
   ],
   "source": [
    "# Multiplication with Scalar\n",
    "\n",
    "l1=[1,2,3,\"A\"]*5 \n",
    "\n",
    "l1"
   ]
  },
  {
   "cell_type": "markdown",
   "id": "56074121",
   "metadata": {},
   "source": [
    "## Built in Functions"
   ]
  },
  {
   "cell_type": "code",
   "execution_count": 21,
   "id": "7d17b2a6",
   "metadata": {},
   "outputs": [
    {
     "data": {
      "text/plain": [
       "[1, 2, 3, 1, 2, 3, 1, 2, 3]"
      ]
     },
     "execution_count": 21,
     "metadata": {},
     "output_type": "execute_result"
    }
   ],
   "source": [
    "#We are using the following list\n",
    "\n",
    "l1 = [1, 2, 3, 1, 2, 3, 1, 2, 3]\n",
    "\n",
    "l1"
   ]
  },
  {
   "cell_type": "code",
   "execution_count": 22,
   "id": "07b7220a",
   "metadata": {},
   "outputs": [
    {
     "data": {
      "text/plain": [
       "1"
      ]
     },
     "execution_count": 22,
     "metadata": {},
     "output_type": "execute_result"
    }
   ],
   "source": [
    "min(l1)"
   ]
  },
  {
   "cell_type": "code",
   "execution_count": 23,
   "id": "9edf194f",
   "metadata": {},
   "outputs": [
    {
     "data": {
      "text/plain": [
       "3"
      ]
     },
     "execution_count": 23,
     "metadata": {},
     "output_type": "execute_result"
    }
   ],
   "source": [
    "max(l1)"
   ]
  },
  {
   "cell_type": "code",
   "execution_count": 24,
   "id": "58dd5402",
   "metadata": {},
   "outputs": [
    {
     "data": {
      "text/plain": [
       "18"
      ]
     },
     "execution_count": 24,
     "metadata": {},
     "output_type": "execute_result"
    }
   ],
   "source": [
    "sum(l1)"
   ]
  },
  {
   "cell_type": "code",
   "execution_count": 25,
   "id": "153c9ee0",
   "metadata": {},
   "outputs": [
    {
     "data": {
      "text/plain": [
       "9"
      ]
     },
     "execution_count": 25,
     "metadata": {},
     "output_type": "execute_result"
    }
   ],
   "source": [
    "len(l1)"
   ]
  },
  {
   "cell_type": "code",
   "execution_count": 26,
   "id": "1c3b7bf7",
   "metadata": {},
   "outputs": [
    {
     "data": {
      "text/plain": [
       "2.0"
      ]
     },
     "execution_count": 26,
     "metadata": {},
     "output_type": "execute_result"
    }
   ],
   "source": [
    "average=sum(l1)/len(l1)\n",
    "\n",
    "average"
   ]
  },
  {
   "cell_type": "markdown",
   "id": "6ca9741b",
   "metadata": {},
   "source": [
    "## Appending List"
   ]
  },
  {
   "cell_type": "code",
   "execution_count": 27,
   "id": "64655688",
   "metadata": {},
   "outputs": [
    {
     "data": {
      "text/plain": [
       "['a']"
      ]
     },
     "execution_count": 27,
     "metadata": {},
     "output_type": "execute_result"
    }
   ],
   "source": [
    "lst1=[]\n",
    "\n",
    "lst1.append('a') \n",
    "\n",
    "lst1"
   ]
  },
  {
   "cell_type": "code",
   "execution_count": 28,
   "id": "82072681",
   "metadata": {},
   "outputs": [
    {
     "data": {
      "text/plain": [
       "[[5, 6, 7]]"
      ]
     },
     "execution_count": 28,
     "metadata": {},
     "output_type": "execute_result"
    }
   ],
   "source": [
    "lst=[]\n",
    "\n",
    "lst.append([5,6,7]) #takes only one single element in argument, can only append 1 value at a time\n",
    "\n",
    "lst"
   ]
  },
  {
   "cell_type": "markdown",
   "id": "76108778",
   "metadata": {},
   "source": [
    "**Append a list to list --> Appends as seperate lists**"
   ]
  },
  {
   "cell_type": "code",
   "execution_count": 29,
   "id": "2543269a",
   "metadata": {},
   "outputs": [
    {
     "data": {
      "text/plain": [
       "[[5, 6, 7], [1, 2]]"
      ]
     },
     "execution_count": 29,
     "metadata": {},
     "output_type": "execute_result"
    }
   ],
   "source": [
    "#To the above list append a list as follows\n",
    "\n",
    "lst.append([1,2])\n",
    "\n",
    "lst"
   ]
  },
  {
   "cell_type": "markdown",
   "id": "07037b3d",
   "metadata": {},
   "source": [
    "**Extend a list --> Extends within existing list. It also takes one argument at a time**"
   ]
  },
  {
   "cell_type": "code",
   "execution_count": 30,
   "id": "ce1cefeb",
   "metadata": {},
   "outputs": [
    {
     "data": {
      "text/plain": [
       "[5, 6, 7]"
      ]
     },
     "execution_count": 30,
     "metadata": {},
     "output_type": "execute_result"
    }
   ],
   "source": [
    "lst=[]\n",
    "\n",
    "lst.extend([5,6,7]) \n",
    "\n",
    "lst"
   ]
  },
  {
   "cell_type": "code",
   "execution_count": 31,
   "id": "c4286879",
   "metadata": {},
   "outputs": [
    {
     "data": {
      "text/plain": [
       "[5, 6, 7, 10, 11]"
      ]
     },
     "execution_count": 31,
     "metadata": {},
     "output_type": "execute_result"
    }
   ],
   "source": [
    "lst.extend([10,11])\n",
    "\n",
    "lst"
   ]
  },
  {
   "cell_type": "code",
   "execution_count": 32,
   "id": "42b59bbd",
   "metadata": {},
   "outputs": [
    {
     "data": {
      "text/plain": [
       "[5, 6, 7, 10, 11, [12, 13]]"
      ]
     },
     "execution_count": 32,
     "metadata": {},
     "output_type": "execute_result"
    }
   ],
   "source": [
    "#If we need to extend the list with a list inside list, the argument needs to be passed in double square bracket\n",
    "\n",
    "lst.extend([[12,13]])\n",
    "\n",
    "lst"
   ]
  },
  {
   "cell_type": "markdown",
   "id": "10a0646b",
   "metadata": {},
   "source": [
    "**Sorting a List**"
   ]
  },
  {
   "cell_type": "code",
   "execution_count": 33,
   "id": "567af6e2",
   "metadata": {},
   "outputs": [
    {
     "data": {
      "text/plain": [
       "[1, 3, 4, 5, 7, 8, 9, 10]"
      ]
     },
     "execution_count": 33,
     "metadata": {},
     "output_type": "execute_result"
    }
   ],
   "source": [
    "lst=[4,3,1,7,10,9,8,5] \n",
    "\n",
    "sorted(lst)"
   ]
  },
  {
   "cell_type": "code",
   "execution_count": 34,
   "id": "c2a466de",
   "metadata": {},
   "outputs": [
    {
     "data": {
      "text/plain": [
       "[4, 3, 1, 7, 10, 9, 8, 5, [3, 6, 7]]"
      ]
     },
     "execution_count": 34,
     "metadata": {},
     "output_type": "execute_result"
    }
   ],
   "source": [
    "# Sorting a nested list\n",
    "\n",
    "lst=[4,3,1,7,10,9,8,5,[7,6,3]] # lst.sort works on nested list inner to outer\n",
    "\n",
    "lst[8].sort()\n",
    "\n",
    "lst"
   ]
  },
  {
   "cell_type": "markdown",
   "id": "7ae724fc",
   "metadata": {},
   "source": [
    "### Q) How to remove item from list?\n",
    "\n",
    "**There 3 three functions by which we can remove elements from list**\n",
    "\n",
    "1) `pop`:- In pop function we gave to give index of elemets, which we want to remove.\n",
    "\n",
    "\n",
    "2) `remove` :- In pop function we gave to give particular elemet(s), which we want to remove.\n",
    "\n",
    "\n",
    "3) `del`:- In pop function we gave to give slicing number of elements, which we want to remove."
   ]
  },
  {
   "cell_type": "code",
   "execution_count": 35,
   "id": "c1b8cdf8",
   "metadata": {},
   "outputs": [
    {
     "data": {
      "text/plain": [
       "[4, 'bc', 8, 12]"
      ]
     },
     "execution_count": 35,
     "metadata": {},
     "output_type": "execute_result"
    }
   ],
   "source": [
    "lst=[4,'a','bc',8,12]\n",
    "\n",
    "lst.pop(1)\n",
    "\n",
    "lst"
   ]
  },
  {
   "cell_type": "code",
   "execution_count": 36,
   "id": "e1c9f4de",
   "metadata": {},
   "outputs": [
    {
     "data": {
      "text/plain": [
       "[1, 5, 4, 3, 10, 12]"
      ]
     },
     "execution_count": 36,
     "metadata": {},
     "output_type": "execute_result"
    }
   ],
   "source": [
    "l=[1,8,5,4,3,10,12]\n",
    "\n",
    "l.remove(8) \n",
    "\n",
    "l"
   ]
  },
  {
   "cell_type": "code",
   "execution_count": 37,
   "id": "824f1316",
   "metadata": {},
   "outputs": [
    {
     "data": {
      "text/plain": [
       "[1, 8, 10, 12]"
      ]
     },
     "execution_count": 37,
     "metadata": {},
     "output_type": "execute_result"
    }
   ],
   "source": [
    "l=[1,8,5,4,3,10,12]\n",
    "\n",
    "del l[2:5]\n",
    "\n",
    "l"
   ]
  },
  {
   "cell_type": "markdown",
   "id": "a14bd263",
   "metadata": {},
   "source": [
    "### Q) You have a list of elements i.e ['Apple', 'Banana', 'Mango', 'Grapes', 'Pineapple']. I want only those elements in output whose length of elements are greater than 5."
   ]
  },
  {
   "cell_type": "code",
   "execution_count": 38,
   "id": "225c18f7",
   "metadata": {},
   "outputs": [
    {
     "data": {
      "text/plain": [
       "['Banana', 'Grapes', 'Pineapple']"
      ]
     },
     "execution_count": 38,
     "metadata": {},
     "output_type": "execute_result"
    }
   ],
   "source": [
    "#Method 1\n",
    "\n",
    "fruits_list = ['Apple', 'Banana', 'Mango', 'Grapes', 'Pineapple']\n",
    "\n",
    "long_fruits_list = [fruit for fruit in fruits_list if len(fruit) > 5]\n",
    "\n",
    "long_fruits_list       # print(long_fruits_list)"
   ]
  },
  {
   "cell_type": "code",
   "execution_count": 39,
   "id": "802660d6",
   "metadata": {},
   "outputs": [
    {
     "name": "stdout",
     "output_type": "stream",
     "text": [
      "['Banana', 'Grapes', 'Pineapple']\n"
     ]
    }
   ],
   "source": [
    "#Method 2\n",
    "\n",
    "fruits_list = ['Apple', 'Banana', 'Mango', 'Grapes', 'Pineapple']\n",
    "\n",
    "long_fruits_list = []\n",
    "\n",
    "for fruit in fruits_list:\n",
    "    if len(fruit) > 5:\n",
    "        long_fruits_list.append(fruit)\n",
    "print(long_fruits_list)"
   ]
  },
  {
   "cell_type": "markdown",
   "id": "67bca62f",
   "metadata": {},
   "source": [
    "### Q) How to remove duplicates from a list?"
   ]
  },
  {
   "cell_type": "code",
   "execution_count": 40,
   "id": "1ef5737a",
   "metadata": {},
   "outputs": [
    {
     "data": {
      "text/plain": [
       "[1, 2, 3, 4, 5]"
      ]
     },
     "execution_count": 40,
     "metadata": {},
     "output_type": "execute_result"
    }
   ],
   "source": [
    "# Convert the list into set. It will automatically removes the duplicate.\n",
    "\n",
    "my_list = [1, 2, 3, 2, 4, 1, 5, 3]\n",
    "\n",
    "list(set(my_list))"
   ]
  },
  {
   "cell_type": "markdown",
   "id": "dbbeaa8b",
   "metadata": {},
   "source": [
    "### Q) How you reverse a string or list?\n",
    "\n",
    "To reverse a string or a list, we can use slicing in Python."
   ]
  },
  {
   "cell_type": "code",
   "execution_count": 41,
   "id": "7e241da2",
   "metadata": {},
   "outputs": [
    {
     "data": {
      "text/plain": [
       "'ecneics atad rof nohtyP'"
      ]
     },
     "execution_count": 41,
     "metadata": {},
     "output_type": "execute_result"
    }
   ],
   "source": [
    "#Example\n",
    "\n",
    "x = 'Python for data science'\n",
    "\n",
    "x[::-1]"
   ]
  },
  {
   "cell_type": "markdown",
   "id": "5ceead3c",
   "metadata": {},
   "source": [
    "### Q) Create a list of number 1 to 10 and create 2 empty list. Write a program / function to output all odd and even number seprately in each empty list."
   ]
  },
  {
   "cell_type": "code",
   "execution_count": 42,
   "id": "654e9e71",
   "metadata": {},
   "outputs": [
    {
     "name": "stdout",
     "output_type": "stream",
     "text": [
      "Even numbers: [2, 4, 6, 8, 10]\n",
      "Odd numbers: [1, 3, 5, 7, 9]\n"
     ]
    }
   ],
   "source": [
    "def separate_even_odd(numbers):\n",
    "    even_list = []  # List for even numbers\n",
    "    odd_list = []  # List for odd numbers\n",
    "    \n",
    "    for num in numbers:\n",
    "        if num % 2 == 0:\n",
    "            even_list.append(num)  # Even number\n",
    "        else:\n",
    "            odd_list.append(num)  # Odd number\n",
    "    \n",
    "    return even_list, odd_list\n",
    "\n",
    "numbers = [1, 2, 3, 4, 5, 6, 7, 8, 9, 10]  # List of numbers from 1 to 10\n",
    "\n",
    "even_list, odd_list = separate_even_odd(numbers)\n",
    "\n",
    "print(\"Even numbers:\", even_list)\n",
    "print(\"Odd numbers:\", odd_list)\n"
   ]
  },
  {
   "cell_type": "markdown",
   "id": "38e8d281",
   "metadata": {},
   "source": [
    "# Dictionary"
   ]
  },
  {
   "cell_type": "markdown",
   "id": "59d2d54f",
   "metadata": {},
   "source": [
    "### Q) In dictionary we have key value pairs. I only want keys in the output. Write a code for it."
   ]
  },
  {
   "cell_type": "code",
   "execution_count": 43,
   "id": "53148c34",
   "metadata": {},
   "outputs": [
    {
     "data": {
      "text/plain": [
       "dict_keys(['apple', 'banana', 'orange'])"
      ]
     },
     "execution_count": 43,
     "metadata": {},
     "output_type": "execute_result"
    }
   ],
   "source": [
    "dictionary = {\"apple\": 1, \"banana\": 2, \"orange\": 3}\n",
    "\n",
    "dictionary.keys()"
   ]
  },
  {
   "cell_type": "markdown",
   "id": "19c17162",
   "metadata": {},
   "source": [
    "### Q) In dictionary we have key value pairs. I only want keys in the output. Write a code for it with iteration."
   ]
  },
  {
   "cell_type": "code",
   "execution_count": 44,
   "id": "82f606e1",
   "metadata": {},
   "outputs": [
    {
     "name": "stdout",
     "output_type": "stream",
     "text": [
      "apple\n",
      "banana\n",
      "orange\n"
     ]
    }
   ],
   "source": [
    "dictionary = {\"apple\": 1, \"banana\": 2, \"orange\": 3}\n",
    "\n",
    "for key in dictionary:\n",
    "    print(key)"
   ]
  },
  {
   "cell_type": "markdown",
   "id": "fcfa673a",
   "metadata": {},
   "source": [
    "### Q) In dictionary we have key value pairs. I only want values in the output. Write a code for it."
   ]
  },
  {
   "cell_type": "code",
   "execution_count": 45,
   "id": "bdcf48c7",
   "metadata": {},
   "outputs": [
    {
     "data": {
      "text/plain": [
       "dict_values([1, 2, 3])"
      ]
     },
     "execution_count": 45,
     "metadata": {},
     "output_type": "execute_result"
    }
   ],
   "source": [
    "dictionary = {\"apple\": 1, \"banana\": 2, \"orange\": 3}\n",
    "\n",
    "dictionary.values()"
   ]
  },
  {
   "cell_type": "markdown",
   "id": "1d255d94",
   "metadata": {},
   "source": [
    "### Q) In dictionary we have key value pairs. I only want values in the output. Write a code for it with iteration."
   ]
  },
  {
   "cell_type": "code",
   "execution_count": 46,
   "id": "44930974",
   "metadata": {},
   "outputs": [
    {
     "name": "stdout",
     "output_type": "stream",
     "text": [
      "1\n",
      "2\n",
      "3\n"
     ]
    }
   ],
   "source": [
    "dictionary = {\"apple\": 1, \"banana\": 2, \"orange\": 3}\n",
    "\n",
    "for values in dictionary.values():\n",
    "    print(values)"
   ]
  },
  {
   "cell_type": "markdown",
   "id": "c05c6ab4",
   "metadata": {},
   "source": [
    "**Get all the Items (Key Value Pair) from Dictionary as a list**"
   ]
  },
  {
   "cell_type": "code",
   "execution_count": 47,
   "id": "89b74b2b",
   "metadata": {},
   "outputs": [
    {
     "data": {
      "text/plain": [
       "dict_items([('apple', 1), ('banana', 2), ('orange', 3)])"
      ]
     },
     "execution_count": 47,
     "metadata": {},
     "output_type": "execute_result"
    }
   ],
   "source": [
    "dictionary.items()"
   ]
  },
  {
   "cell_type": "markdown",
   "id": "308e2a09",
   "metadata": {},
   "source": [
    "**Get specific 'value' corresponding to the 'key' using 'get' function**"
   ]
  },
  {
   "cell_type": "code",
   "execution_count": 48,
   "id": "77b737ad",
   "metadata": {},
   "outputs": [
    {
     "data": {
      "text/plain": [
       "1"
      ]
     },
     "execution_count": 48,
     "metadata": {},
     "output_type": "execute_result"
    }
   ],
   "source": [
    "dictionary.get('apple')"
   ]
  },
  {
   "cell_type": "markdown",
   "id": "d8c60235",
   "metadata": {},
   "source": [
    "**Get specific 'value' corresponding to the 'key' using 'pop' function**"
   ]
  },
  {
   "cell_type": "code",
   "execution_count": 49,
   "id": "51196840",
   "metadata": {},
   "outputs": [
    {
     "data": {
      "text/plain": [
       "1"
      ]
     },
     "execution_count": 49,
     "metadata": {},
     "output_type": "execute_result"
    }
   ],
   "source": [
    "# removing items key and values from \n",
    " \n",
    "dictionary.pop('apple')"
   ]
  },
  {
   "cell_type": "code",
   "execution_count": 50,
   "id": "4ad64c5a",
   "metadata": {},
   "outputs": [
    {
     "data": {
      "text/plain": [
       "{'banana': 2, 'orange': 3}"
      ]
     },
     "execution_count": 50,
     "metadata": {},
     "output_type": "execute_result"
    }
   ],
   "source": [
    "dictionary"
   ]
  },
  {
   "cell_type": "markdown",
   "id": "6c8501f1",
   "metadata": {},
   "source": [
    "**Deleting a key value pair using 'del' function**"
   ]
  },
  {
   "cell_type": "code",
   "execution_count": 51,
   "id": "773aa92f",
   "metadata": {},
   "outputs": [
    {
     "ename": "KeyError",
     "evalue": "'shoe'",
     "output_type": "error",
     "traceback": [
      "\u001b[1;31m---------------------------------------------------------------------------\u001b[0m",
      "\u001b[1;31mKeyError\u001b[0m                                  Traceback (most recent call last)",
      "\u001b[1;32m~\\AppData\\Local\\Temp\\ipykernel_14752\\3602566820.py\u001b[0m in \u001b[0;36m<module>\u001b[1;34m\u001b[0m\n\u001b[1;32m----> 1\u001b[1;33m \u001b[1;32mdel\u001b[0m \u001b[0mdictionary\u001b[0m\u001b[1;33m[\u001b[0m\u001b[1;34m'shoe'\u001b[0m\u001b[1;33m]\u001b[0m\u001b[1;33m\u001b[0m\u001b[1;33m\u001b[0m\u001b[0m\n\u001b[0m\u001b[0;32m      2\u001b[0m \u001b[1;33m\u001b[0m\u001b[0m\n\u001b[0;32m      3\u001b[0m \u001b[0mdictionary\u001b[0m\u001b[1;33m\u001b[0m\u001b[1;33m\u001b[0m\u001b[0m\n",
      "\u001b[1;31mKeyError\u001b[0m: 'shoe'"
     ]
    }
   ],
   "source": [
    "del dictionary['shoe']\n",
    "\n",
    "dictionary"
   ]
  },
  {
   "cell_type": "markdown",
   "id": "1b7d4521",
   "metadata": {},
   "source": [
    "**Adding key value pair in a dictionary**"
   ]
  },
  {
   "cell_type": "code",
   "execution_count": 52,
   "id": "372bd3c2",
   "metadata": {},
   "outputs": [
    {
     "data": {
      "text/plain": [
       "{'banana': 2, 'orange': 3, 'shoe': 'footcover'}"
      ]
     },
     "execution_count": 52,
     "metadata": {},
     "output_type": "execute_result"
    }
   ],
   "source": [
    "dictionary['shoe']='footcover'\n",
    "\n",
    "dictionary"
   ]
  },
  {
   "cell_type": "markdown",
   "id": "79c3f627",
   "metadata": {},
   "source": [
    "**Updating a dictionary (Alternative way)**"
   ]
  },
  {
   "cell_type": "code",
   "execution_count": 53,
   "id": "0211cc0e",
   "metadata": {},
   "outputs": [
    {
     "data": {
      "text/plain": [
       "{'banana': 2, 'orange': 3, 'shoe': 'footcover'}"
      ]
     },
     "execution_count": 53,
     "metadata": {},
     "output_type": "execute_result"
    }
   ],
   "source": [
    "dictionary.update({'shoe':'footcover'})\n",
    "\n",
    "dictionary"
   ]
  },
  {
   "cell_type": "markdown",
   "id": "c4fb8787",
   "metadata": {},
   "source": [
    "**Changing a Value for a key in the dictionary**"
   ]
  },
  {
   "cell_type": "code",
   "execution_count": 54,
   "id": "40b0ba2f",
   "metadata": {},
   "outputs": [
    {
     "data": {
      "text/plain": [
       "{'banana': 2, 'orange': 3, 'shoe': 'footprotection'}"
      ]
     },
     "execution_count": 54,
     "metadata": {},
     "output_type": "execute_result"
    }
   ],
   "source": [
    "dictionary['shoe']='footprotection'\n",
    "\n",
    "dictionary"
   ]
  },
  {
   "cell_type": "markdown",
   "id": "5748ab17",
   "metadata": {},
   "source": [
    "**Finding Length of Dictionary**"
   ]
  },
  {
   "cell_type": "code",
   "execution_count": 55,
   "id": "204f7a6d",
   "metadata": {},
   "outputs": [
    {
     "data": {
      "text/plain": [
       "3"
      ]
     },
     "execution_count": 55,
     "metadata": {},
     "output_type": "execute_result"
    }
   ],
   "source": [
    "len(dictionary)"
   ]
  },
  {
   "cell_type": "markdown",
   "id": "f40adb7b",
   "metadata": {},
   "source": [
    "**Clearing all items of dictionary using clear function**"
   ]
  },
  {
   "cell_type": "code",
   "execution_count": 56,
   "id": "8170358f",
   "metadata": {},
   "outputs": [
    {
     "data": {
      "text/plain": [
       "{}"
      ]
     },
     "execution_count": 56,
     "metadata": {},
     "output_type": "execute_result"
    }
   ],
   "source": [
    "dictionary.clear()\n",
    "\n",
    "dictionary"
   ]
  },
  {
   "cell_type": "markdown",
   "id": "fdd314a0",
   "metadata": {},
   "source": [
    "**Update dictionary using update function**"
   ]
  },
  {
   "cell_type": "code",
   "execution_count": 57,
   "id": "372865c1",
   "metadata": {},
   "outputs": [
    {
     "data": {
      "text/plain": [
       "{1: 20, 2: 20}"
      ]
     },
     "execution_count": 57,
     "metadata": {},
     "output_type": "execute_result"
    }
   ],
   "source": [
    "# example of update of dictionary (Aggregating various dictionaries)\n",
    "\n",
    "dict1={1:20,2:20}\n",
    "\n",
    "dict2={3:30,4:40}\n",
    "\n",
    "dict3={5:50,6:60}\n",
    "\n",
    "d={}\n",
    "\n",
    "d.update(dict1)\n",
    "\n",
    "d"
   ]
  },
  {
   "cell_type": "code",
   "execution_count": 58,
   "id": "34fa9273",
   "metadata": {},
   "outputs": [
    {
     "data": {
      "text/plain": [
       "{1: 20, 2: 20, 3: 30, 4: 40}"
      ]
     },
     "execution_count": 58,
     "metadata": {},
     "output_type": "execute_result"
    }
   ],
   "source": [
    "d.update(dict2)\n",
    "\n",
    "d"
   ]
  },
  {
   "cell_type": "code",
   "execution_count": 59,
   "id": "aa34db1f",
   "metadata": {},
   "outputs": [
    {
     "data": {
      "text/plain": [
       "{1: 20, 2: 20, 3: 30, 4: 40, 5: 50, 6: 60}"
      ]
     },
     "execution_count": 59,
     "metadata": {},
     "output_type": "execute_result"
    }
   ],
   "source": [
    "d.update(dict3)\n",
    "\n",
    "d"
   ]
  },
  {
   "cell_type": "markdown",
   "id": "6fffeac8",
   "metadata": {},
   "source": [
    "**For Loop using dictionary**"
   ]
  },
  {
   "cell_type": "code",
   "execution_count": 60,
   "id": "21ea65c1",
   "metadata": {},
   "outputs": [
    {
     "name": "stdout",
     "output_type": "stream",
     "text": [
      "A\n",
      "B\n",
      "C\n"
     ]
    }
   ],
   "source": [
    "#For loop loops over the Keys\n",
    "\n",
    "d={'A':100,'B':200,'C':300}\n",
    "\n",
    "for i in d:\n",
    "    print(i)"
   ]
  },
  {
   "cell_type": "code",
   "execution_count": 61,
   "id": "d3fe124a",
   "metadata": {},
   "outputs": [
    {
     "data": {
      "text/plain": [
       "{'A': 100, 'B': 200, 'C': 300}"
      ]
     },
     "execution_count": 61,
     "metadata": {},
     "output_type": "execute_result"
    }
   ],
   "source": [
    "d"
   ]
  },
  {
   "cell_type": "code",
   "execution_count": 62,
   "id": "82ed50c0",
   "metadata": {},
   "outputs": [
    {
     "data": {
      "text/plain": [
       "200"
      ]
     },
     "execution_count": 62,
     "metadata": {},
     "output_type": "execute_result"
    }
   ],
   "source": [
    "d['B']"
   ]
  },
  {
   "cell_type": "code",
   "execution_count": 63,
   "id": "358aca37",
   "metadata": {},
   "outputs": [
    {
     "name": "stdout",
     "output_type": "stream",
     "text": [
      "100\n",
      "200\n",
      "300\n"
     ]
    }
   ],
   "source": [
    "#For looping over the values\n",
    "\n",
    "d={'A':100,'B':200,'C':300}\n",
    "\n",
    "for k in d:\n",
    "    print(d[k])"
   ]
  },
  {
   "cell_type": "code",
   "execution_count": 64,
   "id": "fc375bc0",
   "metadata": {},
   "outputs": [
    {
     "name": "stdout",
     "output_type": "stream",
     "text": [
      "A 100\n",
      "B 200\n",
      "C 300\n"
     ]
    }
   ],
   "source": [
    "#For Looping over the items (key value pair)\n",
    "\n",
    "for a,b in d.items():\n",
    "    print(a,b)"
   ]
  },
  {
   "cell_type": "markdown",
   "id": "d69f3f91",
   "metadata": {},
   "source": [
    "**Storing above dictionary keys, values and items in the list**"
   ]
  },
  {
   "cell_type": "code",
   "execution_count": 65,
   "id": "cd024e73",
   "metadata": {},
   "outputs": [
    {
     "data": {
      "text/plain": [
       "['A', 'B', 'C']"
      ]
     },
     "execution_count": 65,
     "metadata": {},
     "output_type": "execute_result"
    }
   ],
   "source": [
    "list(d)"
   ]
  },
  {
   "cell_type": "code",
   "execution_count": 66,
   "id": "b1d296dc",
   "metadata": {},
   "outputs": [
    {
     "data": {
      "text/plain": [
       "[100, 200, 300]"
      ]
     },
     "execution_count": 66,
     "metadata": {},
     "output_type": "execute_result"
    }
   ],
   "source": [
    "list(d.values())"
   ]
  },
  {
   "cell_type": "code",
   "execution_count": 67,
   "id": "2548027c",
   "metadata": {},
   "outputs": [
    {
     "data": {
      "text/plain": [
       "[('A', 100), ('B', 200), ('C', 300)]"
      ]
     },
     "execution_count": 67,
     "metadata": {},
     "output_type": "execute_result"
    }
   ],
   "source": [
    "list(d.items()) #list of tuples"
   ]
  },
  {
   "cell_type": "markdown",
   "id": "7d3de6e8",
   "metadata": {},
   "source": [
    "# Tuples"
   ]
  },
  {
   "cell_type": "markdown",
   "id": "abe59ceb",
   "metadata": {},
   "source": [
    "### Q) how to create tuple of a single element? If yes, then how?\n",
    "\n",
    "**We can create tuple of a single element by putting a after element.**"
   ]
  },
  {
   "cell_type": "code",
   "execution_count": 68,
   "id": "831dcdd5",
   "metadata": {},
   "outputs": [
    {
     "data": {
      "text/plain": [
       "tuple"
      ]
     },
     "execution_count": 68,
     "metadata": {},
     "output_type": "execute_result"
    }
   ],
   "source": [
    "a = (2,)\n",
    "\n",
    "type(a)"
   ]
  },
  {
   "cell_type": "code",
   "execution_count": 69,
   "id": "c5792241",
   "metadata": {},
   "outputs": [
    {
     "data": {
      "text/plain": [
       "int"
      ]
     },
     "execution_count": 69,
     "metadata": {},
     "output_type": "execute_result"
    }
   ],
   "source": [
    "a = (2)\n",
    "\n",
    "type(a)"
   ]
  },
  {
   "cell_type": "markdown",
   "id": "018c3563",
   "metadata": {},
   "source": [
    "**`Note`: If we don't put comma after a element then data type will be changed.**"
   ]
  },
  {
   "cell_type": "markdown",
   "id": "88ce128b",
   "metadata": {},
   "source": [
    "### Creating Tuple\n",
    "\n",
    "\n",
    "1) By Round Bracket\n",
    "\n",
    "\n",
    "2) By passing a list to 'tuple' function"
   ]
  },
  {
   "cell_type": "markdown",
   "id": "70102fea",
   "metadata": {},
   "source": [
    "**1) By Round Bracket**"
   ]
  },
  {
   "cell_type": "code",
   "execution_count": 70,
   "id": "727fe543",
   "metadata": {},
   "outputs": [
    {
     "data": {
      "text/plain": [
       "tuple"
      ]
     },
     "execution_count": 70,
     "metadata": {},
     "output_type": "execute_result"
    }
   ],
   "source": [
    "# tuple with 2 elements\n",
    "\n",
    "t=('a','b')\n",
    "\n",
    "type(t)"
   ]
  },
  {
   "cell_type": "markdown",
   "id": "286da917",
   "metadata": {},
   "source": [
    "**2) By passing a list to the 'tuple' function**"
   ]
  },
  {
   "cell_type": "code",
   "execution_count": 71,
   "id": "759cb5ac",
   "metadata": {},
   "outputs": [
    {
     "data": {
      "text/plain": [
       "(1, 2, 3, 2, 3, 'a', True)"
      ]
     },
     "execution_count": 71,
     "metadata": {},
     "output_type": "execute_result"
    }
   ],
   "source": [
    "t1=tuple([1,2,3,2,3,\"a\",True])\n",
    "\n",
    "t1"
   ]
  },
  {
   "cell_type": "code",
   "execution_count": 72,
   "id": "a5a88e23",
   "metadata": {},
   "outputs": [
    {
     "data": {
      "text/plain": [
       "tuple"
      ]
     },
     "execution_count": 72,
     "metadata": {},
     "output_type": "execute_result"
    }
   ],
   "source": [
    "type(t1)"
   ]
  },
  {
   "cell_type": "markdown",
   "id": "cb77576c",
   "metadata": {},
   "source": [
    "## Accessing items of tuple"
   ]
  },
  {
   "cell_type": "markdown",
   "id": "e54bf217",
   "metadata": {},
   "source": [
    "**Indexing a tuple (Similar to string and list)**"
   ]
  },
  {
   "cell_type": "code",
   "execution_count": 73,
   "id": "cd7f9061",
   "metadata": {},
   "outputs": [
    {
     "data": {
      "text/plain": [
       "4"
      ]
     },
     "execution_count": 73,
     "metadata": {},
     "output_type": "execute_result"
    }
   ],
   "source": [
    "t=(5,2,4,1,8)\n",
    "\n",
    "t[2]"
   ]
  },
  {
   "cell_type": "markdown",
   "id": "a56b516e",
   "metadata": {},
   "source": [
    "**Slicing a Tuple (Similar to string and list)**"
   ]
  },
  {
   "cell_type": "code",
   "execution_count": 74,
   "id": "45c50030",
   "metadata": {},
   "outputs": [
    {
     "data": {
      "text/plain": [
       "('blue', 'red')"
      ]
     },
     "execution_count": 74,
     "metadata": {},
     "output_type": "execute_result"
    }
   ],
   "source": [
    "t=('blue','red','green','yellow')\n",
    "\n",
    "t[0:2]"
   ]
  },
  {
   "cell_type": "markdown",
   "id": "4e0cfe5e",
   "metadata": {},
   "source": [
    "**Tuple is not mutable (immutable)**"
   ]
  },
  {
   "cell_type": "code",
   "execution_count": 75,
   "id": "231eee90",
   "metadata": {},
   "outputs": [
    {
     "ename": "TypeError",
     "evalue": "'tuple' object does not support item assignment",
     "output_type": "error",
     "traceback": [
      "\u001b[1;31m---------------------------------------------------------------------------\u001b[0m",
      "\u001b[1;31mTypeError\u001b[0m                                 Traceback (most recent call last)",
      "\u001b[1;32m~\\AppData\\Local\\Temp\\ipykernel_14752\\2956284724.py\u001b[0m in \u001b[0;36m<module>\u001b[1;34m\u001b[0m\n\u001b[0;32m      1\u001b[0m \u001b[0mt\u001b[0m\u001b[1;33m=\u001b[0m\u001b[1;33m(\u001b[0m\u001b[1;34m'blue'\u001b[0m\u001b[1;33m,\u001b[0m\u001b[1;34m'red'\u001b[0m\u001b[1;33m,\u001b[0m\u001b[1;34m'green'\u001b[0m\u001b[1;33m,\u001b[0m\u001b[1;34m'yellow'\u001b[0m\u001b[1;33m)\u001b[0m\u001b[1;33m\u001b[0m\u001b[1;33m\u001b[0m\u001b[0m\n\u001b[0;32m      2\u001b[0m \u001b[1;33m\u001b[0m\u001b[0m\n\u001b[1;32m----> 3\u001b[1;33m \u001b[0mt\u001b[0m\u001b[1;33m[\u001b[0m\u001b[1;36m0\u001b[0m\u001b[1;33m]\u001b[0m\u001b[1;33m=\u001b[0m\u001b[1;34m'white'\u001b[0m\u001b[1;33m\u001b[0m\u001b[1;33m\u001b[0m\u001b[0m\n\u001b[0m",
      "\u001b[1;31mTypeError\u001b[0m: 'tuple' object does not support item assignment"
     ]
    }
   ],
   "source": [
    "t=('blue','red','green','yellow')\n",
    "\n",
    "t[0]='white'"
   ]
  },
  {
   "cell_type": "markdown",
   "id": "3e9d660b",
   "metadata": {},
   "source": [
    "# Tuple Operations\n",
    "\n",
    "1) Concatenation\n",
    "\n",
    "\n",
    "2) Multiplication with Scalar\n",
    "\n",
    "\n",
    "3) Length of tuple\n",
    "\n",
    "\n",
    "4) Max element in a Tuple\n",
    "\n",
    "\n",
    "5) Comparing two tuples"
   ]
  },
  {
   "cell_type": "markdown",
   "id": "e9dd3075",
   "metadata": {},
   "source": [
    "**Concatenation (Similar to Strings & List)**"
   ]
  },
  {
   "cell_type": "code",
   "execution_count": 76,
   "id": "9af8b9f1",
   "metadata": {},
   "outputs": [
    {
     "data": {
      "text/plain": [
       "('blue', 'red', 'green', 'yellow', 'black')"
      ]
     },
     "execution_count": 76,
     "metadata": {},
     "output_type": "execute_result"
    }
   ],
   "source": [
    "t1=('blue','red','green','yellow')\n",
    "\n",
    "t2=('black',)\n",
    "\n",
    "t1+t2"
   ]
  },
  {
   "cell_type": "markdown",
   "id": "a023c272",
   "metadata": {},
   "source": [
    "**Multiplication with Scalar**"
   ]
  },
  {
   "cell_type": "code",
   "execution_count": 77,
   "id": "4b79125a",
   "metadata": {},
   "outputs": [
    {
     "data": {
      "text/plain": [
       "('blue',\n",
       " 'red',\n",
       " 'green',\n",
       " 'yellow',\n",
       " 'blue',\n",
       " 'red',\n",
       " 'green',\n",
       " 'yellow',\n",
       " 'blue',\n",
       " 'red',\n",
       " 'green',\n",
       " 'yellow')"
      ]
     },
     "execution_count": 77,
     "metadata": {},
     "output_type": "execute_result"
    }
   ],
   "source": [
    "t1=('blue','red','green','yellow')\n",
    "\n",
    "t2=t1*3\n",
    "\n",
    "t2"
   ]
  },
  {
   "cell_type": "markdown",
   "id": "3b95cdb1",
   "metadata": {},
   "source": [
    "**Length of a tuple**"
   ]
  },
  {
   "cell_type": "code",
   "execution_count": 78,
   "id": "d3e6f1bb",
   "metadata": {},
   "outputs": [
    {
     "data": {
      "text/plain": [
       "12"
      ]
     },
     "execution_count": 78,
     "metadata": {},
     "output_type": "execute_result"
    }
   ],
   "source": [
    "len(t2)"
   ]
  },
  {
   "cell_type": "markdown",
   "id": "858f0e89",
   "metadata": {},
   "source": [
    "**Comparing two tuples**"
   ]
  },
  {
   "cell_type": "code",
   "execution_count": 79,
   "id": "765ab071",
   "metadata": {},
   "outputs": [
    {
     "data": {
      "text/plain": [
       "False"
      ]
     },
     "execution_count": 79,
     "metadata": {},
     "output_type": "execute_result"
    }
   ],
   "source": [
    "t1=(0,5,1)\n",
    "\n",
    "t2=(0,3,4)\n",
    "\n",
    "t1<t2"
   ]
  },
  {
   "cell_type": "markdown",
   "id": "420690cc",
   "metadata": {},
   "source": [
    "**Max element in a tuple**"
   ]
  },
  {
   "cell_type": "code",
   "execution_count": 80,
   "id": "d68aaedd",
   "metadata": {},
   "outputs": [
    {
     "data": {
      "text/plain": [
       "6"
      ]
     },
     "execution_count": 80,
     "metadata": {},
     "output_type": "execute_result"
    }
   ],
   "source": [
    "t=(1,2,3,4,5,6)\n",
    "\n",
    "max(t)"
   ]
  },
  {
   "cell_type": "markdown",
   "id": "9128fecb",
   "metadata": {},
   "source": [
    "**Min element in a tuple**"
   ]
  },
  {
   "cell_type": "code",
   "execution_count": 81,
   "id": "8a070b15",
   "metadata": {},
   "outputs": [
    {
     "data": {
      "text/plain": [
       "1"
      ]
     },
     "execution_count": 81,
     "metadata": {},
     "output_type": "execute_result"
    }
   ],
   "source": [
    "t=(1,2,3,4,5,6)\n",
    "\n",
    "min(t)"
   ]
  },
  {
   "cell_type": "markdown",
   "id": "b6acc3c5",
   "metadata": {},
   "source": [
    "**Sum of elements of tuple**"
   ]
  },
  {
   "cell_type": "code",
   "execution_count": 82,
   "id": "ee9c49be",
   "metadata": {},
   "outputs": [
    {
     "data": {
      "text/plain": [
       "21"
      ]
     },
     "execution_count": 82,
     "metadata": {},
     "output_type": "execute_result"
    }
   ],
   "source": [
    "t=(1,2,3,4,5,6)\n",
    "\n",
    "sum(t)"
   ]
  },
  {
   "cell_type": "markdown",
   "id": "f40529aa",
   "metadata": {},
   "source": [
    "**For loop over tuple**"
   ]
  },
  {
   "cell_type": "code",
   "execution_count": 83,
   "id": "d9b85005",
   "metadata": {},
   "outputs": [
    {
     "name": "stdout",
     "output_type": "stream",
     "text": [
      "1 2 3 4 "
     ]
    }
   ],
   "source": [
    "t=(1,2,3,4)\n",
    "\n",
    "for i in t:\n",
    "    print(i, end=\" \")"
   ]
  },
  {
   "cell_type": "markdown",
   "id": "3369f40e",
   "metadata": {},
   "source": [
    "**Finding Unique elements in a tuple using set function. Here output is a set data type. This can be converted to tuple by \n",
    "passing the set to tuple function**"
   ]
  },
  {
   "cell_type": "code",
   "execution_count": 84,
   "id": "c8a60bdc",
   "metadata": {},
   "outputs": [
    {
     "data": {
      "text/plain": [
       "{1, 2}"
      ]
     },
     "execution_count": 84,
     "metadata": {},
     "output_type": "execute_result"
    }
   ],
   "source": [
    "t=(1,1,2,2)\n",
    "\n",
    "t=set(t)\n",
    "\n",
    "t"
   ]
  },
  {
   "cell_type": "markdown",
   "id": "4fe324b1",
   "metadata": {},
   "source": [
    "**Converting set to tuple**"
   ]
  },
  {
   "cell_type": "code",
   "execution_count": 85,
   "id": "7bce8891",
   "metadata": {},
   "outputs": [
    {
     "data": {
      "text/plain": [
       "(1, 2)"
      ]
     },
     "execution_count": 85,
     "metadata": {},
     "output_type": "execute_result"
    }
   ],
   "source": [
    "t=tuple(t)\n",
    "\n",
    "t"
   ]
  },
  {
   "cell_type": "markdown",
   "id": "15c8f6bf",
   "metadata": {},
   "source": [
    "# Set"
   ]
  },
  {
   "cell_type": "markdown",
   "id": "86ad4b4e",
   "metadata": {},
   "source": [
    "**Sets cannot have duplicate items**"
   ]
  },
  {
   "cell_type": "code",
   "execution_count": 86,
   "id": "56ae2a10",
   "metadata": {},
   "outputs": [
    {
     "data": {
      "text/plain": [
       "{1, 2, 3, 'Hello'}"
      ]
     },
     "execution_count": 86,
     "metadata": {},
     "output_type": "execute_result"
    }
   ],
   "source": [
    "s={1,2,3,3,1,'Hello'}\n",
    "\n",
    "s # Retains unique elements only"
   ]
  },
  {
   "cell_type": "markdown",
   "id": "a107837f",
   "metadata": {},
   "source": [
    "**Items of set are Immutable**"
   ]
  },
  {
   "cell_type": "code",
   "execution_count": 87,
   "id": "d3ea3b22",
   "metadata": {},
   "outputs": [
    {
     "ename": "TypeError",
     "evalue": "'set' object does not support item assignment",
     "output_type": "error",
     "traceback": [
      "\u001b[1;31m---------------------------------------------------------------------------\u001b[0m",
      "\u001b[1;31mTypeError\u001b[0m                                 Traceback (most recent call last)",
      "\u001b[1;32m~\\AppData\\Local\\Temp\\ipykernel_14752\\4189888500.py\u001b[0m in \u001b[0;36m<module>\u001b[1;34m\u001b[0m\n\u001b[0;32m      1\u001b[0m \u001b[0ms\u001b[0m\u001b[1;33m=\u001b[0m\u001b[1;33m{\u001b[0m\u001b[1;36m1\u001b[0m\u001b[1;33m,\u001b[0m\u001b[1;36m2\u001b[0m\u001b[1;33m,\u001b[0m\u001b[1;36m3\u001b[0m\u001b[1;33m,\u001b[0m\u001b[1;36m4\u001b[0m\u001b[1;33m}\u001b[0m\u001b[1;33m\u001b[0m\u001b[1;33m\u001b[0m\u001b[0m\n\u001b[0;32m      2\u001b[0m \u001b[1;33m\u001b[0m\u001b[0m\n\u001b[1;32m----> 3\u001b[1;33m \u001b[0ms\u001b[0m\u001b[1;33m[\u001b[0m\u001b[1;36m0\u001b[0m\u001b[1;33m]\u001b[0m\u001b[1;33m=\u001b[0m\u001b[1;36m6\u001b[0m\u001b[1;33m\u001b[0m\u001b[1;33m\u001b[0m\u001b[0m\n\u001b[0m\u001b[0;32m      4\u001b[0m \u001b[1;33m\u001b[0m\u001b[0m\n\u001b[0;32m      5\u001b[0m \u001b[0ms\u001b[0m\u001b[1;33m\u001b[0m\u001b[1;33m\u001b[0m\u001b[0m\n",
      "\u001b[1;31mTypeError\u001b[0m: 'set' object does not support item assignment"
     ]
    }
   ],
   "source": [
    "s={1,2,3,4}\n",
    "\n",
    "s[0]=6\n",
    "\n",
    "s"
   ]
  },
  {
   "cell_type": "markdown",
   "id": "4106e3e3",
   "metadata": {},
   "source": [
    "**Set is unordered collection of items. Hence cannot be indexed**"
   ]
  },
  {
   "cell_type": "code",
   "execution_count": 88,
   "id": "b2ad5d5b",
   "metadata": {},
   "outputs": [
    {
     "ename": "TypeError",
     "evalue": "'set' object is not subscriptable",
     "output_type": "error",
     "traceback": [
      "\u001b[1;31m---------------------------------------------------------------------------\u001b[0m",
      "\u001b[1;31mTypeError\u001b[0m                                 Traceback (most recent call last)",
      "\u001b[1;32m~\\AppData\\Local\\Temp\\ipykernel_14752\\3732425041.py\u001b[0m in \u001b[0;36m<module>\u001b[1;34m\u001b[0m\n\u001b[0;32m      1\u001b[0m \u001b[0ms\u001b[0m\u001b[1;33m=\u001b[0m\u001b[1;33m{\u001b[0m\u001b[1;36m1\u001b[0m\u001b[1;33m,\u001b[0m\u001b[1;36m2\u001b[0m\u001b[1;33m,\u001b[0m\u001b[1;36m3\u001b[0m\u001b[1;33m,\u001b[0m\u001b[1;36m4\u001b[0m\u001b[1;33m}\u001b[0m\u001b[1;33m\u001b[0m\u001b[1;33m\u001b[0m\u001b[0m\n\u001b[0;32m      2\u001b[0m \u001b[1;33m\u001b[0m\u001b[0m\n\u001b[1;32m----> 3\u001b[1;33m \u001b[0ms\u001b[0m\u001b[1;33m[\u001b[0m\u001b[1;36m0\u001b[0m\u001b[1;33m]\u001b[0m\u001b[1;33m\u001b[0m\u001b[1;33m\u001b[0m\u001b[0m\n\u001b[0m",
      "\u001b[1;31mTypeError\u001b[0m: 'set' object is not subscriptable"
     ]
    }
   ],
   "source": [
    "s={1,2,3,4}\n",
    "\n",
    "s[0]"
   ]
  },
  {
   "cell_type": "markdown",
   "id": "1b7ecdde",
   "metadata": {},
   "source": [
    "**Updating the Set with the tuple**"
   ]
  },
  {
   "cell_type": "code",
   "execution_count": 89,
   "id": "a5b1e01a",
   "metadata": {},
   "outputs": [
    {
     "ename": "AttributeError",
     "evalue": "'tuple' object has no attribute 'update'",
     "output_type": "error",
     "traceback": [
      "\u001b[1;31m---------------------------------------------------------------------------\u001b[0m",
      "\u001b[1;31mAttributeError\u001b[0m                            Traceback (most recent call last)",
      "\u001b[1;32m~\\AppData\\Local\\Temp\\ipykernel_14752\\353465468.py\u001b[0m in \u001b[0;36m<module>\u001b[1;34m\u001b[0m\n\u001b[0;32m      3\u001b[0m \u001b[0ml\u001b[0m\u001b[1;33m=\u001b[0m\u001b[1;33m[\u001b[0m\u001b[1;36m5\u001b[0m\u001b[1;33m,\u001b[0m\u001b[1;36m6\u001b[0m\u001b[1;33m,\u001b[0m\u001b[1;36m7\u001b[0m\u001b[1;33m]\u001b[0m\u001b[1;33m\u001b[0m\u001b[1;33m\u001b[0m\u001b[0m\n\u001b[0;32m      4\u001b[0m \u001b[1;33m\u001b[0m\u001b[0m\n\u001b[1;32m----> 5\u001b[1;33m \u001b[0ms\u001b[0m\u001b[1;33m.\u001b[0m\u001b[0mupdate\u001b[0m\u001b[1;33m(\u001b[0m\u001b[0ml\u001b[0m\u001b[1;33m)\u001b[0m\u001b[1;33m\u001b[0m\u001b[1;33m\u001b[0m\u001b[0m\n\u001b[0m\u001b[0;32m      6\u001b[0m \u001b[1;33m\u001b[0m\u001b[0m\n\u001b[0;32m      7\u001b[0m \u001b[0ms\u001b[0m\u001b[1;33m\u001b[0m\u001b[1;33m\u001b[0m\u001b[0m\n",
      "\u001b[1;31mAttributeError\u001b[0m: 'tuple' object has no attribute 'update'"
     ]
    }
   ],
   "source": [
    "s=(1,2,3,4)\n",
    "\n",
    "l=[5,6,7]\n",
    "\n",
    "s.update(l)\n",
    "\n",
    "s"
   ]
  },
  {
   "cell_type": "markdown",
   "id": "d4f10447",
   "metadata": {},
   "source": [
    "**Updating the Set with the Dictionary --> Cannot Update as Dictionary is mutable**"
   ]
  },
  {
   "cell_type": "code",
   "execution_count": 90,
   "id": "d864f182",
   "metadata": {},
   "outputs": [
    {
     "ename": "AttributeError",
     "evalue": "'tuple' object has no attribute 'update'",
     "output_type": "error",
     "traceback": [
      "\u001b[1;31m---------------------------------------------------------------------------\u001b[0m",
      "\u001b[1;31mAttributeError\u001b[0m                            Traceback (most recent call last)",
      "\u001b[1;32m~\\AppData\\Local\\Temp\\ipykernel_14752\\746156497.py\u001b[0m in \u001b[0;36m<module>\u001b[1;34m\u001b[0m\n\u001b[0;32m      3\u001b[0m \u001b[0mt\u001b[0m\u001b[1;33m=\u001b[0m\u001b[1;33m{\u001b[0m\u001b[1;36m5\u001b[0m\u001b[1;33m:\u001b[0m\u001b[1;34m'Delhi'\u001b[0m\u001b[1;33m,\u001b[0m\u001b[1;36m6\u001b[0m\u001b[1;33m:\u001b[0m\u001b[1;34m'Mumbai'\u001b[0m\u001b[1;33m}\u001b[0m\u001b[1;33m\u001b[0m\u001b[1;33m\u001b[0m\u001b[0m\n\u001b[0;32m      4\u001b[0m \u001b[1;33m\u001b[0m\u001b[0m\n\u001b[1;32m----> 5\u001b[1;33m \u001b[0ms\u001b[0m\u001b[1;33m.\u001b[0m\u001b[0mupdate\u001b[0m\u001b[1;33m(\u001b[0m\u001b[0mt\u001b[0m\u001b[1;33m)\u001b[0m\u001b[1;33m\u001b[0m\u001b[1;33m\u001b[0m\u001b[0m\n\u001b[0m\u001b[0;32m      6\u001b[0m \u001b[1;33m\u001b[0m\u001b[0m\n\u001b[0;32m      7\u001b[0m \u001b[0ms\u001b[0m\u001b[1;33m\u001b[0m\u001b[1;33m\u001b[0m\u001b[0m\n",
      "\u001b[1;31mAttributeError\u001b[0m: 'tuple' object has no attribute 'update'"
     ]
    }
   ],
   "source": [
    "s=(1,2,3,4)\n",
    "\n",
    "t={5:'Delhi',6:'Mumbai'}\n",
    "\n",
    "s.update(t)\n",
    "\n",
    "s"
   ]
  },
  {
   "cell_type": "markdown",
   "id": "78c38f9c",
   "metadata": {},
   "source": [
    "# Set Operations\n",
    "\n",
    "1) Union of two sets\n",
    "\n",
    "\n",
    "2) Intersection of two sets\n",
    "\n",
    "\n",
    "3) Difference between two sets\n",
    "\n",
    "\n",
    "4) Symmetric difference of two sets"
   ]
  },
  {
   "cell_type": "markdown",
   "id": "8e33a8b9",
   "metadata": {},
   "source": [
    "**Union of two sets - symbol |**"
   ]
  },
  {
   "cell_type": "code",
   "execution_count": 91,
   "id": "a23da294",
   "metadata": {},
   "outputs": [
    {
     "data": {
      "text/plain": [
       "{1, 2, 3, 4, 5, 6, 7, 8}"
      ]
     },
     "execution_count": 91,
     "metadata": {},
     "output_type": "execute_result"
    }
   ],
   "source": [
    "a={1,2,3,4,5}\n",
    "\n",
    "b={4,5,6,7,8}\n",
    "\n",
    "x=a.union(b)\n",
    "\n",
    "x"
   ]
  },
  {
   "cell_type": "code",
   "execution_count": 92,
   "id": "57157842",
   "metadata": {},
   "outputs": [
    {
     "data": {
      "text/plain": [
       "{1, 2, 3, 4, 5, 6, 7, 8}"
      ]
     },
     "execution_count": 92,
     "metadata": {},
     "output_type": "execute_result"
    }
   ],
   "source": [
    "a|b"
   ]
  },
  {
   "cell_type": "markdown",
   "id": "5ec71c4f",
   "metadata": {},
   "source": [
    "**Intersection of two sets - symbol &**"
   ]
  },
  {
   "cell_type": "code",
   "execution_count": 93,
   "id": "96c5e0a4",
   "metadata": {},
   "outputs": [
    {
     "data": {
      "text/plain": [
       "{4, 5}"
      ]
     },
     "execution_count": 93,
     "metadata": {},
     "output_type": "execute_result"
    }
   ],
   "source": [
    "a={1,2,3,4,5}\n",
    "\n",
    "b={4,5,6,7,8}\n",
    "\n",
    "x=a.intersection(b)\n",
    "\n",
    "x"
   ]
  },
  {
   "cell_type": "code",
   "execution_count": 94,
   "id": "33bb01c1",
   "metadata": {},
   "outputs": [
    {
     "data": {
      "text/plain": [
       "{4, 5}"
      ]
     },
     "execution_count": 94,
     "metadata": {},
     "output_type": "execute_result"
    }
   ],
   "source": [
    "a & b"
   ]
  },
  {
   "cell_type": "markdown",
   "id": "d3ede860",
   "metadata": {},
   "source": [
    "**Difference of two sets. Can be set a - setb or set b - set a (symbol -)**"
   ]
  },
  {
   "cell_type": "code",
   "execution_count": 95,
   "id": "5b7c436b",
   "metadata": {},
   "outputs": [
    {
     "data": {
      "text/plain": [
       "{1, 2, 3}"
      ]
     },
     "execution_count": 95,
     "metadata": {},
     "output_type": "execute_result"
    }
   ],
   "source": [
    "a={1,2,3,4,5}\n",
    "\n",
    "b={4,5,6,7,8}\n",
    "\n",
    "a.difference(b)"
   ]
  },
  {
   "cell_type": "code",
   "execution_count": 96,
   "id": "0b8c6715",
   "metadata": {},
   "outputs": [
    {
     "data": {
      "text/plain": [
       "{1, 2, 3}"
      ]
     },
     "execution_count": 96,
     "metadata": {},
     "output_type": "execute_result"
    }
   ],
   "source": [
    "a-b"
   ]
  },
  {
   "cell_type": "code",
   "execution_count": 97,
   "id": "0001a89e",
   "metadata": {},
   "outputs": [
    {
     "data": {
      "text/plain": [
       "{6, 7, 8}"
      ]
     },
     "execution_count": 97,
     "metadata": {},
     "output_type": "execute_result"
    }
   ],
   "source": [
    "b.difference(a)"
   ]
  },
  {
   "cell_type": "code",
   "execution_count": 98,
   "id": "41dc0f50",
   "metadata": {},
   "outputs": [
    {
     "data": {
      "text/plain": [
       "{6, 7, 8}"
      ]
     },
     "execution_count": 98,
     "metadata": {},
     "output_type": "execute_result"
    }
   ],
   "source": [
    "b-a"
   ]
  },
  {
   "cell_type": "markdown",
   "id": "a6cc3815",
   "metadata": {},
   "source": [
    "**Symmetric Difference (set a ^ set b) --> Symmetric Difference of set A and set B is a set of elements present in Set A \n",
    "and present in set B but not present in both. It is a union of a.difference(b) and b.difference(a) --> Symbol ^**"
   ]
  },
  {
   "cell_type": "code",
   "execution_count": 99,
   "id": "537e6c85",
   "metadata": {},
   "outputs": [
    {
     "data": {
      "text/plain": [
       "{1, 2, 3, 6, 7, 8}"
      ]
     },
     "execution_count": 99,
     "metadata": {},
     "output_type": "execute_result"
    }
   ],
   "source": [
    "a={1,2,3,4,5}\n",
    "b={4,5,6,7,8}\n",
    "a^b"
   ]
  },
  {
   "cell_type": "code",
   "execution_count": null,
   "id": "95b5c60b",
   "metadata": {},
   "outputs": [],
   "source": []
  }
 ],
 "metadata": {
  "kernelspec": {
   "display_name": "Python 3 (ipykernel)",
   "language": "python",
   "name": "python3"
  },
  "language_info": {
   "codemirror_mode": {
    "name": "ipython",
    "version": 3
   },
   "file_extension": ".py",
   "mimetype": "text/x-python",
   "name": "python",
   "nbconvert_exporter": "python",
   "pygments_lexer": "ipython3",
   "version": "3.9.13"
  }
 },
 "nbformat": 4,
 "nbformat_minor": 5
}
