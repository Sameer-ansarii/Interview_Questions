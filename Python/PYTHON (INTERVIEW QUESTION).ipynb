{
 "cells": [
  {
   "cell_type": "markdown",
   "id": "2dac44af",
   "metadata": {},
   "source": [
    "Q) What is Python and it's use?\n",
    "\n",
    "Python is a popular programming language known for its simplicity and readability.\n",
    "\n",
    "Q) What is Seaborn and Matplotlib and their use?\n",
    "\n",
    "Q) Difference between Matplotlib and Seaborn?"
   ]
  },
  {
   "cell_type": "code",
   "execution_count": null,
   "id": "5436a294",
   "metadata": {},
   "outputs": [],
   "source": []
  },
  {
   "cell_type": "markdown",
   "id": "1c7be362",
   "metadata": {},
   "source": [
    "Q) Write a program where you give input any integer or float and it will tells whether the number is odd or even."
   ]
  },
  {
   "cell_type": "code",
   "execution_count": 6,
   "id": "638a300f",
   "metadata": {},
   "outputs": [
    {
     "name": "stdout",
     "output_type": "stream",
     "text": [
      "Enter a number: 5.6\n",
      "The number is odd.\n"
     ]
    }
   ],
   "source": [
    "num = float(input(\"Enter a number: \"))\n",
    "\n",
    "if num % 2 == 0:\n",
    "    print(\"The number is even.\")\n",
    "else:\n",
    "    print(\"The number is odd.\")"
   ]
  },
  {
   "cell_type": "markdown",
   "id": "a03a82bf",
   "metadata": {},
   "source": [
    "# String"
   ]
  },
  {
   "cell_type": "markdown",
   "id": "b1c8cbd5",
   "metadata": {},
   "source": [
    "Q) You have a string in python which is 'Sameer' and I want output to be in list of string, i.e:- ['Sameer']. Write a code for it."
   ]
  },
  {
   "cell_type": "code",
   "execution_count": 11,
   "id": "4220e5ed",
   "metadata": {},
   "outputs": [
    {
     "data": {
      "text/plain": [
       "['Sameer']"
      ]
     },
     "execution_count": 11,
     "metadata": {},
     "output_type": "execute_result"
    }
   ],
   "source": [
    "a = 'Sameer'\n",
    "\n",
    "[a]                     # print([a]) "
   ]
  },
  {
   "cell_type": "code",
   "execution_count": null,
   "id": "746944b0",
   "metadata": {},
   "outputs": [],
   "source": []
  },
  {
   "cell_type": "markdown",
   "id": "60686fa2",
   "metadata": {},
   "source": [
    "Q) How to reverse all elements of a string?\n",
    "\n"
   ]
  },
  {
   "cell_type": "code",
   "execution_count": 9,
   "id": "532240ed",
   "metadata": {},
   "outputs": [
    {
     "data": {
      "text/plain": [
       "'reemaS'"
      ]
     },
     "execution_count": 9,
     "metadata": {},
     "output_type": "execute_result"
    }
   ],
   "source": [
    "# We will use slicing method.\n",
    "\n",
    "my_string = \"Sameer\"\n",
    "my_string[::-1]"
   ]
  },
  {
   "cell_type": "code",
   "execution_count": 18,
   "id": "8fee5de9",
   "metadata": {},
   "outputs": [
    {
     "data": {
      "text/plain": [
       "'amee'"
      ]
     },
     "execution_count": 18,
     "metadata": {},
     "output_type": "execute_result"
    }
   ],
   "source": [
    "# Use of scling method:-\n",
    "# Format [starting index : ending inex : intervals] i.e(intervals):- 1 same / -1 reverse\n",
    "\n",
    "my_string[1:5:1]"
   ]
  },
  {
   "cell_type": "markdown",
   "id": "8ebd5fc8",
   "metadata": {},
   "source": [
    "# List"
   ]
  },
  {
   "cell_type": "markdown",
   "id": "502cd1d9",
   "metadata": {},
   "source": [
    "Q) We have a list of numbers like [55,95,1,5,7,82]. I want the output to be minimum number of the list. Write a code for it."
   ]
  },
  {
   "cell_type": "code",
   "execution_count": 9,
   "id": "35e413e3",
   "metadata": {},
   "outputs": [
    {
     "data": {
      "text/plain": [
       "1"
      ]
     },
     "execution_count": 9,
     "metadata": {},
     "output_type": "execute_result"
    }
   ],
   "source": [
    "numbers = [55, 95, 1, 5, 7, 82]\n",
    "\n",
    "min(numbers)           # print(min(numbers))"
   ]
  },
  {
   "cell_type": "markdown",
   "id": "b9935865",
   "metadata": {},
   "source": [
    "### OR"
   ]
  },
  {
   "cell_type": "code",
   "execution_count": 8,
   "id": "f2ff0c97",
   "metadata": {},
   "outputs": [
    {
     "data": {
      "text/plain": [
       "1"
      ]
     },
     "execution_count": 8,
     "metadata": {},
     "output_type": "execute_result"
    }
   ],
   "source": [
    "numbers = [55, 95, 1, 5, 7, 82]\n",
    "\n",
    "sorted_list = sorted(numbers)\n",
    "\n",
    "sorted_list[0]       # print(sorted_list[0])"
   ]
  },
  {
   "cell_type": "code",
   "execution_count": null,
   "id": "e701c8dd",
   "metadata": {},
   "outputs": [],
   "source": []
  },
  {
   "cell_type": "markdown",
   "id": "a14bd263",
   "metadata": {},
   "source": [
    "Q) You have a list of elements i.e ['Apple', 'Banana', 'Mango', 'Grapes', 'Pineapple']. I want only those elements in output whose length of elements are greater than 5."
   ]
  },
  {
   "cell_type": "code",
   "execution_count": 13,
   "id": "225c18f7",
   "metadata": {},
   "outputs": [
    {
     "data": {
      "text/plain": [
       "['Banana', 'Grapes', 'Pineapple']"
      ]
     },
     "execution_count": 13,
     "metadata": {},
     "output_type": "execute_result"
    }
   ],
   "source": [
    "fruits_list = ['Apple', 'Banana', 'Mango', 'Grapes', 'Pineapple']\n",
    "\n",
    "long_fruits_list = [fruit for fruit in fruits_list if len(fruit) > 5]\n",
    "\n",
    "long_fruits_list       # print(long_fruits_list)"
   ]
  },
  {
   "cell_type": "markdown",
   "id": "cc573dd2",
   "metadata": {},
   "source": [
    "### OR"
   ]
  },
  {
   "cell_type": "code",
   "execution_count": 16,
   "id": "802660d6",
   "metadata": {},
   "outputs": [
    {
     "name": "stdout",
     "output_type": "stream",
     "text": [
      "['Banana', 'Grapes', 'Pineapple']\n"
     ]
    }
   ],
   "source": [
    "fruits_list = ['Apple', 'Banana', 'Mango', 'Grapes', 'Pineapple']\n",
    "\n",
    "long_fruits_list = []\n",
    "\n",
    "for fruit in fruits_list:\n",
    "    if len(fruit) > 5:\n",
    "        long_fruits_list.append(fruit)\n",
    "print(long_fruits_list)"
   ]
  },
  {
   "cell_type": "code",
   "execution_count": null,
   "id": "b735a53b",
   "metadata": {},
   "outputs": [],
   "source": []
  },
  {
   "cell_type": "markdown",
   "id": "67bca62f",
   "metadata": {},
   "source": [
    "Q) How to remove duplicates from a list?"
   ]
  },
  {
   "cell_type": "code",
   "execution_count": 5,
   "id": "1ef5737a",
   "metadata": {},
   "outputs": [
    {
     "data": {
      "text/plain": [
       "[1, 2, 3, 4, 5]"
      ]
     },
     "execution_count": 5,
     "metadata": {},
     "output_type": "execute_result"
    }
   ],
   "source": [
    "# Convert the list into set. It will automatically removes the duplicate.\n",
    "\n",
    "my_list = [1, 2, 3, 2, 4, 1, 5, 3]\n",
    "\n",
    "list(set(my_list))"
   ]
  },
  {
   "cell_type": "markdown",
   "id": "38e8d281",
   "metadata": {},
   "source": [
    "# Dictionary"
   ]
  },
  {
   "cell_type": "markdown",
   "id": "59d2d54f",
   "metadata": {},
   "source": [
    "Q) In dictionary we have key value pairs. I only want keys in the output. Write a code for it."
   ]
  },
  {
   "cell_type": "code",
   "execution_count": 24,
   "id": "53148c34",
   "metadata": {},
   "outputs": [
    {
     "data": {
      "text/plain": [
       "dict_keys(['apple', 'banana', 'orange'])"
      ]
     },
     "execution_count": 24,
     "metadata": {},
     "output_type": "execute_result"
    }
   ],
   "source": [
    "dictionary = {\"apple\": 1, \"banana\": 2, \"orange\": 3}\n",
    "\n",
    "dictionary.keys()"
   ]
  },
  {
   "cell_type": "code",
   "execution_count": null,
   "id": "f6970a72",
   "metadata": {},
   "outputs": [],
   "source": []
  },
  {
   "cell_type": "markdown",
   "id": "19c17162",
   "metadata": {},
   "source": [
    "Q) In dictionary we have key value pairs. I only want keys in the output. Write a code for it with iteration."
   ]
  },
  {
   "cell_type": "code",
   "execution_count": 26,
   "id": "82f606e1",
   "metadata": {},
   "outputs": [
    {
     "name": "stdout",
     "output_type": "stream",
     "text": [
      "apple\n",
      "banana\n",
      "orange\n"
     ]
    }
   ],
   "source": [
    "dictionary = {\"apple\": 1, \"banana\": 2, \"orange\": 3}\n",
    "\n",
    "for key in dictionary:\n",
    "    print(key)"
   ]
  },
  {
   "cell_type": "code",
   "execution_count": null,
   "id": "92542e04",
   "metadata": {},
   "outputs": [],
   "source": []
  },
  {
   "cell_type": "markdown",
   "id": "fcfa673a",
   "metadata": {},
   "source": [
    "Q) In dictionary we have key value pairs. I only want values in the output. Write a code for it."
   ]
  },
  {
   "cell_type": "code",
   "execution_count": 23,
   "id": "bdcf48c7",
   "metadata": {},
   "outputs": [
    {
     "data": {
      "text/plain": [
       "dict_values([1, 2, 3])"
      ]
     },
     "execution_count": 23,
     "metadata": {},
     "output_type": "execute_result"
    }
   ],
   "source": [
    "dictionary = {\"apple\": 1, \"banana\": 2, \"orange\": 3}\n",
    "\n",
    "dictionary.values()"
   ]
  },
  {
   "cell_type": "code",
   "execution_count": null,
   "id": "d38a6509",
   "metadata": {},
   "outputs": [],
   "source": []
  },
  {
   "cell_type": "markdown",
   "id": "1d255d94",
   "metadata": {},
   "source": [
    "Q) In dictionary we have key value pairs. I only want values in the output. Write a code for it with iteration."
   ]
  },
  {
   "cell_type": "code",
   "execution_count": 33,
   "id": "44930974",
   "metadata": {},
   "outputs": [
    {
     "name": "stdout",
     "output_type": "stream",
     "text": [
      "1\n",
      "2\n",
      "3\n"
     ]
    }
   ],
   "source": [
    "dictionary = {\"apple\": 1, \"banana\": 2, \"orange\": 3}\n",
    "\n",
    "for values in dictionary.values():\n",
    "    print(values)"
   ]
  },
  {
   "cell_type": "code",
   "execution_count": null,
   "id": "4480421a",
   "metadata": {},
   "outputs": [],
   "source": []
  }
 ],
 "metadata": {
  "kernelspec": {
   "display_name": "Python 3 (ipykernel)",
   "language": "python",
   "name": "python3"
  },
  "language_info": {
   "codemirror_mode": {
    "name": "ipython",
    "version": 3
   },
   "file_extension": ".py",
   "mimetype": "text/x-python",
   "name": "python",
   "nbconvert_exporter": "python",
   "pygments_lexer": "ipython3",
   "version": "3.9.13"
  }
 },
 "nbformat": 4,
 "nbformat_minor": 5
}
