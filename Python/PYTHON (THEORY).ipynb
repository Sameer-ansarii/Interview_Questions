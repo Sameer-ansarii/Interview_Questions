{
 "cells": [
  {
   "cell_type": "markdown",
   "id": "d606f516",
   "metadata": {},
   "source": [
    "### Q) What is Python? How is it useful in data science?\n",
    "\n",
    "Python is a high-level programming language known for its simplicity and readability. It is a case sensitive programming language. It is widely used in data science because it provides many libraries that can be very useful for data science and data analysis tasks. These libraries include NumPy, Matplotlib, Seaborn, Plotly, Scikit-Learn, Statsmodels, SciPy, Statistics, Keras, TensorFlow, NLTK, and many more.\n",
    "\n",
    "-----------\n",
    "\n",
    "Python is a popular high-level programming language known for its simplicity and readability. It allows developers to write code in fewer lines compared to other languages, making it easier to understand and maintain."
   ]
  },
  {
   "cell_type": "code",
   "execution_count": null,
   "id": "84fae505",
   "metadata": {},
   "outputs": [],
   "source": []
  },
  {
   "cell_type": "markdown",
   "id": "3a8b8714",
   "metadata": {},
   "source": [
    "### Q) What is Python, and what are its key features?\n",
    "Python has several key features, including easy-to-read syntax, dynamic typing, automatic memory management, extensive standard library, and support for object-oriented, functional, and procedural programming styles.\n",
    "\n",
    "\n",
    "-----------\n",
    "\n",
    "Python is a high-level, interpreted programming language known for its simplicity and readability. It has gained popularity in various domains, including web development, data analysis, machine learning, and automation. Key features of Python include:\n",
    "\n",
    "* Easy-to-understand syntax that emphasizes code readability.\n",
    "\n",
    "\n",
    "* Large standard library offering a wide range of modules and functions.\n",
    "\n",
    "\n",
    "* Support for multiple programming paradigms, including procedural, object-oriented, and functional programming.\n",
    "\n",
    "\n",
    "* Cross-platform compatibility, allowing code to run on different operating systems."
   ]
  },
  {
   "cell_type": "code",
   "execution_count": null,
   "id": "f778064f",
   "metadata": {},
   "outputs": [],
   "source": []
  },
  {
   "cell_type": "markdown",
   "id": "2dd8f46c",
   "metadata": {},
   "source": [
    "### Q) How do you declare a variable in Python?\n",
    "In Python, you can declare a variable by simply assigning a value to it using the equal (=) sign. For example: my_variable = 42."
   ]
  },
  {
   "cell_type": "code",
   "execution_count": null,
   "id": "30c7334d",
   "metadata": {},
   "outputs": [],
   "source": []
  },
  {
   "cell_type": "markdown",
   "id": "586e7734",
   "metadata": {},
   "source": [
    "### Q) How do you comment on a single line in Python?\n",
    "To add a comment on a single line in Python, use the hash (#) symbol before your comment. The interpreter will ignore everything after the hash symbol on that line."
   ]
  },
  {
   "cell_type": "code",
   "execution_count": null,
   "id": "cce23393",
   "metadata": {},
   "outputs": [],
   "source": []
  },
  {
   "cell_type": "markdown",
   "id": "8a680a70",
   "metadata": {},
   "source": [
    "### Q) What are the key features of Python?\n",
    "\n",
    "* **Easy to learn:** Python has a simple syntax that is similar to the English language, making it easy to learn for beginners.\n",
    "\n",
    "\n",
    "* **Object-oriented:** Python is an object-oriented programming language, which means that it allows you to create objects that have properties and methods.\n",
    "\n",
    "\n",
    "* **Interpreted:** Python is an interpreted language, which means that it is executed line by line by the interpreter. This makes it a good choice for scripting and prototyping.\n",
    "\n",
    "\n",
    "* **Modular:** Python is a modular language, which means that it can be broken down into smaller modules. This makes it easy to reuse code and to collaborate with other developers.\n",
    "\n",
    "\n",
    "* **Portable:** Python is a portable language, which means that it can be run on a variety of platforms. This makes it a good choice for developing cross-platform applications.\n",
    "\n"
   ]
  },
  {
   "cell_type": "code",
   "execution_count": null,
   "id": "f9e82ec9",
   "metadata": {},
   "outputs": [],
   "source": []
  },
  {
   "cell_type": "markdown",
   "id": "a166ffba",
   "metadata": {},
   "source": [
    "### Q) What are the different control flow statements in Python?\n",
    "\n",
    "The different control flow statements in Python include:\n",
    "\n",
    "* `if` statements: `if` statements allow you to execute code based on a condition.\n",
    "\n",
    "\n",
    "* `else` statements: `else` statements allow you to execute code if the condition in the `if` statement is not met.\n",
    "\n",
    "\n",
    "* `elif` statements: `elif` statements allow you to execute code based on multiple conditions.\n",
    "\n",
    "\n",
    "* `for` loops: `for` loops allow you to iterate over a sequence of elements.\n",
    "\n",
    "\n",
    "* `while` loops: `while` loops allow you to iterate over a block of code as long as a condition is met."
   ]
  },
  {
   "cell_type": "code",
   "execution_count": null,
   "id": "6addd5a2",
   "metadata": {},
   "outputs": [],
   "source": []
  },
  {
   "cell_type": "markdown",
   "id": "68bd0be5",
   "metadata": {},
   "source": [
    "### Q) Explain the usage of \"if\" statement in Python.\n",
    "The \"if\" statement is used to make decisions in Python. It allows you to execute certain code blocks based on whether a condition is true or false. For example:"
   ]
  },
  {
   "cell_type": "code",
   "execution_count": 2,
   "id": "2d19f056",
   "metadata": {},
   "outputs": [
    {
     "name": "stdout",
     "output_type": "stream",
     "text": [
      "You are an adult.\n"
     ]
    }
   ],
   "source": [
    "age = 20\n",
    "\n",
    "if age >= 18:\n",
    "    print(\"You are an adult.\")\n",
    "else:\n",
    "    print(\"You are a minor.\")"
   ]
  },
  {
   "cell_type": "code",
   "execution_count": null,
   "id": "c331124a",
   "metadata": {},
   "outputs": [],
   "source": []
  },
  {
   "cell_type": "markdown",
   "id": "c6943f3e",
   "metadata": {},
   "source": [
    "### Q) How do you handle exceptions in Python?\n",
    "In Python, you use a try-except block to handle exceptions. This allows you to catch and manage errors gracefully instead of letting the program crash. For example:"
   ]
  },
  {
   "cell_type": "code",
   "execution_count": 3,
   "id": "d4297ff5",
   "metadata": {},
   "outputs": [
    {
     "name": "stdout",
     "output_type": "stream",
     "text": [
      "Error: Cannot divide by zero.\n"
     ]
    }
   ],
   "source": [
    "try:\n",
    "    result = 10 / 0\n",
    "except ZeroDivisionError:\n",
    "    print(\"Error: Cannot divide by zero.\")"
   ]
  },
  {
   "cell_type": "code",
   "execution_count": null,
   "id": "6e9f5a93",
   "metadata": {},
   "outputs": [],
   "source": []
  },
  {
   "cell_type": "markdown",
   "id": "82b48278",
   "metadata": {},
   "source": [
    "### Q) What are the different functions in Python?\n",
    "* Functions are useful for breaking up a large program to make it easier to read and maintain. \n",
    "\n",
    "\n",
    "* They are also useful to avoid writing the same code at several different points in your program.\n",
    "\n",
    "\n",
    "* Function is a block of code that performs a specific task. \n",
    "\n",
    "\n",
    "* This helps in avoiding redundancy in code. They are defined using the def keyword.\n",
    "\n",
    "---\n",
    "\n",
    "In Python, a function is a block of reusable code that performs a specific task. It helps in organizing code and making it more modular. Functions are defined using the \"def\" "
   ]
  },
  {
   "cell_type": "code",
   "execution_count": 13,
   "id": "eb89ebb2",
   "metadata": {},
   "outputs": [],
   "source": [
    "#Function to add two nos (keyword, name of function,parameters and return value) --> 2 parameters\n",
    "\n",
    "def add_two(x,y):\n",
    "    a=x+y\n",
    "    return a"
   ]
  },
  {
   "cell_type": "code",
   "execution_count": 16,
   "id": "99f01eed",
   "metadata": {},
   "outputs": [
    {
     "data": {
      "text/plain": [
       "100"
      ]
     },
     "execution_count": 16,
     "metadata": {},
     "output_type": "execute_result"
    }
   ],
   "source": [
    "add_two(50,50)"
   ]
  },
  {
   "cell_type": "code",
   "execution_count": null,
   "id": "ff445306",
   "metadata": {},
   "outputs": [],
   "source": []
  },
  {
   "cell_type": "markdown",
   "id": "bf6108cc",
   "metadata": {},
   "source": [
    "### Q) What is type casting in python?\n",
    "\n",
    "Type casting in Python refers to the process of converting a variable of one data type into another data type."
   ]
  },
  {
   "cell_type": "code",
   "execution_count": 4,
   "id": "643193c3",
   "metadata": {},
   "outputs": [
    {
     "data": {
      "text/plain": [
       "'42'"
      ]
     },
     "execution_count": 4,
     "metadata": {},
     "output_type": "execute_result"
    }
   ],
   "source": [
    "#Converting an integer to a string:\n",
    "\n",
    "num = 42\n",
    "num_str = str(num)\n",
    "num_str"
   ]
  },
  {
   "cell_type": "code",
   "execution_count": 6,
   "id": "61311817",
   "metadata": {},
   "outputs": [
    {
     "data": {
      "text/plain": [
       "3"
      ]
     },
     "execution_count": 6,
     "metadata": {},
     "output_type": "execute_result"
    }
   ],
   "source": [
    "#Converting a float to an integer:\n",
    "    \n",
    "float_num = 3.14\n",
    "int_num = int(float_num)\n",
    "int_num"
   ]
  },
  {
   "cell_type": "code",
   "execution_count": 7,
   "id": "4d5996cf",
   "metadata": {},
   "outputs": [],
   "source": [
    "#Converting a list to a tuple:\n",
    "\n",
    "my_list = [1, 2, 3]\n",
    "my_tuple = tuple(my_list)"
   ]
  },
  {
   "cell_type": "code",
   "execution_count": null,
   "id": "0b3f03da",
   "metadata": {},
   "outputs": [],
   "source": []
  },
  {
   "cell_type": "markdown",
   "id": "75538ed3",
   "metadata": {},
   "source": [
    "### Q) What are Operaters in Python and their types?\n",
    "\n",
    "Operators in programming languages are special symbols or words that are used to perform specific actions or operations on values or variables. They allow us to do things like calculations, comparisons, and assignments.\n",
    "\n",
    "Operators are like tools that we use to manipulate and work with different pieces of information in our programs. They help us perform various tasks and make decisions based on the values we have. The specific operator we use and how we use it depends on what we want to achieve in our program.\n",
    "\n",
    "----------\n",
    "\n",
    "**`Arithmetic Operator`**: These operators perform mathematical calculations on numeric operands.\n",
    "\n",
    "1) Normal Division (`/`): Performs division and returns the quotient as a floating-point number.\n",
    "\n",
    "\n",
    "2) Modulo Division (`//`):  Used to perform division and round down to the nearest whole number.\n",
    "\n",
    "\n",
    "3) Remainder Division (`%`): Used to calculate the remainder of a division operation.\n",
    "\n",
    "\n",
    "4) Exponentiation (`**`): Used to raise a value to a power.\n",
    "\n",
    "\n",
    "5) Addition (`+`): Adds two numbers or concatenates two strings.\n",
    "\n",
    "\n",
    "6) Subtraction (`-`): Subtracts the second number from the first number.\n",
    "\n",
    "\n",
    "7) Multiplication (`*`): Multiplies two numbers or repeats a string multiple times.\n",
    "\n",
    "------------------\n",
    "\n",
    "**`Comparison Operators`**: These operators compare two values and return a Boolean result (True or False). \n",
    "\n",
    "1) Equal to (`==`): Checks if two values are equal.\n",
    "\n",
    "\n",
    "2) Not equal to (`!=`): Checks if two values are not equal.\n",
    "\n",
    "\n",
    "3) Greater than (`>`): Checks if the value on the left is greater than the value on the right.\n",
    "\n",
    "\n",
    "4) Less than (`<`): Checks if the value on the left is less than the value on the right.\n",
    "\n",
    "\n",
    "5) Greater than or equal to (`>=`): Checks if the value on the left is greater than or equal to the value on the right.\n",
    "\n",
    "\n",
    "6) Less than or equal to (`<=`): Checks if the value on the left is less than or equal to the value on the right.\n",
    "\n",
    "-------------------\n",
    "\n",
    "**`Assignment Operators`**: These operators are used to assign values to variables.\n",
    "\n",
    "1) Assignment (`=`): Assigns a value to a variable.\n",
    "\n",
    "\n",
    "2) Addition Assignment (`+=`): Adds the value on the right to the variable on the left and assigns the result to the variable.\n",
    "\n",
    "\n",
    "3) Subtraction Assignment (`-=`): Subtracts the value on the right from the variable on the left and assigns the result to the variable.\n",
    "\n",
    "\n",
    "4) Multiplication Assignment (`*=`): Multiplies the variable on the left by the value on the right and assigns the result to the variable.\n",
    "\n",
    "\n",
    "5) Division Assignment (`/=`): Divides the variable on the left by the value on the right and assigns the result to the variable. \n",
    "\n",
    "\n",
    "6) Modulo Assignment (`%=`): Calculates the modulus of the variable on the left by the value on the right and assigns the result to the variable.\n",
    "\n",
    "\n",
    "7) Exponentiation Assignment (`**=`): Raises the variable on the left to the power of the value on the right and assigns the result to the variable.\n",
    "\n",
    "------------------\n",
    "\n",
    "**`Logical Operators`**: These operators are used to combine and manipulate Boolean values. \n",
    "\n",
    "1) Logical AND (`and`): Returns True if both conditions on the left and right are True.\n",
    "\n",
    "\n",
    "2) Logical OR (`or`): Returns True if at least one of the conditions on the left or right is True.\n",
    "\n",
    "\n",
    "3) Logical NOT (`not`): Returns the opposite of the boolean value. If the condition is True, it returns False, and vice versa.\n",
    "\n",
    "-------------------\n",
    "\n",
    "**`Membership Operators`**: These operators are used to check if a value is a member of a sequence or container.\n",
    "\n",
    "1) `in`: Used to check if a value is present in a sequence or container.\n",
    "\n",
    "\n",
    "2) `not in`: Used to check if a value is not present in a sequence or container.\n",
    "\n",
    "------------\n",
    "\n",
    "**`Identity Operators:`**: These operators are used to compare the identity of objects.\n",
    "\n",
    "1) `is`: Used to check if two variables refer to the same object.\n",
    "\n",
    "\n",
    "2) `is not`: Used to check if two variables do not refer to the same object.\n",
    "\n",
    "----------------\n",
    "\n",
    "**`Bitwise Operators`**: These operators perform bit-level operations on binary representations of numbers.\n",
    "\n",
    "1) Bitwise AND (`&`): Used to perform a logical AND operation on the binary representations of values.\n",
    "\n",
    "\n",
    "2) Bitwise OR (`|`): Used to perform a logical OR operation on the binary representations of values.\n",
    "\n",
    "\n",
    "3) Bitwise XOR (`^`): Used to perform a logical OR operation on the binary representations of values.\n",
    "\n",
    "\n",
    "4) Bitwise NOT (`~`): Used to perform a logical NOT operation on the binary representation of a value.\n",
    "\n",
    "\n",
    "5) Left Shift (`<<`): Used to shift the bits of a value to the left.\n",
    "\n",
    "\n",
    "6) Right Shift (`>>`): Used to shift the bits of a value to the right."
   ]
  },
  {
   "cell_type": "code",
   "execution_count": null,
   "id": "640459f8",
   "metadata": {},
   "outputs": [],
   "source": []
  },
  {
   "cell_type": "markdown",
   "id": "d6120cd5",
   "metadata": {},
   "source": [
    "### Q) What are the built-in data types in Python?\n",
    "\n",
    "The built-in data types in Python are:\n",
    "\n",
    "**`Numeric Types`**\n",
    "\n",
    "1) `int`: Represents whole numbers (positive or negative) without any fractional part.\n",
    "\n",
    "\n",
    "2) `float`: Represents decimal numbers (real numbers) with a fractional part.\n",
    "\n",
    "\n",
    "**`Boolean (bool)`**: Booleans represent boolean values, which can be either True or False. Booleans are used in Python for logical operations, conditional statements, and boolean expressions. They are often the result of comparisons or logical operations and play a fundamental role in decision-making and control flow in programming.\n",
    "\n",
    "\n",
    "**`Strings (str)` `' ', \" \"`**: Strings are immutable and represent a sequence of characters. They are used to store and manipulate textual data. Once a string is created, you cannot change its characters individually. However, you can create new strings by combining or modifying existing strings. Strings are widely used in Python for tasks such as text processing, manipulation, and representation of textual information.\n",
    "\n",
    "\n",
    "**`Lists (list)` `[ ]`**:  Lists are mutable and represent an ordered collection of items. They can contain elements of different data types, such as numbers, strings, or even other lists. Lists allow for modifications, including adding or removing elements, changing the value of existing elements, or rearranging the order of elements. Lists are widely used in Python for tasks that require storing and manipulating collections of data.\n",
    "\n",
    "\n",
    "**`Tuples (tuple)` `( )`**: Tuples (tuple): Tuples are immutable. They represent an ordered, immutable collection of items. Tuples allow duplicates, and the order of elements is preserved. Once a tuple is created, its elements cannot be modified, added, or removed. Tuples are commonly used to group related data together and provide a way to store multiple values as a single entity.\n",
    "\n",
    "\n",
    "**`Sets (set)` `{ }`**: Sets (set): Sets is mutable, we can add or remove elements of sets only not update it's elements. They represent an unordered collection of unique elements. Sets do not allow duplicates. You can add or remove elements from a set after it is created. Sets are commonly used to perform operations such as set intersections, unions, and differences efficiently.\n",
    "\n",
    "\n",
    "**`Dictionaries (dict)` `{ }`**: Dictionaries represent a collection of key-value pairs. Each value in a dictionary is associated with a unique key. Dictionaries are mutable, allowing you to add, modify, or remove key-value pairs after the dictionary is created. They provide an efficient way to retrieve values based on their corresponding keys. Dictionaries are widely used in Python for tasks that require mapping and organizing data based on specific keys."
   ]
  },
  {
   "cell_type": "code",
   "execution_count": null,
   "id": "24002e9c",
   "metadata": {},
   "outputs": [],
   "source": []
  },
  {
   "cell_type": "markdown",
   "id": "b14b5f27",
   "metadata": {},
   "source": [
    "### Q) Explain List.\n",
    "\n",
    "1) A list is a data type that allows to store multiple elements together of different datatypes, such as numbers, strings, or even other lists.\n",
    "\n",
    "\n",
    "2) Lists are mutable and allow duplicate values, meaning that we can add, remove, or modify elements of a list.\n",
    "\n",
    "\n",
    "3) We can retrieve elements of a list by using indexing, where the index starts from 0 for the first element, 1 for the second, and so on. This allows us to retrieve or modify specific elements in the list based on their positions.\n",
    "\n",
    "\n",
    "4) List are stored in squared brackets `[list]`\n",
    "\n",
    "\n",
    "5) Lists are a versatile data type and are widely used in Python. They provide flexibility for storing and manipulating collections of data, making them useful for various tasks like data processing, iteration, sorting, and more."
   ]
  },
  {
   "cell_type": "code",
   "execution_count": null,
   "id": "02d4b971",
   "metadata": {},
   "outputs": [],
   "source": []
  },
  {
   "cell_type": "markdown",
   "id": "779dc3e3",
   "metadata": {},
   "source": [
    "### Q) Explain the difference between a list and a tuple in Python.\n",
    "\n",
    "Lists and tuples are both sequence data types in Python, but they have some differences:\n",
    "\n",
    "* Lists are mutable, meaning their elements can be modified after creation, whereas tuples are immutable and cannot be modified.\n",
    "\n",
    "\n",
    "* Lists are denoted by square brackets [], while tuples are denoted by parentheses ().\n",
    "\n",
    "\n",
    "* Lists are typically used for collections of similar items that may change over time, while tuples are commonly used for fixed collections of related elements."
   ]
  },
  {
   "cell_type": "code",
   "execution_count": null,
   "id": "d20ba734",
   "metadata": {},
   "outputs": [],
   "source": []
  },
  {
   "cell_type": "markdown",
   "id": "60d7477d",
   "metadata": {},
   "source": [
    "### Q) What is the difference between a shallow copy and a deep copy in Python?\n",
    "\n",
    "* A shallow copy creates a new object that references the original data. It means that changes made to the copy may also affect the original object.\n",
    "\n",
    "\n",
    "* A deep copy creates a completely independent copy of the original object, including all nested objects. Changes made to the deep copy do not affect the original object. The copy module in Python provides functions copy() for shallow copy and deepcopy() for deep copy.\n",
    "\n",
    "------\n",
    "\n",
    "Explain the difference between \"deep copy\" and \"shallow copy\" in Python.\n",
    "In Python, a shallow copy creates a new object but only copies references to the original nested objects. In contrast, a deep copy creates a new object and recursively copies all the objects found in the original, creating entirely independent copies. To perform shallow and deep copies, you can use the copy module."
   ]
  },
  {
   "cell_type": "code",
   "execution_count": null,
   "id": "b3f3b651",
   "metadata": {},
   "outputs": [],
   "source": []
  },
  {
   "cell_type": "markdown",
   "id": "fc8ae337",
   "metadata": {},
   "source": [
    "### Q) What are decorators in Python?\n",
    "Decorators are a powerful feature in Python that allows you to modify the behavior of functions or methods without changing their code. Decorators are often used to add functionality like logging, authorization, or caching to functions. They are denoted by the @decorator_name syntax."
   ]
  },
  {
   "cell_type": "code",
   "execution_count": null,
   "id": "22c63280",
   "metadata": {},
   "outputs": [],
   "source": []
  },
  {
   "cell_type": "markdown",
   "id": "bdfe820a",
   "metadata": {},
   "source": [
    "### Q) What is Lambda Function?\n",
    "\n",
    "* A lambda function is a small anonymous function.\n",
    "\n",
    "\n",
    "* A lambda function can take any number of arguments, but can only have one expression.\n",
    "\n",
    "\n",
    "lambda arguments : expression\n",
    "\n",
    "\n",
    "---------\n",
    "\n",
    "A lambda function in Python is a small, anonymous function that can have any number of arguments but only one expression. It is defined using the lambda keyword and is used for simple, short tasks where writing a full function would be unnecessary. Lambda functions are commonly used as arguments to higher-order functions like map(), filter(), and reduce()."
   ]
  },
  {
   "cell_type": "markdown",
   "id": "ce916f81",
   "metadata": {},
   "source": [
    "**Example**\n",
    "\n",
    "Add 10 to argument a, and return the result:\n",
    "\n",
    "\n",
    "Lambda functions can take any number of arguments:"
   ]
  },
  {
   "cell_type": "code",
   "execution_count": 5,
   "id": "1e2c8fab",
   "metadata": {},
   "outputs": [
    {
     "name": "stdout",
     "output_type": "stream",
     "text": [
      "15\n"
     ]
    }
   ],
   "source": [
    "x = lambda a : a + 10\n",
    "print(x(5))"
   ]
  },
  {
   "cell_type": "markdown",
   "id": "0c76a241",
   "metadata": {},
   "source": [
    "**Example**\n",
    "\n",
    "Multiply argument a with argument b and return the result:"
   ]
  },
  {
   "cell_type": "code",
   "execution_count": 6,
   "id": "866999e8",
   "metadata": {},
   "outputs": [
    {
     "name": "stdout",
     "output_type": "stream",
     "text": [
      "30\n"
     ]
    }
   ],
   "source": [
    "x = lambda a, b : a * b\n",
    "print(x(5, 6))"
   ]
  },
  {
   "cell_type": "code",
   "execution_count": null,
   "id": "82eb8963",
   "metadata": {},
   "outputs": [],
   "source": []
  },
  {
   "cell_type": "markdown",
   "id": "0051776d",
   "metadata": {},
   "source": [
    "### Q) Can we have a list inside a list and if yes, then how to access their elememts?\n",
    "\n",
    "**YES, we can create multiple lists inside a list.**"
   ]
  },
  {
   "cell_type": "code",
   "execution_count": 1,
   "id": "2dd16bf7",
   "metadata": {},
   "outputs": [
    {
     "data": {
      "text/plain": [
       "[50000000000j, 'S']"
      ]
     },
     "execution_count": 1,
     "metadata": {},
     "output_type": "execute_result"
    }
   ],
   "source": [
    "a = [1,'data science', True, [50e+9j, 'S']]\n",
    "\n",
    "a[-1]"
   ]
  },
  {
   "cell_type": "code",
   "execution_count": 2,
   "id": "d8624cac",
   "metadata": {},
   "outputs": [
    {
     "data": {
      "text/plain": [
       "[50000000000j, 'S']"
      ]
     },
     "execution_count": 2,
     "metadata": {},
     "output_type": "execute_result"
    }
   ],
   "source": [
    "a[3]"
   ]
  },
  {
   "cell_type": "code",
   "execution_count": 3,
   "id": "797e6bf1",
   "metadata": {},
   "outputs": [
    {
     "data": {
      "text/plain": [
       "'S'"
      ]
     },
     "execution_count": 3,
     "metadata": {},
     "output_type": "execute_result"
    }
   ],
   "source": [
    "a[3][1]"
   ]
  },
  {
   "cell_type": "code",
   "execution_count": null,
   "id": "aecaf61c",
   "metadata": {},
   "outputs": [],
   "source": []
  },
  {
   "cell_type": "markdown",
   "id": "8bd4d522",
   "metadata": {},
   "source": [
    "### Q) Strings data type is mutable or immutable, if immutable then can we modify string or not?\n",
    "\n",
    "String is immutable, it means it can not be modified but we can change the values of a string by using .replace() function."
   ]
  },
  {
   "cell_type": "code",
   "execution_count": 4,
   "id": "38af0599",
   "metadata": {},
   "outputs": [
    {
     "name": "stdout",
     "output_type": "stream",
     "text": [
      "Hello, World! \n",
      "\n",
      "Hi, World!\n"
     ]
    }
   ],
   "source": [
    "a = \"Hello, World!\"\n",
    "\n",
    "b = a.replace(\"Hello\", \"Hi\")\n",
    "\n",
    "print(a,'\\n')         \n",
    "print(b)    "
   ]
  },
  {
   "cell_type": "code",
   "execution_count": null,
   "id": "20b1aff8",
   "metadata": {},
   "outputs": [],
   "source": []
  },
  {
   "cell_type": "markdown",
   "id": "4786eca1",
   "metadata": {},
   "source": [
    "### Q) How do you handle missing or null values in a dataset using Python?\n",
    "\n",
    "* **isnull()**: These functions can be used to identify missing values in a DataFrame or Series.\n",
    "\n",
    "\n",
    "* **dropna()**: This method drops rows or columns containing missing values.\n",
    "\n",
    "\n",
    "* **fillna()**: This method fills missing values with a specified value or using techniques like mean or interpolation."
   ]
  },
  {
   "cell_type": "code",
   "execution_count": null,
   "id": "59bc6dae",
   "metadata": {},
   "outputs": [],
   "source": []
  },
  {
   "cell_type": "markdown",
   "id": "88f36503",
   "metadata": {},
   "source": [
    "### Q) Explain the concept of list comprehension in Python and provide an example.\n",
    "\n",
    "List comprehension is a concise way to create lists in Python by combining loops and conditional statements in a single line. It has the following syntax:"
   ]
  },
  {
   "cell_type": "markdown",
   "id": "1a0e8681",
   "metadata": {},
   "source": [
    "**[expression for item in iterable if condition]**"
   ]
  },
  {
   "cell_type": "code",
   "execution_count": 5,
   "id": "d7558091",
   "metadata": {},
   "outputs": [
    {
     "data": {
      "text/plain": [
       "[4, 16]"
      ]
     },
     "execution_count": 5,
     "metadata": {},
     "output_type": "execute_result"
    }
   ],
   "source": [
    "numbers = [1, 2, 3, 4, 5]\n",
    "\n",
    "squares = [x**2 for x in numbers if x % 2 == 0]\n",
    "\n",
    "squares"
   ]
  },
  {
   "cell_type": "code",
   "execution_count": null,
   "id": "9d760588",
   "metadata": {},
   "outputs": [],
   "source": []
  },
  {
   "cell_type": "markdown",
   "id": "b84644dc",
   "metadata": {},
   "source": [
    "### Q) What are the most popular data science libraries in Python?\n",
    "\n",
    "**NumPy**: This library provides tools for working with arrays.\n",
    "\n",
    "    \n",
    "**Matplotlib**: This library provides tools for creating visualizations.\n",
    "\n",
    "\n",
    "**Scikit-Learn**: This library provides tools for building machine learning models.\n",
    "\n",
    "\n",
    "**Pandas**: This library provides tools for working with dataframes."
   ]
  },
  {
   "cell_type": "code",
   "execution_count": null,
   "id": "7bf21f32",
   "metadata": {},
   "outputs": [],
   "source": []
  },
  {
   "cell_type": "markdown",
   "id": "415a8e6b",
   "metadata": {},
   "source": [
    "### Q) How would you read a CSV file into a Pandas DataFrame in Python?\n",
    "\n",
    "import pandas as pd\n",
    "\n",
    "df = pd.read_csv('data.csv')"
   ]
  },
  {
   "cell_type": "code",
   "execution_count": null,
   "id": "ae14e89b",
   "metadata": {},
   "outputs": [],
   "source": []
  },
  {
   "cell_type": "markdown",
   "id": "35ff48f3",
   "metadata": {},
   "source": [
    "### Q) How you reverse a string or list?\n",
    "\n",
    "**To reverse a string or a list, we can use slicing in Python.**"
   ]
  },
  {
   "cell_type": "code",
   "execution_count": 6,
   "id": "9605fffb",
   "metadata": {},
   "outputs": [
    {
     "data": {
      "text/plain": [
       "'ecneics atad rof nohtyP'"
      ]
     },
     "execution_count": 6,
     "metadata": {},
     "output_type": "execute_result"
    }
   ],
   "source": [
    "#Example\n",
    "\n",
    "x = 'Python for data science'\n",
    "\n",
    "x[::-1]"
   ]
  },
  {
   "cell_type": "code",
   "execution_count": null,
   "id": "42d7c7e3",
   "metadata": {},
   "outputs": [],
   "source": []
  },
  {
   "cell_type": "markdown",
   "id": "dbcec75d",
   "metadata": {},
   "source": [
    "### Q) What is `for` Loop?\n",
    "\n",
    "* `for` loop is a iterative loop which is used to iterate the elements in sequence. It means when we have to apply similar thing or function on all elements, then we use `for` loop. It's syntax is for element in iterable:\n",
    "\n",
    "i.e:- element is a dummy variable and iterable is a real variable which we want to iterate.\n",
    "\n",
    "-------------\n",
    "\n",
    "The \"for\" loop is used to iterate over a sequence (like a list, tuple, or string) in Python. It allows you to perform a set of actions on each item in the sequence. For example:"
   ]
  },
  {
   "cell_type": "code",
   "execution_count": 7,
   "id": "5cfd2989",
   "metadata": {},
   "outputs": [
    {
     "name": "stdout",
     "output_type": "stream",
     "text": [
      "apple\n",
      "banana\n",
      "orange\n"
     ]
    }
   ],
   "source": [
    "fruits = ['apple', 'banana', 'orange']\n",
    "\n",
    "for i in fruits:\n",
    "    print(i)\n",
    "    \n",
    "#Note: i is a dummy variable and fruits is a real variable which we want to iterate"
   ]
  },
  {
   "cell_type": "code",
   "execution_count": 8,
   "id": "11ea6a83",
   "metadata": {},
   "outputs": [
    {
     "name": "stdout",
     "output_type": "stream",
     "text": [
      "<class 'str'>\n",
      "<class 'str'>\n",
      "<class 'str'>\n"
     ]
    }
   ],
   "source": [
    "for i in fruits:\n",
    "    print(type(i))"
   ]
  },
  {
   "cell_type": "markdown",
   "id": "5c1e3590",
   "metadata": {},
   "source": [
    "### Q) What is While Loop?\n",
    "\n",
    "A while loop is like a repeating machine that keeps doing something as long as a specific condition is true. It stops when the condition becomes false."
   ]
  },
  {
   "cell_type": "code",
   "execution_count": 10,
   "id": "37722d4c",
   "metadata": {},
   "outputs": [
    {
     "name": "stdout",
     "output_type": "stream",
     "text": [
      "1\n",
      "2\n",
      "3\n",
      "4\n",
      "5\n"
     ]
    }
   ],
   "source": [
    "# Initialize a counter variable\n",
    "counter = 1\n",
    "\n",
    "# Execute the loop as long as the counter is less than or equal to 5\n",
    "while counter <= 5:\n",
    "    print(counter)\n",
    "    counter += 1  # Increment the counter by 1 in each iteration\n",
    "\n",
    "# The loop will terminate once the counter becomes 6, and the program will continue with the next statement."
   ]
  },
  {
   "cell_type": "code",
   "execution_count": null,
   "id": "c4865cdb",
   "metadata": {},
   "outputs": [],
   "source": []
  }
 ],
 "metadata": {
  "kernelspec": {
   "display_name": "Python 3 (ipykernel)",
   "language": "python",
   "name": "python3"
  },
  "language_info": {
   "codemirror_mode": {
    "name": "ipython",
    "version": 3
   },
   "file_extension": ".py",
   "mimetype": "text/x-python",
   "name": "python",
   "nbconvert_exporter": "python",
   "pygments_lexer": "ipython3",
   "version": "3.9.13"
  }
 },
 "nbformat": 4,
 "nbformat_minor": 5
}
