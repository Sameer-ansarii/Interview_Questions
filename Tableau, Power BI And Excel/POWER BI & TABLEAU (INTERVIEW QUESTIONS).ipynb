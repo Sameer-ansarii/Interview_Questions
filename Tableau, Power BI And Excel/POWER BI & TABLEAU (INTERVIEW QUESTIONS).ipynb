{
 "cells": [
  {
   "cell_type": "markdown",
   "id": "8cbf7c56",
   "metadata": {},
   "source": [
    "Note:- In screening round you have to make dashboards on Power BI and Tableau.\n"
   ]
  },
  {
   "cell_type": "code",
   "execution_count": null,
   "id": "2ab8dfe8",
   "metadata": {},
   "outputs": [],
   "source": []
  },
  {
   "cell_type": "markdown",
   "id": "7a863d90",
   "metadata": {},
   "source": [
    "# Tableau\n"
   ]
  },
  {
   "cell_type": "code",
   "execution_count": null,
   "id": "5a5a5757",
   "metadata": {},
   "outputs": [],
   "source": []
  },
  {
   "cell_type": "markdown",
   "id": "672d3154",
   "metadata": {},
   "source": [
    "### Q) What is the difference between Tree Maps and Heat Maps in Tableau?\n",
    "\n",
    "* A **heatmap** is a square graph of grids of multiple colors used to visualize variables and compare the measures of one variable to another variable.\n",
    "\n",
    "\n",
    "* A **treemap** is used to visualize hierarchical data using nested rectangles. The size of each rectangle represents a category or sub-category, and the color or shading can represent a measure within that category. The larger rectangles represent higher-level categories, and smaller rectangles within them represent sub-categories."
   ]
  },
  {
   "cell_type": "code",
   "execution_count": null,
   "id": "b72c266f",
   "metadata": {},
   "outputs": [],
   "source": []
  },
  {
   "cell_type": "markdown",
   "id": "30549399",
   "metadata": {},
   "source": [
    "### Q)  Sunburst chart is used for which type of variable?\n",
    "\n",
    "A sunburst chart is typically used to visualize hierarchical or categorical data with multiple levels of subcategories. It is particularly useful when representing data that has a nested or hierarchical structure."
   ]
  },
  {
   "cell_type": "code",
   "execution_count": null,
   "id": "7d46eb15",
   "metadata": {},
   "outputs": [],
   "source": []
  },
  {
   "cell_type": "markdown",
   "id": "b8cb0265",
   "metadata": {},
   "source": [
    "### Q) What are the different types of charts used in tableau?\n",
    "\n",
    "* Bar Chart\n",
    "\n",
    "\n",
    "* Line Chart\n",
    "\n",
    "\n",
    "* Pie Chart\n",
    "\n",
    "\n",
    "* Scatter Plot\n",
    "\n",
    "\n",
    "* Maps\n",
    "\n",
    "\n",
    "* Treemap"
   ]
  },
  {
   "cell_type": "code",
   "execution_count": null,
   "id": "29245705",
   "metadata": {},
   "outputs": [],
   "source": []
  },
  {
   "cell_type": "markdown",
   "id": "89013ca6",
   "metadata": {},
   "source": [
    "### Q) What is calculated feild in tableau?\n",
    "\n",
    "\n",
    "A calculated field in Tableau is a formula that you can create to add new data to your view. Calculated fields are used to perform calculations on existing data, or to create new data from scratch. They can be used to filter, summarize, and manipulate your data in a variety of ways."
   ]
  },
  {
   "cell_type": "code",
   "execution_count": null,
   "id": "2e9bcb56",
   "metadata": {},
   "outputs": [],
   "source": []
  },
  {
   "cell_type": "markdown",
   "id": "e5c7c632",
   "metadata": {},
   "source": [
    "### Q) How to create donut chart in tableau?\n",
    "\n",
    "1) Drag 2 variables to column and rows.\n",
    "\n",
    "\n",
    "2) Then create a pie chart of it.\n",
    "\n",
    "\n",
    "3) Then create a calculated feild of 0.\n",
    "\n",
    "\n",
    "4) Drap calculated feild to rows 2 times.\n",
    "\n",
    "\n",
    "5) Then change the sizes of both pie chart and customize both of them.\n",
    "\n",
    "\n",
    "6) Then Select dual axis and change the color of inner pie chart.\n",
    "\n",
    "\n",
    "7) Then click on show header"
   ]
  },
  {
   "cell_type": "code",
   "execution_count": null,
   "id": "4f6170ca",
   "metadata": {},
   "outputs": [],
   "source": []
  },
  {
   "cell_type": "markdown",
   "id": "8b76faa9",
   "metadata": {},
   "source": [
    "### Q) How to create filter in tableau?\n",
    "\n",
    "First click on chart and select filter and then select which filter you need from that chart and then click on apply to all worksheets."
   ]
  },
  {
   "cell_type": "code",
   "execution_count": null,
   "id": "d8418a71",
   "metadata": {},
   "outputs": [],
   "source": []
  },
  {
   "cell_type": "markdown",
   "id": "267f6e5b",
   "metadata": {},
   "source": [
    "### Q) When butterfly chart is used?\n",
    "\n",
    "Butterfly chart is used for comparison between 2 Categories."
   ]
  },
  {
   "cell_type": "code",
   "execution_count": null,
   "id": "57d60429",
   "metadata": {},
   "outputs": [],
   "source": []
  },
  {
   "cell_type": "markdown",
   "id": "ee78545f",
   "metadata": {},
   "source": [
    "### Q) In which type of variables we use heirarchy?\n",
    "\n",
    "Date, time, Country, categories, etc."
   ]
  },
  {
   "cell_type": "code",
   "execution_count": null,
   "id": "6c3c8ee0",
   "metadata": {},
   "outputs": [],
   "source": []
  },
  {
   "cell_type": "markdown",
   "id": "cca5d982",
   "metadata": {},
   "source": [
    "### Q) What is Power BI & Tableau and it's use?\n",
    "\n",
    "Power BI and Tableau are both business intelligence (BI) tools that help users analyze and visualize data. "
   ]
  },
  {
   "cell_type": "code",
   "execution_count": null,
   "id": "e89d3c28",
   "metadata": {},
   "outputs": [],
   "source": []
  },
  {
   "cell_type": "markdown",
   "id": "19681b47",
   "metadata": {},
   "source": [
    "### Q) Q) What is heirarchy in Tableau?\n",
    "\n",
    "In Tableau, there is an option to expand a variable into sub categories, for eg: we have date variable, so we can exapnd it into week month quater and year or we have a country column so we expand it into region and city. This is called a hierarchy. A hierarchy is a logical arrangement of data fields that allows users to drill down and up through the data."
   ]
  },
  {
   "cell_type": "code",
   "execution_count": null,
   "id": "be386848",
   "metadata": {},
   "outputs": [],
   "source": []
  },
  {
   "cell_type": "markdown",
   "id": "c48557ec",
   "metadata": {},
   "source": [
    "### Q) What are Dashboards?\n",
    "Dashboards are graphical representations of data presented in a summarized and interactive way."
   ]
  },
  {
   "cell_type": "code",
   "execution_count": null,
   "id": "5076d5d9",
   "metadata": {},
   "outputs": [],
   "source": []
  },
  {
   "cell_type": "markdown",
   "id": "361dd4d7",
   "metadata": {},
   "source": [
    "### Q) What chart/plot is used to see the correlation between variable?\n",
    "\n",
    "* Scatter plot."
   ]
  },
  {
   "cell_type": "code",
   "execution_count": null,
   "id": "bfc4dff9",
   "metadata": {},
   "outputs": [],
   "source": []
  },
  {
   "cell_type": "markdown",
   "id": "54fc040c",
   "metadata": {},
   "source": [
    "### Q) What are the different types of data visualization that can be created in Tableau?\n",
    "\n",
    "* Charts\n",
    "* Graphs\n",
    "* Maps\n",
    "* Dashboards\n",
    "* Stories"
   ]
  },
  {
   "cell_type": "code",
   "execution_count": null,
   "id": "f2a343f3",
   "metadata": {},
   "outputs": [],
   "source": []
  },
  {
   "cell_type": "markdown",
   "id": "b6f1d2dd",
   "metadata": {},
   "source": [
    "### Q) What are some best practices for creating effective data visualizations in Tableau?\n",
    "Some best practices for creating effective data visualizations in Tableau include:\n",
    "\n",
    "\n",
    "* Use clear and concise titles and labels.\n",
    "* Use colors and fonts that are easy to read.\n",
    "* Use a consistent style throughout your visualizations.\n",
    "* Use filters and dimensions to drill down into the data.\n",
    "* Use interactivity to allow users to explore the data on their own."
   ]
  },
  {
   "cell_type": "code",
   "execution_count": null,
   "id": "cb200286",
   "metadata": {},
   "outputs": [],
   "source": []
  },
  {
   "cell_type": "markdown",
   "id": "2db9017e",
   "metadata": {},
   "source": [
    "###  Q) What are some of the most common Tableau functions?\n",
    "Some of the most common Tableau functions include:\n",
    "\n",
    "* SUM\n",
    "* AVERAGE\n",
    "* COUNT\n",
    "* MAX\n",
    "* MIN\n",
    "* VLOOKUP\n",
    "* HLOOKUP\n",
    "* IF"
   ]
  },
  {
   "cell_type": "code",
   "execution_count": null,
   "id": "b9a20042",
   "metadata": {},
   "outputs": [],
   "source": []
  },
  {
   "cell_type": "markdown",
   "id": "c36c9a84",
   "metadata": {},
   "source": [
    "### Q) What are some of the most common Tableau challenges?\n",
    "Some of the most common Tableau challenges include:\n",
    "\n",
    "\n",
    "* Data cleaning\n",
    "* Data visualization\n",
    "* Creating interactive dashboards\n",
    "* Storytelling with data"
   ]
  },
  {
   "cell_type": "code",
   "execution_count": null,
   "id": "8259feb4",
   "metadata": {},
   "outputs": [],
   "source": []
  },
  {
   "cell_type": "markdown",
   "id": "24ac546c",
   "metadata": {},
   "source": [
    "# Power BI\n",
    "\n"
   ]
  },
  {
   "cell_type": "markdown",
   "id": "a34df98b",
   "metadata": {},
   "source": [
    "### Q) What is Power BI?\n",
    "\n",
    "Power BI is a business intelligence tool that helps you analyze data and create interactive reports.\n"
   ]
  },
  {
   "cell_type": "code",
   "execution_count": null,
   "id": "f24a0d5e",
   "metadata": {},
   "outputs": [],
   "source": []
  },
  {
   "cell_type": "markdown",
   "id": "fb583852",
   "metadata": {},
   "source": [
    "### Q) How Power BI is different from Tableau?\n",
    "\n",
    "1) Power BI is developed by Microsoft and it is easy to connect with other microsoft tools such as , Excel and SQL Server, while Tableau is developed by Tableau Software and offers multiple platforms connectivity.\n",
    "\n",
    "\n",
    "2) Power BI is user friendly and easy to use because it has similar design like other microsoft tools while tableau is slightly difficult because of it's advance feature.\n",
    "\n",
    "\n",
    "3) In terms of pricing Power BI is cheaper than Tableau.\n",
    "\n",
    "\n",
    "4) Power BI can connect to a wider range of data sources than Tableau."
   ]
  },
  {
   "cell_type": "code",
   "execution_count": null,
   "id": "b3df08cb",
   "metadata": {},
   "outputs": [],
   "source": []
  },
  {
   "cell_type": "markdown",
   "id": "4af75257",
   "metadata": {},
   "source": [
    "### Q) What are the different components in POWER BI?\n",
    "\n",
    "* Power BI Desktop\n",
    "\n",
    "\n",
    "* Power BI Service (Power BI Online)\n",
    "\n",
    "\n",
    "* Power BI Mobile\n",
    "\n",
    "\n",
    "* Power BI Report Server\n",
    "\n",
    "\n",
    "* Power BI Gateway: The Power BI Gateway is a software component that enables secure and efficient data transfer between on-premises data sources and the Power BI Service."
   ]
  },
  {
   "cell_type": "code",
   "execution_count": null,
   "id": "b58dff3d",
   "metadata": {},
   "outputs": [],
   "source": []
  },
  {
   "cell_type": "markdown",
   "id": "3b8bfcee",
   "metadata": {},
   "source": [
    "### Q) What are the benefits of using Power BI?\n",
    "\n",
    "The benefits of using Power BI include its ease of use, its ability to connect to a variety of data sources, and its ability to create stunning visualizations."
   ]
  },
  {
   "cell_type": "code",
   "execution_count": null,
   "id": "739926a8",
   "metadata": {},
   "outputs": [],
   "source": []
  },
  {
   "cell_type": "markdown",
   "id": "59361cb6",
   "metadata": {},
   "source": [
    "### Q) What are the different types of visualizations that can be created in Power BI?\n",
    "\n",
    "The different types of visualizations that can be created in Power BI include bar charts, pie charts, line charts, scatter plots, and maps."
   ]
  },
  {
   "cell_type": "code",
   "execution_count": null,
   "id": "3901de9f",
   "metadata": {},
   "outputs": [],
   "source": []
  },
  {
   "cell_type": "markdown",
   "id": "927311a0",
   "metadata": {},
   "source": [
    "### Q) How do you create calculated fields in Power BI?\n",
    "\n",
    "Calculated fields are used to add new data to a Power BI report."
   ]
  },
  {
   "cell_type": "code",
   "execution_count": null,
   "id": "61c4e2c4",
   "metadata": {},
   "outputs": [],
   "source": []
  },
  {
   "cell_type": "markdown",
   "id": "f763fe8c",
   "metadata": {},
   "source": [
    "### Q) What is power query editor in power BI?\n",
    "\n",
    "The Power Query Editor is a visual data transformation tool that helps you clean, transform, and shape your data before you load it into Power BI. It is a powerful tool that can be used to perform a variety of data transformations, including:\n",
    "\n",
    "* Cleaning data - The Power Query Editor can be used to remove errors, duplicate values, and missing data from your data.\n",
    "\n",
    "\n",
    "* Transforming data - The Power Query Editor can be used to change the format of your data, such as converting text to numbers or dates.\n",
    "\n",
    "\n",
    "* Shaping data - The Power Query Editor can be used to rearrange your data, such as by adding or removing columns or rows."
   ]
  },
  {
   "cell_type": "code",
   "execution_count": null,
   "id": "9a385f2d",
   "metadata": {},
   "outputs": [],
   "source": []
  },
  {
   "cell_type": "markdown",
   "id": "b796bda3",
   "metadata": {},
   "source": [
    "### Q) What is a measure in Power BI, and how is it different from a calculated column?\n",
    "\n",
    "In Power BI, measures are indeed similar to calculated fields in Tableau. They are used to write DAX formulas and perform mathematical functions on numerical variables to create new calculated data, which is a single numerical value like percentage, total count, average, etc. Measures are used for filtering, summarizing, and manipulating numerical data based on specific requirements.\n",
    "\n",
    "Calculated columns, on the other hand, are columns where values are calculated row by row. Calculated columns are created during the data loading process, and the calculations are applied to each individual row. Calculated columns are part of the data model and are available for use throughout the report. In Power BI Submission symbol is shown before the columns, this indicates that they are calculated or numerical columns."
   ]
  },
  {
   "cell_type": "code",
   "execution_count": null,
   "id": "9b86289c",
   "metadata": {},
   "outputs": [],
   "source": []
  },
  {
   "cell_type": "markdown",
   "id": "c0e19509",
   "metadata": {},
   "source": [
    "### Q) What is calculated DAX Function?\n",
    "\n",
    "\n",
    "A calculated DAX function in Power BI is a custom function that you can create to perform specific calculations on your data. DAX stands for Data Analysis Expressions, and it is a language that is used to create calculated columns, measures, and other expressions in Power BI.\n",
    "\n",
    "Calculated DAX functions can be used to perform a wide variety of calculations, including:\n",
    "\n",
    "**Aggregation:** Calculating the sum, average, minimum, or maximum of a set of values.\n",
    "\n",
    "**Comparison:** Comparing two or more values and returning a Boolean value (true or false).\n",
    "\n",
    "**Logic:** Performing logical operations such as AND, OR, and NOT.\n",
    "\n",
    "**Date and time:** Calculating date and time values.\n",
    "\n",
    "**Text:** Formatting text values or performing string manipulation.\n",
    "\n",
    "Calculated DAX functions can be a powerful tool for analyzing your data. They can help you to calculate complex metrics, perform comparisons, and extract insights from your data.\n",
    "\n",
    "To create a calculated DAX function, you can use the Calculated Column or Measure dialog boxes. In the dialog boxes, you can enter the name of the function, the expression that you want to calculate, and the data types of the input and output values."
   ]
  },
  {
   "cell_type": "code",
   "execution_count": null,
   "id": "97fc74e3",
   "metadata": {},
   "outputs": [],
   "source": []
  },
  {
   "cell_type": "markdown",
   "id": "6bf986cd",
   "metadata": {},
   "source": [
    "### Q) What is conditional column?\n",
    "\n",
    "When we add a new column by giving condition in existing column it is known as conditional column."
   ]
  },
  {
   "cell_type": "code",
   "execution_count": null,
   "id": "96bc1672",
   "metadata": {},
   "outputs": [],
   "source": []
  },
  {
   "cell_type": "markdown",
   "id": "95a19bb8",
   "metadata": {},
   "source": [
    "### Q) How to create filters in Power BI?\n",
    "\n",
    "Click on slicer at data visualization and drag column which you want to add in the filter and then customize it according to need and second option is to drag column in filter section and customize it according to need."
   ]
  },
  {
   "cell_type": "code",
   "execution_count": null,
   "id": "332f2a8b",
   "metadata": {},
   "outputs": [],
   "source": []
  },
  {
   "cell_type": "markdown",
   "id": "a6bbdc27",
   "metadata": {},
   "source": [
    "### Q) What are the different types of filter in power BI?\n",
    "\n",
    "1) `Slicer`\n",
    "\n",
    "\n",
    "2) `Visual-level filters`: These filters are applied directly to individual visuals in your report. You can use them to filter the data displayed in a specific visual without affecting other visuals in the report.\n",
    "\n",
    "\n",
    "3) `Page-level filters`: These filters are applied to an entire report page. They allow you to filter the data displayed across all the visuals on a specific page.\n",
    "\n",
    "\n",
    "4) `Report-level filters`: These filters are applied to the entire report. They enable you to filter the data displayed in all the visuals across all the pages in your report."
   ]
  },
  {
   "cell_type": "code",
   "execution_count": null,
   "id": "f06c72ae",
   "metadata": {},
   "outputs": [],
   "source": []
  }
 ],
 "metadata": {
  "kernelspec": {
   "display_name": "Python 3 (ipykernel)",
   "language": "python",
   "name": "python3"
  },
  "language_info": {
   "codemirror_mode": {
    "name": "ipython",
    "version": 3
   },
   "file_extension": ".py",
   "mimetype": "text/x-python",
   "name": "python",
   "nbconvert_exporter": "python",
   "pygments_lexer": "ipython3",
   "version": "3.9.13"
  }
 },
 "nbformat": 4,
 "nbformat_minor": 5
}
